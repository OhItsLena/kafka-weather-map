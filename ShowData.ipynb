{
 "cells": [
  {
   "cell_type": "markdown",
   "id": "731dad3f",
   "metadata": {},
   "source": [
    "# Info Map Microservice"
   ]
  },
  {
   "cell_type": "markdown",
   "id": "8942edef",
   "metadata": {},
   "source": [
    "## Imports"
   ]
  },
  {
   "cell_type": "code",
   "execution_count": 28,
   "metadata": {},
   "outputs": [
    {
     "name": "stdout",
     "output_type": "stream",
     "text": [
      "The autoreload extension is already loaded. To reload it, use:\n",
      "  %reload_ext autoreload\n"
     ]
    }
   ],
   "source": [
    "# reload .py files on change:\n",
    "# https://ipython.readthedocs.io/en/stable/config/extensions/autoreload.html?highlight=autoreload\n",
    "%load_ext autoreload\n",
    "%autoreload 2\n",
    "\n",
    "from datetime import datetime\n",
    "import pandas as pd\n",
    "import os\n",
    "import plotly.express as px\n",
    "import plotly.graph_objects as go\n",
    "from Kafka import KafkaConfluentReader\n",
    "from IPython.display import clear_output\n",
    "\n",
    "from dotenv import load_dotenv\n",
    "\n",
    "# import custom class\n",
    "from InfoMap import InfoMap"
   ]
  },
  {
   "cell_type": "code",
   "execution_count": 30,
   "metadata": {
    "tags": []
   },
   "outputs": [],
   "source": [
    "infoMap = InfoMap()"
   ]
  },
  {
   "cell_type": "markdown",
   "id": "d821f66c",
   "metadata": {},
   "source": [
    "## Manual refresh Map\n",
    "This map should display the most recent forecast data available when plotting. **Manual refresh** is needed to get new information.\n",
    "\n",
    "- Color corresponds to temperature\n",
    "- Hover over cities provides more information\n",
    "- Adjust date and time with the slider at the bottom"
   ]
  },
  {
   "cell_type": "code",
   "execution_count": 31,
   "id": "1a3478bd",
   "metadata": {},
   "outputs": [
    {
     "data": {
      "application/vnd.plotly.v1+json": {
       "config": {
        "plotlyServerURL": "https://plot.ly"
       },
       "data": [
        {
         "customdata": [
          [
           20,
           "😊   INFO: <br>enjoy your day!"
          ],
          [
           21.86,
           "😊   INFO: <br>enjoy your day!"
          ],
          [
           23.51,
           "😊   INFO: <br>enjoy your day!"
          ],
          [
           24.69,
           "😊   INFO: <br>enjoy your day!"
          ],
          [
           24.41,
           "😊   INFO: <br>enjoy your day!"
          ],
          [
           25.7,
           "😰   CAUTION: <br>warm temperatures!"
          ],
          [
           20.12,
           "😊   INFO: <br>enjoy your day!"
          ],
          [
           24.49,
           "😊   INFO: <br>enjoy your day!"
          ],
          [
           18.84,
           "😕   INFO: <br>bring a jacket!"
          ],
          [
           22.36,
           "😊   INFO: <br>enjoy your day!"
          ],
          [
           20.14,
           "😊   INFO: <br>enjoy your day!"
          ],
          [
           24.79,
           "😊   INFO: <br>enjoy your day!"
          ],
          [
           18.84,
           "😕   INFO: <br>bring a jacket!"
          ],
          [
           25.88,
           "😰   CAUTION: <br>warm temperatures!"
          ],
          [
           20.63,
           "😊   INFO: <br>enjoy your day!"
          ],
          [
           19.86,
           "😕   INFO: <br>bring a jacket!"
          ],
          [
           22.24,
           "😊   INFO: <br>enjoy your day!"
          ]
         ],
         "hovertemplate": "<b>%{text} </b><br>Temperature: %{customdata[0]} °C<br><extra><i>%{customdata[1]}</i></extra>",
         "ids": [
          "Bregenz",
          "Wien",
          "London",
          "Florenz",
          "Aachen",
          "Bonn",
          "Dresden",
          "Frankfurt am Main",
          "Kiel",
          "Leipzig",
          "Lübeck",
          "Mannheim",
          "München",
          "Münster",
          "Ravensburg",
          "Rostock",
          "Stuttgart"
         ],
         "lat": [
          47.5025779,
          48.2083537,
          51.5073219,
          43.7698712,
          50.776351,
          50.735851,
          51.0493286,
          50.1106444,
          54.3227085,
          51.3406321,
          53.866444,
          49.4892913,
          48.1371079,
          51.9625101,
          47.7811014,
          54.0924445,
          48.7784485
         ],
         "legendgroup": "",
         "lon": [
          9.7472924,
          16.3725042,
          -0.1276474,
          11.2555757,
          6.083862,
          7.10066,
          13.7381437,
          8.6820917,
          10.135555,
          12.3747329,
          10.684738,
          8.4673098,
          11.5753822,
          7.6251879,
          9.612468,
          12.1286127,
          9.1800132
         ],
         "marker": {
          "color": [
           20,
           21.86,
           23.51,
           24.69,
           24.41,
           25.7,
           20.12,
           24.49,
           18.84,
           22.36,
           20.14,
           24.79,
           18.84,
           25.88,
           20.63,
           19.86,
           22.24
          ],
          "coloraxis": "coloraxis",
          "opacity": 0.75,
          "size": 20
         },
         "mode": "markers+text",
         "name": "",
         "showlegend": false,
         "subplot": "mapbox",
         "text": [
          "Bregenz",
          "Wien",
          "London",
          "Florenz",
          "Aachen",
          "Bonn",
          "Dresden",
          "Frankfurt am Main",
          "Kiel",
          "Leipzig",
          "Lübeck",
          "Mannheim",
          "München",
          "Münster",
          "Ravensburg",
          "Rostock",
          "Stuttgart"
         ],
         "type": "scattermapbox"
        }
       ],
       "frames": [
        {
         "data": [
          {
           "customdata": [
            [
             20,
             "😊   INFO: <br>enjoy your day!"
            ],
            [
             21.86,
             "😊   INFO: <br>enjoy your day!"
            ],
            [
             23.51,
             "😊   INFO: <br>enjoy your day!"
            ],
            [
             24.69,
             "😊   INFO: <br>enjoy your day!"
            ],
            [
             24.41,
             "😊   INFO: <br>enjoy your day!"
            ],
            [
             25.7,
             "😰   CAUTION: <br>warm temperatures!"
            ],
            [
             20.12,
             "😊   INFO: <br>enjoy your day!"
            ],
            [
             24.49,
             "😊   INFO: <br>enjoy your day!"
            ],
            [
             18.84,
             "😕   INFO: <br>bring a jacket!"
            ],
            [
             22.36,
             "😊   INFO: <br>enjoy your day!"
            ],
            [
             20.14,
             "😊   INFO: <br>enjoy your day!"
            ],
            [
             24.79,
             "😊   INFO: <br>enjoy your day!"
            ],
            [
             18.84,
             "😕   INFO: <br>bring a jacket!"
            ],
            [
             25.88,
             "😰   CAUTION: <br>warm temperatures!"
            ],
            [
             20.63,
             "😊   INFO: <br>enjoy your day!"
            ],
            [
             19.86,
             "😕   INFO: <br>bring a jacket!"
            ],
            [
             22.24,
             "😊   INFO: <br>enjoy your day!"
            ]
           ],
           "hovertemplate": "<b>%{text} </b><br>Temperature: %{customdata[0]} °C<br><extra><i>%{customdata[1]}</i></extra>",
           "ids": [
            "Bregenz",
            "Wien",
            "London",
            "Florenz",
            "Aachen",
            "Bonn",
            "Dresden",
            "Frankfurt am Main",
            "Kiel",
            "Leipzig",
            "Lübeck",
            "Mannheim",
            "München",
            "Münster",
            "Ravensburg",
            "Rostock",
            "Stuttgart"
           ],
           "lat": [
            47.5025779,
            48.2083537,
            51.5073219,
            43.7698712,
            50.776351,
            50.735851,
            51.0493286,
            50.1106444,
            54.3227085,
            51.3406321,
            53.866444,
            49.4892913,
            48.1371079,
            51.9625101,
            47.7811014,
            54.0924445,
            48.7784485
           ],
           "legendgroup": "",
           "lon": [
            9.7472924,
            16.3725042,
            -0.1276474,
            11.2555757,
            6.083862,
            7.10066,
            13.7381437,
            8.6820917,
            10.135555,
            12.3747329,
            10.684738,
            8.4673098,
            11.5753822,
            7.6251879,
            9.612468,
            12.1286127,
            9.1800132
           ],
           "marker": {
            "color": [
             20,
             21.86,
             23.51,
             24.69,
             24.41,
             25.7,
             20.12,
             24.49,
             18.84,
             22.36,
             20.14,
             24.79,
             18.84,
             25.88,
             20.63,
             19.86,
             22.24
            ],
            "coloraxis": "coloraxis"
           },
           "mode": "markers+text",
           "name": "",
           "showlegend": false,
           "subplot": "mapbox",
           "text": [
            "Bregenz",
            "Wien",
            "London",
            "Florenz",
            "Aachen",
            "Bonn",
            "Dresden",
            "Frankfurt am Main",
            "Kiel",
            "Leipzig",
            "Lübeck",
            "Mannheim",
            "München",
            "Münster",
            "Ravensburg",
            "Rostock",
            "Stuttgart"
           ],
           "type": "scattermapbox"
          }
         ],
         "name": "2022-08-24 21:00:00"
        },
        {
         "data": [
          {
           "customdata": [
            [
             18.44,
             "😕   INFO: <br>bring a jacket!"
            ],
            [
             20.84,
             "😊   INFO: <br>enjoy your day!"
            ],
            [
             23.05,
             "😊   INFO: <br>enjoy your day!"
            ],
            [
             23.59,
             "😊   INFO: <br>enjoy your day!"
            ],
            [
             23.39,
             "😊   INFO: <br>enjoy your day!"
            ],
            [
             24.14,
             "😊   INFO: <br>enjoy your day!"
            ],
            [
             19.62,
             "😕   INFO: <br>bring a jacket!"
            ],
            [
             23.42,
             "😊   INFO: <br>enjoy your day!"
            ],
            [
             18.53,
             "😕   INFO: <br>bring a jacket!"
            ],
            [
             21.16,
             "😊   INFO: <br>enjoy your day!"
            ],
            [
             19.1,
             "😕   INFO: <br>bring a jacket!"
            ],
            [
             24.18,
             "😊   INFO: <br>enjoy your day!"
            ],
            [
             17.54,
             "😕   INFO: <br>bring a jacket!"
            ],
            [
             24.29,
             "😊   INFO: <br>enjoy your day!"
            ],
            [
             18.63,
             "😕   INFO: <br>bring a jacket!"
            ],
            [
             18.82,
             "😕   INFO: <br>bring a jacket!"
            ],
            [
             21.12,
             "😊   INFO: <br>enjoy your day!"
            ]
           ],
           "hovertemplate": "<b>%{text} </b><br>Temperature: %{customdata[0]} °C<br><extra><i>%{customdata[1]}</i></extra>",
           "ids": [
            "Bregenz",
            "Wien",
            "London",
            "Florenz",
            "Aachen",
            "Bonn",
            "Dresden",
            "Frankfurt am Main",
            "Kiel",
            "Leipzig",
            "Lübeck",
            "Mannheim",
            "München",
            "Münster",
            "Ravensburg",
            "Rostock",
            "Stuttgart"
           ],
           "lat": [
            47.5025779,
            48.2083537,
            51.5073219,
            43.7698712,
            50.776351,
            50.735851,
            51.0493286,
            50.1106444,
            54.3227085,
            51.3406321,
            53.866444,
            49.4892913,
            48.1371079,
            51.9625101,
            47.7811014,
            54.0924445,
            48.7784485
           ],
           "legendgroup": "",
           "lon": [
            9.7472924,
            16.3725042,
            -0.1276474,
            11.2555757,
            6.083862,
            7.10066,
            13.7381437,
            8.6820917,
            10.135555,
            12.3747329,
            10.684738,
            8.4673098,
            11.5753822,
            7.6251879,
            9.612468,
            12.1286127,
            9.1800132
           ],
           "marker": {
            "color": [
             18.44,
             20.84,
             23.05,
             23.59,
             23.39,
             24.14,
             19.62,
             23.42,
             18.53,
             21.16,
             19.1,
             24.18,
             17.54,
             24.29,
             18.63,
             18.82,
             21.12
            ],
            "coloraxis": "coloraxis"
           },
           "mode": "markers+text",
           "name": "",
           "showlegend": false,
           "subplot": "mapbox",
           "text": [
            "Bregenz",
            "Wien",
            "London",
            "Florenz",
            "Aachen",
            "Bonn",
            "Dresden",
            "Frankfurt am Main",
            "Kiel",
            "Leipzig",
            "Lübeck",
            "Mannheim",
            "München",
            "Münster",
            "Ravensburg",
            "Rostock",
            "Stuttgart"
           ],
           "type": "scattermapbox"
          }
         ],
         "name": "2022-08-25 00:00:00"
        },
        {
         "data": [
          {
           "customdata": [
            [
             16.13,
             "😕   INFO: <br>bring a jacket!"
            ],
            [
             19.35,
             "😕   INFO: <br>bring a jacket!"
            ],
            [
             21.26,
             "😊   INFO: <br>enjoy your day!"
            ],
            [
             21.86,
             "😊   INFO: <br>enjoy your day!"
            ],
            [
             21.48,
             "😊   INFO: <br>enjoy your day!"
            ],
            [
             21.71,
             "😊   INFO: <br>enjoy your day!"
            ],
            [
             18.69,
             "😕   INFO: <br>bring a jacket!"
            ],
            [
             21.34,
             "😊   INFO: <br>enjoy your day!"
            ],
            [
             17.62,
             "😕   INFO: <br>bring a jacket!"
            ],
            [
             19.45,
             "😕   INFO: <br>bring a jacket!"
            ],
            [
             17.46,
             "😕   INFO: <br>bring a jacket!"
            ],
            [
             22.46,
             "😊   INFO: <br>enjoy your day!"
            ],
            [
             15.57,
             "😕   INFO: <br>bring a jacket!"
            ],
            [
             21.58,
             "😊   INFO: <br>enjoy your day!"
            ],
            [
             15.76,
             "😕   INFO: <br>bring a jacket!"
            ],
            [
             17.77,
             "😕   INFO: <br>bring a jacket!"
            ],
            [
             19.15,
             "😕   INFO: <br>bring a jacket!"
            ]
           ],
           "hovertemplate": "<b>%{text} </b><br>Temperature: %{customdata[0]} °C<br><extra><i>%{customdata[1]}</i></extra>",
           "ids": [
            "Bregenz",
            "Wien",
            "London",
            "Florenz",
            "Aachen",
            "Bonn",
            "Dresden",
            "Frankfurt am Main",
            "Kiel",
            "Leipzig",
            "Lübeck",
            "Mannheim",
            "München",
            "Münster",
            "Ravensburg",
            "Rostock",
            "Stuttgart"
           ],
           "lat": [
            47.5025779,
            48.2083537,
            51.5073219,
            43.7698712,
            50.776351,
            50.735851,
            51.0493286,
            50.1106444,
            54.3227085,
            51.3406321,
            53.866444,
            49.4892913,
            48.1371079,
            51.9625101,
            47.7811014,
            54.0924445,
            48.7784485
           ],
           "legendgroup": "",
           "lon": [
            9.7472924,
            16.3725042,
            -0.1276474,
            11.2555757,
            6.083862,
            7.10066,
            13.7381437,
            8.6820917,
            10.135555,
            12.3747329,
            10.684738,
            8.4673098,
            11.5753822,
            7.6251879,
            9.612468,
            12.1286127,
            9.1800132
           ],
           "marker": {
            "color": [
             16.13,
             19.35,
             21.26,
             21.86,
             21.48,
             21.71,
             18.69,
             21.34,
             17.62,
             19.45,
             17.46,
             22.46,
             15.57,
             21.58,
             15.76,
             17.77,
             19.15
            ],
            "coloraxis": "coloraxis"
           },
           "mode": "markers+text",
           "name": "",
           "showlegend": false,
           "subplot": "mapbox",
           "text": [
            "Bregenz",
            "Wien",
            "London",
            "Florenz",
            "Aachen",
            "Bonn",
            "Dresden",
            "Frankfurt am Main",
            "Kiel",
            "Leipzig",
            "Lübeck",
            "Mannheim",
            "München",
            "Münster",
            "Ravensburg",
            "Rostock",
            "Stuttgart"
           ],
           "type": "scattermapbox"
          }
         ],
         "name": "2022-08-25 03:00:00"
        },
        {
         "data": [
          {
           "customdata": [
            [
             16.26,
             "😕   INFO: <br>bring a jacket!"
            ],
            [
             19.69,
             "😕   INFO: <br>bring a jacket!"
            ],
            [
             18.82,
             "😕   INFO: <br>bring a jacket!"
            ],
            [
             22.11,
             "😊   INFO: <br>enjoy your day!"
            ],
            [
             21.88,
             "😊   INFO: <br>enjoy your day!"
            ],
            [
             20.65,
             "😊   INFO: <br>enjoy your day!"
            ],
            [
             19.92,
             "😕   INFO: <br>bring a jacket!"
            ],
            [
             20.39,
             "😊   INFO: <br>enjoy your day!"
            ],
            [
             18.64,
             "😕   INFO: <br>bring a jacket!"
            ],
            [
             20.39,
             "😊   INFO: <br>enjoy your day!"
            ],
            [
             18.31,
             "😕   INFO: <br>bring a jacket!"
            ],
            [
             21.48,
             "😊   INFO: <br>enjoy your day!"
            ],
            [
             15.78,
             "😕   INFO: <br>bring a jacket!"
            ],
            [
             21.25,
             "😊   INFO: <br>enjoy your day!"
            ],
            [
             15.05,
             "😕   INFO: <br>bring a jacket!"
            ],
            [
             19.25,
             "😕   INFO: <br>bring a jacket!"
            ],
            [
             18.86,
             "😕   INFO: <br>bring a jacket!"
            ]
           ],
           "hovertemplate": "<b>%{text} </b><br>Temperature: %{customdata[0]} °C<br><extra><i>%{customdata[1]}</i></extra>",
           "ids": [
            "Bregenz",
            "Wien",
            "London",
            "Florenz",
            "Aachen",
            "Bonn",
            "Dresden",
            "Frankfurt am Main",
            "Kiel",
            "Leipzig",
            "Lübeck",
            "Mannheim",
            "München",
            "Münster",
            "Ravensburg",
            "Rostock",
            "Stuttgart"
           ],
           "lat": [
            47.5025779,
            48.2083537,
            51.5073219,
            43.7698712,
            50.776351,
            50.735851,
            51.0493286,
            50.1106444,
            54.3227085,
            51.3406321,
            53.866444,
            49.4892913,
            48.1371079,
            51.9625101,
            47.7811014,
            54.0924445,
            48.7784485
           ],
           "legendgroup": "",
           "lon": [
            9.7472924,
            16.3725042,
            -0.1276474,
            11.2555757,
            6.083862,
            7.10066,
            13.7381437,
            8.6820917,
            10.135555,
            12.3747329,
            10.684738,
            8.4673098,
            11.5753822,
            7.6251879,
            9.612468,
            12.1286127,
            9.1800132
           ],
           "marker": {
            "color": [
             16.26,
             19.69,
             18.82,
             22.11,
             21.88,
             20.65,
             19.92,
             20.39,
             18.64,
             20.39,
             18.31,
             21.48,
             15.78,
             21.25,
             15.05,
             19.25,
             18.86
            ],
            "coloraxis": "coloraxis"
           },
           "mode": "markers+text",
           "name": "",
           "showlegend": false,
           "subplot": "mapbox",
           "text": [
            "Bregenz",
            "Wien",
            "London",
            "Florenz",
            "Aachen",
            "Bonn",
            "Dresden",
            "Frankfurt am Main",
            "Kiel",
            "Leipzig",
            "Lübeck",
            "Mannheim",
            "München",
            "Münster",
            "Ravensburg",
            "Rostock",
            "Stuttgart"
           ],
           "type": "scattermapbox"
          }
         ],
         "name": "2022-08-25 06:00:00"
        },
        {
         "data": [
          {
           "customdata": [
            [
             21.94,
             "😊   INFO: <br>enjoy your day!"
            ],
            [
             23.87,
             "😊   INFO: <br>enjoy your day!"
            ],
            [
             18.37,
             "😕   INFO: <br>bring a jacket!"
            ],
            [
             29.23,
             "😰   CAUTION: <br>warm temperatures!"
            ],
            [
             29.39,
             "😰   CAUTION: <br>warm temperatures!"
            ],
            [
             27.66,
             "😰   CAUTION: <br>warm temperatures!"
            ],
            [
             24.81,
             "😊   INFO: <br>enjoy your day!"
            ],
            [
             26.38,
             "😰   CAUTION: <br>warm temperatures!"
            ],
            [
             23.6,
             "😊   INFO: <br>enjoy your day!"
            ],
            [
             25.68,
             "😰   CAUTION: <br>warm temperatures!"
            ],
            [
             24.22,
             "😊   INFO: <br>enjoy your day!"
            ],
            [
             27.08,
             "😰   CAUTION: <br>warm temperatures!"
            ],
            [
             22.13,
             "😊   INFO: <br>enjoy your day!"
            ],
            [
             28.43,
             "😰   CAUTION: <br>warm temperatures!"
            ],
            [
             22.05,
             "😊   INFO: <br>enjoy your day!"
            ],
            [
             23.87,
             "😊   INFO: <br>enjoy your day!"
            ],
            [
             24.82,
             "😊   INFO: <br>enjoy your day!"
            ]
           ],
           "hovertemplate": "<b>%{text} </b><br>Temperature: %{customdata[0]} °C<br><extra><i>%{customdata[1]}</i></extra>",
           "ids": [
            "Bregenz",
            "Wien",
            "London",
            "Florenz",
            "Aachen",
            "Bonn",
            "Dresden",
            "Frankfurt am Main",
            "Kiel",
            "Leipzig",
            "Lübeck",
            "Mannheim",
            "München",
            "Münster",
            "Ravensburg",
            "Rostock",
            "Stuttgart"
           ],
           "lat": [
            47.5025779,
            48.2083537,
            51.5073219,
            43.7698712,
            50.776351,
            50.735851,
            51.0493286,
            50.1106444,
            54.3227085,
            51.3406321,
            53.866444,
            49.4892913,
            48.1371079,
            51.9625101,
            47.7811014,
            54.0924445,
            48.7784485
           ],
           "legendgroup": "",
           "lon": [
            9.7472924,
            16.3725042,
            -0.1276474,
            11.2555757,
            6.083862,
            7.10066,
            13.7381437,
            8.6820917,
            10.135555,
            12.3747329,
            10.684738,
            8.4673098,
            11.5753822,
            7.6251879,
            9.612468,
            12.1286127,
            9.1800132
           ],
           "marker": {
            "color": [
             21.94,
             23.87,
             18.37,
             29.23,
             29.39,
             27.66,
             24.81,
             26.38,
             23.6,
             25.68,
             24.22,
             27.08,
             22.13,
             28.43,
             22.05,
             23.87,
             24.82
            ],
            "coloraxis": "coloraxis"
           },
           "mode": "markers+text",
           "name": "",
           "showlegend": false,
           "subplot": "mapbox",
           "text": [
            "Bregenz",
            "Wien",
            "London",
            "Florenz",
            "Aachen",
            "Bonn",
            "Dresden",
            "Frankfurt am Main",
            "Kiel",
            "Leipzig",
            "Lübeck",
            "Mannheim",
            "München",
            "Münster",
            "Ravensburg",
            "Rostock",
            "Stuttgart"
           ],
           "type": "scattermapbox"
          }
         ],
         "name": "2022-08-25 09:00:00"
        },
        {
         "data": [
          {
           "customdata": [
            [
             24.86,
             "😊   INFO: <br>enjoy your day!"
            ],
            [
             27.49,
             "😰   CAUTION: <br>warm temperatures!"
            ],
            [
             19.1,
             "😕   INFO: <br>bring a jacket!"
            ],
            [
             32.19,
             "🥵   DANGER: <br>it's hot!"
            ],
            [
             31.93,
             "🥵   DANGER: <br>it's hot!"
            ],
            [
             31.33,
             "🥵   DANGER: <br>it's hot!"
            ],
            [
             28.04,
             "😰   CAUTION: <br>warm temperatures!"
            ],
            [
             30.41,
             "🥵   DANGER: <br>it's hot!"
            ],
            [
             25.68,
             "😰   CAUTION: <br>warm temperatures!"
            ],
            [
             28.72,
             "😰   CAUTION: <br>warm temperatures!"
            ],
            [
             27.14,
             "😰   CAUTION: <br>warm temperatures!"
            ],
            [
             31.01,
             "🥵   DANGER: <br>it's hot!"
            ],
            [
             25.89,
             "😰   CAUTION: <br>warm temperatures!"
            ],
            [
             31.54,
             "🥵   DANGER: <br>it's hot!"
            ],
            [
             25.86,
             "😰   CAUTION: <br>warm temperatures!"
            ],
            [
             23.4,
             "😊   INFO: <br>enjoy your day!"
            ],
            [
             28.44,
             "😰   CAUTION: <br>warm temperatures!"
            ]
           ],
           "hovertemplate": "<b>%{text} </b><br>Temperature: %{customdata[0]} °C<br><extra><i>%{customdata[1]}</i></extra>",
           "ids": [
            "Bregenz",
            "Wien",
            "London",
            "Florenz",
            "Aachen",
            "Bonn",
            "Dresden",
            "Frankfurt am Main",
            "Kiel",
            "Leipzig",
            "Lübeck",
            "Mannheim",
            "München",
            "Münster",
            "Ravensburg",
            "Rostock",
            "Stuttgart"
           ],
           "lat": [
            47.5025779,
            48.2083537,
            51.5073219,
            43.7698712,
            50.776351,
            50.735851,
            51.0493286,
            50.1106444,
            54.3227085,
            51.3406321,
            53.866444,
            49.4892913,
            48.1371079,
            51.9625101,
            47.7811014,
            54.0924445,
            48.7784485
           ],
           "legendgroup": "",
           "lon": [
            9.7472924,
            16.3725042,
            -0.1276474,
            11.2555757,
            6.083862,
            7.10066,
            13.7381437,
            8.6820917,
            10.135555,
            12.3747329,
            10.684738,
            8.4673098,
            11.5753822,
            7.6251879,
            9.612468,
            12.1286127,
            9.1800132
           ],
           "marker": {
            "color": [
             24.86,
             27.49,
             19.1,
             32.19,
             31.93,
             31.33,
             28.04,
             30.41,
             25.68,
             28.72,
             27.14,
             31.01,
             25.89,
             31.54,
             25.86,
             23.4,
             28.44
            ],
            "coloraxis": "coloraxis"
           },
           "mode": "markers+text",
           "name": "",
           "showlegend": false,
           "subplot": "mapbox",
           "text": [
            "Bregenz",
            "Wien",
            "London",
            "Florenz",
            "Aachen",
            "Bonn",
            "Dresden",
            "Frankfurt am Main",
            "Kiel",
            "Leipzig",
            "Lübeck",
            "Mannheim",
            "München",
            "Münster",
            "Ravensburg",
            "Rostock",
            "Stuttgart"
           ],
           "type": "scattermapbox"
          }
         ],
         "name": "2022-08-25 12:00:00"
        },
        {
         "data": [
          {
           "customdata": [
            [
             25.09,
             "😰   CAUTION: <br>warm temperatures!"
            ],
            [
             27.95,
             "😰   CAUTION: <br>warm temperatures!"
            ],
            [
             20.68,
             "😊   INFO: <br>enjoy your day!"
            ],
            [
             32.13,
             "🥵   DANGER: <br>it's hot!"
            ],
            [
             32.68,
             "🥵   DANGER: <br>it's hot!"
            ],
            [
             32.44,
             "🥵   DANGER: <br>it's hot!"
            ],
            [
             27.04,
             "😰   CAUTION: <br>warm temperatures!"
            ],
            [
             31.86,
             "🥵   DANGER: <br>it's hot!"
            ],
            [
             24.65,
             "😊   INFO: <br>enjoy your day!"
            ],
            [
             28.19,
             "😰   CAUTION: <br>warm temperatures!"
            ],
            [
             25.55,
             "😰   CAUTION: <br>warm temperatures!"
            ],
            [
             32.38,
             "🥵   DANGER: <br>it's hot!"
            ],
            [
             26.51,
             "😰   CAUTION: <br>warm temperatures!"
            ],
            [
             32.65,
             "🥵   DANGER: <br>it's hot!"
            ],
            [
             25.65,
             "😰   CAUTION: <br>warm temperatures!"
            ],
            [
             23.68,
             "😊   INFO: <br>enjoy your day!"
            ],
            [
             29.26,
             "😰   CAUTION: <br>warm temperatures!"
            ]
           ],
           "hovertemplate": "<b>%{text} </b><br>Temperature: %{customdata[0]} °C<br><extra><i>%{customdata[1]}</i></extra>",
           "ids": [
            "Bregenz",
            "Wien",
            "London",
            "Florenz",
            "Aachen",
            "Bonn",
            "Dresden",
            "Frankfurt am Main",
            "Kiel",
            "Leipzig",
            "Lübeck",
            "Mannheim",
            "München",
            "Münster",
            "Ravensburg",
            "Rostock",
            "Stuttgart"
           ],
           "lat": [
            47.5025779,
            48.2083537,
            51.5073219,
            43.7698712,
            50.776351,
            50.735851,
            51.0493286,
            50.1106444,
            54.3227085,
            51.3406321,
            53.866444,
            49.4892913,
            48.1371079,
            51.9625101,
            47.7811014,
            54.0924445,
            48.7784485
           ],
           "legendgroup": "",
           "lon": [
            9.7472924,
            16.3725042,
            -0.1276474,
            11.2555757,
            6.083862,
            7.10066,
            13.7381437,
            8.6820917,
            10.135555,
            12.3747329,
            10.684738,
            8.4673098,
            11.5753822,
            7.6251879,
            9.612468,
            12.1286127,
            9.1800132
           ],
           "marker": {
            "color": [
             25.09,
             27.95,
             20.68,
             32.13,
             32.68,
             32.44,
             27.04,
             31.86,
             24.65,
             28.19,
             25.55,
             32.38,
             26.51,
             32.65,
             25.65,
             23.68,
             29.26
            ],
            "coloraxis": "coloraxis"
           },
           "mode": "markers+text",
           "name": "",
           "showlegend": false,
           "subplot": "mapbox",
           "text": [
            "Bregenz",
            "Wien",
            "London",
            "Florenz",
            "Aachen",
            "Bonn",
            "Dresden",
            "Frankfurt am Main",
            "Kiel",
            "Leipzig",
            "Lübeck",
            "Mannheim",
            "München",
            "Münster",
            "Ravensburg",
            "Rostock",
            "Stuttgart"
           ],
           "type": "scattermapbox"
          }
         ],
         "name": "2022-08-25 15:00:00"
        },
        {
         "data": [
          {
           "customdata": [
            [
             20.42,
             "😊   INFO: <br>enjoy your day!"
            ],
            [
             24.57,
             "😊   INFO: <br>enjoy your day!"
            ],
            [
             19.38,
             "😕   INFO: <br>bring a jacket!"
            ],
            [
             27.5,
             "😰   CAUTION: <br>warm temperatures!"
            ],
            [
             28.21,
             "😰   CAUTION: <br>warm temperatures!"
            ],
            [
             28.42,
             "😰   CAUTION: <br>warm temperatures!"
            ],
            [
             24.02,
             "😊   INFO: <br>enjoy your day!"
            ],
            [
             28.11,
             "😰   CAUTION: <br>warm temperatures!"
            ],
            [
             21.15,
             "😊   INFO: <br>enjoy your day!"
            ],
            [
             25.34,
             "😰   CAUTION: <br>warm temperatures!"
            ],
            [
             22.93,
             "😊   INFO: <br>enjoy your day!"
            ],
            [
             29.64,
             "😰   CAUTION: <br>warm temperatures!"
            ],
            [
             20.9,
             "😊   INFO: <br>enjoy your day!"
            ],
            [
             28.89,
             "😰   CAUTION: <br>warm temperatures!"
            ],
            [
             19.97,
             "😕   INFO: <br>bring a jacket!"
            ],
            [
             21.07,
             "😊   INFO: <br>enjoy your day!"
            ],
            [
             25.02,
             "😰   CAUTION: <br>warm temperatures!"
            ]
           ],
           "hovertemplate": "<b>%{text} </b><br>Temperature: %{customdata[0]} °C<br><extra><i>%{customdata[1]}</i></extra>",
           "ids": [
            "Bregenz",
            "Wien",
            "London",
            "Florenz",
            "Aachen",
            "Bonn",
            "Dresden",
            "Frankfurt am Main",
            "Kiel",
            "Leipzig",
            "Lübeck",
            "Mannheim",
            "München",
            "Münster",
            "Ravensburg",
            "Rostock",
            "Stuttgart"
           ],
           "lat": [
            47.5025779,
            48.2083537,
            51.5073219,
            43.7698712,
            50.776351,
            50.735851,
            51.0493286,
            50.1106444,
            54.3227085,
            51.3406321,
            53.866444,
            49.4892913,
            48.1371079,
            51.9625101,
            47.7811014,
            54.0924445,
            48.7784485
           ],
           "legendgroup": "",
           "lon": [
            9.7472924,
            16.3725042,
            -0.1276474,
            11.2555757,
            6.083862,
            7.10066,
            13.7381437,
            8.6820917,
            10.135555,
            12.3747329,
            10.684738,
            8.4673098,
            11.5753822,
            7.6251879,
            9.612468,
            12.1286127,
            9.1800132
           ],
           "marker": {
            "color": [
             20.42,
             24.57,
             19.38,
             27.5,
             28.21,
             28.42,
             24.02,
             28.11,
             21.15,
             25.34,
             22.93,
             29.64,
             20.9,
             28.89,
             19.97,
             21.07,
             25.02
            ],
            "coloraxis": "coloraxis"
           },
           "mode": "markers+text",
           "name": "",
           "showlegend": false,
           "subplot": "mapbox",
           "text": [
            "Bregenz",
            "Wien",
            "London",
            "Florenz",
            "Aachen",
            "Bonn",
            "Dresden",
            "Frankfurt am Main",
            "Kiel",
            "Leipzig",
            "Lübeck",
            "Mannheim",
            "München",
            "Münster",
            "Ravensburg",
            "Rostock",
            "Stuttgart"
           ],
           "type": "scattermapbox"
          }
         ],
         "name": "2022-08-25 18:00:00"
        },
        {
         "data": [
          {
           "customdata": [
            [
             17.96,
             "😕   INFO: <br>bring a jacket!"
            ],
            [
             22.74,
             "😊   INFO: <br>enjoy your day!"
            ],
            [
             18.15,
             "😕   INFO: <br>bring a jacket!"
            ],
            [
             24.61,
             "😊   INFO: <br>enjoy your day!"
            ],
            [
             23.29,
             "😊   INFO: <br>enjoy your day!"
            ],
            [
             24.2,
             "😊   INFO: <br>enjoy your day!"
            ],
            [
             22.09,
             "😊   INFO: <br>enjoy your day!"
            ],
            [
             24.58,
             "😊   INFO: <br>enjoy your day!"
            ],
            [
             19.2,
             "😕   INFO: <br>bring a jacket!"
            ],
            [
             22.23,
             "😊   INFO: <br>enjoy your day!"
            ],
            [
             20.32,
             "😊   INFO: <br>enjoy your day!"
            ],
            [
             26.84,
             "😰   CAUTION: <br>warm temperatures!"
            ],
            [
             18.51,
             "😕   INFO: <br>bring a jacket!"
            ],
            [
             22.69,
             "😊   INFO: <br>enjoy your day!"
            ],
            [
             17.27,
             "😕   INFO: <br>bring a jacket!"
            ],
            [
             19.04,
             "😕   INFO: <br>bring a jacket!"
            ],
            [
             22.29,
             "😊   INFO: <br>enjoy your day!"
            ]
           ],
           "hovertemplate": "<b>%{text} </b><br>Temperature: %{customdata[0]} °C<br><extra><i>%{customdata[1]}</i></extra>",
           "ids": [
            "Bregenz",
            "Wien",
            "London",
            "Florenz",
            "Aachen",
            "Bonn",
            "Dresden",
            "Frankfurt am Main",
            "Kiel",
            "Leipzig",
            "Lübeck",
            "Mannheim",
            "München",
            "Münster",
            "Ravensburg",
            "Rostock",
            "Stuttgart"
           ],
           "lat": [
            47.5025779,
            48.2083537,
            51.5073219,
            43.7698712,
            50.776351,
            50.735851,
            51.0493286,
            50.1106444,
            54.3227085,
            51.3406321,
            53.866444,
            49.4892913,
            48.1371079,
            51.9625101,
            47.7811014,
            54.0924445,
            48.7784485
           ],
           "legendgroup": "",
           "lon": [
            9.7472924,
            16.3725042,
            -0.1276474,
            11.2555757,
            6.083862,
            7.10066,
            13.7381437,
            8.6820917,
            10.135555,
            12.3747329,
            10.684738,
            8.4673098,
            11.5753822,
            7.6251879,
            9.612468,
            12.1286127,
            9.1800132
           ],
           "marker": {
            "color": [
             17.96,
             22.74,
             18.15,
             24.61,
             23.29,
             24.2,
             22.09,
             24.58,
             19.2,
             22.23,
             20.32,
             26.84,
             18.51,
             22.69,
             17.27,
             19.04,
             22.29
            ],
            "coloraxis": "coloraxis"
           },
           "mode": "markers+text",
           "name": "",
           "showlegend": false,
           "subplot": "mapbox",
           "text": [
            "Bregenz",
            "Wien",
            "London",
            "Florenz",
            "Aachen",
            "Bonn",
            "Dresden",
            "Frankfurt am Main",
            "Kiel",
            "Leipzig",
            "Lübeck",
            "Mannheim",
            "München",
            "Münster",
            "Ravensburg",
            "Rostock",
            "Stuttgart"
           ],
           "type": "scattermapbox"
          }
         ],
         "name": "2022-08-25 21:00:00"
        },
        {
         "data": [
          {
           "customdata": [
            [
             17.21,
             "😕   INFO: <br>bring a jacket!"
            ],
            [
             21.49,
             "😊   INFO: <br>enjoy your day!"
            ],
            [
             16.96,
             "😕   INFO: <br>bring a jacket!"
            ],
            [
             23.16,
             "😊   INFO: <br>enjoy your day!"
            ],
            [
             18.84,
             "😕   INFO: <br>bring a jacket!"
            ],
            [
             22.85,
             "😊   INFO: <br>enjoy your day!"
            ],
            [
             20.51,
             "😊   INFO: <br>enjoy your day!"
            ],
            [
             22.52,
             "😊   INFO: <br>enjoy your day!"
            ],
            [
             19.16,
             "😕   INFO: <br>bring a jacket!"
            ],
            [
             20.62,
             "😊   INFO: <br>enjoy your day!"
            ],
            [
             19.33,
             "😕   INFO: <br>bring a jacket!"
            ],
            [
             25.3,
             "😰   CAUTION: <br>warm temperatures!"
            ],
            [
             16.81,
             "😕   INFO: <br>bring a jacket!"
            ],
            [
             22.71,
             "😊   INFO: <br>enjoy your day!"
            ],
            [
             16.06,
             "😕   INFO: <br>bring a jacket!"
            ],
            [
             19.66,
             "😕   INFO: <br>bring a jacket!"
            ],
            [
             20.31,
             "😊   INFO: <br>enjoy your day!"
            ]
           ],
           "hovertemplate": "<b>%{text} </b><br>Temperature: %{customdata[0]} °C<br><extra><i>%{customdata[1]}</i></extra>",
           "ids": [
            "Bregenz",
            "Wien",
            "London",
            "Florenz",
            "Aachen",
            "Bonn",
            "Dresden",
            "Frankfurt am Main",
            "Kiel",
            "Leipzig",
            "Lübeck",
            "Mannheim",
            "München",
            "Münster",
            "Ravensburg",
            "Rostock",
            "Stuttgart"
           ],
           "lat": [
            47.5025779,
            48.2083537,
            51.5073219,
            43.7698712,
            50.776351,
            50.735851,
            51.0493286,
            50.1106444,
            54.3227085,
            51.3406321,
            53.866444,
            49.4892913,
            48.1371079,
            51.9625101,
            47.7811014,
            54.0924445,
            48.7784485
           ],
           "legendgroup": "",
           "lon": [
            9.7472924,
            16.3725042,
            -0.1276474,
            11.2555757,
            6.083862,
            7.10066,
            13.7381437,
            8.6820917,
            10.135555,
            12.3747329,
            10.684738,
            8.4673098,
            11.5753822,
            7.6251879,
            9.612468,
            12.1286127,
            9.1800132
           ],
           "marker": {
            "color": [
             17.21,
             21.49,
             16.96,
             23.16,
             18.84,
             22.85,
             20.51,
             22.52,
             19.16,
             20.62,
             19.33,
             25.3,
             16.81,
             22.71,
             16.06,
             19.66,
             20.31
            ],
            "coloraxis": "coloraxis"
           },
           "mode": "markers+text",
           "name": "",
           "showlegend": false,
           "subplot": "mapbox",
           "text": [
            "Bregenz",
            "Wien",
            "London",
            "Florenz",
            "Aachen",
            "Bonn",
            "Dresden",
            "Frankfurt am Main",
            "Kiel",
            "Leipzig",
            "Lübeck",
            "Mannheim",
            "München",
            "Münster",
            "Ravensburg",
            "Rostock",
            "Stuttgart"
           ],
           "type": "scattermapbox"
          }
         ],
         "name": "2022-08-26 00:00:00"
        },
        {
         "data": [
          {
           "customdata": [
            [
             16.24,
             "😕   INFO: <br>bring a jacket!"
            ],
            [
             20.12,
             "😊   INFO: <br>enjoy your day!"
            ],
            [
             15.55,
             "😕   INFO: <br>bring a jacket!"
            ],
            [
             22.06,
             "😊   INFO: <br>enjoy your day!"
            ],
            [
             17.84,
             "😕   INFO: <br>bring a jacket!"
            ],
            [
             19.07,
             "😕   INFO: <br>bring a jacket!"
            ],
            [
             19.89,
             "😕   INFO: <br>bring a jacket!"
            ],
            [
             21.24,
             "😊   INFO: <br>enjoy your day!"
            ],
            [
             19.4,
             "😕   INFO: <br>bring a jacket!"
            ],
            [
             19.87,
             "😕   INFO: <br>bring a jacket!"
            ],
            [
             18.84,
             "😕   INFO: <br>bring a jacket!"
            ],
            [
             23.73,
             "😊   INFO: <br>enjoy your day!"
            ],
            [
             15.83,
             "😕   INFO: <br>bring a jacket!"
            ],
            [
             18.73,
             "😕   INFO: <br>bring a jacket!"
            ],
            [
             15.06,
             "😕   INFO: <br>bring a jacket!"
            ],
            [
             19.82,
             "😕   INFO: <br>bring a jacket!"
            ],
            [
             19.55,
             "😕   INFO: <br>bring a jacket!"
            ]
           ],
           "hovertemplate": "<b>%{text} </b><br>Temperature: %{customdata[0]} °C<br><extra><i>%{customdata[1]}</i></extra>",
           "ids": [
            "Bregenz",
            "Wien",
            "London",
            "Florenz",
            "Aachen",
            "Bonn",
            "Dresden",
            "Frankfurt am Main",
            "Kiel",
            "Leipzig",
            "Lübeck",
            "Mannheim",
            "München",
            "Münster",
            "Ravensburg",
            "Rostock",
            "Stuttgart"
           ],
           "lat": [
            47.5025779,
            48.2083537,
            51.5073219,
            43.7698712,
            50.776351,
            50.735851,
            51.0493286,
            50.1106444,
            54.3227085,
            51.3406321,
            53.866444,
            49.4892913,
            48.1371079,
            51.9625101,
            47.7811014,
            54.0924445,
            48.7784485
           ],
           "legendgroup": "",
           "lon": [
            9.7472924,
            16.3725042,
            -0.1276474,
            11.2555757,
            6.083862,
            7.10066,
            13.7381437,
            8.6820917,
            10.135555,
            12.3747329,
            10.684738,
            8.4673098,
            11.5753822,
            7.6251879,
            9.612468,
            12.1286127,
            9.1800132
           ],
           "marker": {
            "color": [
             16.24,
             20.12,
             15.55,
             22.06,
             17.84,
             19.07,
             19.89,
             21.24,
             19.4,
             19.87,
             18.84,
             23.73,
             15.83,
             18.73,
             15.06,
             19.82,
             19.55
            ],
            "coloraxis": "coloraxis"
           },
           "mode": "markers+text",
           "name": "",
           "showlegend": false,
           "subplot": "mapbox",
           "text": [
            "Bregenz",
            "Wien",
            "London",
            "Florenz",
            "Aachen",
            "Bonn",
            "Dresden",
            "Frankfurt am Main",
            "Kiel",
            "Leipzig",
            "Lübeck",
            "Mannheim",
            "München",
            "Münster",
            "Ravensburg",
            "Rostock",
            "Stuttgart"
           ],
           "type": "scattermapbox"
          }
         ],
         "name": "2022-08-26 03:00:00"
        },
        {
         "data": [
          {
           "customdata": [
            [
             18.17,
             "😕   INFO: <br>bring a jacket!"
            ],
            [
             21.33,
             "😊   INFO: <br>enjoy your day!"
            ],
            [
             15.19,
             "😕   INFO: <br>bring a jacket!"
            ],
            [
             23.16,
             "😊   INFO: <br>enjoy your day!"
            ],
            [
             17.98,
             "😕   INFO: <br>bring a jacket!"
            ],
            [
             19.37,
             "😕   INFO: <br>bring a jacket!"
            ],
            [
             22.05,
             "😊   INFO: <br>enjoy your day!"
            ],
            [
             22.4,
             "😊   INFO: <br>enjoy your day!"
            ],
            [
             20.73,
             "😊   INFO: <br>enjoy your day!"
            ],
            [
             21.46,
             "😊   INFO: <br>enjoy your day!"
            ],
            [
             20.65,
             "😊   INFO: <br>enjoy your day!"
            ],
            [
             23.99,
             "😊   INFO: <br>enjoy your day!"
            ],
            [
             17.74,
             "😕   INFO: <br>bring a jacket!"
            ],
            [
             19.08,
             "😕   INFO: <br>bring a jacket!"
            ],
            [
             16.93,
             "😕   INFO: <br>bring a jacket!"
            ],
            [
             20.39,
             "😊   INFO: <br>enjoy your day!"
            ],
            [
             20.58,
             "😊   INFO: <br>enjoy your day!"
            ]
           ],
           "hovertemplate": "<b>%{text} </b><br>Temperature: %{customdata[0]} °C<br><extra><i>%{customdata[1]}</i></extra>",
           "ids": [
            "Bregenz",
            "Wien",
            "London",
            "Florenz",
            "Aachen",
            "Bonn",
            "Dresden",
            "Frankfurt am Main",
            "Kiel",
            "Leipzig",
            "Lübeck",
            "Mannheim",
            "München",
            "Münster",
            "Ravensburg",
            "Rostock",
            "Stuttgart"
           ],
           "lat": [
            47.5025779,
            48.2083537,
            51.5073219,
            43.7698712,
            50.776351,
            50.735851,
            51.0493286,
            50.1106444,
            54.3227085,
            51.3406321,
            53.866444,
            49.4892913,
            48.1371079,
            51.9625101,
            47.7811014,
            54.0924445,
            48.7784485
           ],
           "legendgroup": "",
           "lon": [
            9.7472924,
            16.3725042,
            -0.1276474,
            11.2555757,
            6.083862,
            7.10066,
            13.7381437,
            8.6820917,
            10.135555,
            12.3747329,
            10.684738,
            8.4673098,
            11.5753822,
            7.6251879,
            9.612468,
            12.1286127,
            9.1800132
           ],
           "marker": {
            "color": [
             18.17,
             21.33,
             15.19,
             23.16,
             17.98,
             19.37,
             22.05,
             22.4,
             20.73,
             21.46,
             20.65,
             23.99,
             17.74,
             19.08,
             16.93,
             20.39,
             20.58
            ],
            "coloraxis": "coloraxis"
           },
           "mode": "markers+text",
           "name": "",
           "showlegend": false,
           "subplot": "mapbox",
           "text": [
            "Bregenz",
            "Wien",
            "London",
            "Florenz",
            "Aachen",
            "Bonn",
            "Dresden",
            "Frankfurt am Main",
            "Kiel",
            "Leipzig",
            "Lübeck",
            "Mannheim",
            "München",
            "Münster",
            "Ravensburg",
            "Rostock",
            "Stuttgart"
           ],
           "type": "scattermapbox"
          }
         ],
         "name": "2022-08-26 06:00:00"
        },
        {
         "data": [
          {
           "customdata": [
            [
             23.9,
             "😊   INFO: <br>enjoy your day!"
            ],
            [
             26.12,
             "😰   CAUTION: <br>warm temperatures!"
            ],
            [
             18.67,
             "😕   INFO: <br>bring a jacket!"
            ],
            [
             29.39,
             "😰   CAUTION: <br>warm temperatures!"
            ],
            [
             19.64,
             "😕   INFO: <br>bring a jacket!"
            ],
            [
             23.11,
             "😊   INFO: <br>enjoy your day!"
            ],
            [
             27.5,
             "😰   CAUTION: <br>warm temperatures!"
            ],
            [
             27.8,
             "😰   CAUTION: <br>warm temperatures!"
            ],
            [
             23.68,
             "😊   INFO: <br>enjoy your day!"
            ],
            [
             26.91,
             "😰   CAUTION: <br>warm temperatures!"
            ],
            [
             26.96,
             "😰   CAUTION: <br>warm temperatures!"
            ],
            [
             27.6,
             "😰   CAUTION: <br>warm temperatures!"
            ],
            [
             23.27,
             "😊   INFO: <br>enjoy your day!"
            ],
            [
             24.67,
             "😊   INFO: <br>enjoy your day!"
            ],
            [
             23.51,
             "😊   INFO: <br>enjoy your day!"
            ],
            [
             25.04,
             "😰   CAUTION: <br>warm temperatures!"
            ],
            [
             24.8,
             "😊   INFO: <br>enjoy your day!"
            ]
           ],
           "hovertemplate": "<b>%{text} </b><br>Temperature: %{customdata[0]} °C<br><extra><i>%{customdata[1]}</i></extra>",
           "ids": [
            "Bregenz",
            "Wien",
            "London",
            "Florenz",
            "Aachen",
            "Bonn",
            "Dresden",
            "Frankfurt am Main",
            "Kiel",
            "Leipzig",
            "Lübeck",
            "Mannheim",
            "München",
            "Münster",
            "Ravensburg",
            "Rostock",
            "Stuttgart"
           ],
           "lat": [
            47.5025779,
            48.2083537,
            51.5073219,
            43.7698712,
            50.776351,
            50.735851,
            51.0493286,
            50.1106444,
            54.3227085,
            51.3406321,
            53.866444,
            49.4892913,
            48.1371079,
            51.9625101,
            47.7811014,
            54.0924445,
            48.7784485
           ],
           "legendgroup": "",
           "lon": [
            9.7472924,
            16.3725042,
            -0.1276474,
            11.2555757,
            6.083862,
            7.10066,
            13.7381437,
            8.6820917,
            10.135555,
            12.3747329,
            10.684738,
            8.4673098,
            11.5753822,
            7.6251879,
            9.612468,
            12.1286127,
            9.1800132
           ],
           "marker": {
            "color": [
             23.9,
             26.12,
             18.67,
             29.39,
             19.64,
             23.11,
             27.5,
             27.8,
             23.68,
             26.91,
             26.96,
             27.6,
             23.27,
             24.67,
             23.51,
             25.04,
             24.8
            ],
            "coloraxis": "coloraxis"
           },
           "mode": "markers+text",
           "name": "",
           "showlegend": false,
           "subplot": "mapbox",
           "text": [
            "Bregenz",
            "Wien",
            "London",
            "Florenz",
            "Aachen",
            "Bonn",
            "Dresden",
            "Frankfurt am Main",
            "Kiel",
            "Leipzig",
            "Lübeck",
            "Mannheim",
            "München",
            "Münster",
            "Ravensburg",
            "Rostock",
            "Stuttgart"
           ],
           "type": "scattermapbox"
          }
         ],
         "name": "2022-08-26 09:00:00"
        },
        {
         "data": [
          {
           "customdata": [
            [
             25.76,
             "😰   CAUTION: <br>warm temperatures!"
            ],
            [
             29.95,
             "😰   CAUTION: <br>warm temperatures!"
            ],
            [
             21.68,
             "😊   INFO: <br>enjoy your day!"
            ],
            [
             32.84,
             "🥵   DANGER: <br>it's hot!"
            ],
            [
             21.42,
             "😊   INFO: <br>enjoy your day!"
            ],
            [
             24.41,
             "😊   INFO: <br>enjoy your day!"
            ],
            [
             30.3,
             "🥵   DANGER: <br>it's hot!"
            ],
            [
             30.19,
             "🥵   DANGER: <br>it's hot!"
            ],
            [
             27.81,
             "😰   CAUTION: <br>warm temperatures!"
            ],
            [
             30.27,
             "🥵   DANGER: <br>it's hot!"
            ],
            [
             29.83,
             "😰   CAUTION: <br>warm temperatures!"
            ],
            [
             30.35,
             "🥵   DANGER: <br>it's hot!"
            ],
            [
             25.86,
             "😰   CAUTION: <br>warm temperatures!"
            ],
            [
             28.78,
             "😰   CAUTION: <br>warm temperatures!"
            ],
            [
             26.61,
             "😰   CAUTION: <br>warm temperatures!"
            ],
            [
             28.05,
             "😰   CAUTION: <br>warm temperatures!"
            ],
            [
             25.76,
             "😰   CAUTION: <br>warm temperatures!"
            ]
           ],
           "hovertemplate": "<b>%{text} </b><br>Temperature: %{customdata[0]} °C<br><extra><i>%{customdata[1]}</i></extra>",
           "ids": [
            "Bregenz",
            "Wien",
            "London",
            "Florenz",
            "Aachen",
            "Bonn",
            "Dresden",
            "Frankfurt am Main",
            "Kiel",
            "Leipzig",
            "Lübeck",
            "Mannheim",
            "München",
            "Münster",
            "Ravensburg",
            "Rostock",
            "Stuttgart"
           ],
           "lat": [
            47.5025779,
            48.2083537,
            51.5073219,
            43.7698712,
            50.776351,
            50.735851,
            51.0493286,
            50.1106444,
            54.3227085,
            51.3406321,
            53.866444,
            49.4892913,
            48.1371079,
            51.9625101,
            47.7811014,
            54.0924445,
            48.7784485
           ],
           "legendgroup": "",
           "lon": [
            9.7472924,
            16.3725042,
            -0.1276474,
            11.2555757,
            6.083862,
            7.10066,
            13.7381437,
            8.6820917,
            10.135555,
            12.3747329,
            10.684738,
            8.4673098,
            11.5753822,
            7.6251879,
            9.612468,
            12.1286127,
            9.1800132
           ],
           "marker": {
            "color": [
             25.76,
             29.95,
             21.68,
             32.84,
             21.42,
             24.41,
             30.3,
             30.19,
             27.81,
             30.27,
             29.83,
             30.35,
             25.86,
             28.78,
             26.61,
             28.05,
             25.76
            ],
            "coloraxis": "coloraxis"
           },
           "mode": "markers+text",
           "name": "",
           "showlegend": false,
           "subplot": "mapbox",
           "text": [
            "Bregenz",
            "Wien",
            "London",
            "Florenz",
            "Aachen",
            "Bonn",
            "Dresden",
            "Frankfurt am Main",
            "Kiel",
            "Leipzig",
            "Lübeck",
            "Mannheim",
            "München",
            "Münster",
            "Ravensburg",
            "Rostock",
            "Stuttgart"
           ],
           "type": "scattermapbox"
          }
         ],
         "name": "2022-08-26 12:00:00"
        },
        {
         "data": [
          {
           "customdata": [
            [
             26.59,
             "😰   CAUTION: <br>warm temperatures!"
            ],
            [
             30.58,
             "🥵   DANGER: <br>it's hot!"
            ],
            [
             22.98,
             "😊   INFO: <br>enjoy your day!"
            ],
            [
             33.45,
             "🥵   DANGER: <br>it's hot!"
            ],
            [
             25.96,
             "😰   CAUTION: <br>warm temperatures!"
            ],
            [
             22.71,
             "😊   INFO: <br>enjoy your day!"
            ],
            [
             30.02,
             "🥵   DANGER: <br>it's hot!"
            ],
            [
             29.66,
             "😰   CAUTION: <br>warm temperatures!"
            ],
            [
             25.44,
             "😰   CAUTION: <br>warm temperatures!"
            ],
            [
             26.05,
             "😰   CAUTION: <br>warm temperatures!"
            ],
            [
             22.43,
             "😊   INFO: <br>enjoy your day!"
            ],
            [
             28.13,
             "😰   CAUTION: <br>warm temperatures!"
            ],
            [
             24.47,
             "😊   INFO: <br>enjoy your day!"
            ],
            [
             27.75,
             "😰   CAUTION: <br>warm temperatures!"
            ],
            [
             23.76,
             "😊   INFO: <br>enjoy your day!"
            ],
            [
             26.36,
             "😰   CAUTION: <br>warm temperatures!"
            ],
            [
             27.22,
             "😰   CAUTION: <br>warm temperatures!"
            ]
           ],
           "hovertemplate": "<b>%{text} </b><br>Temperature: %{customdata[0]} °C<br><extra><i>%{customdata[1]}</i></extra>",
           "ids": [
            "Bregenz",
            "Wien",
            "London",
            "Florenz",
            "Aachen",
            "Bonn",
            "Dresden",
            "Frankfurt am Main",
            "Kiel",
            "Leipzig",
            "Lübeck",
            "Mannheim",
            "München",
            "Münster",
            "Ravensburg",
            "Rostock",
            "Stuttgart"
           ],
           "lat": [
            47.5025779,
            48.2083537,
            51.5073219,
            43.7698712,
            50.776351,
            50.735851,
            51.0493286,
            50.1106444,
            54.3227085,
            51.3406321,
            53.866444,
            49.4892913,
            48.1371079,
            51.9625101,
            47.7811014,
            54.0924445,
            48.7784485
           ],
           "legendgroup": "",
           "lon": [
            9.7472924,
            16.3725042,
            -0.1276474,
            11.2555757,
            6.083862,
            7.10066,
            13.7381437,
            8.6820917,
            10.135555,
            12.3747329,
            10.684738,
            8.4673098,
            11.5753822,
            7.6251879,
            9.612468,
            12.1286127,
            9.1800132
           ],
           "marker": {
            "color": [
             26.59,
             30.58,
             22.98,
             33.45,
             25.96,
             22.71,
             30.02,
             29.66,
             25.44,
             26.05,
             22.43,
             28.13,
             24.47,
             27.75,
             23.76,
             26.36,
             27.22
            ],
            "coloraxis": "coloraxis"
           },
           "mode": "markers+text",
           "name": "",
           "showlegend": false,
           "subplot": "mapbox",
           "text": [
            "Bregenz",
            "Wien",
            "London",
            "Florenz",
            "Aachen",
            "Bonn",
            "Dresden",
            "Frankfurt am Main",
            "Kiel",
            "Leipzig",
            "Lübeck",
            "Mannheim",
            "München",
            "Münster",
            "Ravensburg",
            "Rostock",
            "Stuttgart"
           ],
           "type": "scattermapbox"
          }
         ],
         "name": "2022-08-26 15:00:00"
        },
        {
         "data": [
          {
           "customdata": [
            [
             17.8,
             "😕   INFO: <br>bring a jacket!"
            ],
            [
             26.14,
             "😰   CAUTION: <br>warm temperatures!"
            ],
            [
             22.2,
             "😊   INFO: <br>enjoy your day!"
            ],
            [
             28.19,
             "😰   CAUTION: <br>warm temperatures!"
            ],
            [
             21.82,
             "😊   INFO: <br>enjoy your day!"
            ],
            [
             21.16,
             "😊   INFO: <br>enjoy your day!"
            ],
            [
             23.72,
             "😊   INFO: <br>enjoy your day!"
            ],
            [
             24.93,
             "😊   INFO: <br>enjoy your day!"
            ],
            [
             22.54,
             "😊   INFO: <br>enjoy your day!"
            ],
            [
             19.26,
             "😕   INFO: <br>bring a jacket!"
            ],
            [
             20.44,
             "😊   INFO: <br>enjoy your day!"
            ],
            [
             23.4,
             "😊   INFO: <br>enjoy your day!"
            ],
            [
             19.1,
             "😕   INFO: <br>bring a jacket!"
            ],
            [
             22.16,
             "😊   INFO: <br>enjoy your day!"
            ],
            [
             16.9,
             "😕   INFO: <br>bring a jacket!"
            ],
            [
             23,
             "😊   INFO: <br>enjoy your day!"
            ],
            [
             23.76,
             "😊   INFO: <br>enjoy your day!"
            ]
           ],
           "hovertemplate": "<b>%{text} </b><br>Temperature: %{customdata[0]} °C<br><extra><i>%{customdata[1]}</i></extra>",
           "ids": [
            "Bregenz",
            "Wien",
            "London",
            "Florenz",
            "Aachen",
            "Bonn",
            "Dresden",
            "Frankfurt am Main",
            "Kiel",
            "Leipzig",
            "Lübeck",
            "Mannheim",
            "München",
            "Münster",
            "Ravensburg",
            "Rostock",
            "Stuttgart"
           ],
           "lat": [
            47.5025779,
            48.2083537,
            51.5073219,
            43.7698712,
            50.776351,
            50.735851,
            51.0493286,
            50.1106444,
            54.3227085,
            51.3406321,
            53.866444,
            49.4892913,
            48.1371079,
            51.9625101,
            47.7811014,
            54.0924445,
            48.7784485
           ],
           "legendgroup": "",
           "lon": [
            9.7472924,
            16.3725042,
            -0.1276474,
            11.2555757,
            6.083862,
            7.10066,
            13.7381437,
            8.6820917,
            10.135555,
            12.3747329,
            10.684738,
            8.4673098,
            11.5753822,
            7.6251879,
            9.612468,
            12.1286127,
            9.1800132
           ],
           "marker": {
            "color": [
             17.8,
             26.14,
             22.2,
             28.19,
             21.82,
             21.16,
             23.72,
             24.93,
             22.54,
             19.26,
             20.44,
             23.4,
             19.1,
             22.16,
             16.9,
             23,
             23.76
            ],
            "coloraxis": "coloraxis"
           },
           "mode": "markers+text",
           "name": "",
           "showlegend": false,
           "subplot": "mapbox",
           "text": [
            "Bregenz",
            "Wien",
            "London",
            "Florenz",
            "Aachen",
            "Bonn",
            "Dresden",
            "Frankfurt am Main",
            "Kiel",
            "Leipzig",
            "Lübeck",
            "Mannheim",
            "München",
            "Münster",
            "Ravensburg",
            "Rostock",
            "Stuttgart"
           ],
           "type": "scattermapbox"
          }
         ],
         "name": "2022-08-26 18:00:00"
        },
        {
         "data": [
          {
           "customdata": [
            [
             17.11,
             "😕   INFO: <br>bring a jacket!"
            ],
            [
             23.82,
             "😊   INFO: <br>enjoy your day!"
            ],
            [
             20.6,
             "😊   INFO: <br>enjoy your day!"
            ],
            [
             25,
             "😰   CAUTION: <br>warm temperatures!"
            ],
            [
             16.14,
             "😕   INFO: <br>bring a jacket!"
            ],
            [
             18.72,
             "😕   INFO: <br>bring a jacket!"
            ],
            [
             19.22,
             "😕   INFO: <br>bring a jacket!"
            ],
            [
             20.99,
             "😊   INFO: <br>enjoy your day!"
            ],
            [
             19.47,
             "😕   INFO: <br>bring a jacket!"
            ],
            [
             19.52,
             "😕   INFO: <br>bring a jacket!"
            ],
            [
             19.38,
             "😕   INFO: <br>bring a jacket!"
            ],
            [
             21.32,
             "😊   INFO: <br>enjoy your day!"
            ],
            [
             17.44,
             "😕   INFO: <br>bring a jacket!"
            ],
            [
             17.11,
             "😕   INFO: <br>bring a jacket!"
            ],
            [
             15.14,
             "😕   INFO: <br>bring a jacket!"
            ],
            [
             19.51,
             "😕   INFO: <br>bring a jacket!"
            ],
            [
             19.09,
             "😕   INFO: <br>bring a jacket!"
            ]
           ],
           "hovertemplate": "<b>%{text} </b><br>Temperature: %{customdata[0]} °C<br><extra><i>%{customdata[1]}</i></extra>",
           "ids": [
            "Bregenz",
            "Wien",
            "London",
            "Florenz",
            "Aachen",
            "Bonn",
            "Dresden",
            "Frankfurt am Main",
            "Kiel",
            "Leipzig",
            "Lübeck",
            "Mannheim",
            "München",
            "Münster",
            "Ravensburg",
            "Rostock",
            "Stuttgart"
           ],
           "lat": [
            47.5025779,
            48.2083537,
            51.5073219,
            43.7698712,
            50.776351,
            50.735851,
            51.0493286,
            50.1106444,
            54.3227085,
            51.3406321,
            53.866444,
            49.4892913,
            48.1371079,
            51.9625101,
            47.7811014,
            54.0924445,
            48.7784485
           ],
           "legendgroup": "",
           "lon": [
            9.7472924,
            16.3725042,
            -0.1276474,
            11.2555757,
            6.083862,
            7.10066,
            13.7381437,
            8.6820917,
            10.135555,
            12.3747329,
            10.684738,
            8.4673098,
            11.5753822,
            7.6251879,
            9.612468,
            12.1286127,
            9.1800132
           ],
           "marker": {
            "color": [
             17.11,
             23.82,
             20.6,
             25,
             16.14,
             18.72,
             19.22,
             20.99,
             19.47,
             19.52,
             19.38,
             21.32,
             17.44,
             17.11,
             15.14,
             19.51,
             19.09
            ],
            "coloraxis": "coloraxis"
           },
           "mode": "markers+text",
           "name": "",
           "showlegend": false,
           "subplot": "mapbox",
           "text": [
            "Bregenz",
            "Wien",
            "London",
            "Florenz",
            "Aachen",
            "Bonn",
            "Dresden",
            "Frankfurt am Main",
            "Kiel",
            "Leipzig",
            "Lübeck",
            "Mannheim",
            "München",
            "Münster",
            "Ravensburg",
            "Rostock",
            "Stuttgart"
           ],
           "type": "scattermapbox"
          }
         ],
         "name": "2022-08-26 21:00:00"
        },
        {
         "data": [
          {
           "customdata": [
            [
             16.27,
             "😕   INFO: <br>bring a jacket!"
            ],
            [
             21.36,
             "😊   INFO: <br>enjoy your day!"
            ],
            [
             19.14,
             "😕   INFO: <br>bring a jacket!"
            ],
            [
             23.56,
             "😊   INFO: <br>enjoy your day!"
            ],
            [
             16.42,
             "😕   INFO: <br>bring a jacket!"
            ],
            [
             16.93,
             "😕   INFO: <br>bring a jacket!"
            ],
            [
             18.77,
             "😕   INFO: <br>bring a jacket!"
            ],
            [
             20.33,
             "😊   INFO: <br>enjoy your day!"
            ],
            [
             19.31,
             "😕   INFO: <br>bring a jacket!"
            ],
            [
             18.79,
             "😕   INFO: <br>bring a jacket!"
            ],
            [
             18.96,
             "😕   INFO: <br>bring a jacket!"
            ],
            [
             19.57,
             "😕   INFO: <br>bring a jacket!"
            ],
            [
             15.86,
             "😕   INFO: <br>bring a jacket!"
            ],
            [
             16.8,
             "😕   INFO: <br>bring a jacket!"
            ],
            [
             14.96,
             "😕   INFO: <br>bring a jacket!"
            ],
            [
             19.11,
             "😕   INFO: <br>bring a jacket!"
            ],
            [
             18.2,
             "😕   INFO: <br>bring a jacket!"
            ]
           ],
           "hovertemplate": "<b>%{text} </b><br>Temperature: %{customdata[0]} °C<br><extra><i>%{customdata[1]}</i></extra>",
           "ids": [
            "Bregenz",
            "Wien",
            "London",
            "Florenz",
            "Aachen",
            "Bonn",
            "Dresden",
            "Frankfurt am Main",
            "Kiel",
            "Leipzig",
            "Lübeck",
            "Mannheim",
            "München",
            "Münster",
            "Ravensburg",
            "Rostock",
            "Stuttgart"
           ],
           "lat": [
            47.5025779,
            48.2083537,
            51.5073219,
            43.7698712,
            50.776351,
            50.735851,
            51.0493286,
            50.1106444,
            54.3227085,
            51.3406321,
            53.866444,
            49.4892913,
            48.1371079,
            51.9625101,
            47.7811014,
            54.0924445,
            48.7784485
           ],
           "legendgroup": "",
           "lon": [
            9.7472924,
            16.3725042,
            -0.1276474,
            11.2555757,
            6.083862,
            7.10066,
            13.7381437,
            8.6820917,
            10.135555,
            12.3747329,
            10.684738,
            8.4673098,
            11.5753822,
            7.6251879,
            9.612468,
            12.1286127,
            9.1800132
           ],
           "marker": {
            "color": [
             16.27,
             21.36,
             19.14,
             23.56,
             16.42,
             16.93,
             18.77,
             20.33,
             19.31,
             18.79,
             18.96,
             19.57,
             15.86,
             16.8,
             14.96,
             19.11,
             18.2
            ],
            "coloraxis": "coloraxis"
           },
           "mode": "markers+text",
           "name": "",
           "showlegend": false,
           "subplot": "mapbox",
           "text": [
            "Bregenz",
            "Wien",
            "London",
            "Florenz",
            "Aachen",
            "Bonn",
            "Dresden",
            "Frankfurt am Main",
            "Kiel",
            "Leipzig",
            "Lübeck",
            "Mannheim",
            "München",
            "Münster",
            "Ravensburg",
            "Rostock",
            "Stuttgart"
           ],
           "type": "scattermapbox"
          }
         ],
         "name": "2022-08-27 00:00:00"
        },
        {
         "data": [
          {
           "customdata": [
            [
             16.59,
             "😕   INFO: <br>bring a jacket!"
            ],
            [
             20.29,
             "😊   INFO: <br>enjoy your day!"
            ],
            [
             18.02,
             "😕   INFO: <br>bring a jacket!"
            ],
            [
             22.22,
             "😊   INFO: <br>enjoy your day!"
            ],
            [
             16.22,
             "😕   INFO: <br>bring a jacket!"
            ],
            [
             17.25,
             "😕   INFO: <br>bring a jacket!"
            ],
            [
             18.47,
             "😕   INFO: <br>bring a jacket!"
            ],
            [
             19.16,
             "😕   INFO: <br>bring a jacket!"
            ],
            [
             17.74,
             "😕   INFO: <br>bring a jacket!"
            ],
            [
             18.65,
             "😕   INFO: <br>bring a jacket!"
            ],
            [
             18.24,
             "😕   INFO: <br>bring a jacket!"
            ],
            [
             18.93,
             "😕   INFO: <br>bring a jacket!"
            ],
            [
             14.52,
             "😕   INFO: <br>bring a jacket!"
            ],
            [
             16.48,
             "😕   INFO: <br>bring a jacket!"
            ],
            [
             15.21,
             "😕   INFO: <br>bring a jacket!"
            ],
            [
             19.37,
             "😕   INFO: <br>bring a jacket!"
            ],
            [
             17.34,
             "😕   INFO: <br>bring a jacket!"
            ]
           ],
           "hovertemplate": "<b>%{text} </b><br>Temperature: %{customdata[0]} °C<br><extra><i>%{customdata[1]}</i></extra>",
           "ids": [
            "Bregenz",
            "Wien",
            "London",
            "Florenz",
            "Aachen",
            "Bonn",
            "Dresden",
            "Frankfurt am Main",
            "Kiel",
            "Leipzig",
            "Lübeck",
            "Mannheim",
            "München",
            "Münster",
            "Ravensburg",
            "Rostock",
            "Stuttgart"
           ],
           "lat": [
            47.5025779,
            48.2083537,
            51.5073219,
            43.7698712,
            50.776351,
            50.735851,
            51.0493286,
            50.1106444,
            54.3227085,
            51.3406321,
            53.866444,
            49.4892913,
            48.1371079,
            51.9625101,
            47.7811014,
            54.0924445,
            48.7784485
           ],
           "legendgroup": "",
           "lon": [
            9.7472924,
            16.3725042,
            -0.1276474,
            11.2555757,
            6.083862,
            7.10066,
            13.7381437,
            8.6820917,
            10.135555,
            12.3747329,
            10.684738,
            8.4673098,
            11.5753822,
            7.6251879,
            9.612468,
            12.1286127,
            9.1800132
           ],
           "marker": {
            "color": [
             16.59,
             20.29,
             18.02,
             22.22,
             16.22,
             17.25,
             18.47,
             19.16,
             17.74,
             18.65,
             18.24,
             18.93,
             14.52,
             16.48,
             15.21,
             19.37,
             17.34
            ],
            "coloraxis": "coloraxis"
           },
           "mode": "markers+text",
           "name": "",
           "showlegend": false,
           "subplot": "mapbox",
           "text": [
            "Bregenz",
            "Wien",
            "London",
            "Florenz",
            "Aachen",
            "Bonn",
            "Dresden",
            "Frankfurt am Main",
            "Kiel",
            "Leipzig",
            "Lübeck",
            "Mannheim",
            "München",
            "Münster",
            "Ravensburg",
            "Rostock",
            "Stuttgart"
           ],
           "type": "scattermapbox"
          }
         ],
         "name": "2022-08-27 03:00:00"
        },
        {
         "data": [
          {
           "customdata": [
            [
             17.73,
             "😕   INFO: <br>bring a jacket!"
            ],
            [
             20.65,
             "😊   INFO: <br>enjoy your day!"
            ],
            [
             17.56,
             "😕   INFO: <br>bring a jacket!"
            ],
            [
             23.16,
             "😊   INFO: <br>enjoy your day!"
            ],
            [
             16.4,
             "😕   INFO: <br>bring a jacket!"
            ],
            [
             17.6,
             "😕   INFO: <br>bring a jacket!"
            ],
            [
             19.02,
             "😕   INFO: <br>bring a jacket!"
            ],
            [
             19.38,
             "😕   INFO: <br>bring a jacket!"
            ],
            [
             18.35,
             "😕   INFO: <br>bring a jacket!"
            ],
            [
             19.5,
             "😕   INFO: <br>bring a jacket!"
            ],
            [
             18.63,
             "😕   INFO: <br>bring a jacket!"
            ],
            [
             18.91,
             "😕   INFO: <br>bring a jacket!"
            ],
            [
             15.71,
             "😕   INFO: <br>bring a jacket!"
            ],
            [
             16.55,
             "😕   INFO: <br>bring a jacket!"
            ],
            [
             16.31,
             "😕   INFO: <br>bring a jacket!"
            ],
            [
             19.78,
             "😕   INFO: <br>bring a jacket!"
            ],
            [
             18.03,
             "😕   INFO: <br>bring a jacket!"
            ]
           ],
           "hovertemplate": "<b>%{text} </b><br>Temperature: %{customdata[0]} °C<br><extra><i>%{customdata[1]}</i></extra>",
           "ids": [
            "Bregenz",
            "Wien",
            "London",
            "Florenz",
            "Aachen",
            "Bonn",
            "Dresden",
            "Frankfurt am Main",
            "Kiel",
            "Leipzig",
            "Lübeck",
            "Mannheim",
            "München",
            "Münster",
            "Ravensburg",
            "Rostock",
            "Stuttgart"
           ],
           "lat": [
            47.5025779,
            48.2083537,
            51.5073219,
            43.7698712,
            50.776351,
            50.735851,
            51.0493286,
            50.1106444,
            54.3227085,
            51.3406321,
            53.866444,
            49.4892913,
            48.1371079,
            51.9625101,
            47.7811014,
            54.0924445,
            48.7784485
           ],
           "legendgroup": "",
           "lon": [
            9.7472924,
            16.3725042,
            -0.1276474,
            11.2555757,
            6.083862,
            7.10066,
            13.7381437,
            8.6820917,
            10.135555,
            12.3747329,
            10.684738,
            8.4673098,
            11.5753822,
            7.6251879,
            9.612468,
            12.1286127,
            9.1800132
           ],
           "marker": {
            "color": [
             17.73,
             20.65,
             17.56,
             23.16,
             16.4,
             17.6,
             19.02,
             19.38,
             18.35,
             19.5,
             18.63,
             18.91,
             15.71,
             16.55,
             16.31,
             19.78,
             18.03
            ],
            "coloraxis": "coloraxis"
           },
           "mode": "markers+text",
           "name": "",
           "showlegend": false,
           "subplot": "mapbox",
           "text": [
            "Bregenz",
            "Wien",
            "London",
            "Florenz",
            "Aachen",
            "Bonn",
            "Dresden",
            "Frankfurt am Main",
            "Kiel",
            "Leipzig",
            "Lübeck",
            "Mannheim",
            "München",
            "Münster",
            "Ravensburg",
            "Rostock",
            "Stuttgart"
           ],
           "type": "scattermapbox"
          }
         ],
         "name": "2022-08-27 06:00:00"
        },
        {
         "data": [
          {
           "customdata": [
            [
             22.52,
             "😊   INFO: <br>enjoy your day!"
            ],
            [
             24.8,
             "😊   INFO: <br>enjoy your day!"
            ],
            [
             18.25,
             "😕   INFO: <br>bring a jacket!"
            ],
            [
             29.33,
             "😰   CAUTION: <br>warm temperatures!"
            ],
            [
             17.96,
             "😕   INFO: <br>bring a jacket!"
            ],
            [
             19.87,
             "😕   INFO: <br>bring a jacket!"
            ],
            [
             19.5,
             "😕   INFO: <br>bring a jacket!"
            ],
            [
             20.67,
             "😊   INFO: <br>enjoy your day!"
            ],
            [
             18.65,
             "😕   INFO: <br>bring a jacket!"
            ],
            [
             20.31,
             "😊   INFO: <br>enjoy your day!"
            ],
            [
             18.92,
             "😕   INFO: <br>bring a jacket!"
            ],
            [
             20.61,
             "😊   INFO: <br>enjoy your day!"
            ],
            [
             19.95,
             "😕   INFO: <br>bring a jacket!"
            ],
            [
             17.97,
             "😕   INFO: <br>bring a jacket!"
            ],
            [
             21.86,
             "😊   INFO: <br>enjoy your day!"
            ],
            [
             21.03,
             "😊   INFO: <br>enjoy your day!"
            ],
            [
             21.15,
             "😊   INFO: <br>enjoy your day!"
            ]
           ],
           "hovertemplate": "<b>%{text} </b><br>Temperature: %{customdata[0]} °C<br><extra><i>%{customdata[1]}</i></extra>",
           "ids": [
            "Bregenz",
            "Wien",
            "London",
            "Florenz",
            "Aachen",
            "Bonn",
            "Dresden",
            "Frankfurt am Main",
            "Kiel",
            "Leipzig",
            "Lübeck",
            "Mannheim",
            "München",
            "Münster",
            "Ravensburg",
            "Rostock",
            "Stuttgart"
           ],
           "lat": [
            47.5025779,
            48.2083537,
            51.5073219,
            43.7698712,
            50.776351,
            50.735851,
            51.0493286,
            50.1106444,
            54.3227085,
            51.3406321,
            53.866444,
            49.4892913,
            48.1371079,
            51.9625101,
            47.7811014,
            54.0924445,
            48.7784485
           ],
           "legendgroup": "",
           "lon": [
            9.7472924,
            16.3725042,
            -0.1276474,
            11.2555757,
            6.083862,
            7.10066,
            13.7381437,
            8.6820917,
            10.135555,
            12.3747329,
            10.684738,
            8.4673098,
            11.5753822,
            7.6251879,
            9.612468,
            12.1286127,
            9.1800132
           ],
           "marker": {
            "color": [
             22.52,
             24.8,
             18.25,
             29.33,
             17.96,
             19.87,
             19.5,
             20.67,
             18.65,
             20.31,
             18.92,
             20.61,
             19.95,
             17.97,
             21.86,
             21.03,
             21.15
            ],
            "coloraxis": "coloraxis"
           },
           "mode": "markers+text",
           "name": "",
           "showlegend": false,
           "subplot": "mapbox",
           "text": [
            "Bregenz",
            "Wien",
            "London",
            "Florenz",
            "Aachen",
            "Bonn",
            "Dresden",
            "Frankfurt am Main",
            "Kiel",
            "Leipzig",
            "Lübeck",
            "Mannheim",
            "München",
            "Münster",
            "Ravensburg",
            "Rostock",
            "Stuttgart"
           ],
           "type": "scattermapbox"
          }
         ],
         "name": "2022-08-27 09:00:00"
        },
        {
         "data": [
          {
           "customdata": [
            [
             24.72,
             "😊   INFO: <br>enjoy your day!"
            ],
            [
             27.97,
             "😰   CAUTION: <br>warm temperatures!"
            ],
            [
             21.32,
             "😊   INFO: <br>enjoy your day!"
            ],
            [
             32.71,
             "🥵   DANGER: <br>it's hot!"
            ],
            [
             20.03,
             "😊   INFO: <br>enjoy your day!"
            ],
            [
             20.72,
             "😊   INFO: <br>enjoy your day!"
            ],
            [
             19.35,
             "😕   INFO: <br>bring a jacket!"
            ],
            [
             22.32,
             "😊   INFO: <br>enjoy your day!"
            ],
            [
             20.05,
             "😊   INFO: <br>enjoy your day!"
            ],
            [
             21.41,
             "😊   INFO: <br>enjoy your day!"
            ],
            [
             18.64,
             "😕   INFO: <br>bring a jacket!"
            ],
            [
             22.57,
             "😊   INFO: <br>enjoy your day!"
            ],
            [
             21.32,
             "😊   INFO: <br>enjoy your day!"
            ],
            [
             20.5,
             "😊   INFO: <br>enjoy your day!"
            ],
            [
             24.61,
             "😊   INFO: <br>enjoy your day!"
            ],
            [
             21.59,
             "😊   INFO: <br>enjoy your day!"
            ],
            [
             22.32,
             "😊   INFO: <br>enjoy your day!"
            ]
           ],
           "hovertemplate": "<b>%{text} </b><br>Temperature: %{customdata[0]} °C<br><extra><i>%{customdata[1]}</i></extra>",
           "ids": [
            "Bregenz",
            "Wien",
            "London",
            "Florenz",
            "Aachen",
            "Bonn",
            "Dresden",
            "Frankfurt am Main",
            "Kiel",
            "Leipzig",
            "Lübeck",
            "Mannheim",
            "München",
            "Münster",
            "Ravensburg",
            "Rostock",
            "Stuttgart"
           ],
           "lat": [
            47.5025779,
            48.2083537,
            51.5073219,
            43.7698712,
            50.776351,
            50.735851,
            51.0493286,
            50.1106444,
            54.3227085,
            51.3406321,
            53.866444,
            49.4892913,
            48.1371079,
            51.9625101,
            47.7811014,
            54.0924445,
            48.7784485
           ],
           "legendgroup": "",
           "lon": [
            9.7472924,
            16.3725042,
            -0.1276474,
            11.2555757,
            6.083862,
            7.10066,
            13.7381437,
            8.6820917,
            10.135555,
            12.3747329,
            10.684738,
            8.4673098,
            11.5753822,
            7.6251879,
            9.612468,
            12.1286127,
            9.1800132
           ],
           "marker": {
            "color": [
             24.72,
             27.97,
             21.32,
             32.71,
             20.03,
             20.72,
             19.35,
             22.32,
             20.05,
             21.41,
             18.64,
             22.57,
             21.32,
             20.5,
             24.61,
             21.59,
             22.32
            ],
            "coloraxis": "coloraxis"
           },
           "mode": "markers+text",
           "name": "",
           "showlegend": false,
           "subplot": "mapbox",
           "text": [
            "Bregenz",
            "Wien",
            "London",
            "Florenz",
            "Aachen",
            "Bonn",
            "Dresden",
            "Frankfurt am Main",
            "Kiel",
            "Leipzig",
            "Lübeck",
            "Mannheim",
            "München",
            "Münster",
            "Ravensburg",
            "Rostock",
            "Stuttgart"
           ],
           "type": "scattermapbox"
          }
         ],
         "name": "2022-08-27 12:00:00"
        },
        {
         "data": [
          {
           "customdata": [
            [
             22.84,
             "😊   INFO: <br>enjoy your day!"
            ],
            [
             25.5,
             "😰   CAUTION: <br>warm temperatures!"
            ],
            [
             23.49,
             "😊   INFO: <br>enjoy your day!"
            ],
            [
             31.62,
             "🥵   DANGER: <br>it's hot!"
            ],
            [
             22.24,
             "😊   INFO: <br>enjoy your day!"
            ],
            [
             21.85,
             "😊   INFO: <br>enjoy your day!"
            ],
            [
             20.16,
             "😊   INFO: <br>enjoy your day!"
            ],
            [
             24.03,
             "😊   INFO: <br>enjoy your day!"
            ],
            [
             20.31,
             "😊   INFO: <br>enjoy your day!"
            ],
            [
             20.7,
             "😊   INFO: <br>enjoy your day!"
            ],
            [
             19.77,
             "😕   INFO: <br>bring a jacket!"
            ],
            [
             25.54,
             "😰   CAUTION: <br>warm temperatures!"
            ],
            [
             22.79,
             "😊   INFO: <br>enjoy your day!"
            ],
            [
             24.59,
             "😊   INFO: <br>enjoy your day!"
            ],
            [
             22.1,
             "😊   INFO: <br>enjoy your day!"
            ],
            [
             18.83,
             "😕   INFO: <br>bring a jacket!"
            ],
            [
             23.81,
             "😊   INFO: <br>enjoy your day!"
            ]
           ],
           "hovertemplate": "<b>%{text} </b><br>Temperature: %{customdata[0]} °C<br><extra><i>%{customdata[1]}</i></extra>",
           "ids": [
            "Bregenz",
            "Wien",
            "London",
            "Florenz",
            "Aachen",
            "Bonn",
            "Dresden",
            "Frankfurt am Main",
            "Kiel",
            "Leipzig",
            "Lübeck",
            "Mannheim",
            "München",
            "Münster",
            "Ravensburg",
            "Rostock",
            "Stuttgart"
           ],
           "lat": [
            47.5025779,
            48.2083537,
            51.5073219,
            43.7698712,
            50.776351,
            50.735851,
            51.0493286,
            50.1106444,
            54.3227085,
            51.3406321,
            53.866444,
            49.4892913,
            48.1371079,
            51.9625101,
            47.7811014,
            54.0924445,
            48.7784485
           ],
           "legendgroup": "",
           "lon": [
            9.7472924,
            16.3725042,
            -0.1276474,
            11.2555757,
            6.083862,
            7.10066,
            13.7381437,
            8.6820917,
            10.135555,
            12.3747329,
            10.684738,
            8.4673098,
            11.5753822,
            7.6251879,
            9.612468,
            12.1286127,
            9.1800132
           ],
           "marker": {
            "color": [
             22.84,
             25.5,
             23.49,
             31.62,
             22.24,
             21.85,
             20.16,
             24.03,
             20.31,
             20.7,
             19.77,
             25.54,
             22.79,
             24.59,
             22.1,
             18.83,
             23.81
            ],
            "coloraxis": "coloraxis"
           },
           "mode": "markers+text",
           "name": "",
           "showlegend": false,
           "subplot": "mapbox",
           "text": [
            "Bregenz",
            "Wien",
            "London",
            "Florenz",
            "Aachen",
            "Bonn",
            "Dresden",
            "Frankfurt am Main",
            "Kiel",
            "Leipzig",
            "Lübeck",
            "Mannheim",
            "München",
            "Münster",
            "Ravensburg",
            "Rostock",
            "Stuttgart"
           ],
           "type": "scattermapbox"
          }
         ],
         "name": "2022-08-27 15:00:00"
        },
        {
         "data": [
          {
           "customdata": [
            [
             19.28,
             "😕   INFO: <br>bring a jacket!"
            ],
            [
             23.11,
             "😊   INFO: <br>enjoy your day!"
            ],
            [
             20.03,
             "😊   INFO: <br>enjoy your day!"
            ],
            [
             26.34,
             "😰   CAUTION: <br>warm temperatures!"
            ],
            [
             19.65,
             "😕   INFO: <br>bring a jacket!"
            ],
            [
             19.92,
             "😕   INFO: <br>bring a jacket!"
            ],
            [
             18.66,
             "😕   INFO: <br>bring a jacket!"
            ],
            [
             22.17,
             "😊   INFO: <br>enjoy your day!"
            ],
            [
             19.46,
             "😕   INFO: <br>bring a jacket!"
            ],
            [
             19.03,
             "😕   INFO: <br>bring a jacket!"
            ],
            [
             18.92,
             "😕   INFO: <br>bring a jacket!"
            ],
            [
             23.31,
             "😊   INFO: <br>enjoy your day!"
            ],
            [
             17.82,
             "😕   INFO: <br>bring a jacket!"
            ],
            [
             20.47,
             "😊   INFO: <br>enjoy your day!"
            ],
            [
             17.93,
             "😕   INFO: <br>bring a jacket!"
            ],
            [
             18.92,
             "😕   INFO: <br>bring a jacket!"
            ],
            [
             21.83,
             "😊   INFO: <br>enjoy your day!"
            ]
           ],
           "hovertemplate": "<b>%{text} </b><br>Temperature: %{customdata[0]} °C<br><extra><i>%{customdata[1]}</i></extra>",
           "ids": [
            "Bregenz",
            "Wien",
            "London",
            "Florenz",
            "Aachen",
            "Bonn",
            "Dresden",
            "Frankfurt am Main",
            "Kiel",
            "Leipzig",
            "Lübeck",
            "Mannheim",
            "München",
            "Münster",
            "Ravensburg",
            "Rostock",
            "Stuttgart"
           ],
           "lat": [
            47.5025779,
            48.2083537,
            51.5073219,
            43.7698712,
            50.776351,
            50.735851,
            51.0493286,
            50.1106444,
            54.3227085,
            51.3406321,
            53.866444,
            49.4892913,
            48.1371079,
            51.9625101,
            47.7811014,
            54.0924445,
            48.7784485
           ],
           "legendgroup": "",
           "lon": [
            9.7472924,
            16.3725042,
            -0.1276474,
            11.2555757,
            6.083862,
            7.10066,
            13.7381437,
            8.6820917,
            10.135555,
            12.3747329,
            10.684738,
            8.4673098,
            11.5753822,
            7.6251879,
            9.612468,
            12.1286127,
            9.1800132
           ],
           "marker": {
            "color": [
             19.28,
             23.11,
             20.03,
             26.34,
             19.65,
             19.92,
             18.66,
             22.17,
             19.46,
             19.03,
             18.92,
             23.31,
             17.82,
             20.47,
             17.93,
             18.92,
             21.83
            ],
            "coloraxis": "coloraxis"
           },
           "mode": "markers+text",
           "name": "",
           "showlegend": false,
           "subplot": "mapbox",
           "text": [
            "Bregenz",
            "Wien",
            "London",
            "Florenz",
            "Aachen",
            "Bonn",
            "Dresden",
            "Frankfurt am Main",
            "Kiel",
            "Leipzig",
            "Lübeck",
            "Mannheim",
            "München",
            "Münster",
            "Ravensburg",
            "Rostock",
            "Stuttgart"
           ],
           "type": "scattermapbox"
          }
         ],
         "name": "2022-08-27 18:00:00"
        },
        {
         "data": [
          {
           "customdata": [
            [
             16.86,
             "😕   INFO: <br>bring a jacket!"
            ],
            [
             21.67,
             "😊   INFO: <br>enjoy your day!"
            ],
            [
             17.91,
             "😕   INFO: <br>bring a jacket!"
            ],
            [
             22.16,
             "😊   INFO: <br>enjoy your day!"
            ],
            [
             14.63,
             "😕   INFO: <br>bring a jacket!"
            ],
            [
             16.57,
             "😕   INFO: <br>bring a jacket!"
            ],
            [
             17.65,
             "😕   INFO: <br>bring a jacket!"
            ],
            [
             19.76,
             "😕   INFO: <br>bring a jacket!"
            ],
            [
             15.66,
             "😕   INFO: <br>bring a jacket!"
            ],
            [
             18.91,
             "😕   INFO: <br>bring a jacket!"
            ],
            [
             17.11,
             "😕   INFO: <br>bring a jacket!"
            ],
            [
             20.91,
             "😊   INFO: <br>enjoy your day!"
            ],
            [
             16.14,
             "😕   INFO: <br>bring a jacket!"
            ],
            [
             14.52,
             "😕   INFO: <br>bring a jacket!"
            ],
            [
             16.19,
             "😕   INFO: <br>bring a jacket!"
            ],
            [
             18.44,
             "😕   INFO: <br>bring a jacket!"
            ],
            [
             20.36,
             "😊   INFO: <br>enjoy your day!"
            ]
           ],
           "hovertemplate": "<b>%{text} </b><br>Temperature: %{customdata[0]} °C<br><extra><i>%{customdata[1]}</i></extra>",
           "ids": [
            "Bregenz",
            "Wien",
            "London",
            "Florenz",
            "Aachen",
            "Bonn",
            "Dresden",
            "Frankfurt am Main",
            "Kiel",
            "Leipzig",
            "Lübeck",
            "Mannheim",
            "München",
            "Münster",
            "Ravensburg",
            "Rostock",
            "Stuttgart"
           ],
           "lat": [
            47.5025779,
            48.2083537,
            51.5073219,
            43.7698712,
            50.776351,
            50.735851,
            51.0493286,
            50.1106444,
            54.3227085,
            51.3406321,
            53.866444,
            49.4892913,
            48.1371079,
            51.9625101,
            47.7811014,
            54.0924445,
            48.7784485
           ],
           "legendgroup": "",
           "lon": [
            9.7472924,
            16.3725042,
            -0.1276474,
            11.2555757,
            6.083862,
            7.10066,
            13.7381437,
            8.6820917,
            10.135555,
            12.3747329,
            10.684738,
            8.4673098,
            11.5753822,
            7.6251879,
            9.612468,
            12.1286127,
            9.1800132
           ],
           "marker": {
            "color": [
             16.86,
             21.67,
             17.91,
             22.16,
             14.63,
             16.57,
             17.65,
             19.76,
             15.66,
             18.91,
             17.11,
             20.91,
             16.14,
             14.52,
             16.19,
             18.44,
             20.36
            ],
            "coloraxis": "coloraxis"
           },
           "mode": "markers+text",
           "name": "",
           "showlegend": false,
           "subplot": "mapbox",
           "text": [
            "Bregenz",
            "Wien",
            "London",
            "Florenz",
            "Aachen",
            "Bonn",
            "Dresden",
            "Frankfurt am Main",
            "Kiel",
            "Leipzig",
            "Lübeck",
            "Mannheim",
            "München",
            "Münster",
            "Ravensburg",
            "Rostock",
            "Stuttgart"
           ],
           "type": "scattermapbox"
          }
         ],
         "name": "2022-08-27 21:00:00"
        },
        {
         "data": [
          {
           "customdata": [
            [
             16.04,
             "😕   INFO: <br>bring a jacket!"
            ],
            [
             19.98,
             "😕   INFO: <br>bring a jacket!"
            ],
            [
             16.64,
             "😕   INFO: <br>bring a jacket!"
            ],
            [
             21.4,
             "😊   INFO: <br>enjoy your day!"
            ],
            [
             12.45,
             "😕   INFO: <br>bring a jacket!"
            ],
            [
             14.76,
             "😕   INFO: <br>bring a jacket!"
            ],
            [
             17.64,
             "😕   INFO: <br>bring a jacket!"
            ],
            [
             17.13,
             "😕   INFO: <br>bring a jacket!"
            ],
            [
             13.19,
             "😕   INFO: <br>bring a jacket!"
            ],
            [
             18.47,
             "😕   INFO: <br>bring a jacket!"
            ],
            [
             13.53,
             "😕   INFO: <br>bring a jacket!"
            ],
            [
             19.01,
             "😕   INFO: <br>bring a jacket!"
            ],
            [
             15.12,
             "😕   INFO: <br>bring a jacket!"
            ],
            [
             11.79,
             "😕   INFO: <br>bring a jacket!"
            ],
            [
             15.1,
             "😕   INFO: <br>bring a jacket!"
            ],
            [
             17.76,
             "😕   INFO: <br>bring a jacket!"
            ],
            [
             19.23,
             "😕   INFO: <br>bring a jacket!"
            ]
           ],
           "hovertemplate": "<b>%{text} </b><br>Temperature: %{customdata[0]} °C<br><extra><i>%{customdata[1]}</i></extra>",
           "ids": [
            "Bregenz",
            "Wien",
            "London",
            "Florenz",
            "Aachen",
            "Bonn",
            "Dresden",
            "Frankfurt am Main",
            "Kiel",
            "Leipzig",
            "Lübeck",
            "Mannheim",
            "München",
            "Münster",
            "Ravensburg",
            "Rostock",
            "Stuttgart"
           ],
           "lat": [
            47.5025779,
            48.2083537,
            51.5073219,
            43.7698712,
            50.776351,
            50.735851,
            51.0493286,
            50.1106444,
            54.3227085,
            51.3406321,
            53.866444,
            49.4892913,
            48.1371079,
            51.9625101,
            47.7811014,
            54.0924445,
            48.7784485
           ],
           "legendgroup": "",
           "lon": [
            9.7472924,
            16.3725042,
            -0.1276474,
            11.2555757,
            6.083862,
            7.10066,
            13.7381437,
            8.6820917,
            10.135555,
            12.3747329,
            10.684738,
            8.4673098,
            11.5753822,
            7.6251879,
            9.612468,
            12.1286127,
            9.1800132
           ],
           "marker": {
            "color": [
             16.04,
             19.98,
             16.64,
             21.4,
             12.45,
             14.76,
             17.64,
             17.13,
             13.19,
             18.47,
             13.53,
             19.01,
             15.12,
             11.79,
             15.1,
             17.76,
             19.23
            ],
            "coloraxis": "coloraxis"
           },
           "mode": "markers+text",
           "name": "",
           "showlegend": false,
           "subplot": "mapbox",
           "text": [
            "Bregenz",
            "Wien",
            "London",
            "Florenz",
            "Aachen",
            "Bonn",
            "Dresden",
            "Frankfurt am Main",
            "Kiel",
            "Leipzig",
            "Lübeck",
            "Mannheim",
            "München",
            "Münster",
            "Ravensburg",
            "Rostock",
            "Stuttgart"
           ],
           "type": "scattermapbox"
          }
         ],
         "name": "2022-08-28 00:00:00"
        },
        {
         "data": [
          {
           "customdata": [
            [
             15.26,
             "😕   INFO: <br>bring a jacket!"
            ],
            [
             19.15,
             "😕   INFO: <br>bring a jacket!"
            ],
            [
             15.51,
             "😕   INFO: <br>bring a jacket!"
            ],
            [
             20.62,
             "😊   INFO: <br>enjoy your day!"
            ],
            [
             10.75,
             "😕   INFO: <br>bring a jacket!"
            ],
            [
             13.2,
             "😕   INFO: <br>bring a jacket!"
            ],
            [
             17.5,
             "😕   INFO: <br>bring a jacket!"
            ],
            [
             15.66,
             "😕   INFO: <br>bring a jacket!"
            ],
            [
             11.65,
             "😕   INFO: <br>bring a jacket!"
            ],
            [
             15.71,
             "😕   INFO: <br>bring a jacket!"
            ],
            [
             11.65,
             "😕   INFO: <br>bring a jacket!"
            ],
            [
             17.38,
             "😕   INFO: <br>bring a jacket!"
            ],
            [
             14.38,
             "😕   INFO: <br>bring a jacket!"
            ],
            [
             10.77,
             "😕   INFO: <br>bring a jacket!"
            ],
            [
             14.29,
             "😕   INFO: <br>bring a jacket!"
            ],
            [
             16.16,
             "😕   INFO: <br>bring a jacket!"
            ],
            [
             18.57,
             "😕   INFO: <br>bring a jacket!"
            ]
           ],
           "hovertemplate": "<b>%{text} </b><br>Temperature: %{customdata[0]} °C<br><extra><i>%{customdata[1]}</i></extra>",
           "ids": [
            "Bregenz",
            "Wien",
            "London",
            "Florenz",
            "Aachen",
            "Bonn",
            "Dresden",
            "Frankfurt am Main",
            "Kiel",
            "Leipzig",
            "Lübeck",
            "Mannheim",
            "München",
            "Münster",
            "Ravensburg",
            "Rostock",
            "Stuttgart"
           ],
           "lat": [
            47.5025779,
            48.2083537,
            51.5073219,
            43.7698712,
            50.776351,
            50.735851,
            51.0493286,
            50.1106444,
            54.3227085,
            51.3406321,
            53.866444,
            49.4892913,
            48.1371079,
            51.9625101,
            47.7811014,
            54.0924445,
            48.7784485
           ],
           "legendgroup": "",
           "lon": [
            9.7472924,
            16.3725042,
            -0.1276474,
            11.2555757,
            6.083862,
            7.10066,
            13.7381437,
            8.6820917,
            10.135555,
            12.3747329,
            10.684738,
            8.4673098,
            11.5753822,
            7.6251879,
            9.612468,
            12.1286127,
            9.1800132
           ],
           "marker": {
            "color": [
             15.26,
             19.15,
             15.51,
             20.62,
             10.75,
             13.2,
             17.5,
             15.66,
             11.65,
             15.71,
             11.65,
             17.38,
             14.38,
             10.77,
             14.29,
             16.16,
             18.57
            ],
            "coloraxis": "coloraxis"
           },
           "mode": "markers+text",
           "name": "",
           "showlegend": false,
           "subplot": "mapbox",
           "text": [
            "Bregenz",
            "Wien",
            "London",
            "Florenz",
            "Aachen",
            "Bonn",
            "Dresden",
            "Frankfurt am Main",
            "Kiel",
            "Leipzig",
            "Lübeck",
            "Mannheim",
            "München",
            "Münster",
            "Ravensburg",
            "Rostock",
            "Stuttgart"
           ],
           "type": "scattermapbox"
          }
         ],
         "name": "2022-08-28 03:00:00"
        },
        {
         "data": [
          {
           "customdata": [
            [
             16.36,
             "😕   INFO: <br>bring a jacket!"
            ],
            [
             19.27,
             "😕   INFO: <br>bring a jacket!"
            ],
            [
             15.38,
             "😕   INFO: <br>bring a jacket!"
            ],
            [
             21.54,
             "😊   INFO: <br>enjoy your day!"
            ],
            [
             12.08,
             "😕   INFO: <br>bring a jacket!"
            ],
            [
             13.99,
             "😕   INFO: <br>bring a jacket!"
            ],
            [
             16.07,
             "😕   INFO: <br>bring a jacket!"
            ],
            [
             15.91,
             "😕   INFO: <br>bring a jacket!"
            ],
            [
             14.12,
             "😕   INFO: <br>bring a jacket!"
            ],
            [
             15.03,
             "😕   INFO: <br>bring a jacket!"
            ],
            [
             13.91,
             "😕   INFO: <br>bring a jacket!"
            ],
            [
             17.42,
             "😕   INFO: <br>bring a jacket!"
            ],
            [
             15.75,
             "😕   INFO: <br>bring a jacket!"
            ],
            [
             12.61,
             "😕   INFO: <br>bring a jacket!"
            ],
            [
             15.63,
             "😕   INFO: <br>bring a jacket!"
            ],
            [
             16.19,
             "😕   INFO: <br>bring a jacket!"
            ],
            [
             18.62,
             "😕   INFO: <br>bring a jacket!"
            ]
           ],
           "hovertemplate": "<b>%{text} </b><br>Temperature: %{customdata[0]} °C<br><extra><i>%{customdata[1]}</i></extra>",
           "ids": [
            "Bregenz",
            "Wien",
            "London",
            "Florenz",
            "Aachen",
            "Bonn",
            "Dresden",
            "Frankfurt am Main",
            "Kiel",
            "Leipzig",
            "Lübeck",
            "Mannheim",
            "München",
            "Münster",
            "Ravensburg",
            "Rostock",
            "Stuttgart"
           ],
           "lat": [
            47.5025779,
            48.2083537,
            51.5073219,
            43.7698712,
            50.776351,
            50.735851,
            51.0493286,
            50.1106444,
            54.3227085,
            51.3406321,
            53.866444,
            49.4892913,
            48.1371079,
            51.9625101,
            47.7811014,
            54.0924445,
            48.7784485
           ],
           "legendgroup": "",
           "lon": [
            9.7472924,
            16.3725042,
            -0.1276474,
            11.2555757,
            6.083862,
            7.10066,
            13.7381437,
            8.6820917,
            10.135555,
            12.3747329,
            10.684738,
            8.4673098,
            11.5753822,
            7.6251879,
            9.612468,
            12.1286127,
            9.1800132
           ],
           "marker": {
            "color": [
             16.36,
             19.27,
             15.38,
             21.54,
             12.08,
             13.99,
             16.07,
             15.91,
             14.12,
             15.03,
             13.91,
             17.42,
             15.75,
             12.61,
             15.63,
             16.19,
             18.62
            ],
            "coloraxis": "coloraxis"
           },
           "mode": "markers+text",
           "name": "",
           "showlegend": false,
           "subplot": "mapbox",
           "text": [
            "Bregenz",
            "Wien",
            "London",
            "Florenz",
            "Aachen",
            "Bonn",
            "Dresden",
            "Frankfurt am Main",
            "Kiel",
            "Leipzig",
            "Lübeck",
            "Mannheim",
            "München",
            "Münster",
            "Ravensburg",
            "Rostock",
            "Stuttgart"
           ],
           "type": "scattermapbox"
          }
         ],
         "name": "2022-08-28 06:00:00"
        },
        {
         "data": [
          {
           "customdata": [
            [
             21.26,
             "😊   INFO: <br>enjoy your day!"
            ],
            [
             19.83,
             "😕   INFO: <br>bring a jacket!"
            ],
            [
             19.03,
             "😕   INFO: <br>bring a jacket!"
            ],
            [
             27.06,
             "😰   CAUTION: <br>warm temperatures!"
            ],
            [
             18.59,
             "😕   INFO: <br>bring a jacket!"
            ],
            [
             19.67,
             "😕   INFO: <br>bring a jacket!"
            ],
            [
             19.24,
             "😕   INFO: <br>bring a jacket!"
            ],
            [
             20.98,
             "😊   INFO: <br>enjoy your day!"
            ],
            [
             19.33,
             "😕   INFO: <br>bring a jacket!"
            ],
            [
             19.02,
             "😕   INFO: <br>bring a jacket!"
            ],
            [
             19.33,
             "😕   INFO: <br>bring a jacket!"
            ],
            [
             22.42,
             "😊   INFO: <br>enjoy your day!"
            ],
            [
             21.33,
             "😊   INFO: <br>enjoy your day!"
            ],
            [
             19.06,
             "😕   INFO: <br>bring a jacket!"
            ],
            [
             21.39,
             "😊   INFO: <br>enjoy your day!"
            ],
            [
             18.29,
             "😕   INFO: <br>bring a jacket!"
            ],
            [
             20.1,
             "😊   INFO: <br>enjoy your day!"
            ]
           ],
           "hovertemplate": "<b>%{text} </b><br>Temperature: %{customdata[0]} °C<br><extra><i>%{customdata[1]}</i></extra>",
           "ids": [
            "Bregenz",
            "Wien",
            "London",
            "Florenz",
            "Aachen",
            "Bonn",
            "Dresden",
            "Frankfurt am Main",
            "Kiel",
            "Leipzig",
            "Lübeck",
            "Mannheim",
            "München",
            "Münster",
            "Ravensburg",
            "Rostock",
            "Stuttgart"
           ],
           "lat": [
            47.5025779,
            48.2083537,
            51.5073219,
            43.7698712,
            50.776351,
            50.735851,
            51.0493286,
            50.1106444,
            54.3227085,
            51.3406321,
            53.866444,
            49.4892913,
            48.1371079,
            51.9625101,
            47.7811014,
            54.0924445,
            48.7784485
           ],
           "legendgroup": "",
           "lon": [
            9.7472924,
            16.3725042,
            -0.1276474,
            11.2555757,
            6.083862,
            7.10066,
            13.7381437,
            8.6820917,
            10.135555,
            12.3747329,
            10.684738,
            8.4673098,
            11.5753822,
            7.6251879,
            9.612468,
            12.1286127,
            9.1800132
           ],
           "marker": {
            "color": [
             21.26,
             19.83,
             19.03,
             27.06,
             18.59,
             19.67,
             19.24,
             20.98,
             19.33,
             19.02,
             19.33,
             22.42,
             21.33,
             19.06,
             21.39,
             18.29,
             20.1
            ],
            "coloraxis": "coloraxis"
           },
           "mode": "markers+text",
           "name": "",
           "showlegend": false,
           "subplot": "mapbox",
           "text": [
            "Bregenz",
            "Wien",
            "London",
            "Florenz",
            "Aachen",
            "Bonn",
            "Dresden",
            "Frankfurt am Main",
            "Kiel",
            "Leipzig",
            "Lübeck",
            "Mannheim",
            "München",
            "Münster",
            "Ravensburg",
            "Rostock",
            "Stuttgart"
           ],
           "type": "scattermapbox"
          }
         ],
         "name": "2022-08-28 09:00:00"
        },
        {
         "data": [
          {
           "customdata": [
            [
             24.33,
             "😊   INFO: <br>enjoy your day!"
            ],
            [
             22.65,
             "😊   INFO: <br>enjoy your day!"
            ],
            [
             22.12,
             "😊   INFO: <br>enjoy your day!"
            ],
            [
             31.49,
             "🥵   DANGER: <br>it's hot!"
            ],
            [
             22.68,
             "😊   INFO: <br>enjoy your day!"
            ],
            [
             23.74,
             "😊   INFO: <br>enjoy your day!"
            ],
            [
             22.16,
             "😊   INFO: <br>enjoy your day!"
            ],
            [
             25.06,
             "😰   CAUTION: <br>warm temperatures!"
            ],
            [
             21.39,
             "😊   INFO: <br>enjoy your day!"
            ],
            [
             22.18,
             "😊   INFO: <br>enjoy your day!"
            ],
            [
             21.92,
             "😊   INFO: <br>enjoy your day!"
            ],
            [
             26.2,
             "😰   CAUTION: <br>warm temperatures!"
            ],
            [
             23.42,
             "😊   INFO: <br>enjoy your day!"
            ],
            [
             23.19,
             "😊   INFO: <br>enjoy your day!"
            ],
            [
             24.16,
             "😊   INFO: <br>enjoy your day!"
            ],
            [
             20.5,
             "😊   INFO: <br>enjoy your day!"
            ],
            [
             24.87,
             "😊   INFO: <br>enjoy your day!"
            ]
           ],
           "hovertemplate": "<b>%{text} </b><br>Temperature: %{customdata[0]} °C<br><extra><i>%{customdata[1]}</i></extra>",
           "ids": [
            "Bregenz",
            "Wien",
            "London",
            "Florenz",
            "Aachen",
            "Bonn",
            "Dresden",
            "Frankfurt am Main",
            "Kiel",
            "Leipzig",
            "Lübeck",
            "Mannheim",
            "München",
            "Münster",
            "Ravensburg",
            "Rostock",
            "Stuttgart"
           ],
           "lat": [
            47.5025779,
            48.2083537,
            51.5073219,
            43.7698712,
            50.776351,
            50.735851,
            51.0493286,
            50.1106444,
            54.3227085,
            51.3406321,
            53.866444,
            49.4892913,
            48.1371079,
            51.9625101,
            47.7811014,
            54.0924445,
            48.7784485
           ],
           "legendgroup": "",
           "lon": [
            9.7472924,
            16.3725042,
            -0.1276474,
            11.2555757,
            6.083862,
            7.10066,
            13.7381437,
            8.6820917,
            10.135555,
            12.3747329,
            10.684738,
            8.4673098,
            11.5753822,
            7.6251879,
            9.612468,
            12.1286127,
            9.1800132
           ],
           "marker": {
            "color": [
             24.33,
             22.65,
             22.12,
             31.49,
             22.68,
             23.74,
             22.16,
             25.06,
             21.39,
             22.18,
             21.92,
             26.2,
             23.42,
             23.19,
             24.16,
             20.5,
             24.87
            ],
            "coloraxis": "coloraxis"
           },
           "mode": "markers+text",
           "name": "",
           "showlegend": false,
           "subplot": "mapbox",
           "text": [
            "Bregenz",
            "Wien",
            "London",
            "Florenz",
            "Aachen",
            "Bonn",
            "Dresden",
            "Frankfurt am Main",
            "Kiel",
            "Leipzig",
            "Lübeck",
            "Mannheim",
            "München",
            "Münster",
            "Ravensburg",
            "Rostock",
            "Stuttgart"
           ],
           "type": "scattermapbox"
          }
         ],
         "name": "2022-08-28 12:00:00"
        },
        {
         "data": [
          {
           "customdata": [
            [
             24.35,
             "😊   INFO: <br>enjoy your day!"
            ],
            [
             25.14,
             "😰   CAUTION: <br>warm temperatures!"
            ],
            [
             21.55,
             "😊   INFO: <br>enjoy your day!"
            ],
            [
             32.19,
             "🥵   DANGER: <br>it's hot!"
            ],
            [
             23.39,
             "😊   INFO: <br>enjoy your day!"
            ],
            [
             24.75,
             "😊   INFO: <br>enjoy your day!"
            ],
            [
             22.43,
             "😊   INFO: <br>enjoy your day!"
            ],
            [
             26.41,
             "😰   CAUTION: <br>warm temperatures!"
            ],
            [
             20.12,
             "😊   INFO: <br>enjoy your day!"
            ],
            [
             23.06,
             "😊   INFO: <br>enjoy your day!"
            ],
            [
             20.88,
             "😊   INFO: <br>enjoy your day!"
            ],
            [
             27.12,
             "😰   CAUTION: <br>warm temperatures!"
            ],
            [
             21.64,
             "😊   INFO: <br>enjoy your day!"
            ],
            [
             23.39,
             "😊   INFO: <br>enjoy your day!"
            ],
            [
             23.51,
             "😊   INFO: <br>enjoy your day!"
            ],
            [
             20.76,
             "😊   INFO: <br>enjoy your day!"
            ],
            [
             26.48,
             "😰   CAUTION: <br>warm temperatures!"
            ]
           ],
           "hovertemplate": "<b>%{text} </b><br>Temperature: %{customdata[0]} °C<br><extra><i>%{customdata[1]}</i></extra>",
           "ids": [
            "Bregenz",
            "Wien",
            "London",
            "Florenz",
            "Aachen",
            "Bonn",
            "Dresden",
            "Frankfurt am Main",
            "Kiel",
            "Leipzig",
            "Lübeck",
            "Mannheim",
            "München",
            "Münster",
            "Ravensburg",
            "Rostock",
            "Stuttgart"
           ],
           "lat": [
            47.5025779,
            48.2083537,
            51.5073219,
            43.7698712,
            50.776351,
            50.735851,
            51.0493286,
            50.1106444,
            54.3227085,
            51.3406321,
            53.866444,
            49.4892913,
            48.1371079,
            51.9625101,
            47.7811014,
            54.0924445,
            48.7784485
           ],
           "legendgroup": "",
           "lon": [
            9.7472924,
            16.3725042,
            -0.1276474,
            11.2555757,
            6.083862,
            7.10066,
            13.7381437,
            8.6820917,
            10.135555,
            12.3747329,
            10.684738,
            8.4673098,
            11.5753822,
            7.6251879,
            9.612468,
            12.1286127,
            9.1800132
           ],
           "marker": {
            "color": [
             24.35,
             25.14,
             21.55,
             32.19,
             23.39,
             24.75,
             22.43,
             26.41,
             20.12,
             23.06,
             20.88,
             27.12,
             21.64,
             23.39,
             23.51,
             20.76,
             26.48
            ],
            "coloraxis": "coloraxis"
           },
           "mode": "markers+text",
           "name": "",
           "showlegend": false,
           "subplot": "mapbox",
           "text": [
            "Bregenz",
            "Wien",
            "London",
            "Florenz",
            "Aachen",
            "Bonn",
            "Dresden",
            "Frankfurt am Main",
            "Kiel",
            "Leipzig",
            "Lübeck",
            "Mannheim",
            "München",
            "Münster",
            "Ravensburg",
            "Rostock",
            "Stuttgart"
           ],
           "type": "scattermapbox"
          }
         ],
         "name": "2022-08-28 15:00:00"
        },
        {
         "data": [
          {
           "customdata": [
            [
             19.36,
             "😕   INFO: <br>bring a jacket!"
            ],
            [
             22.11,
             "😊   INFO: <br>enjoy your day!"
            ],
            [
             19.37,
             "😕   INFO: <br>bring a jacket!"
            ],
            [
             25.78,
             "😰   CAUTION: <br>warm temperatures!"
            ],
            [
             19.45,
             "😕   INFO: <br>bring a jacket!"
            ],
            [
             20.78,
             "😊   INFO: <br>enjoy your day!"
            ],
            [
             18.46,
             "😕   INFO: <br>bring a jacket!"
            ],
            [
             22.81,
             "😊   INFO: <br>enjoy your day!"
            ],
            [
             16.74,
             "😕   INFO: <br>bring a jacket!"
            ],
            [
             18.77,
             "😕   INFO: <br>bring a jacket!"
            ],
            [
             16.51,
             "😕   INFO: <br>bring a jacket!"
            ],
            [
             24.33,
             "😊   INFO: <br>enjoy your day!"
            ],
            [
             18.9,
             "😕   INFO: <br>bring a jacket!"
            ],
            [
             18.51,
             "😕   INFO: <br>bring a jacket!"
            ],
            [
             18.31,
             "😕   INFO: <br>bring a jacket!"
            ],
            [
             18.03,
             "😕   INFO: <br>bring a jacket!"
            ],
            [
             22.7,
             "😊   INFO: <br>enjoy your day!"
            ]
           ],
           "hovertemplate": "<b>%{text} </b><br>Temperature: %{customdata[0]} °C<br><extra><i>%{customdata[1]}</i></extra>",
           "ids": [
            "Bregenz",
            "Wien",
            "London",
            "Florenz",
            "Aachen",
            "Bonn",
            "Dresden",
            "Frankfurt am Main",
            "Kiel",
            "Leipzig",
            "Lübeck",
            "Mannheim",
            "München",
            "Münster",
            "Ravensburg",
            "Rostock",
            "Stuttgart"
           ],
           "lat": [
            47.5025779,
            48.2083537,
            51.5073219,
            43.7698712,
            50.776351,
            50.735851,
            51.0493286,
            50.1106444,
            54.3227085,
            51.3406321,
            53.866444,
            49.4892913,
            48.1371079,
            51.9625101,
            47.7811014,
            54.0924445,
            48.7784485
           ],
           "legendgroup": "",
           "lon": [
            9.7472924,
            16.3725042,
            -0.1276474,
            11.2555757,
            6.083862,
            7.10066,
            13.7381437,
            8.6820917,
            10.135555,
            12.3747329,
            10.684738,
            8.4673098,
            11.5753822,
            7.6251879,
            9.612468,
            12.1286127,
            9.1800132
           ],
           "marker": {
            "color": [
             19.36,
             22.11,
             19.37,
             25.78,
             19.45,
             20.78,
             18.46,
             22.81,
             16.74,
             18.77,
             16.51,
             24.33,
             18.9,
             18.51,
             18.31,
             18.03,
             22.7
            ],
            "coloraxis": "coloraxis"
           },
           "mode": "markers+text",
           "name": "",
           "showlegend": false,
           "subplot": "mapbox",
           "text": [
            "Bregenz",
            "Wien",
            "London",
            "Florenz",
            "Aachen",
            "Bonn",
            "Dresden",
            "Frankfurt am Main",
            "Kiel",
            "Leipzig",
            "Lübeck",
            "Mannheim",
            "München",
            "Münster",
            "Ravensburg",
            "Rostock",
            "Stuttgart"
           ],
           "type": "scattermapbox"
          }
         ],
         "name": "2022-08-28 18:00:00"
        },
        {
         "data": [
          {
           "customdata": [
            [
             17.24,
             "😕   INFO: <br>bring a jacket!"
            ],
            [
             20.33,
             "😊   INFO: <br>enjoy your day!"
            ],
            [
             17.71,
             "😕   INFO: <br>bring a jacket!"
            ],
            [
             23.1,
             "😊   INFO: <br>enjoy your day!"
            ],
            [
             14.16,
             "😕   INFO: <br>bring a jacket!"
            ],
            [
             16.55,
             "😕   INFO: <br>bring a jacket!"
            ],
            [
             16.72,
             "😕   INFO: <br>bring a jacket!"
            ],
            [
             18.76,
             "😕   INFO: <br>bring a jacket!"
            ],
            [
             16.2,
             "😕   INFO: <br>bring a jacket!"
            ],
            [
             15.33,
             "😕   INFO: <br>bring a jacket!"
            ],
            [
             15.51,
             "😕   INFO: <br>bring a jacket!"
            ],
            [
             20.99,
             "😊   INFO: <br>enjoy your day!"
            ],
            [
             17.23,
             "😕   INFO: <br>bring a jacket!"
            ],
            [
             12.74,
             "😕   INFO: <br>bring a jacket!"
            ],
            [
             16.14,
             "😕   INFO: <br>bring a jacket!"
            ],
            [
             16.01,
             "😕   INFO: <br>bring a jacket!"
            ],
            [
             20.87,
             "😊   INFO: <br>enjoy your day!"
            ]
           ],
           "hovertemplate": "<b>%{text} </b><br>Temperature: %{customdata[0]} °C<br><extra><i>%{customdata[1]}</i></extra>",
           "ids": [
            "Bregenz",
            "Wien",
            "London",
            "Florenz",
            "Aachen",
            "Bonn",
            "Dresden",
            "Frankfurt am Main",
            "Kiel",
            "Leipzig",
            "Lübeck",
            "Mannheim",
            "München",
            "Münster",
            "Ravensburg",
            "Rostock",
            "Stuttgart"
           ],
           "lat": [
            47.5025779,
            48.2083537,
            51.5073219,
            43.7698712,
            50.776351,
            50.735851,
            51.0493286,
            50.1106444,
            54.3227085,
            51.3406321,
            53.866444,
            49.4892913,
            48.1371079,
            51.9625101,
            47.7811014,
            54.0924445,
            48.7784485
           ],
           "legendgroup": "",
           "lon": [
            9.7472924,
            16.3725042,
            -0.1276474,
            11.2555757,
            6.083862,
            7.10066,
            13.7381437,
            8.6820917,
            10.135555,
            12.3747329,
            10.684738,
            8.4673098,
            11.5753822,
            7.6251879,
            9.612468,
            12.1286127,
            9.1800132
           ],
           "marker": {
            "color": [
             17.24,
             20.33,
             17.71,
             23.1,
             14.16,
             16.55,
             16.72,
             18.76,
             16.2,
             15.33,
             15.51,
             20.99,
             17.23,
             12.74,
             16.14,
             16.01,
             20.87
            ],
            "coloraxis": "coloraxis"
           },
           "mode": "markers+text",
           "name": "",
           "showlegend": false,
           "subplot": "mapbox",
           "text": [
            "Bregenz",
            "Wien",
            "London",
            "Florenz",
            "Aachen",
            "Bonn",
            "Dresden",
            "Frankfurt am Main",
            "Kiel",
            "Leipzig",
            "Lübeck",
            "Mannheim",
            "München",
            "Münster",
            "Ravensburg",
            "Rostock",
            "Stuttgart"
           ],
           "type": "scattermapbox"
          }
         ],
         "name": "2022-08-28 21:00:00"
        },
        {
         "data": [
          {
           "customdata": [
            [
             16.06,
             "😕   INFO: <br>bring a jacket!"
            ],
            [
             19.08,
             "😕   INFO: <br>bring a jacket!"
            ],
            [
             17.07,
             "😕   INFO: <br>bring a jacket!"
            ],
            [
             22.08,
             "😊   INFO: <br>enjoy your day!"
            ],
            [
             11.54,
             "😕   INFO: <br>bring a jacket!"
            ],
            [
             13.73,
             "😕   INFO: <br>bring a jacket!"
            ],
            [
             13.99,
             "😕   INFO: <br>bring a jacket!"
            ],
            [
             16.01,
             "😕   INFO: <br>bring a jacket!"
            ],
            [
             16.43,
             "😕   INFO: <br>bring a jacket!"
            ],
            [
             13.09,
             "😕   INFO: <br>bring a jacket!"
            ],
            [
             16.01,
             "😕   INFO: <br>bring a jacket!"
            ],
            [
             18.93,
             "😕   INFO: <br>bring a jacket!"
            ],
            [
             15.82,
             "😕   INFO: <br>bring a jacket!"
            ],
            [
             10.73,
             "😕   INFO: <br>bring a jacket!"
            ],
            [
             15.09,
             "😕   INFO: <br>bring a jacket!"
            ],
            [
             17.1,
             "😕   INFO: <br>bring a jacket!"
            ],
            [
             19.66,
             "😕   INFO: <br>bring a jacket!"
            ]
           ],
           "hovertemplate": "<b>%{text} </b><br>Temperature: %{customdata[0]} °C<br><extra><i>%{customdata[1]}</i></extra>",
           "ids": [
            "Bregenz",
            "Wien",
            "London",
            "Florenz",
            "Aachen",
            "Bonn",
            "Dresden",
            "Frankfurt am Main",
            "Kiel",
            "Leipzig",
            "Lübeck",
            "Mannheim",
            "München",
            "Münster",
            "Ravensburg",
            "Rostock",
            "Stuttgart"
           ],
           "lat": [
            47.5025779,
            48.2083537,
            51.5073219,
            43.7698712,
            50.776351,
            50.735851,
            51.0493286,
            50.1106444,
            54.3227085,
            51.3406321,
            53.866444,
            49.4892913,
            48.1371079,
            51.9625101,
            47.7811014,
            54.0924445,
            48.7784485
           ],
           "legendgroup": "",
           "lon": [
            9.7472924,
            16.3725042,
            -0.1276474,
            11.2555757,
            6.083862,
            7.10066,
            13.7381437,
            8.6820917,
            10.135555,
            12.3747329,
            10.684738,
            8.4673098,
            11.5753822,
            7.6251879,
            9.612468,
            12.1286127,
            9.1800132
           ],
           "marker": {
            "color": [
             16.06,
             19.08,
             17.07,
             22.08,
             11.54,
             13.73,
             13.99,
             16.01,
             16.43,
             13.09,
             16.01,
             18.93,
             15.82,
             10.73,
             15.09,
             17.1,
             19.66
            ],
            "coloraxis": "coloraxis"
           },
           "mode": "markers+text",
           "name": "",
           "showlegend": false,
           "subplot": "mapbox",
           "text": [
            "Bregenz",
            "Wien",
            "London",
            "Florenz",
            "Aachen",
            "Bonn",
            "Dresden",
            "Frankfurt am Main",
            "Kiel",
            "Leipzig",
            "Lübeck",
            "Mannheim",
            "München",
            "Münster",
            "Ravensburg",
            "Rostock",
            "Stuttgart"
           ],
           "type": "scattermapbox"
          }
         ],
         "name": "2022-08-29 00:00:00"
        },
        {
         "data": [
          {
           "customdata": [
            [
             14.97,
             "😕   INFO: <br>bring a jacket!"
            ],
            [
             18.43,
             "😕   INFO: <br>bring a jacket!"
            ],
            [
             16.19,
             "😕   INFO: <br>bring a jacket!"
            ],
            [
             21.42,
             "😊   INFO: <br>enjoy your day!"
            ],
            [
             10.66,
             "😕   INFO: <br>bring a jacket!"
            ],
            [
             12.46,
             "😕   INFO: <br>bring a jacket!"
            ],
            [
             12.88,
             "😕   INFO: <br>bring a jacket!"
            ],
            [
             14.1,
             "😕   INFO: <br>bring a jacket!"
            ],
            [
             15.77,
             "😕   INFO: <br>bring a jacket!"
            ],
            [
             11.78,
             "😕   INFO: <br>bring a jacket!"
            ],
            [
             15.87,
             "😕   INFO: <br>bring a jacket!"
            ],
            [
             17.21,
             "😕   INFO: <br>bring a jacket!"
            ],
            [
             14.74,
             "😕   INFO: <br>bring a jacket!"
            ],
            [
             9.92,
             "🥶   CAUTION: <br>it's cold outside!"
            ],
            [
             14.38,
             "😕   INFO: <br>bring a jacket!"
            ],
            [
             17.33,
             "😕   INFO: <br>bring a jacket!"
            ],
            [
             17.02,
             "😕   INFO: <br>bring a jacket!"
            ]
           ],
           "hovertemplate": "<b>%{text} </b><br>Temperature: %{customdata[0]} °C<br><extra><i>%{customdata[1]}</i></extra>",
           "ids": [
            "Bregenz",
            "Wien",
            "London",
            "Florenz",
            "Aachen",
            "Bonn",
            "Dresden",
            "Frankfurt am Main",
            "Kiel",
            "Leipzig",
            "Lübeck",
            "Mannheim",
            "München",
            "Münster",
            "Ravensburg",
            "Rostock",
            "Stuttgart"
           ],
           "lat": [
            47.5025779,
            48.2083537,
            51.5073219,
            43.7698712,
            50.776351,
            50.735851,
            51.0493286,
            50.1106444,
            54.3227085,
            51.3406321,
            53.866444,
            49.4892913,
            48.1371079,
            51.9625101,
            47.7811014,
            54.0924445,
            48.7784485
           ],
           "legendgroup": "",
           "lon": [
            9.7472924,
            16.3725042,
            -0.1276474,
            11.2555757,
            6.083862,
            7.10066,
            13.7381437,
            8.6820917,
            10.135555,
            12.3747329,
            10.684738,
            8.4673098,
            11.5753822,
            7.6251879,
            9.612468,
            12.1286127,
            9.1800132
           ],
           "marker": {
            "color": [
             14.97,
             18.43,
             16.19,
             21.42,
             10.66,
             12.46,
             12.88,
             14.1,
             15.77,
             11.78,
             15.87,
             17.21,
             14.74,
             9.92,
             14.38,
             17.33,
             17.02
            ],
            "coloraxis": "coloraxis"
           },
           "mode": "markers+text",
           "name": "",
           "showlegend": false,
           "subplot": "mapbox",
           "text": [
            "Bregenz",
            "Wien",
            "London",
            "Florenz",
            "Aachen",
            "Bonn",
            "Dresden",
            "Frankfurt am Main",
            "Kiel",
            "Leipzig",
            "Lübeck",
            "Mannheim",
            "München",
            "Münster",
            "Ravensburg",
            "Rostock",
            "Stuttgart"
           ],
           "type": "scattermapbox"
          }
         ],
         "name": "2022-08-29 03:00:00"
        },
        {
         "data": [
          {
           "customdata": [
            [
             16.21,
             "😕   INFO: <br>bring a jacket!"
            ],
            [
             20.08,
             "😊   INFO: <br>enjoy your day!"
            ],
            [
             15.62,
             "😕   INFO: <br>bring a jacket!"
            ],
            [
             22.29,
             "😊   INFO: <br>enjoy your day!"
            ],
            [
             12.21,
             "😕   INFO: <br>bring a jacket!"
            ],
            [
             13.44,
             "😕   INFO: <br>bring a jacket!"
            ],
            [
             14.33,
             "😕   INFO: <br>bring a jacket!"
            ],
            [
             14.62,
             "😕   INFO: <br>bring a jacket!"
            ],
            [
             14.91,
             "😕   INFO: <br>bring a jacket!"
            ],
            [
             13.73,
             "😕   INFO: <br>bring a jacket!"
            ],
            [
             15.54,
             "😕   INFO: <br>bring a jacket!"
            ],
            [
             17.06,
             "😕   INFO: <br>bring a jacket!"
            ],
            [
             16.75,
             "😕   INFO: <br>bring a jacket!"
            ],
            [
             11.89,
             "😕   INFO: <br>bring a jacket!"
            ],
            [
             15.93,
             "😕   INFO: <br>bring a jacket!"
            ],
            [
             16.42,
             "😕   INFO: <br>bring a jacket!"
            ],
            [
             18.06,
             "😕   INFO: <br>bring a jacket!"
            ]
           ],
           "hovertemplate": "<b>%{text} </b><br>Temperature: %{customdata[0]} °C<br><extra><i>%{customdata[1]}</i></extra>",
           "ids": [
            "Bregenz",
            "Wien",
            "London",
            "Florenz",
            "Aachen",
            "Bonn",
            "Dresden",
            "Frankfurt am Main",
            "Kiel",
            "Leipzig",
            "Lübeck",
            "Mannheim",
            "München",
            "Münster",
            "Ravensburg",
            "Rostock",
            "Stuttgart"
           ],
           "lat": [
            47.5025779,
            48.2083537,
            51.5073219,
            43.7698712,
            50.776351,
            50.735851,
            51.0493286,
            50.1106444,
            54.3227085,
            51.3406321,
            53.866444,
            49.4892913,
            48.1371079,
            51.9625101,
            47.7811014,
            54.0924445,
            48.7784485
           ],
           "legendgroup": "",
           "lon": [
            9.7472924,
            16.3725042,
            -0.1276474,
            11.2555757,
            6.083862,
            7.10066,
            13.7381437,
            8.6820917,
            10.135555,
            12.3747329,
            10.684738,
            8.4673098,
            11.5753822,
            7.6251879,
            9.612468,
            12.1286127,
            9.1800132
           ],
           "marker": {
            "color": [
             16.21,
             20.08,
             15.62,
             22.29,
             12.21,
             13.44,
             14.33,
             14.62,
             14.91,
             13.73,
             15.54,
             17.06,
             16.75,
             11.89,
             15.93,
             16.42,
             18.06
            ],
            "coloraxis": "coloraxis"
           },
           "mode": "markers+text",
           "name": "",
           "showlegend": false,
           "subplot": "mapbox",
           "text": [
            "Bregenz",
            "Wien",
            "London",
            "Florenz",
            "Aachen",
            "Bonn",
            "Dresden",
            "Frankfurt am Main",
            "Kiel",
            "Leipzig",
            "Lübeck",
            "Mannheim",
            "München",
            "Münster",
            "Ravensburg",
            "Rostock",
            "Stuttgart"
           ],
           "type": "scattermapbox"
          }
         ],
         "name": "2022-08-29 06:00:00"
        },
        {
         "data": [
          {
           "customdata": [
            [
             23.33,
             "😊   INFO: <br>enjoy your day!"
            ],
            [
             23.7,
             "😊   INFO: <br>enjoy your day!"
            ],
            [
             19.41,
             "😕   INFO: <br>bring a jacket!"
            ],
            [
             28.25,
             "😰   CAUTION: <br>warm temperatures!"
            ],
            [
             19.47,
             "😕   INFO: <br>bring a jacket!"
            ],
            [
             20.25,
             "😊   INFO: <br>enjoy your day!"
            ],
            [
             18.84,
             "😕   INFO: <br>bring a jacket!"
            ],
            [
             21.3,
             "😊   INFO: <br>enjoy your day!"
            ],
            [
             19.1,
             "😕   INFO: <br>bring a jacket!"
            ],
            [
             18.43,
             "😕   INFO: <br>bring a jacket!"
            ],
            [
             19.41,
             "😕   INFO: <br>bring a jacket!"
            ],
            [
             23.33,
             "😊   INFO: <br>enjoy your day!"
            ],
            [
             23,
             "😊   INFO: <br>enjoy your day!"
            ],
            [
             18.03,
             "😕   INFO: <br>bring a jacket!"
            ],
            [
             22.83,
             "😊   INFO: <br>enjoy your day!"
            ],
            [
             17.7,
             "😕   INFO: <br>bring a jacket!"
            ],
            [
             24.51,
             "😊   INFO: <br>enjoy your day!"
            ]
           ],
           "hovertemplate": "<b>%{text} </b><br>Temperature: %{customdata[0]} °C<br><extra><i>%{customdata[1]}</i></extra>",
           "ids": [
            "Bregenz",
            "Wien",
            "London",
            "Florenz",
            "Aachen",
            "Bonn",
            "Dresden",
            "Frankfurt am Main",
            "Kiel",
            "Leipzig",
            "Lübeck",
            "Mannheim",
            "München",
            "Münster",
            "Ravensburg",
            "Rostock",
            "Stuttgart"
           ],
           "lat": [
            47.5025779,
            48.2083537,
            51.5073219,
            43.7698712,
            50.776351,
            50.735851,
            51.0493286,
            50.1106444,
            54.3227085,
            51.3406321,
            53.866444,
            49.4892913,
            48.1371079,
            51.9625101,
            47.7811014,
            54.0924445,
            48.7784485
           ],
           "legendgroup": "",
           "lon": [
            9.7472924,
            16.3725042,
            -0.1276474,
            11.2555757,
            6.083862,
            7.10066,
            13.7381437,
            8.6820917,
            10.135555,
            12.3747329,
            10.684738,
            8.4673098,
            11.5753822,
            7.6251879,
            9.612468,
            12.1286127,
            9.1800132
           ],
           "marker": {
            "color": [
             23.33,
             23.7,
             19.41,
             28.25,
             19.47,
             20.25,
             18.84,
             21.3,
             19.1,
             18.43,
             19.41,
             23.33,
             23,
             18.03,
             22.83,
             17.7,
             24.51
            ],
            "coloraxis": "coloraxis"
           },
           "mode": "markers+text",
           "name": "",
           "showlegend": false,
           "subplot": "mapbox",
           "text": [
            "Bregenz",
            "Wien",
            "London",
            "Florenz",
            "Aachen",
            "Bonn",
            "Dresden",
            "Frankfurt am Main",
            "Kiel",
            "Leipzig",
            "Lübeck",
            "Mannheim",
            "München",
            "Münster",
            "Ravensburg",
            "Rostock",
            "Stuttgart"
           ],
           "type": "scattermapbox"
          }
         ],
         "name": "2022-08-29 09:00:00"
        },
        {
         "data": [
          {
           "customdata": [
            [
             26.02,
             "😰   CAUTION: <br>warm temperatures!"
            ],
            [
             27.32,
             "😰   CAUTION: <br>warm temperatures!"
            ],
            [
             22.79,
             "😊   INFO: <br>enjoy your day!"
            ],
            [
             32.07,
             "🥵   DANGER: <br>it's hot!"
            ],
            [
             23.95,
             "😊   INFO: <br>enjoy your day!"
            ],
            [
             25.15,
             "😰   CAUTION: <br>warm temperatures!"
            ],
            [
             22.04,
             "😊   INFO: <br>enjoy your day!"
            ],
            [
             26.44,
             "😰   CAUTION: <br>warm temperatures!"
            ],
            [
             21.96,
             "😊   INFO: <br>enjoy your day!"
            ],
            [
             22.01,
             "😊   INFO: <br>enjoy your day!"
            ],
            [
             22.63,
             "😊   INFO: <br>enjoy your day!"
            ],
            [
             28.45,
             "😰   CAUTION: <br>warm temperatures!"
            ],
            [
             26.28,
             "😰   CAUTION: <br>warm temperatures!"
            ],
            [
             22.53,
             "😊   INFO: <br>enjoy your day!"
            ],
            [
             26.72,
             "😰   CAUTION: <br>warm temperatures!"
            ],
            [
             19.52,
             "😕   INFO: <br>bring a jacket!"
            ],
            [
             28.53,
             "😰   CAUTION: <br>warm temperatures!"
            ]
           ],
           "hovertemplate": "<b>%{text} </b><br>Temperature: %{customdata[0]} °C<br><extra><i>%{customdata[1]}</i></extra>",
           "ids": [
            "Bregenz",
            "Wien",
            "London",
            "Florenz",
            "Aachen",
            "Bonn",
            "Dresden",
            "Frankfurt am Main",
            "Kiel",
            "Leipzig",
            "Lübeck",
            "Mannheim",
            "München",
            "Münster",
            "Ravensburg",
            "Rostock",
            "Stuttgart"
           ],
           "lat": [
            47.5025779,
            48.2083537,
            51.5073219,
            43.7698712,
            50.776351,
            50.735851,
            51.0493286,
            50.1106444,
            54.3227085,
            51.3406321,
            53.866444,
            49.4892913,
            48.1371079,
            51.9625101,
            47.7811014,
            54.0924445,
            48.7784485
           ],
           "legendgroup": "",
           "lon": [
            9.7472924,
            16.3725042,
            -0.1276474,
            11.2555757,
            6.083862,
            7.10066,
            13.7381437,
            8.6820917,
            10.135555,
            12.3747329,
            10.684738,
            8.4673098,
            11.5753822,
            7.6251879,
            9.612468,
            12.1286127,
            9.1800132
           ],
           "marker": {
            "color": [
             26.02,
             27.32,
             22.79,
             32.07,
             23.95,
             25.15,
             22.04,
             26.44,
             21.96,
             22.01,
             22.63,
             28.45,
             26.28,
             22.53,
             26.72,
             19.52,
             28.53
            ],
            "coloraxis": "coloraxis"
           },
           "mode": "markers+text",
           "name": "",
           "showlegend": false,
           "subplot": "mapbox",
           "text": [
            "Bregenz",
            "Wien",
            "London",
            "Florenz",
            "Aachen",
            "Bonn",
            "Dresden",
            "Frankfurt am Main",
            "Kiel",
            "Leipzig",
            "Lübeck",
            "Mannheim",
            "München",
            "Münster",
            "Ravensburg",
            "Rostock",
            "Stuttgart"
           ],
           "type": "scattermapbox"
          }
         ],
         "name": "2022-08-29 12:00:00"
        },
        {
         "data": [
          {
           "customdata": [
            [
             26.18,
             "😰   CAUTION: <br>warm temperatures!"
            ],
            [
             27.41,
             "😰   CAUTION: <br>warm temperatures!"
            ],
            [
             23.26,
             "😊   INFO: <br>enjoy your day!"
            ],
            [
             32.78,
             "🥵   DANGER: <br>it's hot!"
            ],
            [
             25.02,
             "😰   CAUTION: <br>warm temperatures!"
            ],
            [
             26.09,
             "😰   CAUTION: <br>warm temperatures!"
            ],
            [
             22.71,
             "😊   INFO: <br>enjoy your day!"
            ],
            [
             27.73,
             "😰   CAUTION: <br>warm temperatures!"
            ],
            [
             21.8,
             "😊   INFO: <br>enjoy your day!"
            ],
            [
             23.03,
             "😊   INFO: <br>enjoy your day!"
            ],
            [
             22.52,
             "😊   INFO: <br>enjoy your day!"
            ],
            [
             29.54,
             "😰   CAUTION: <br>warm temperatures!"
            ],
            [
             26.29,
             "😰   CAUTION: <br>warm temperatures!"
            ],
            [
             24.2,
             "😊   INFO: <br>enjoy your day!"
            ],
            [
             25.87,
             "😰   CAUTION: <br>warm temperatures!"
            ],
            [
             19.65,
             "😕   INFO: <br>bring a jacket!"
            ],
            [
             29.01,
             "😰   CAUTION: <br>warm temperatures!"
            ]
           ],
           "hovertemplate": "<b>%{text} </b><br>Temperature: %{customdata[0]} °C<br><extra><i>%{customdata[1]}</i></extra>",
           "ids": [
            "Bregenz",
            "Wien",
            "London",
            "Florenz",
            "Aachen",
            "Bonn",
            "Dresden",
            "Frankfurt am Main",
            "Kiel",
            "Leipzig",
            "Lübeck",
            "Mannheim",
            "München",
            "Münster",
            "Ravensburg",
            "Rostock",
            "Stuttgart"
           ],
           "lat": [
            47.5025779,
            48.2083537,
            51.5073219,
            43.7698712,
            50.776351,
            50.735851,
            51.0493286,
            50.1106444,
            54.3227085,
            51.3406321,
            53.866444,
            49.4892913,
            48.1371079,
            51.9625101,
            47.7811014,
            54.0924445,
            48.7784485
           ],
           "legendgroup": "",
           "lon": [
            9.7472924,
            16.3725042,
            -0.1276474,
            11.2555757,
            6.083862,
            7.10066,
            13.7381437,
            8.6820917,
            10.135555,
            12.3747329,
            10.684738,
            8.4673098,
            11.5753822,
            7.6251879,
            9.612468,
            12.1286127,
            9.1800132
           ],
           "marker": {
            "color": [
             26.18,
             27.41,
             23.26,
             32.78,
             25.02,
             26.09,
             22.71,
             27.73,
             21.8,
             23.03,
             22.52,
             29.54,
             26.29,
             24.2,
             25.87,
             19.65,
             29.01
            ],
            "coloraxis": "coloraxis"
           },
           "mode": "markers+text",
           "name": "",
           "showlegend": false,
           "subplot": "mapbox",
           "text": [
            "Bregenz",
            "Wien",
            "London",
            "Florenz",
            "Aachen",
            "Bonn",
            "Dresden",
            "Frankfurt am Main",
            "Kiel",
            "Leipzig",
            "Lübeck",
            "Mannheim",
            "München",
            "Münster",
            "Ravensburg",
            "Rostock",
            "Stuttgart"
           ],
           "type": "scattermapbox"
          }
         ],
         "name": "2022-08-29 15:00:00"
        },
        {
         "data": [
          {
           "customdata": [
            [
             20.36,
             "😊   INFO: <br>enjoy your day!"
            ],
            [
             23.81,
             "😊   INFO: <br>enjoy your day!"
            ],
            [
             20.35,
             "😊   INFO: <br>enjoy your day!"
            ],
            [
             27.76,
             "😰   CAUTION: <br>warm temperatures!"
            ],
            [
             20.6,
             "😊   INFO: <br>enjoy your day!"
            ],
            [
             22.09,
             "😊   INFO: <br>enjoy your day!"
            ],
            [
             18.3,
             "😕   INFO: <br>bring a jacket!"
            ],
            [
             23.72,
             "😊   INFO: <br>enjoy your day!"
            ],
            [
             17.85,
             "😕   INFO: <br>bring a jacket!"
            ],
            [
             18.05,
             "😕   INFO: <br>bring a jacket!"
            ],
            [
             18.97,
             "😕   INFO: <br>bring a jacket!"
            ],
            [
             25.73,
             "😰   CAUTION: <br>warm temperatures!"
            ],
            [
             19.66,
             "😕   INFO: <br>bring a jacket!"
            ],
            [
             20.19,
             "😊   INFO: <br>enjoy your day!"
            ],
            [
             19.95,
             "😕   INFO: <br>bring a jacket!"
            ],
            [
             17.04,
             "😕   INFO: <br>bring a jacket!"
            ],
            [
             24.2,
             "😊   INFO: <br>enjoy your day!"
            ]
           ],
           "hovertemplate": "<b>%{text} </b><br>Temperature: %{customdata[0]} °C<br><extra><i>%{customdata[1]}</i></extra>",
           "ids": [
            "Bregenz",
            "Wien",
            "London",
            "Florenz",
            "Aachen",
            "Bonn",
            "Dresden",
            "Frankfurt am Main",
            "Kiel",
            "Leipzig",
            "Lübeck",
            "Mannheim",
            "München",
            "Münster",
            "Ravensburg",
            "Rostock",
            "Stuttgart"
           ],
           "lat": [
            47.5025779,
            48.2083537,
            51.5073219,
            43.7698712,
            50.776351,
            50.735851,
            51.0493286,
            50.1106444,
            54.3227085,
            51.3406321,
            53.866444,
            49.4892913,
            48.1371079,
            51.9625101,
            47.7811014,
            54.0924445,
            48.7784485
           ],
           "legendgroup": "",
           "lon": [
            9.7472924,
            16.3725042,
            -0.1276474,
            11.2555757,
            6.083862,
            7.10066,
            13.7381437,
            8.6820917,
            10.135555,
            12.3747329,
            10.684738,
            8.4673098,
            11.5753822,
            7.6251879,
            9.612468,
            12.1286127,
            9.1800132
           ],
           "marker": {
            "color": [
             20.36,
             23.81,
             20.35,
             27.76,
             20.6,
             22.09,
             18.3,
             23.72,
             17.85,
             18.05,
             18.97,
             25.73,
             19.66,
             20.19,
             19.95,
             17.04,
             24.2
            ],
            "coloraxis": "coloraxis"
           },
           "mode": "markers+text",
           "name": "",
           "showlegend": false,
           "subplot": "mapbox",
           "text": [
            "Bregenz",
            "Wien",
            "London",
            "Florenz",
            "Aachen",
            "Bonn",
            "Dresden",
            "Frankfurt am Main",
            "Kiel",
            "Leipzig",
            "Lübeck",
            "Mannheim",
            "München",
            "Münster",
            "Ravensburg",
            "Rostock",
            "Stuttgart"
           ],
           "type": "scattermapbox"
          }
         ],
         "name": "2022-08-29 18:00:00"
        }
       ],
       "layout": {
        "coloraxis": {
         "cmax": 40,
         "cmin": -10,
         "colorbar": {
          "tickformat": ".1f",
          "ticksuffix": " °C",
          "title": {
           "side": "top",
           "text": "Temperature"
          },
          "ypad": 20
         },
         "colorscale": [
          [
           0,
           "#000000"
          ],
          [
           0.0625,
           "#001f4d"
          ],
          [
           0.125,
           "#003786"
          ],
          [
           0.1875,
           "#0e58a8"
          ],
          [
           0.25,
           "#217eb8"
          ],
          [
           0.3125,
           "#30a4ca"
          ],
          [
           0.375,
           "#54c8df"
          ],
          [
           0.4375,
           "#9be4ef"
          ],
          [
           0.5,
           "#e1e9d1"
          ],
          [
           0.5625,
           "#f3d573"
          ],
          [
           0.625,
           "#e7b000"
          ],
          [
           0.6875,
           "#da8200"
          ],
          [
           0.75,
           "#c65400"
          ],
          [
           0.8125,
           "#ac2301"
          ],
          [
           0.875,
           "#820000"
          ],
          [
           0.9375,
           "#4c0000"
          ],
          [
           1,
           "#000000"
          ]
         ]
        },
        "height": 720,
        "legend": {
         "tracegroupgap": 0
        },
        "mapbox": {
         "accesstoken": "pk.eyJ1Ijoib2hpdHNsZW5hIiwiYSI6ImNqdDNicjNheDB0OGUzenBxNWFueXVweHAifQ.SlggtzzOlVJJNK_y6tpKRQ",
         "center": {
          "lat": 50.201822823529106,
          "lon": 9.684498941176479
         },
         "domain": {
          "x": [
           0,
           1
          ],
          "y": [
           0,
           1
          ]
         },
         "zoom": 5
        },
        "margin": {
         "b": 0,
         "l": 20,
         "r": 0,
         "t": 50
        },
        "sliders": [
         {
          "active": 0,
          "currentvalue": {
           "prefix": "Date and time: "
          },
          "len": 0.9,
          "pad": {
           "b": 20,
           "l": 0,
           "r": 0,
           "t": 10
          },
          "steps": [
           {
            "args": [
             [
              "2022-08-24 21:00:00"
             ],
             {
              "frame": {
               "duration": 0,
               "redraw": true
              },
              "fromcurrent": true,
              "mode": "immediate",
              "transition": {
               "duration": 0,
               "easing": "linear"
              }
             }
            ],
            "label": "2022-08-24 21:00:00",
            "method": "animate"
           },
           {
            "args": [
             [
              "2022-08-25 00:00:00"
             ],
             {
              "frame": {
               "duration": 0,
               "redraw": true
              },
              "fromcurrent": true,
              "mode": "immediate",
              "transition": {
               "duration": 0,
               "easing": "linear"
              }
             }
            ],
            "label": "2022-08-25 00:00:00",
            "method": "animate"
           },
           {
            "args": [
             [
              "2022-08-25 03:00:00"
             ],
             {
              "frame": {
               "duration": 0,
               "redraw": true
              },
              "fromcurrent": true,
              "mode": "immediate",
              "transition": {
               "duration": 0,
               "easing": "linear"
              }
             }
            ],
            "label": "2022-08-25 03:00:00",
            "method": "animate"
           },
           {
            "args": [
             [
              "2022-08-25 06:00:00"
             ],
             {
              "frame": {
               "duration": 0,
               "redraw": true
              },
              "fromcurrent": true,
              "mode": "immediate",
              "transition": {
               "duration": 0,
               "easing": "linear"
              }
             }
            ],
            "label": "2022-08-25 06:00:00",
            "method": "animate"
           },
           {
            "args": [
             [
              "2022-08-25 09:00:00"
             ],
             {
              "frame": {
               "duration": 0,
               "redraw": true
              },
              "fromcurrent": true,
              "mode": "immediate",
              "transition": {
               "duration": 0,
               "easing": "linear"
              }
             }
            ],
            "label": "2022-08-25 09:00:00",
            "method": "animate"
           },
           {
            "args": [
             [
              "2022-08-25 12:00:00"
             ],
             {
              "frame": {
               "duration": 0,
               "redraw": true
              },
              "fromcurrent": true,
              "mode": "immediate",
              "transition": {
               "duration": 0,
               "easing": "linear"
              }
             }
            ],
            "label": "2022-08-25 12:00:00",
            "method": "animate"
           },
           {
            "args": [
             [
              "2022-08-25 15:00:00"
             ],
             {
              "frame": {
               "duration": 0,
               "redraw": true
              },
              "fromcurrent": true,
              "mode": "immediate",
              "transition": {
               "duration": 0,
               "easing": "linear"
              }
             }
            ],
            "label": "2022-08-25 15:00:00",
            "method": "animate"
           },
           {
            "args": [
             [
              "2022-08-25 18:00:00"
             ],
             {
              "frame": {
               "duration": 0,
               "redraw": true
              },
              "fromcurrent": true,
              "mode": "immediate",
              "transition": {
               "duration": 0,
               "easing": "linear"
              }
             }
            ],
            "label": "2022-08-25 18:00:00",
            "method": "animate"
           },
           {
            "args": [
             [
              "2022-08-25 21:00:00"
             ],
             {
              "frame": {
               "duration": 0,
               "redraw": true
              },
              "fromcurrent": true,
              "mode": "immediate",
              "transition": {
               "duration": 0,
               "easing": "linear"
              }
             }
            ],
            "label": "2022-08-25 21:00:00",
            "method": "animate"
           },
           {
            "args": [
             [
              "2022-08-26 00:00:00"
             ],
             {
              "frame": {
               "duration": 0,
               "redraw": true
              },
              "fromcurrent": true,
              "mode": "immediate",
              "transition": {
               "duration": 0,
               "easing": "linear"
              }
             }
            ],
            "label": "2022-08-26 00:00:00",
            "method": "animate"
           },
           {
            "args": [
             [
              "2022-08-26 03:00:00"
             ],
             {
              "frame": {
               "duration": 0,
               "redraw": true
              },
              "fromcurrent": true,
              "mode": "immediate",
              "transition": {
               "duration": 0,
               "easing": "linear"
              }
             }
            ],
            "label": "2022-08-26 03:00:00",
            "method": "animate"
           },
           {
            "args": [
             [
              "2022-08-26 06:00:00"
             ],
             {
              "frame": {
               "duration": 0,
               "redraw": true
              },
              "fromcurrent": true,
              "mode": "immediate",
              "transition": {
               "duration": 0,
               "easing": "linear"
              }
             }
            ],
            "label": "2022-08-26 06:00:00",
            "method": "animate"
           },
           {
            "args": [
             [
              "2022-08-26 09:00:00"
             ],
             {
              "frame": {
               "duration": 0,
               "redraw": true
              },
              "fromcurrent": true,
              "mode": "immediate",
              "transition": {
               "duration": 0,
               "easing": "linear"
              }
             }
            ],
            "label": "2022-08-26 09:00:00",
            "method": "animate"
           },
           {
            "args": [
             [
              "2022-08-26 12:00:00"
             ],
             {
              "frame": {
               "duration": 0,
               "redraw": true
              },
              "fromcurrent": true,
              "mode": "immediate",
              "transition": {
               "duration": 0,
               "easing": "linear"
              }
             }
            ],
            "label": "2022-08-26 12:00:00",
            "method": "animate"
           },
           {
            "args": [
             [
              "2022-08-26 15:00:00"
             ],
             {
              "frame": {
               "duration": 0,
               "redraw": true
              },
              "fromcurrent": true,
              "mode": "immediate",
              "transition": {
               "duration": 0,
               "easing": "linear"
              }
             }
            ],
            "label": "2022-08-26 15:00:00",
            "method": "animate"
           },
           {
            "args": [
             [
              "2022-08-26 18:00:00"
             ],
             {
              "frame": {
               "duration": 0,
               "redraw": true
              },
              "fromcurrent": true,
              "mode": "immediate",
              "transition": {
               "duration": 0,
               "easing": "linear"
              }
             }
            ],
            "label": "2022-08-26 18:00:00",
            "method": "animate"
           },
           {
            "args": [
             [
              "2022-08-26 21:00:00"
             ],
             {
              "frame": {
               "duration": 0,
               "redraw": true
              },
              "fromcurrent": true,
              "mode": "immediate",
              "transition": {
               "duration": 0,
               "easing": "linear"
              }
             }
            ],
            "label": "2022-08-26 21:00:00",
            "method": "animate"
           },
           {
            "args": [
             [
              "2022-08-27 00:00:00"
             ],
             {
              "frame": {
               "duration": 0,
               "redraw": true
              },
              "fromcurrent": true,
              "mode": "immediate",
              "transition": {
               "duration": 0,
               "easing": "linear"
              }
             }
            ],
            "label": "2022-08-27 00:00:00",
            "method": "animate"
           },
           {
            "args": [
             [
              "2022-08-27 03:00:00"
             ],
             {
              "frame": {
               "duration": 0,
               "redraw": true
              },
              "fromcurrent": true,
              "mode": "immediate",
              "transition": {
               "duration": 0,
               "easing": "linear"
              }
             }
            ],
            "label": "2022-08-27 03:00:00",
            "method": "animate"
           },
           {
            "args": [
             [
              "2022-08-27 06:00:00"
             ],
             {
              "frame": {
               "duration": 0,
               "redraw": true
              },
              "fromcurrent": true,
              "mode": "immediate",
              "transition": {
               "duration": 0,
               "easing": "linear"
              }
             }
            ],
            "label": "2022-08-27 06:00:00",
            "method": "animate"
           },
           {
            "args": [
             [
              "2022-08-27 09:00:00"
             ],
             {
              "frame": {
               "duration": 0,
               "redraw": true
              },
              "fromcurrent": true,
              "mode": "immediate",
              "transition": {
               "duration": 0,
               "easing": "linear"
              }
             }
            ],
            "label": "2022-08-27 09:00:00",
            "method": "animate"
           },
           {
            "args": [
             [
              "2022-08-27 12:00:00"
             ],
             {
              "frame": {
               "duration": 0,
               "redraw": true
              },
              "fromcurrent": true,
              "mode": "immediate",
              "transition": {
               "duration": 0,
               "easing": "linear"
              }
             }
            ],
            "label": "2022-08-27 12:00:00",
            "method": "animate"
           },
           {
            "args": [
             [
              "2022-08-27 15:00:00"
             ],
             {
              "frame": {
               "duration": 0,
               "redraw": true
              },
              "fromcurrent": true,
              "mode": "immediate",
              "transition": {
               "duration": 0,
               "easing": "linear"
              }
             }
            ],
            "label": "2022-08-27 15:00:00",
            "method": "animate"
           },
           {
            "args": [
             [
              "2022-08-27 18:00:00"
             ],
             {
              "frame": {
               "duration": 0,
               "redraw": true
              },
              "fromcurrent": true,
              "mode": "immediate",
              "transition": {
               "duration": 0,
               "easing": "linear"
              }
             }
            ],
            "label": "2022-08-27 18:00:00",
            "method": "animate"
           },
           {
            "args": [
             [
              "2022-08-27 21:00:00"
             ],
             {
              "frame": {
               "duration": 0,
               "redraw": true
              },
              "fromcurrent": true,
              "mode": "immediate",
              "transition": {
               "duration": 0,
               "easing": "linear"
              }
             }
            ],
            "label": "2022-08-27 21:00:00",
            "method": "animate"
           },
           {
            "args": [
             [
              "2022-08-28 00:00:00"
             ],
             {
              "frame": {
               "duration": 0,
               "redraw": true
              },
              "fromcurrent": true,
              "mode": "immediate",
              "transition": {
               "duration": 0,
               "easing": "linear"
              }
             }
            ],
            "label": "2022-08-28 00:00:00",
            "method": "animate"
           },
           {
            "args": [
             [
              "2022-08-28 03:00:00"
             ],
             {
              "frame": {
               "duration": 0,
               "redraw": true
              },
              "fromcurrent": true,
              "mode": "immediate",
              "transition": {
               "duration": 0,
               "easing": "linear"
              }
             }
            ],
            "label": "2022-08-28 03:00:00",
            "method": "animate"
           },
           {
            "args": [
             [
              "2022-08-28 06:00:00"
             ],
             {
              "frame": {
               "duration": 0,
               "redraw": true
              },
              "fromcurrent": true,
              "mode": "immediate",
              "transition": {
               "duration": 0,
               "easing": "linear"
              }
             }
            ],
            "label": "2022-08-28 06:00:00",
            "method": "animate"
           },
           {
            "args": [
             [
              "2022-08-28 09:00:00"
             ],
             {
              "frame": {
               "duration": 0,
               "redraw": true
              },
              "fromcurrent": true,
              "mode": "immediate",
              "transition": {
               "duration": 0,
               "easing": "linear"
              }
             }
            ],
            "label": "2022-08-28 09:00:00",
            "method": "animate"
           },
           {
            "args": [
             [
              "2022-08-28 12:00:00"
             ],
             {
              "frame": {
               "duration": 0,
               "redraw": true
              },
              "fromcurrent": true,
              "mode": "immediate",
              "transition": {
               "duration": 0,
               "easing": "linear"
              }
             }
            ],
            "label": "2022-08-28 12:00:00",
            "method": "animate"
           },
           {
            "args": [
             [
              "2022-08-28 15:00:00"
             ],
             {
              "frame": {
               "duration": 0,
               "redraw": true
              },
              "fromcurrent": true,
              "mode": "immediate",
              "transition": {
               "duration": 0,
               "easing": "linear"
              }
             }
            ],
            "label": "2022-08-28 15:00:00",
            "method": "animate"
           },
           {
            "args": [
             [
              "2022-08-28 18:00:00"
             ],
             {
              "frame": {
               "duration": 0,
               "redraw": true
              },
              "fromcurrent": true,
              "mode": "immediate",
              "transition": {
               "duration": 0,
               "easing": "linear"
              }
             }
            ],
            "label": "2022-08-28 18:00:00",
            "method": "animate"
           },
           {
            "args": [
             [
              "2022-08-28 21:00:00"
             ],
             {
              "frame": {
               "duration": 0,
               "redraw": true
              },
              "fromcurrent": true,
              "mode": "immediate",
              "transition": {
               "duration": 0,
               "easing": "linear"
              }
             }
            ],
            "label": "2022-08-28 21:00:00",
            "method": "animate"
           },
           {
            "args": [
             [
              "2022-08-29 00:00:00"
             ],
             {
              "frame": {
               "duration": 0,
               "redraw": true
              },
              "fromcurrent": true,
              "mode": "immediate",
              "transition": {
               "duration": 0,
               "easing": "linear"
              }
             }
            ],
            "label": "2022-08-29 00:00:00",
            "method": "animate"
           },
           {
            "args": [
             [
              "2022-08-29 03:00:00"
             ],
             {
              "frame": {
               "duration": 0,
               "redraw": true
              },
              "fromcurrent": true,
              "mode": "immediate",
              "transition": {
               "duration": 0,
               "easing": "linear"
              }
             }
            ],
            "label": "2022-08-29 03:00:00",
            "method": "animate"
           },
           {
            "args": [
             [
              "2022-08-29 06:00:00"
             ],
             {
              "frame": {
               "duration": 0,
               "redraw": true
              },
              "fromcurrent": true,
              "mode": "immediate",
              "transition": {
               "duration": 0,
               "easing": "linear"
              }
             }
            ],
            "label": "2022-08-29 06:00:00",
            "method": "animate"
           },
           {
            "args": [
             [
              "2022-08-29 09:00:00"
             ],
             {
              "frame": {
               "duration": 0,
               "redraw": true
              },
              "fromcurrent": true,
              "mode": "immediate",
              "transition": {
               "duration": 0,
               "easing": "linear"
              }
             }
            ],
            "label": "2022-08-29 09:00:00",
            "method": "animate"
           },
           {
            "args": [
             [
              "2022-08-29 12:00:00"
             ],
             {
              "frame": {
               "duration": 0,
               "redraw": true
              },
              "fromcurrent": true,
              "mode": "immediate",
              "transition": {
               "duration": 0,
               "easing": "linear"
              }
             }
            ],
            "label": "2022-08-29 12:00:00",
            "method": "animate"
           },
           {
            "args": [
             [
              "2022-08-29 15:00:00"
             ],
             {
              "frame": {
               "duration": 0,
               "redraw": true
              },
              "fromcurrent": true,
              "mode": "immediate",
              "transition": {
               "duration": 0,
               "easing": "linear"
              }
             }
            ],
            "label": "2022-08-29 15:00:00",
            "method": "animate"
           },
           {
            "args": [
             [
              "2022-08-29 18:00:00"
             ],
             {
              "frame": {
               "duration": 0,
               "redraw": true
              },
              "fromcurrent": true,
              "mode": "immediate",
              "transition": {
               "duration": 0,
               "easing": "linear"
              }
             }
            ],
            "label": "2022-08-29 18:00:00",
            "method": "animate"
           }
          ],
          "x": 0.1,
          "xanchor": "left",
          "y": 0,
          "yanchor": "top"
         }
        ],
        "template": {
         "data": {
          "bar": [
           {
            "error_x": {
             "color": "#2a3f5f"
            },
            "error_y": {
             "color": "#2a3f5f"
            },
            "marker": {
             "line": {
              "color": "#E5ECF6",
              "width": 0.5
             },
             "pattern": {
              "fillmode": "overlay",
              "size": 10,
              "solidity": 0.2
             }
            },
            "type": "bar"
           }
          ],
          "barpolar": [
           {
            "marker": {
             "line": {
              "color": "#E5ECF6",
              "width": 0.5
             },
             "pattern": {
              "fillmode": "overlay",
              "size": 10,
              "solidity": 0.2
             }
            },
            "type": "barpolar"
           }
          ],
          "carpet": [
           {
            "aaxis": {
             "endlinecolor": "#2a3f5f",
             "gridcolor": "white",
             "linecolor": "white",
             "minorgridcolor": "white",
             "startlinecolor": "#2a3f5f"
            },
            "baxis": {
             "endlinecolor": "#2a3f5f",
             "gridcolor": "white",
             "linecolor": "white",
             "minorgridcolor": "white",
             "startlinecolor": "#2a3f5f"
            },
            "type": "carpet"
           }
          ],
          "choropleth": [
           {
            "colorbar": {
             "outlinewidth": 0,
             "ticks": ""
            },
            "type": "choropleth"
           }
          ],
          "contour": [
           {
            "colorbar": {
             "outlinewidth": 0,
             "ticks": ""
            },
            "colorscale": [
             [
              0,
              "#0d0887"
             ],
             [
              0.1111111111111111,
              "#46039f"
             ],
             [
              0.2222222222222222,
              "#7201a8"
             ],
             [
              0.3333333333333333,
              "#9c179e"
             ],
             [
              0.4444444444444444,
              "#bd3786"
             ],
             [
              0.5555555555555556,
              "#d8576b"
             ],
             [
              0.6666666666666666,
              "#ed7953"
             ],
             [
              0.7777777777777778,
              "#fb9f3a"
             ],
             [
              0.8888888888888888,
              "#fdca26"
             ],
             [
              1,
              "#f0f921"
             ]
            ],
            "type": "contour"
           }
          ],
          "contourcarpet": [
           {
            "colorbar": {
             "outlinewidth": 0,
             "ticks": ""
            },
            "type": "contourcarpet"
           }
          ],
          "heatmap": [
           {
            "colorbar": {
             "outlinewidth": 0,
             "ticks": ""
            },
            "colorscale": [
             [
              0,
              "#0d0887"
             ],
             [
              0.1111111111111111,
              "#46039f"
             ],
             [
              0.2222222222222222,
              "#7201a8"
             ],
             [
              0.3333333333333333,
              "#9c179e"
             ],
             [
              0.4444444444444444,
              "#bd3786"
             ],
             [
              0.5555555555555556,
              "#d8576b"
             ],
             [
              0.6666666666666666,
              "#ed7953"
             ],
             [
              0.7777777777777778,
              "#fb9f3a"
             ],
             [
              0.8888888888888888,
              "#fdca26"
             ],
             [
              1,
              "#f0f921"
             ]
            ],
            "type": "heatmap"
           }
          ],
          "heatmapgl": [
           {
            "colorbar": {
             "outlinewidth": 0,
             "ticks": ""
            },
            "colorscale": [
             [
              0,
              "#0d0887"
             ],
             [
              0.1111111111111111,
              "#46039f"
             ],
             [
              0.2222222222222222,
              "#7201a8"
             ],
             [
              0.3333333333333333,
              "#9c179e"
             ],
             [
              0.4444444444444444,
              "#bd3786"
             ],
             [
              0.5555555555555556,
              "#d8576b"
             ],
             [
              0.6666666666666666,
              "#ed7953"
             ],
             [
              0.7777777777777778,
              "#fb9f3a"
             ],
             [
              0.8888888888888888,
              "#fdca26"
             ],
             [
              1,
              "#f0f921"
             ]
            ],
            "type": "heatmapgl"
           }
          ],
          "histogram": [
           {
            "marker": {
             "pattern": {
              "fillmode": "overlay",
              "size": 10,
              "solidity": 0.2
             }
            },
            "type": "histogram"
           }
          ],
          "histogram2d": [
           {
            "colorbar": {
             "outlinewidth": 0,
             "ticks": ""
            },
            "colorscale": [
             [
              0,
              "#0d0887"
             ],
             [
              0.1111111111111111,
              "#46039f"
             ],
             [
              0.2222222222222222,
              "#7201a8"
             ],
             [
              0.3333333333333333,
              "#9c179e"
             ],
             [
              0.4444444444444444,
              "#bd3786"
             ],
             [
              0.5555555555555556,
              "#d8576b"
             ],
             [
              0.6666666666666666,
              "#ed7953"
             ],
             [
              0.7777777777777778,
              "#fb9f3a"
             ],
             [
              0.8888888888888888,
              "#fdca26"
             ],
             [
              1,
              "#f0f921"
             ]
            ],
            "type": "histogram2d"
           }
          ],
          "histogram2dcontour": [
           {
            "colorbar": {
             "outlinewidth": 0,
             "ticks": ""
            },
            "colorscale": [
             [
              0,
              "#0d0887"
             ],
             [
              0.1111111111111111,
              "#46039f"
             ],
             [
              0.2222222222222222,
              "#7201a8"
             ],
             [
              0.3333333333333333,
              "#9c179e"
             ],
             [
              0.4444444444444444,
              "#bd3786"
             ],
             [
              0.5555555555555556,
              "#d8576b"
             ],
             [
              0.6666666666666666,
              "#ed7953"
             ],
             [
              0.7777777777777778,
              "#fb9f3a"
             ],
             [
              0.8888888888888888,
              "#fdca26"
             ],
             [
              1,
              "#f0f921"
             ]
            ],
            "type": "histogram2dcontour"
           }
          ],
          "mesh3d": [
           {
            "colorbar": {
             "outlinewidth": 0,
             "ticks": ""
            },
            "type": "mesh3d"
           }
          ],
          "parcoords": [
           {
            "line": {
             "colorbar": {
              "outlinewidth": 0,
              "ticks": ""
             }
            },
            "type": "parcoords"
           }
          ],
          "pie": [
           {
            "automargin": true,
            "type": "pie"
           }
          ],
          "scatter": [
           {
            "marker": {
             "colorbar": {
              "outlinewidth": 0,
              "ticks": ""
             }
            },
            "type": "scatter"
           }
          ],
          "scatter3d": [
           {
            "line": {
             "colorbar": {
              "outlinewidth": 0,
              "ticks": ""
             }
            },
            "marker": {
             "colorbar": {
              "outlinewidth": 0,
              "ticks": ""
             }
            },
            "type": "scatter3d"
           }
          ],
          "scattercarpet": [
           {
            "marker": {
             "colorbar": {
              "outlinewidth": 0,
              "ticks": ""
             }
            },
            "type": "scattercarpet"
           }
          ],
          "scattergeo": [
           {
            "marker": {
             "colorbar": {
              "outlinewidth": 0,
              "ticks": ""
             }
            },
            "type": "scattergeo"
           }
          ],
          "scattergl": [
           {
            "marker": {
             "colorbar": {
              "outlinewidth": 0,
              "ticks": ""
             }
            },
            "type": "scattergl"
           }
          ],
          "scattermapbox": [
           {
            "marker": {
             "colorbar": {
              "outlinewidth": 0,
              "ticks": ""
             }
            },
            "type": "scattermapbox"
           }
          ],
          "scatterpolar": [
           {
            "marker": {
             "colorbar": {
              "outlinewidth": 0,
              "ticks": ""
             }
            },
            "type": "scatterpolar"
           }
          ],
          "scatterpolargl": [
           {
            "marker": {
             "colorbar": {
              "outlinewidth": 0,
              "ticks": ""
             }
            },
            "type": "scatterpolargl"
           }
          ],
          "scatterternary": [
           {
            "marker": {
             "colorbar": {
              "outlinewidth": 0,
              "ticks": ""
             }
            },
            "type": "scatterternary"
           }
          ],
          "surface": [
           {
            "colorbar": {
             "outlinewidth": 0,
             "ticks": ""
            },
            "colorscale": [
             [
              0,
              "#0d0887"
             ],
             [
              0.1111111111111111,
              "#46039f"
             ],
             [
              0.2222222222222222,
              "#7201a8"
             ],
             [
              0.3333333333333333,
              "#9c179e"
             ],
             [
              0.4444444444444444,
              "#bd3786"
             ],
             [
              0.5555555555555556,
              "#d8576b"
             ],
             [
              0.6666666666666666,
              "#ed7953"
             ],
             [
              0.7777777777777778,
              "#fb9f3a"
             ],
             [
              0.8888888888888888,
              "#fdca26"
             ],
             [
              1,
              "#f0f921"
             ]
            ],
            "type": "surface"
           }
          ],
          "table": [
           {
            "cells": {
             "fill": {
              "color": "#EBF0F8"
             },
             "line": {
              "color": "white"
             }
            },
            "header": {
             "fill": {
              "color": "#C8D4E3"
             },
             "line": {
              "color": "white"
             }
            },
            "type": "table"
           }
          ]
         },
         "layout": {
          "annotationdefaults": {
           "arrowcolor": "#2a3f5f",
           "arrowhead": 0,
           "arrowwidth": 1
          },
          "autotypenumbers": "strict",
          "coloraxis": {
           "colorbar": {
            "outlinewidth": 0,
            "ticks": ""
           }
          },
          "colorscale": {
           "diverging": [
            [
             0,
             "#8e0152"
            ],
            [
             0.1,
             "#c51b7d"
            ],
            [
             0.2,
             "#de77ae"
            ],
            [
             0.3,
             "#f1b6da"
            ],
            [
             0.4,
             "#fde0ef"
            ],
            [
             0.5,
             "#f7f7f7"
            ],
            [
             0.6,
             "#e6f5d0"
            ],
            [
             0.7,
             "#b8e186"
            ],
            [
             0.8,
             "#7fbc41"
            ],
            [
             0.9,
             "#4d9221"
            ],
            [
             1,
             "#276419"
            ]
           ],
           "sequential": [
            [
             0,
             "#0d0887"
            ],
            [
             0.1111111111111111,
             "#46039f"
            ],
            [
             0.2222222222222222,
             "#7201a8"
            ],
            [
             0.3333333333333333,
             "#9c179e"
            ],
            [
             0.4444444444444444,
             "#bd3786"
            ],
            [
             0.5555555555555556,
             "#d8576b"
            ],
            [
             0.6666666666666666,
             "#ed7953"
            ],
            [
             0.7777777777777778,
             "#fb9f3a"
            ],
            [
             0.8888888888888888,
             "#fdca26"
            ],
            [
             1,
             "#f0f921"
            ]
           ],
           "sequentialminus": [
            [
             0,
             "#0d0887"
            ],
            [
             0.1111111111111111,
             "#46039f"
            ],
            [
             0.2222222222222222,
             "#7201a8"
            ],
            [
             0.3333333333333333,
             "#9c179e"
            ],
            [
             0.4444444444444444,
             "#bd3786"
            ],
            [
             0.5555555555555556,
             "#d8576b"
            ],
            [
             0.6666666666666666,
             "#ed7953"
            ],
            [
             0.7777777777777778,
             "#fb9f3a"
            ],
            [
             0.8888888888888888,
             "#fdca26"
            ],
            [
             1,
             "#f0f921"
            ]
           ]
          },
          "colorway": [
           "#636efa",
           "#EF553B",
           "#00cc96",
           "#ab63fa",
           "#FFA15A",
           "#19d3f3",
           "#FF6692",
           "#B6E880",
           "#FF97FF",
           "#FECB52"
          ],
          "font": {
           "color": "#2a3f5f"
          },
          "geo": {
           "bgcolor": "white",
           "lakecolor": "white",
           "landcolor": "#E5ECF6",
           "showlakes": true,
           "showland": true,
           "subunitcolor": "white"
          },
          "hoverlabel": {
           "align": "left"
          },
          "hovermode": "closest",
          "mapbox": {
           "style": "light"
          },
          "paper_bgcolor": "white",
          "plot_bgcolor": "#E5ECF6",
          "polar": {
           "angularaxis": {
            "gridcolor": "white",
            "linecolor": "white",
            "ticks": ""
           },
           "bgcolor": "#E5ECF6",
           "radialaxis": {
            "gridcolor": "white",
            "linecolor": "white",
            "ticks": ""
           }
          },
          "scene": {
           "xaxis": {
            "backgroundcolor": "#E5ECF6",
            "gridcolor": "white",
            "gridwidth": 2,
            "linecolor": "white",
            "showbackground": true,
            "ticks": "",
            "zerolinecolor": "white"
           },
           "yaxis": {
            "backgroundcolor": "#E5ECF6",
            "gridcolor": "white",
            "gridwidth": 2,
            "linecolor": "white",
            "showbackground": true,
            "ticks": "",
            "zerolinecolor": "white"
           },
           "zaxis": {
            "backgroundcolor": "#E5ECF6",
            "gridcolor": "white",
            "gridwidth": 2,
            "linecolor": "white",
            "showbackground": true,
            "ticks": "",
            "zerolinecolor": "white"
           }
          },
          "shapedefaults": {
           "line": {
            "color": "#2a3f5f"
           }
          },
          "ternary": {
           "aaxis": {
            "gridcolor": "white",
            "linecolor": "white",
            "ticks": ""
           },
           "baxis": {
            "gridcolor": "white",
            "linecolor": "white",
            "ticks": ""
           },
           "bgcolor": "#E5ECF6",
           "caxis": {
            "gridcolor": "white",
            "linecolor": "white",
            "ticks": ""
           }
          },
          "title": {
           "x": 0.05
          },
          "xaxis": {
           "automargin": true,
           "gridcolor": "white",
           "linecolor": "white",
           "ticks": "",
           "title": {
            "standoff": 15
           },
           "zerolinecolor": "white",
           "zerolinewidth": 2
          },
          "yaxis": {
           "automargin": true,
           "gridcolor": "white",
           "linecolor": "white",
           "ticks": "",
           "title": {
            "standoff": 15
           },
           "zerolinecolor": "white",
           "zerolinewidth": 2
          }
         }
        },
        "title": {
         "text": "🌡️  Temperature Info Map"
        },
        "width": 1280
       }
      }
     },
     "metadata": {},
     "output_type": "display_data"
    }
   ],
   "source": [
    "# TASK 5: Infograph\n",
    "infoMap.update_map()\n",
    "# --> Run this cell again to refresh map"
   ]
  },
  {
   "cell_type": "markdown",
   "id": "df2e640f",
   "metadata": {},
   "source": [
    "## Automatic sync Map\n",
    "This map should display the most recent forecast data available. It **automatically syncs** with Kafka to always display the latest forecasts.\n",
    "\n",
    "- Color corresponds to temperature\n",
    "- Hover over cities provides more information\n",
    "- Adjust date and time with the slider at the bottom"
   ]
  },
  {
   "cell_type": "code",
   "execution_count": 5,
   "id": "0e0e68db",
   "metadata": {},
   "outputs": [
    {
     "name": "stdout",
     "output_type": "stream",
     "text": [
      "... Map Synchronisation stopped!\n"
     ]
    }
   ],
   "source": [
    "# TASK 6: Infograph automated\n",
    "infoMap.synced_map()\n",
    "# --> KeyboardInterrupt to stop sync with Kafka"
   ]
  }
 ],
 "metadata": {
  "kernelspec": {
   "display_name": "Python 3.9.12 ('base')",
   "language": "python",
   "name": "python3"
  },
  "language_info": {
   "codemirror_mode": {
    "name": "ipython",
    "version": 3
   },
   "file_extension": ".py",
   "mimetype": "text/x-python",
   "name": "python",
   "nbconvert_exporter": "python",
   "pygments_lexer": "ipython3",
   "version": "3.9.12"
  },
  "vscode": {
   "interpreter": {
    "hash": "af6a7de25dd7bd9a9e288da6c3d15d5d500c51449326063643a18fc796b35585"
   }
  }
 },
 "nbformat": 4,
 "nbformat_minor": 5
}
