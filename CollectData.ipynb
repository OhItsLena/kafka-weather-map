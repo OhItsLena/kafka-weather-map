{
 "cells": [
  {
   "cell_type": "code",
   "execution_count": 1,
   "id": "b52af4a2",
   "metadata": {},
   "outputs": [],
   "source": [
    "#https://ipython.readthedocs.io/en/stable/config/extensions/autoreload.html?highlight=autoreload\n",
    "%load_ext autoreload\n",
    "%autoreload 2\n",
    "\n",
    "import json\n",
    "import time\n",
    "from datetime import datetime\n",
    "import pandas as pd\n",
    "from Kafka import KafkaWriter\n",
    "from OpenWeatherMap import OpenWeatherMap\n",
    "from confluent_kafka import Consumer"
   ]
  },
  {
   "cell_type": "code",
   "execution_count": 2,
   "metadata": {},
   "outputs": [],
   "source": [
    "openWeatherMap = OpenWeatherMap()\n",
    "kafkaForecast = KafkaWriter('weather.forecast')\n",
    "kafkaCleaned = KafkaWriter('weather.cleaned')\n",
    "\n",
    "def format_date(dt: str) -> str:\n",
    "    return datetime.fromtimestamp(float(dt)).strftime('%d.%m.%Y %H:%M')\n",
    "\n",
    "\n",
    "# load 'locations.json' into a json-object and return it\n",
    "def load_locations() -> json:\n",
    "    with open('locations.json', mode='r') as file:\n",
    "        return json.load(file)\n",
    "\n",
    "def get_transformed_forecast(cities: json) -> json:\n",
    "    forecasts = []\n",
    "\n",
    "    for key in cities:\n",
    "        city = cities[key]\n",
    "        forecast = openWeatherMap.get_forecast(city)\n",
    "\n",
    "        value = {\n",
    "            'city': forecast['city']['name'],\n",
    "            'weather': []\n",
    "        }\n",
    "\n",
    "        preds = []\n",
    "        for pred in forecast['list']:\n",
    "            preds.append({\n",
    "                'dt': pred['dt_txt'],\n",
    "                'temp': pred['main']['temp']\n",
    "            })\n",
    "        value['weather'] = preds\n",
    "\n",
    "        forecasts.append(value)\n",
    "    cities = {\n",
    "        'cities': forecasts\n",
    "    }\n",
    "    return json.dumps(cities, indent=4)\n",
    "\n",
    "# for each location, query openWeatherMap for the 5-day forecast and \n",
    "# store the the returned values in Kafka\n",
    "def collect_forecast_data() -> None:\n",
    "    try:\n",
    "        print(\"Starting collection ...\")\n",
    "\n",
    "        cities = load_locations()\n",
    "\n",
    "        while True:\n",
    "            forecasts = get_transformed_forecast(cities)\n",
    "            dt = format_date(datetime.timestamp(datetime.now()))\n",
    "\n",
    "            kafkaForecast.store(dt, forecasts)\n",
    "\n",
    "            print(f\"Weather data collected at {dt}!\")\n",
    "\n",
    "            time.sleep(60)\n",
    "\n",
    "    except KeyboardInterrupt:\n",
    "        print(\"... collection stopped!\")"
   ]
  },
  {
   "cell_type": "code",
   "execution_count": 5,
   "id": "69089f34",
   "metadata": {},
   "outputs": [
    {
     "name": "stdout",
     "output_type": "stream",
     "text": [
      "Starting collection ...\n",
      "Weather data collected at 23.08.2022 17:53!\n",
      "Weather data collected at 23.08.2022 17:54!\n",
      "Weather data collected at 23.08.2022 17:55!\n",
      "Weather data collected at 23.08.2022 17:56!\n",
      "... collection stopped!\n"
     ]
    }
   ],
   "source": [
    "collect_forecast_data()"
   ]
  },
  {
   "cell_type": "code",
   "execution_count": 4,
   "id": "1f5cb564",
   "metadata": {},
   "outputs": [
    {
     "data": {
      "text/plain": [
       "'{\"cities\": [{\"city\": \"Bregenz\", \"weather\": [{\"dt\": \"2022-08-23 18:00:00\", \"temp\": 23.8}, {\"dt\": \"2022-08-23 21:00:00\", \"temp\": 18.85}, {\"dt\": \"2022-08-24 00:00:00\", \"temp\": 14.03}, {\"dt\": \"2022-08-24 03:00:00\", \"temp\": 13.12}, {\"dt\": \"2022-08-24 06:00:00\", \"temp\": 15.35}, {\"dt\": \"2022-08-24 09:00:00\", \"temp\": 21.49}, {\"dt\": \"2022-08-24 12:00:00\", \"temp\": 25.83}, {\"dt\": \"2022-08-24 15:00:00\", \"temp\": 26.66}, {\"dt\": \"2022-08-24 18:00:00\", \"temp\": 20.25}, {\"dt\": \"2022-08-24 21:00:00\", \"temp\": 16.7}, {\"dt\": \"2022-08-25 00:00:00\", \"temp\": 15.64}, {\"dt\": \"2022-08-25 03:00:00\", \"temp\": 14.96}, {\"dt\": \"2022-08-25 06:00:00\", \"temp\": 16.88}, {\"dt\": \"2022-08-25 09:00:00\", \"temp\": 22.46}, {\"dt\": \"2022-08-25 12:00:00\", \"temp\": 25.07}, {\"dt\": \"2022-08-25 15:00:00\", \"temp\": 25.66}, {\"dt\": \"2022-08-25 18:00:00\", \"temp\": 20.62}, {\"dt\": \"2022-08-25 21:00:00\", \"temp\": 17.75}, {\"dt\": \"2022-08-26 00:00:00\", \"temp\": 16.94}, {\"dt\": \"2022-08-26 03:00:00\", \"temp\": 16.17}, {\"dt\": \"2022-08-26 06:00:00\", \"temp\": 18.43}, {\"dt\": \"2022-08-26 09:00:00\", \"temp\": 24.29}, {\"dt\": \"2022-08-26 12:00:00\", \"temp\": 25.47}, {\"dt\": \"2022-08-26 15:00:00\", \"temp\": 26.71}, {\"dt\": \"2022-08-26 18:00:00\", \"temp\": 21.68}, {\"dt\": \"2022-08-26 21:00:00\", \"temp\": 17.97}, {\"dt\": \"2022-08-27 00:00:00\", \"temp\": 18.2}, {\"dt\": \"2022-08-27 03:00:00\", \"temp\": 17.67}, {\"dt\": \"2022-08-27 06:00:00\", \"temp\": 17.71}, {\"dt\": \"2022-08-27 09:00:00\", \"temp\": 18.74}, {\"dt\": \"2022-08-27 12:00:00\", \"temp\": 18.35}, {\"dt\": \"2022-08-27 15:00:00\", \"temp\": 18.41}, {\"dt\": \"2022-08-27 18:00:00\", \"temp\": 17.77}, {\"dt\": \"2022-08-27 21:00:00\", \"temp\": 16.26}, {\"dt\": \"2022-08-28 00:00:00\", \"temp\": 15.05}, {\"dt\": \"2022-08-28 03:00:00\", \"temp\": 14.26}, {\"dt\": \"2022-08-28 06:00:00\", \"temp\": 15.46}, {\"dt\": \"2022-08-28 09:00:00\", \"temp\": 20.72}, {\"dt\": \"2022-08-28 12:00:00\", \"temp\": 23.59}, {\"dt\": \"2022-08-28 15:00:00\", \"temp\": 23.31}]}, {\"city\": \"Ravensburg\", \"weather\": [{\"dt\": \"2022-08-23 18:00:00\", \"temp\": 23.18}, {\"dt\": \"2022-08-23 21:00:00\", \"temp\": 18.53}, {\"dt\": \"2022-08-24 00:00:00\", \"temp\": 12.95}, {\"dt\": \"2022-08-24 03:00:00\", \"temp\": 11.94}, {\"dt\": \"2022-08-24 06:00:00\", \"temp\": 13.96}, {\"dt\": \"2022-08-24 09:00:00\", \"temp\": 21.53}, {\"dt\": \"2022-08-24 12:00:00\", \"temp\": 24.49}, {\"dt\": \"2022-08-24 15:00:00\", \"temp\": 24.73}, {\"dt\": \"2022-08-24 18:00:00\", \"temp\": 19.97}, {\"dt\": \"2022-08-24 21:00:00\", \"temp\": 16.81}, {\"dt\": \"2022-08-25 00:00:00\", \"temp\": 14.81}, {\"dt\": \"2022-08-25 03:00:00\", \"temp\": 13.93}, {\"dt\": \"2022-08-25 06:00:00\", \"temp\": 15.68}, {\"dt\": \"2022-08-25 09:00:00\", \"temp\": 22.49}, {\"dt\": \"2022-08-25 12:00:00\", \"temp\": 26.11}, {\"dt\": \"2022-08-25 15:00:00\", \"temp\": 26.17}, {\"dt\": \"2022-08-25 18:00:00\", \"temp\": 20.12}, {\"dt\": \"2022-08-25 21:00:00\", \"temp\": 17.09}, {\"dt\": \"2022-08-26 00:00:00\", \"temp\": 15.88}, {\"dt\": \"2022-08-26 03:00:00\", \"temp\": 14.9}, {\"dt\": \"2022-08-26 06:00:00\", \"temp\": 17.03}, {\"dt\": \"2022-08-26 09:00:00\", \"temp\": 23.75}, {\"dt\": \"2022-08-26 12:00:00\", \"temp\": 27.11}, {\"dt\": \"2022-08-26 15:00:00\", \"temp\": 27.4}, {\"dt\": \"2022-08-26 18:00:00\", \"temp\": 21.06}, {\"dt\": \"2022-08-26 21:00:00\", \"temp\": 17.68}, {\"dt\": \"2022-08-27 00:00:00\", \"temp\": 16.65}, {\"dt\": \"2022-08-27 03:00:00\", \"temp\": 16.73}, {\"dt\": \"2022-08-27 06:00:00\", \"temp\": 16.75}, {\"dt\": \"2022-08-27 09:00:00\", \"temp\": 17.41}, {\"dt\": \"2022-08-27 12:00:00\", \"temp\": 17.7}, {\"dt\": \"2022-08-27 15:00:00\", \"temp\": 18.04}, {\"dt\": \"2022-08-27 18:00:00\", \"temp\": 16.74}, {\"dt\": \"2022-08-27 21:00:00\", \"temp\": 15.18}, {\"dt\": \"2022-08-28 00:00:00\", \"temp\": 14.28}, {\"dt\": \"2022-08-28 03:00:00\", \"temp\": 13.63}, {\"dt\": \"2022-08-28 06:00:00\", \"temp\": 15.06}, {\"dt\": \"2022-08-28 09:00:00\", \"temp\": 19.77}, {\"dt\": \"2022-08-28 12:00:00\", \"temp\": 22.84}, {\"dt\": \"2022-08-28 15:00:00\", \"temp\": 24.4}]}]}'"
      ]
     },
     "execution_count": 4,
     "metadata": {},
     "output_type": "execute_result"
    }
   ],
   "source": [
    "get_transformed_forecast(load_locations())"
   ]
  }
 ],
 "metadata": {
  "kernelspec": {
   "display_name": "Python 3.9.12 ('base')",
   "language": "python",
   "name": "python3"
  },
  "language_info": {
   "codemirror_mode": {
    "name": "ipython",
    "version": 3
   },
   "file_extension": ".py",
   "mimetype": "text/x-python",
   "name": "python",
   "nbconvert_exporter": "python",
   "pygments_lexer": "ipython3",
   "version": "3.9.12"
  },
  "vscode": {
   "interpreter": {
    "hash": "af6a7de25dd7bd9a9e288da6c3d15d5d500c51449326063643a18fc796b35585"
   }
  }
 },
 "nbformat": 4,
 "nbformat_minor": 5
}
