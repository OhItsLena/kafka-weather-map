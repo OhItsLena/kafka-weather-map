{
 "cells": [
  {
   "cell_type": "code",
   "execution_count": 1,
   "id": "b52af4a2",
   "metadata": {},
   "outputs": [],
   "source": [
    "#https://ipython.readthedocs.io/en/stable/config/extensions/autoreload.html?highlight=autoreload\n",
    "%load_ext autoreload\n",
    "%autoreload 2\n",
    "\n",
    "import json\n",
    "import time\n",
    "import os\n",
    "from datetime import datetime\n",
    "import pandas as pd\n",
    "\n",
    "from OpenWeatherMap import OpenWeatherMap\n",
    "from Kafka import KafkaConfluentWriter"
   ]
  },
  {
   "cell_type": "code",
   "execution_count": 2,
   "metadata": {},
   "outputs": [],
   "source": [
    "openWeatherMap = OpenWeatherMap()\n",
    "kafkaConfluentWriter = KafkaConfluentWriter('weather.forecast')\n",
    "\n",
    "def format_date(dt: str) -> str:\n",
    "    return datetime.fromtimestamp(float(dt)).strftime('%d.%m.%Y %H:%M')\n",
    "\n",
    "\n",
    "# load 'locations.json' into a json-object and return it\n",
    "def load_locations() -> json:\n",
    "    with open('locations.json', mode='r') as file:\n",
    "        return json.load(file)\n",
    "\n",
    "def get_transformed_forecast(cities: json) -> {}:\n",
    "    forecasts = []\n",
    "\n",
    "    for key in cities:\n",
    "        city = cities[key]\n",
    "        forecast = openWeatherMap.get_forecast(city)\n",
    "\n",
    "        value = {\n",
    "            'city': forecast['city']['name'],\n",
    "            'weather': []\n",
    "        }\n",
    "\n",
    "        preds = []\n",
    "        for pred in forecast['list']:\n",
    "            preds.append({\n",
    "                'dt': pred['dt_txt'],\n",
    "                'temp': pred['main']['temp']\n",
    "            })\n",
    "        value['weather'] = preds\n",
    "\n",
    "        forecasts.append(value)\n",
    "    cities = {\n",
    "        'cities': forecasts\n",
    "    }\n",
    "    return cities\n",
    "\n",
    "# for each location, query openWeatherMap for the 5-day forecast and \n",
    "# store the the returned values in Kafka\n",
    "def collect_forecast_data() -> None:\n",
    "    try:\n",
    "        print(\"Starting collection ...\")\n",
    "\n",
    "        cities = load_locations()\n",
    "\n",
    "        while True:\n",
    "            forecasts = get_transformed_forecast(cities)\n",
    "            dt = format_date(datetime.timestamp(datetime.now()))\n",
    "\n",
    "            print(f\"Weather data collected at {dt}!\")\n",
    "\n",
    "            kafkaConfluentWriter.produce(dt, forecasts)\n",
    "\n",
    "            time.sleep(60)\n",
    "\n",
    "    except KeyboardInterrupt:\n",
    "        print(\"... collection stopped!\")"
   ]
  },
  {
   "cell_type": "code",
   "execution_count": 3,
   "id": "69089f34",
   "metadata": {},
   "outputs": [
    {
     "name": "stdout",
     "output_type": "stream",
     "text": [
      "Starting collection ...\n",
      "Weather data collected at 24.08.2022 21:43!\n",
      "Message delivered to weather.forecast [0]\n",
      "Weather data collected at 24.08.2022 21:44!\n",
      "Message delivered to weather.forecast [0]\n",
      "Weather data collected at 24.08.2022 21:45!\n",
      "Message delivered to weather.forecast [0]\n",
      "Weather data collected at 24.08.2022 21:46!\n",
      "Message delivered to weather.forecast [0]\n",
      "Weather data collected at 24.08.2022 21:47!\n",
      "Message delivered to weather.forecast [0]\n",
      "Weather data collected at 24.08.2022 21:48!\n",
      "Message delivered to weather.forecast [0]\n",
      "Weather data collected at 24.08.2022 21:49!\n",
      "Message delivered to weather.forecast [0]\n",
      "Weather data collected at 24.08.2022 21:50!\n",
      "Message delivered to weather.forecast [0]\n",
      "... collection stopped!\n"
     ]
    }
   ],
   "source": [
    "collect_forecast_data()"
   ]
  }
 ],
 "metadata": {
  "kernelspec": {
   "display_name": "Python 3.9.12 ('base')",
   "language": "python",
   "name": "python3"
  },
  "language_info": {
   "codemirror_mode": {
    "name": "ipython",
    "version": 3
   },
   "file_extension": ".py",
   "mimetype": "text/x-python",
   "name": "python",
   "nbconvert_exporter": "python",
   "pygments_lexer": "ipython3",
   "version": "3.9.12"
  },
  "vscode": {
   "interpreter": {
    "hash": "af6a7de25dd7bd9a9e288da6c3d15d5d500c51449326063643a18fc796b35585"
   }
  }
 },
 "nbformat": 4,
 "nbformat_minor": 5
}
