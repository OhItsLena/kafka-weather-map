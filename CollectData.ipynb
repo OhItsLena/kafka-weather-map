{
 "cells": [
  {
   "cell_type": "code",
   "execution_count": 50,
   "id": "b52af4a2",
   "metadata": {},
   "outputs": [],
   "source": [
    "#https://ipython.readthedocs.io/en/stable/config/extensions/autoreload.html?highlight=autoreload\n",
    "%load_ext autoreload\n",
    "%autoreload 2\n",
    "\n",
    "import json\n",
    "from datetime import datetime\n",
    "#from Kafka\n",
    "from OpenWeatherMap import OpenWeatherMap"
   ]
  },
  {
   "cell_type": "code",
   "execution_count": 53,
   "metadata": {},
   "outputs": [
    {
     "name": "stdout",
     "output_type": "stream",
     "text": [
      "{'Bregenz': {'latitude': 47.5025779, 'longitude': 9.7472924}, 'Ravensburg': {'latitude': 47.7811014, 'longitude': 9.612468}}\n",
      "{'coord': {'lon': 9.7473, 'lat': 47.5026}, 'weather': [{'id': 801, 'main': 'Clouds', 'description': 'Ein paar Wolken', 'icon': '02d'}], 'base': 'stations', 'main': {'temp': 25.35, 'feels_like': 25.48, 'temp_min': 24.01, 'temp_max': 26.05, 'pressure': 989, 'humidity': 59}, 'visibility': 10000, 'wind': {'speed': 3.6, 'deg': 280}, 'clouds': {'all': 20}, 'dt': 1661099175, 'sys': {'type': 2, 'id': 2044490, 'country': 'AT', 'sunrise': 1661055893, 'sunset': 1661106234}, 'timezone': 7200, 'id': 2781503, 'name': 'Bregenz', 'cod': 200}\n",
      "{'coord': {'lon': 9.6125, 'lat': 47.7811}, 'weather': [{'id': 801, 'main': 'Clouds', 'description': 'Ein paar Wolken', 'icon': '02d'}], 'base': 'stations', 'main': {'temp': 24.58, 'feels_like': 24.22, 'temp_min': 23.68, 'temp_max': 25.72, 'pressure': 1015, 'humidity': 43}, 'visibility': 10000, 'wind': {'speed': 3.6, 'deg': 100}, 'clouds': {'all': 20}, 'dt': 1661099175, 'sys': {'type': 1, 'id': 1310, 'country': 'DE', 'sunrise': 1661055891, 'sunset': 1661106301}, 'timezone': 7200, 'id': 2849802, 'name': 'Ravensburg', 'cod': 200}\n"
     ]
    }
   ],
   "source": [
    "from gc import collect\n",
    "\n",
    "\n",
    "openWeatherMap = OpenWeatherMap()\n",
    "#kafka = KafkaWriter()\n",
    "\n",
    "\n",
    "def format_date(dt: str) -> str:\n",
    "    return datetime.fromtimestamp(float(dt)).strftime('%d.%m.%Y %H:%M')\n",
    "\n",
    "\n",
    "# load 'locations.json' into a json-object and return it\n",
    "def load_locations() -> json:\n",
    "    with open('locations.json', mode='r') as file:\n",
    "        return json.load(file)\n",
    "\n",
    "\n",
    "# for each location, query openWeatherMap for the 5-day forecast and \n",
    "# store the the returned values in Kafka\n",
    "def collect_forecast_data() -> None:\n",
    "    cities = load_locations()\n",
    "    for key in cities:\n",
    "         city = cities[key]\n",
    "         print(openWeatherMap.get_forecast(city))\n",
    "\n",
    "#enter your code\n",
    "\n",
    "print(load_locations())\n",
    "collect_forecast_data()"
   ]
  }
 ],
 "metadata": {
  "kernelspec": {
   "display_name": "Python 3.9.12 ('base')",
   "language": "python",
   "name": "python3"
  },
  "language_info": {
   "codemirror_mode": {
    "name": "ipython",
    "version": 3
   },
   "file_extension": ".py",
   "mimetype": "text/x-python",
   "name": "python",
   "nbconvert_exporter": "python",
   "pygments_lexer": "ipython3",
   "version": "3.9.12"
  },
  "vscode": {
   "interpreter": {
    "hash": "af6a7de25dd7bd9a9e288da6c3d15d5d500c51449326063643a18fc796b35585"
   }
  }
 },
 "nbformat": 4,
 "nbformat_minor": 5
}
