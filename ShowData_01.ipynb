{
 "cells": [
  {
   "cell_type": "code",
   "execution_count": 17,
   "metadata": {},
   "outputs": [
    {
     "name": "stdout",
     "output_type": "stream",
     "text": [
      "The autoreload extension is already loaded. To reload it, use:\n",
      "  %reload_ext autoreload\n"
     ]
    },
    {
     "data": {
      "text/plain": [
       "True"
      ]
     },
     "execution_count": 17,
     "metadata": {},
     "output_type": "execute_result"
    }
   ],
   "source": [
    "#https://ipython.readthedocs.io/en/stable/config/extensions/autoreload.html?highlight=autoreload\n",
    "%load_ext autoreload\n",
    "%autoreload 2\n",
    "\n",
    "from datetime import datetime\n",
    "import pandas as pd\n",
    "import numpy as np\n",
    "import json\n",
    "import os\n",
    "import plotly.express as px\n",
    "\n",
    "from Kafka import KafkaConfluentReader\n",
    "\n",
    "from dotenv import load_dotenv\n",
    "load_dotenv()"
   ]
  },
  {
   "cell_type": "code",
   "execution_count": 19,
   "metadata": {
    "tags": []
   },
   "outputs": [],
   "source": [
    "class InfoMap:\n",
    "    df_map_data = None\n",
    "    df_locations = None\n",
    "    kafkaConfluentReader = KafkaConfluentReader('weather.cleaned', False)\n",
    "\n",
    "    def __init__(self) -> None:\n",
    "        self.df_locations = self.get_locations_df()\n",
    "        token = os.getenv('MAPBOXKEY')\n",
    "        px.set_mapbox_access_token(token)\n",
    "\n",
    "    def close_kafka(self) -> None:\n",
    "        self.kafkaConfluentReader.close()\n",
    "        \n",
    "    def get_forecasts_df(self) -> pd.DataFrame:\n",
    "        df = pd.DataFrame(columns=['datetime','temp','city'])\n",
    "        messages = self.kafkaConfluentReader.get_all_messages(1.0)\n",
    "        if messages:\n",
    "            maxKey = pd.to_datetime(pd.DataFrame(messages.keys())[0]).max().strftime('%d.%m.%Y %H:%M')\n",
    "            for f in messages[maxKey]['cities']:\n",
    "                    city = f['city']\n",
    "                    for w in f['weather']:\n",
    "                        dt = w['dt']\n",
    "                        temp = w['temp']\n",
    "                        df.loc[len(df), df.columns] = dt, temp, city\n",
    "        return df\n",
    "\n",
    "    def get_locations_df(self) -> pd.DataFrame:\n",
    "        df = pd.read_json('locations.json').T\n",
    "        return df\n",
    "\n",
    "    def get_map_data(self) -> None:\n",
    "        forecasts = self.get_forecasts_df()\n",
    "        df = pd.merge(left=forecasts, right=self.df_locations, left_on='city', right_index=True)\n",
    "        df['temp'] = pd.to_numeric(df['temp'])\n",
    "        #df['datetime'] = pd.to_datetime(df['datetime'])\n",
    "        if not df.empty:\n",
    "            self.df_map_data = df\n",
    "    \n",
    "    def plot_map(self) -> None:\n",
    "        if not self.df_map_data.empty:\n",
    "            fig = px.scatter_mapbox(self.df_map_data, lat=\"latitude\", lon=\"longitude\", text=\"city\", color=\"temp\", width=1280, height=720,\n",
    "                            color_continuous_scale=px.colors.cyclical.IceFire, range_color=(-10, 40), animation_frame='datetime', animation_group='city', custom_data=['temp'])\n",
    "            fig.update_traces(hovertemplate =\n",
    "                                \"<b>%{text} </b><br>\" +\n",
    "                                \"Temperature: %{customdata[0]} °C<br>\" +\n",
    "                                \"Hinweise:\")\n",
    "            fig.update_traces(marker={'size': 20, 'opacity': 0.75})\n",
    "            fig.update_coloraxes(colorbar_title_text=\"Temperature\", colorbar_title_side=\"top\", colorbar_ypad=20,colorbar_tickformat=\".1f\", colorbar_ticksuffix=\" °C\")\n",
    "            fig['layout']['margin']=dict(r=0, t=0, l=0, b=0)\n",
    "            fig['layout']['sliders'][0]['currentvalue']={\"prefix\": \"Date and time: \"}\n",
    "            fig['layout']['sliders'][0]['pad']=dict(r=0, t=10, l=0, b=20)\n",
    "            fig[\"layout\"].pop(\"updatemenus\")\n",
    "            fig.show()\n",
    "        else:\n",
    "            print(\"No information available to plot yet!\")\n",
    "    \n",
    "    def update_map(self) -> None:\n",
    "        self.get_map_data()\n",
    "        self.plot_map()\n",
    "\n",
    "infoMap = InfoMap()"
   ]
  },
  {
   "cell_type": "code",
   "execution_count": 15,
   "id": "1a3478bd",
   "metadata": {},
   "outputs": [
    {
     "data": {
      "application/vnd.plotly.v1+json": {
       "config": {
        "plotlyServerURL": "https://plot.ly"
       },
       "data": [
        {
         "customdata": [
          [
           26.27
          ],
          [
           24.73
          ]
         ],
         "hovertemplate": "<b>%{text} </b><br>Temperature: %{customdata[0]} °C<br>Hinweise:",
         "ids": [
          "Bregenz",
          "Ravensburg"
         ],
         "lat": [
          47.5025779,
          47.7811014
         ],
         "legendgroup": "",
         "lon": [
          9.7472924,
          9.612468
         ],
         "marker": {
          "color": [
           26.27,
           24.73
          ],
          "coloraxis": "coloraxis",
          "opacity": 0.75,
          "size": 20
         },
         "mode": "markers+text",
         "name": "",
         "showlegend": false,
         "subplot": "mapbox",
         "text": [
          "Bregenz",
          "Ravensburg"
         ],
         "type": "scattermapbox"
        }
       ],
       "frames": [
        {
         "data": [
          {
           "customdata": [
            [
             26.27
            ],
            [
             24.73
            ]
           ],
           "hovertemplate": "datetime=2022-08-24 18:00:00<br>city=%{text}<br>latitude=%{lat}<br>longitude=%{lon}<br>temp=%{marker.color}<extra></extra>",
           "ids": [
            "Bregenz",
            "Ravensburg"
           ],
           "lat": [
            47.5025779,
            47.7811014
           ],
           "legendgroup": "",
           "lon": [
            9.7472924,
            9.612468
           ],
           "marker": {
            "color": [
             26.27,
             24.73
            ],
            "coloraxis": "coloraxis"
           },
           "mode": "markers+text",
           "name": "",
           "showlegend": false,
           "subplot": "mapbox",
           "text": [
            "Bregenz",
            "Ravensburg"
           ],
           "type": "scattermapbox"
          }
         ],
         "name": "2022-08-24 18:00:00"
        },
        {
         "data": [
          {
           "customdata": [
            [
             22.97
            ],
            [
             22.11
            ]
           ],
           "hovertemplate": "datetime=2022-08-24 21:00:00<br>city=%{text}<br>latitude=%{lat}<br>longitude=%{lon}<br>temp=%{marker.color}<extra></extra>",
           "ids": [
            "Bregenz",
            "Ravensburg"
           ],
           "lat": [
            47.5025779,
            47.7811014
           ],
           "legendgroup": "",
           "lon": [
            9.7472924,
            9.612468
           ],
           "marker": {
            "color": [
             22.97,
             22.11
            ],
            "coloraxis": "coloraxis"
           },
           "mode": "markers+text",
           "name": "",
           "showlegend": false,
           "subplot": "mapbox",
           "text": [
            "Bregenz",
            "Ravensburg"
           ],
           "type": "scattermapbox"
          }
         ],
         "name": "2022-08-24 21:00:00"
        },
        {
         "data": [
          {
           "customdata": [
            [
             18.97
            ],
            [
             17.98
            ]
           ],
           "hovertemplate": "datetime=2022-08-25 00:00:00<br>city=%{text}<br>latitude=%{lat}<br>longitude=%{lon}<br>temp=%{marker.color}<extra></extra>",
           "ids": [
            "Bregenz",
            "Ravensburg"
           ],
           "lat": [
            47.5025779,
            47.7811014
           ],
           "legendgroup": "",
           "lon": [
            9.7472924,
            9.612468
           ],
           "marker": {
            "color": [
             18.97,
             17.98
            ],
            "coloraxis": "coloraxis"
           },
           "mode": "markers+text",
           "name": "",
           "showlegend": false,
           "subplot": "mapbox",
           "text": [
            "Bregenz",
            "Ravensburg"
           ],
           "type": "scattermapbox"
          }
         ],
         "name": "2022-08-25 00:00:00"
        },
        {
         "data": [
          {
           "customdata": [
            [
             14.26
            ],
            [
             13.4
            ]
           ],
           "hovertemplate": "datetime=2022-08-25 03:00:00<br>city=%{text}<br>latitude=%{lat}<br>longitude=%{lon}<br>temp=%{marker.color}<extra></extra>",
           "ids": [
            "Bregenz",
            "Ravensburg"
           ],
           "lat": [
            47.5025779,
            47.7811014
           ],
           "legendgroup": "",
           "lon": [
            9.7472924,
            9.612468
           ],
           "marker": {
            "color": [
             14.26,
             13.4
            ],
            "coloraxis": "coloraxis"
           },
           "mode": "markers+text",
           "name": "",
           "showlegend": false,
           "subplot": "mapbox",
           "text": [
            "Bregenz",
            "Ravensburg"
           ],
           "type": "scattermapbox"
          }
         ],
         "name": "2022-08-25 03:00:00"
        },
        {
         "data": [
          {
           "customdata": [
            [
             16.4
            ],
            [
             15.11
            ]
           ],
           "hovertemplate": "datetime=2022-08-25 06:00:00<br>city=%{text}<br>latitude=%{lat}<br>longitude=%{lon}<br>temp=%{marker.color}<extra></extra>",
           "ids": [
            "Bregenz",
            "Ravensburg"
           ],
           "lat": [
            47.5025779,
            47.7811014
           ],
           "legendgroup": "",
           "lon": [
            9.7472924,
            9.612468
           ],
           "marker": {
            "color": [
             16.4,
             15.11
            ],
            "coloraxis": "coloraxis"
           },
           "mode": "markers+text",
           "name": "",
           "showlegend": false,
           "subplot": "mapbox",
           "text": [
            "Bregenz",
            "Ravensburg"
           ],
           "type": "scattermapbox"
          }
         ],
         "name": "2022-08-25 06:00:00"
        },
        {
         "data": [
          {
           "customdata": [
            [
             21.98
            ],
            [
             22.24
            ]
           ],
           "hovertemplate": "datetime=2022-08-25 09:00:00<br>city=%{text}<br>latitude=%{lat}<br>longitude=%{lon}<br>temp=%{marker.color}<extra></extra>",
           "ids": [
            "Bregenz",
            "Ravensburg"
           ],
           "lat": [
            47.5025779,
            47.7811014
           ],
           "legendgroup": "",
           "lon": [
            9.7472924,
            9.612468
           ],
           "marker": {
            "color": [
             21.98,
             22.24
            ],
            "coloraxis": "coloraxis"
           },
           "mode": "markers+text",
           "name": "",
           "showlegend": false,
           "subplot": "mapbox",
           "text": [
            "Bregenz",
            "Ravensburg"
           ],
           "type": "scattermapbox"
          }
         ],
         "name": "2022-08-25 09:00:00"
        },
        {
         "data": [
          {
           "customdata": [
            [
             24.96
            ],
            [
             25.91
            ]
           ],
           "hovertemplate": "datetime=2022-08-25 12:00:00<br>city=%{text}<br>latitude=%{lat}<br>longitude=%{lon}<br>temp=%{marker.color}<extra></extra>",
           "ids": [
            "Bregenz",
            "Ravensburg"
           ],
           "lat": [
            47.5025779,
            47.7811014
           ],
           "legendgroup": "",
           "lon": [
            9.7472924,
            9.612468
           ],
           "marker": {
            "color": [
             24.96,
             25.91
            ],
            "coloraxis": "coloraxis"
           },
           "mode": "markers+text",
           "name": "",
           "showlegend": false,
           "subplot": "mapbox",
           "text": [
            "Bregenz",
            "Ravensburg"
           ],
           "type": "scattermapbox"
          }
         ],
         "name": "2022-08-25 12:00:00"
        },
        {
         "data": [
          {
           "customdata": [
            [
             25.36
            ],
            [
             26.06
            ]
           ],
           "hovertemplate": "datetime=2022-08-25 15:00:00<br>city=%{text}<br>latitude=%{lat}<br>longitude=%{lon}<br>temp=%{marker.color}<extra></extra>",
           "ids": [
            "Bregenz",
            "Ravensburg"
           ],
           "lat": [
            47.5025779,
            47.7811014
           ],
           "legendgroup": "",
           "lon": [
            9.7472924,
            9.612468
           ],
           "marker": {
            "color": [
             25.36,
             26.06
            ],
            "coloraxis": "coloraxis"
           },
           "mode": "markers+text",
           "name": "",
           "showlegend": false,
           "subplot": "mapbox",
           "text": [
            "Bregenz",
            "Ravensburg"
           ],
           "type": "scattermapbox"
          }
         ],
         "name": "2022-08-25 15:00:00"
        },
        {
         "data": [
          {
           "customdata": [
            [
             20.42
            ],
            [
             20.11
            ]
           ],
           "hovertemplate": "datetime=2022-08-25 18:00:00<br>city=%{text}<br>latitude=%{lat}<br>longitude=%{lon}<br>temp=%{marker.color}<extra></extra>",
           "ids": [
            "Bregenz",
            "Ravensburg"
           ],
           "lat": [
            47.5025779,
            47.7811014
           ],
           "legendgroup": "",
           "lon": [
            9.7472924,
            9.612468
           ],
           "marker": {
            "color": [
             20.42,
             20.11
            ],
            "coloraxis": "coloraxis"
           },
           "mode": "markers+text",
           "name": "",
           "showlegend": false,
           "subplot": "mapbox",
           "text": [
            "Bregenz",
            "Ravensburg"
           ],
           "type": "scattermapbox"
          }
         ],
         "name": "2022-08-25 18:00:00"
        },
        {
         "data": [
          {
           "customdata": [
            [
             17.71
            ],
            [
             17.32
            ]
           ],
           "hovertemplate": "datetime=2022-08-25 21:00:00<br>city=%{text}<br>latitude=%{lat}<br>longitude=%{lon}<br>temp=%{marker.color}<extra></extra>",
           "ids": [
            "Bregenz",
            "Ravensburg"
           ],
           "lat": [
            47.5025779,
            47.7811014
           ],
           "legendgroup": "",
           "lon": [
            9.7472924,
            9.612468
           ],
           "marker": {
            "color": [
             17.71,
             17.32
            ],
            "coloraxis": "coloraxis"
           },
           "mode": "markers+text",
           "name": "",
           "showlegend": false,
           "subplot": "mapbox",
           "text": [
            "Bregenz",
            "Ravensburg"
           ],
           "type": "scattermapbox"
          }
         ],
         "name": "2022-08-25 21:00:00"
        },
        {
         "data": [
          {
           "customdata": [
            [
             17.13
            ],
            [
             16.02
            ]
           ],
           "hovertemplate": "datetime=2022-08-26 00:00:00<br>city=%{text}<br>latitude=%{lat}<br>longitude=%{lon}<br>temp=%{marker.color}<extra></extra>",
           "ids": [
            "Bregenz",
            "Ravensburg"
           ],
           "lat": [
            47.5025779,
            47.7811014
           ],
           "legendgroup": "",
           "lon": [
            9.7472924,
            9.612468
           ],
           "marker": {
            "color": [
             17.13,
             16.02
            ],
            "coloraxis": "coloraxis"
           },
           "mode": "markers+text",
           "name": "",
           "showlegend": false,
           "subplot": "mapbox",
           "text": [
            "Bregenz",
            "Ravensburg"
           ],
           "type": "scattermapbox"
          }
         ],
         "name": "2022-08-26 00:00:00"
        },
        {
         "data": [
          {
           "customdata": [
            [
             16.27
            ],
            [
             15.08
            ]
           ],
           "hovertemplate": "datetime=2022-08-26 03:00:00<br>city=%{text}<br>latitude=%{lat}<br>longitude=%{lon}<br>temp=%{marker.color}<extra></extra>",
           "ids": [
            "Bregenz",
            "Ravensburg"
           ],
           "lat": [
            47.5025779,
            47.7811014
           ],
           "legendgroup": "",
           "lon": [
            9.7472924,
            9.612468
           ],
           "marker": {
            "color": [
             16.27,
             15.08
            ],
            "coloraxis": "coloraxis"
           },
           "mode": "markers+text",
           "name": "",
           "showlegend": false,
           "subplot": "mapbox",
           "text": [
            "Bregenz",
            "Ravensburg"
           ],
           "type": "scattermapbox"
          }
         ],
         "name": "2022-08-26 03:00:00"
        },
        {
         "data": [
          {
           "customdata": [
            [
             18.24
            ],
            [
             16.94
            ]
           ],
           "hovertemplate": "datetime=2022-08-26 06:00:00<br>city=%{text}<br>latitude=%{lat}<br>longitude=%{lon}<br>temp=%{marker.color}<extra></extra>",
           "ids": [
            "Bregenz",
            "Ravensburg"
           ],
           "lat": [
            47.5025779,
            47.7811014
           ],
           "legendgroup": "",
           "lon": [
            9.7472924,
            9.612468
           ],
           "marker": {
            "color": [
             18.24,
             16.94
            ],
            "coloraxis": "coloraxis"
           },
           "mode": "markers+text",
           "name": "",
           "showlegend": false,
           "subplot": "mapbox",
           "text": [
            "Bregenz",
            "Ravensburg"
           ],
           "type": "scattermapbox"
          }
         ],
         "name": "2022-08-26 06:00:00"
        },
        {
         "data": [
          {
           "customdata": [
            [
             23.93
            ],
            [
             23.46
            ]
           ],
           "hovertemplate": "datetime=2022-08-26 09:00:00<br>city=%{text}<br>latitude=%{lat}<br>longitude=%{lon}<br>temp=%{marker.color}<extra></extra>",
           "ids": [
            "Bregenz",
            "Ravensburg"
           ],
           "lat": [
            47.5025779,
            47.7811014
           ],
           "legendgroup": "",
           "lon": [
            9.7472924,
            9.612468
           ],
           "marker": {
            "color": [
             23.93,
             23.46
            ],
            "coloraxis": "coloraxis"
           },
           "mode": "markers+text",
           "name": "",
           "showlegend": false,
           "subplot": "mapbox",
           "text": [
            "Bregenz",
            "Ravensburg"
           ],
           "type": "scattermapbox"
          }
         ],
         "name": "2022-08-26 09:00:00"
        },
        {
         "data": [
          {
           "customdata": [
            [
             26.15
            ],
            [
             27.19
            ]
           ],
           "hovertemplate": "datetime=2022-08-26 12:00:00<br>city=%{text}<br>latitude=%{lat}<br>longitude=%{lon}<br>temp=%{marker.color}<extra></extra>",
           "ids": [
            "Bregenz",
            "Ravensburg"
           ],
           "lat": [
            47.5025779,
            47.7811014
           ],
           "legendgroup": "",
           "lon": [
            9.7472924,
            9.612468
           ],
           "marker": {
            "color": [
             26.15,
             27.19
            ],
            "coloraxis": "coloraxis"
           },
           "mode": "markers+text",
           "name": "",
           "showlegend": false,
           "subplot": "mapbox",
           "text": [
            "Bregenz",
            "Ravensburg"
           ],
           "type": "scattermapbox"
          }
         ],
         "name": "2022-08-26 12:00:00"
        },
        {
         "data": [
          {
           "customdata": [
            [
             26.78
            ],
            [
             25.73
            ]
           ],
           "hovertemplate": "datetime=2022-08-26 15:00:00<br>city=%{text}<br>latitude=%{lat}<br>longitude=%{lon}<br>temp=%{marker.color}<extra></extra>",
           "ids": [
            "Bregenz",
            "Ravensburg"
           ],
           "lat": [
            47.5025779,
            47.7811014
           ],
           "legendgroup": "",
           "lon": [
            9.7472924,
            9.612468
           ],
           "marker": {
            "color": [
             26.78,
             25.73
            ],
            "coloraxis": "coloraxis"
           },
           "mode": "markers+text",
           "name": "",
           "showlegend": false,
           "subplot": "mapbox",
           "text": [
            "Bregenz",
            "Ravensburg"
           ],
           "type": "scattermapbox"
          }
         ],
         "name": "2022-08-26 15:00:00"
        },
        {
         "data": [
          {
           "customdata": [
            [
             21.64
            ],
            [
             19.37
            ]
           ],
           "hovertemplate": "datetime=2022-08-26 18:00:00<br>city=%{text}<br>latitude=%{lat}<br>longitude=%{lon}<br>temp=%{marker.color}<extra></extra>",
           "ids": [
            "Bregenz",
            "Ravensburg"
           ],
           "lat": [
            47.5025779,
            47.7811014
           ],
           "legendgroup": "",
           "lon": [
            9.7472924,
            9.612468
           ],
           "marker": {
            "color": [
             21.64,
             19.37
            ],
            "coloraxis": "coloraxis"
           },
           "mode": "markers+text",
           "name": "",
           "showlegend": false,
           "subplot": "mapbox",
           "text": [
            "Bregenz",
            "Ravensburg"
           ],
           "type": "scattermapbox"
          }
         ],
         "name": "2022-08-26 18:00:00"
        },
        {
         "data": [
          {
           "customdata": [
            [
             17.29
            ],
            [
             18.1
            ]
           ],
           "hovertemplate": "datetime=2022-08-26 21:00:00<br>city=%{text}<br>latitude=%{lat}<br>longitude=%{lon}<br>temp=%{marker.color}<extra></extra>",
           "ids": [
            "Bregenz",
            "Ravensburg"
           ],
           "lat": [
            47.5025779,
            47.7811014
           ],
           "legendgroup": "",
           "lon": [
            9.7472924,
            9.612468
           ],
           "marker": {
            "color": [
             17.29,
             18.1
            ],
            "coloraxis": "coloraxis"
           },
           "mode": "markers+text",
           "name": "",
           "showlegend": false,
           "subplot": "mapbox",
           "text": [
            "Bregenz",
            "Ravensburg"
           ],
           "type": "scattermapbox"
          }
         ],
         "name": "2022-08-26 21:00:00"
        },
        {
         "data": [
          {
           "customdata": [
            [
             17.34
            ],
            [
             16.17
            ]
           ],
           "hovertemplate": "datetime=2022-08-27 00:00:00<br>city=%{text}<br>latitude=%{lat}<br>longitude=%{lon}<br>temp=%{marker.color}<extra></extra>",
           "ids": [
            "Bregenz",
            "Ravensburg"
           ],
           "lat": [
            47.5025779,
            47.7811014
           ],
           "legendgroup": "",
           "lon": [
            9.7472924,
            9.612468
           ],
           "marker": {
            "color": [
             17.34,
             16.17
            ],
            "coloraxis": "coloraxis"
           },
           "mode": "markers+text",
           "name": "",
           "showlegend": false,
           "subplot": "mapbox",
           "text": [
            "Bregenz",
            "Ravensburg"
           ],
           "type": "scattermapbox"
          }
         ],
         "name": "2022-08-27 00:00:00"
        },
        {
         "data": [
          {
           "customdata": [
            [
             16.87
            ],
            [
             15.45
            ]
           ],
           "hovertemplate": "datetime=2022-08-27 03:00:00<br>city=%{text}<br>latitude=%{lat}<br>longitude=%{lon}<br>temp=%{marker.color}<extra></extra>",
           "ids": [
            "Bregenz",
            "Ravensburg"
           ],
           "lat": [
            47.5025779,
            47.7811014
           ],
           "legendgroup": "",
           "lon": [
            9.7472924,
            9.612468
           ],
           "marker": {
            "color": [
             16.87,
             15.45
            ],
            "coloraxis": "coloraxis"
           },
           "mode": "markers+text",
           "name": "",
           "showlegend": false,
           "subplot": "mapbox",
           "text": [
            "Bregenz",
            "Ravensburg"
           ],
           "type": "scattermapbox"
          }
         ],
         "name": "2022-08-27 03:00:00"
        },
        {
         "data": [
          {
           "customdata": [
            [
             17.95
            ],
            [
             16.87
            ]
           ],
           "hovertemplate": "datetime=2022-08-27 06:00:00<br>city=%{text}<br>latitude=%{lat}<br>longitude=%{lon}<br>temp=%{marker.color}<extra></extra>",
           "ids": [
            "Bregenz",
            "Ravensburg"
           ],
           "lat": [
            47.5025779,
            47.7811014
           ],
           "legendgroup": "",
           "lon": [
            9.7472924,
            9.612468
           ],
           "marker": {
            "color": [
             17.95,
             16.87
            ],
            "coloraxis": "coloraxis"
           },
           "mode": "markers+text",
           "name": "",
           "showlegend": false,
           "subplot": "mapbox",
           "text": [
            "Bregenz",
            "Ravensburg"
           ],
           "type": "scattermapbox"
          }
         ],
         "name": "2022-08-27 06:00:00"
        },
        {
         "data": [
          {
           "customdata": [
            [
             22.71
            ],
            [
             22.59
            ]
           ],
           "hovertemplate": "datetime=2022-08-27 09:00:00<br>city=%{text}<br>latitude=%{lat}<br>longitude=%{lon}<br>temp=%{marker.color}<extra></extra>",
           "ids": [
            "Bregenz",
            "Ravensburg"
           ],
           "lat": [
            47.5025779,
            47.7811014
           ],
           "legendgroup": "",
           "lon": [
            9.7472924,
            9.612468
           ],
           "marker": {
            "color": [
             22.71,
             22.59
            ],
            "coloraxis": "coloraxis"
           },
           "mode": "markers+text",
           "name": "",
           "showlegend": false,
           "subplot": "mapbox",
           "text": [
            "Bregenz",
            "Ravensburg"
           ],
           "type": "scattermapbox"
          }
         ],
         "name": "2022-08-27 09:00:00"
        },
        {
         "data": [
          {
           "customdata": [
            [
             23
            ],
            [
             25.47
            ]
           ],
           "hovertemplate": "datetime=2022-08-27 12:00:00<br>city=%{text}<br>latitude=%{lat}<br>longitude=%{lon}<br>temp=%{marker.color}<extra></extra>",
           "ids": [
            "Bregenz",
            "Ravensburg"
           ],
           "lat": [
            47.5025779,
            47.7811014
           ],
           "legendgroup": "",
           "lon": [
            9.7472924,
            9.612468
           ],
           "marker": {
            "color": [
             23,
             25.47
            ],
            "coloraxis": "coloraxis"
           },
           "mode": "markers+text",
           "name": "",
           "showlegend": false,
           "subplot": "mapbox",
           "text": [
            "Bregenz",
            "Ravensburg"
           ],
           "type": "scattermapbox"
          }
         ],
         "name": "2022-08-27 12:00:00"
        },
        {
         "data": [
          {
           "customdata": [
            [
             22.97
            ],
            [
             23.25
            ]
           ],
           "hovertemplate": "datetime=2022-08-27 15:00:00<br>city=%{text}<br>latitude=%{lat}<br>longitude=%{lon}<br>temp=%{marker.color}<extra></extra>",
           "ids": [
            "Bregenz",
            "Ravensburg"
           ],
           "lat": [
            47.5025779,
            47.7811014
           ],
           "legendgroup": "",
           "lon": [
            9.7472924,
            9.612468
           ],
           "marker": {
            "color": [
             22.97,
             23.25
            ],
            "coloraxis": "coloraxis"
           },
           "mode": "markers+text",
           "name": "",
           "showlegend": false,
           "subplot": "mapbox",
           "text": [
            "Bregenz",
            "Ravensburg"
           ],
           "type": "scattermapbox"
          }
         ],
         "name": "2022-08-27 15:00:00"
        },
        {
         "data": [
          {
           "customdata": [
            [
             19.55
            ],
            [
             18.6
            ]
           ],
           "hovertemplate": "datetime=2022-08-27 18:00:00<br>city=%{text}<br>latitude=%{lat}<br>longitude=%{lon}<br>temp=%{marker.color}<extra></extra>",
           "ids": [
            "Bregenz",
            "Ravensburg"
           ],
           "lat": [
            47.5025779,
            47.7811014
           ],
           "legendgroup": "",
           "lon": [
            9.7472924,
            9.612468
           ],
           "marker": {
            "color": [
             19.55,
             18.6
            ],
            "coloraxis": "coloraxis"
           },
           "mode": "markers+text",
           "name": "",
           "showlegend": false,
           "subplot": "mapbox",
           "text": [
            "Bregenz",
            "Ravensburg"
           ],
           "type": "scattermapbox"
          }
         ],
         "name": "2022-08-27 18:00:00"
        },
        {
         "data": [
          {
           "customdata": [
            [
             17.43
            ],
            [
             16.97
            ]
           ],
           "hovertemplate": "datetime=2022-08-27 21:00:00<br>city=%{text}<br>latitude=%{lat}<br>longitude=%{lon}<br>temp=%{marker.color}<extra></extra>",
           "ids": [
            "Bregenz",
            "Ravensburg"
           ],
           "lat": [
            47.5025779,
            47.7811014
           ],
           "legendgroup": "",
           "lon": [
            9.7472924,
            9.612468
           ],
           "marker": {
            "color": [
             17.43,
             16.97
            ],
            "coloraxis": "coloraxis"
           },
           "mode": "markers+text",
           "name": "",
           "showlegend": false,
           "subplot": "mapbox",
           "text": [
            "Bregenz",
            "Ravensburg"
           ],
           "type": "scattermapbox"
          }
         ],
         "name": "2022-08-27 21:00:00"
        },
        {
         "data": [
          {
           "customdata": [
            [
             16.07
            ],
            [
             15.56
            ]
           ],
           "hovertemplate": "datetime=2022-08-28 00:00:00<br>city=%{text}<br>latitude=%{lat}<br>longitude=%{lon}<br>temp=%{marker.color}<extra></extra>",
           "ids": [
            "Bregenz",
            "Ravensburg"
           ],
           "lat": [
            47.5025779,
            47.7811014
           ],
           "legendgroup": "",
           "lon": [
            9.7472924,
            9.612468
           ],
           "marker": {
            "color": [
             16.07,
             15.56
            ],
            "coloraxis": "coloraxis"
           },
           "mode": "markers+text",
           "name": "",
           "showlegend": false,
           "subplot": "mapbox",
           "text": [
            "Bregenz",
            "Ravensburg"
           ],
           "type": "scattermapbox"
          }
         ],
         "name": "2022-08-28 00:00:00"
        },
        {
         "data": [
          {
           "customdata": [
            [
             15.29
            ],
            [
             14.58
            ]
           ],
           "hovertemplate": "datetime=2022-08-28 03:00:00<br>city=%{text}<br>latitude=%{lat}<br>longitude=%{lon}<br>temp=%{marker.color}<extra></extra>",
           "ids": [
            "Bregenz",
            "Ravensburg"
           ],
           "lat": [
            47.5025779,
            47.7811014
           ],
           "legendgroup": "",
           "lon": [
            9.7472924,
            9.612468
           ],
           "marker": {
            "color": [
             15.29,
             14.58
            ],
            "coloraxis": "coloraxis"
           },
           "mode": "markers+text",
           "name": "",
           "showlegend": false,
           "subplot": "mapbox",
           "text": [
            "Bregenz",
            "Ravensburg"
           ],
           "type": "scattermapbox"
          }
         ],
         "name": "2022-08-28 03:00:00"
        },
        {
         "data": [
          {
           "customdata": [
            [
             16.8
            ],
            [
             15.88
            ]
           ],
           "hovertemplate": "datetime=2022-08-28 06:00:00<br>city=%{text}<br>latitude=%{lat}<br>longitude=%{lon}<br>temp=%{marker.color}<extra></extra>",
           "ids": [
            "Bregenz",
            "Ravensburg"
           ],
           "lat": [
            47.5025779,
            47.7811014
           ],
           "legendgroup": "",
           "lon": [
            9.7472924,
            9.612468
           ],
           "marker": {
            "color": [
             16.8,
             15.88
            ],
            "coloraxis": "coloraxis"
           },
           "mode": "markers+text",
           "name": "",
           "showlegend": false,
           "subplot": "mapbox",
           "text": [
            "Bregenz",
            "Ravensburg"
           ],
           "type": "scattermapbox"
          }
         ],
         "name": "2022-08-28 06:00:00"
        },
        {
         "data": [
          {
           "customdata": [
            [
             22.21
            ],
            [
             22.27
            ]
           ],
           "hovertemplate": "datetime=2022-08-28 09:00:00<br>city=%{text}<br>latitude=%{lat}<br>longitude=%{lon}<br>temp=%{marker.color}<extra></extra>",
           "ids": [
            "Bregenz",
            "Ravensburg"
           ],
           "lat": [
            47.5025779,
            47.7811014
           ],
           "legendgroup": "",
           "lon": [
            9.7472924,
            9.612468
           ],
           "marker": {
            "color": [
             22.21,
             22.27
            ],
            "coloraxis": "coloraxis"
           },
           "mode": "markers+text",
           "name": "",
           "showlegend": false,
           "subplot": "mapbox",
           "text": [
            "Bregenz",
            "Ravensburg"
           ],
           "type": "scattermapbox"
          }
         ],
         "name": "2022-08-28 09:00:00"
        },
        {
         "data": [
          {
           "customdata": [
            [
             25.76
            ],
            [
             25.44
            ]
           ],
           "hovertemplate": "datetime=2022-08-28 12:00:00<br>city=%{text}<br>latitude=%{lat}<br>longitude=%{lon}<br>temp=%{marker.color}<extra></extra>",
           "ids": [
            "Bregenz",
            "Ravensburg"
           ],
           "lat": [
            47.5025779,
            47.7811014
           ],
           "legendgroup": "",
           "lon": [
            9.7472924,
            9.612468
           ],
           "marker": {
            "color": [
             25.76,
             25.44
            ],
            "coloraxis": "coloraxis"
           },
           "mode": "markers+text",
           "name": "",
           "showlegend": false,
           "subplot": "mapbox",
           "text": [
            "Bregenz",
            "Ravensburg"
           ],
           "type": "scattermapbox"
          }
         ],
         "name": "2022-08-28 12:00:00"
        },
        {
         "data": [
          {
           "customdata": [
            [
             26.9
            ],
            [
             25.06
            ]
           ],
           "hovertemplate": "datetime=2022-08-28 15:00:00<br>city=%{text}<br>latitude=%{lat}<br>longitude=%{lon}<br>temp=%{marker.color}<extra></extra>",
           "ids": [
            "Bregenz",
            "Ravensburg"
           ],
           "lat": [
            47.5025779,
            47.7811014
           ],
           "legendgroup": "",
           "lon": [
            9.7472924,
            9.612468
           ],
           "marker": {
            "color": [
             26.9,
             25.06
            ],
            "coloraxis": "coloraxis"
           },
           "mode": "markers+text",
           "name": "",
           "showlegend": false,
           "subplot": "mapbox",
           "text": [
            "Bregenz",
            "Ravensburg"
           ],
           "type": "scattermapbox"
          }
         ],
         "name": "2022-08-28 15:00:00"
        },
        {
         "data": [
          {
           "customdata": [
            [
             20.04
            ],
            [
             19.5
            ]
           ],
           "hovertemplate": "datetime=2022-08-28 18:00:00<br>city=%{text}<br>latitude=%{lat}<br>longitude=%{lon}<br>temp=%{marker.color}<extra></extra>",
           "ids": [
            "Bregenz",
            "Ravensburg"
           ],
           "lat": [
            47.5025779,
            47.7811014
           ],
           "legendgroup": "",
           "lon": [
            9.7472924,
            9.612468
           ],
           "marker": {
            "color": [
             20.04,
             19.5
            ],
            "coloraxis": "coloraxis"
           },
           "mode": "markers+text",
           "name": "",
           "showlegend": false,
           "subplot": "mapbox",
           "text": [
            "Bregenz",
            "Ravensburg"
           ],
           "type": "scattermapbox"
          }
         ],
         "name": "2022-08-28 18:00:00"
        },
        {
         "data": [
          {
           "customdata": [
            [
             17.17
            ],
            [
             16.4
            ]
           ],
           "hovertemplate": "datetime=2022-08-28 21:00:00<br>city=%{text}<br>latitude=%{lat}<br>longitude=%{lon}<br>temp=%{marker.color}<extra></extra>",
           "ids": [
            "Bregenz",
            "Ravensburg"
           ],
           "lat": [
            47.5025779,
            47.7811014
           ],
           "legendgroup": "",
           "lon": [
            9.7472924,
            9.612468
           ],
           "marker": {
            "color": [
             17.17,
             16.4
            ],
            "coloraxis": "coloraxis"
           },
           "mode": "markers+text",
           "name": "",
           "showlegend": false,
           "subplot": "mapbox",
           "text": [
            "Bregenz",
            "Ravensburg"
           ],
           "type": "scattermapbox"
          }
         ],
         "name": "2022-08-28 21:00:00"
        },
        {
         "data": [
          {
           "customdata": [
            [
             16.16
            ],
            [
             14.93
            ]
           ],
           "hovertemplate": "datetime=2022-08-29 00:00:00<br>city=%{text}<br>latitude=%{lat}<br>longitude=%{lon}<br>temp=%{marker.color}<extra></extra>",
           "ids": [
            "Bregenz",
            "Ravensburg"
           ],
           "lat": [
            47.5025779,
            47.7811014
           ],
           "legendgroup": "",
           "lon": [
            9.7472924,
            9.612468
           ],
           "marker": {
            "color": [
             16.16,
             14.93
            ],
            "coloraxis": "coloraxis"
           },
           "mode": "markers+text",
           "name": "",
           "showlegend": false,
           "subplot": "mapbox",
           "text": [
            "Bregenz",
            "Ravensburg"
           ],
           "type": "scattermapbox"
          }
         ],
         "name": "2022-08-29 00:00:00"
        },
        {
         "data": [
          {
           "customdata": [
            [
             15.55
            ],
            [
             13.97
            ]
           ],
           "hovertemplate": "datetime=2022-08-29 03:00:00<br>city=%{text}<br>latitude=%{lat}<br>longitude=%{lon}<br>temp=%{marker.color}<extra></extra>",
           "ids": [
            "Bregenz",
            "Ravensburg"
           ],
           "lat": [
            47.5025779,
            47.7811014
           ],
           "legendgroup": "",
           "lon": [
            9.7472924,
            9.612468
           ],
           "marker": {
            "color": [
             15.55,
             13.97
            ],
            "coloraxis": "coloraxis"
           },
           "mode": "markers+text",
           "name": "",
           "showlegend": false,
           "subplot": "mapbox",
           "text": [
            "Bregenz",
            "Ravensburg"
           ],
           "type": "scattermapbox"
          }
         ],
         "name": "2022-08-29 03:00:00"
        },
        {
         "data": [
          {
           "customdata": [
            [
             17.5
            ],
            [
             15.96
            ]
           ],
           "hovertemplate": "datetime=2022-08-29 06:00:00<br>city=%{text}<br>latitude=%{lat}<br>longitude=%{lon}<br>temp=%{marker.color}<extra></extra>",
           "ids": [
            "Bregenz",
            "Ravensburg"
           ],
           "lat": [
            47.5025779,
            47.7811014
           ],
           "legendgroup": "",
           "lon": [
            9.7472924,
            9.612468
           ],
           "marker": {
            "color": [
             17.5,
             15.96
            ],
            "coloraxis": "coloraxis"
           },
           "mode": "markers+text",
           "name": "",
           "showlegend": false,
           "subplot": "mapbox",
           "text": [
            "Bregenz",
            "Ravensburg"
           ],
           "type": "scattermapbox"
          }
         ],
         "name": "2022-08-29 06:00:00"
        },
        {
         "data": [
          {
           "customdata": [
            [
             23.75
            ],
            [
             22.88
            ]
           ],
           "hovertemplate": "datetime=2022-08-29 09:00:00<br>city=%{text}<br>latitude=%{lat}<br>longitude=%{lon}<br>temp=%{marker.color}<extra></extra>",
           "ids": [
            "Bregenz",
            "Ravensburg"
           ],
           "lat": [
            47.5025779,
            47.7811014
           ],
           "legendgroup": "",
           "lon": [
            9.7472924,
            9.612468
           ],
           "marker": {
            "color": [
             23.75,
             22.88
            ],
            "coloraxis": "coloraxis"
           },
           "mode": "markers+text",
           "name": "",
           "showlegend": false,
           "subplot": "mapbox",
           "text": [
            "Bregenz",
            "Ravensburg"
           ],
           "type": "scattermapbox"
          }
         ],
         "name": "2022-08-29 09:00:00"
        },
        {
         "data": [
          {
           "customdata": [
            [
             26.51
            ],
            [
             26.71
            ]
           ],
           "hovertemplate": "datetime=2022-08-29 12:00:00<br>city=%{text}<br>latitude=%{lat}<br>longitude=%{lon}<br>temp=%{marker.color}<extra></extra>",
           "ids": [
            "Bregenz",
            "Ravensburg"
           ],
           "lat": [
            47.5025779,
            47.7811014
           ],
           "legendgroup": "",
           "lon": [
            9.7472924,
            9.612468
           ],
           "marker": {
            "color": [
             26.51,
             26.71
            ],
            "coloraxis": "coloraxis"
           },
           "mode": "markers+text",
           "name": "",
           "showlegend": false,
           "subplot": "mapbox",
           "text": [
            "Bregenz",
            "Ravensburg"
           ],
           "type": "scattermapbox"
          }
         ],
         "name": "2022-08-29 12:00:00"
        },
        {
         "data": [
          {
           "customdata": [
            [
             26.62
            ],
            [
             26.41
            ]
           ],
           "hovertemplate": "datetime=2022-08-29 15:00:00<br>city=%{text}<br>latitude=%{lat}<br>longitude=%{lon}<br>temp=%{marker.color}<extra></extra>",
           "ids": [
            "Bregenz",
            "Ravensburg"
           ],
           "lat": [
            47.5025779,
            47.7811014
           ],
           "legendgroup": "",
           "lon": [
            9.7472924,
            9.612468
           ],
           "marker": {
            "color": [
             26.62,
             26.41
            ],
            "coloraxis": "coloraxis"
           },
           "mode": "markers+text",
           "name": "",
           "showlegend": false,
           "subplot": "mapbox",
           "text": [
            "Bregenz",
            "Ravensburg"
           ],
           "type": "scattermapbox"
          }
         ],
         "name": "2022-08-29 15:00:00"
        }
       ],
       "layout": {
        "coloraxis": {
         "cmax": 40,
         "cmin": -10,
         "colorbar": {
          "tickformat": ".1f",
          "ticksuffix": " °C",
          "title": {
           "side": "top",
           "text": "Temperature"
          },
          "ypad": 20
         },
         "colorscale": [
          [
           0,
           "#000000"
          ],
          [
           0.0625,
           "#001f4d"
          ],
          [
           0.125,
           "#003786"
          ],
          [
           0.1875,
           "#0e58a8"
          ],
          [
           0.25,
           "#217eb8"
          ],
          [
           0.3125,
           "#30a4ca"
          ],
          [
           0.375,
           "#54c8df"
          ],
          [
           0.4375,
           "#9be4ef"
          ],
          [
           0.5,
           "#e1e9d1"
          ],
          [
           0.5625,
           "#f3d573"
          ],
          [
           0.625,
           "#e7b000"
          ],
          [
           0.6875,
           "#da8200"
          ],
          [
           0.75,
           "#c65400"
          ],
          [
           0.8125,
           "#ac2301"
          ],
          [
           0.875,
           "#820000"
          ],
          [
           0.9375,
           "#4c0000"
          ],
          [
           1,
           "#000000"
          ]
         ]
        },
        "height": 720,
        "legend": {
         "tracegroupgap": 0
        },
        "mapbox": {
         "accesstoken": "pk.eyJ1Ijoib2hpdHNsZW5hIiwiYSI6ImNqdDNicjNheDB0OGUzenBxNWFueXVweHAifQ.SlggtzzOlVJJNK_y6tpKRQ",
         "center": {
          "lat": 47.64183964999995,
          "lon": 9.679880200000005
         },
         "domain": {
          "x": [
           0,
           1
          ],
          "y": [
           0,
           1
          ]
         },
         "zoom": 8
        },
        "margin": {
         "b": 0,
         "l": 0,
         "r": 0,
         "t": 0
        },
        "sliders": [
         {
          "active": 0,
          "currentvalue": {
           "prefix": "Date and time: "
          },
          "len": 0.9,
          "pad": {
           "b": 20,
           "l": 0,
           "r": 0,
           "t": 10
          },
          "steps": [
           {
            "args": [
             [
              "2022-08-24 18:00:00"
             ],
             {
              "frame": {
               "duration": 0,
               "redraw": true
              },
              "fromcurrent": true,
              "mode": "immediate",
              "transition": {
               "duration": 0,
               "easing": "linear"
              }
             }
            ],
            "label": "2022-08-24 18:00:00",
            "method": "animate"
           },
           {
            "args": [
             [
              "2022-08-24 21:00:00"
             ],
             {
              "frame": {
               "duration": 0,
               "redraw": true
              },
              "fromcurrent": true,
              "mode": "immediate",
              "transition": {
               "duration": 0,
               "easing": "linear"
              }
             }
            ],
            "label": "2022-08-24 21:00:00",
            "method": "animate"
           },
           {
            "args": [
             [
              "2022-08-25 00:00:00"
             ],
             {
              "frame": {
               "duration": 0,
               "redraw": true
              },
              "fromcurrent": true,
              "mode": "immediate",
              "transition": {
               "duration": 0,
               "easing": "linear"
              }
             }
            ],
            "label": "2022-08-25 00:00:00",
            "method": "animate"
           },
           {
            "args": [
             [
              "2022-08-25 03:00:00"
             ],
             {
              "frame": {
               "duration": 0,
               "redraw": true
              },
              "fromcurrent": true,
              "mode": "immediate",
              "transition": {
               "duration": 0,
               "easing": "linear"
              }
             }
            ],
            "label": "2022-08-25 03:00:00",
            "method": "animate"
           },
           {
            "args": [
             [
              "2022-08-25 06:00:00"
             ],
             {
              "frame": {
               "duration": 0,
               "redraw": true
              },
              "fromcurrent": true,
              "mode": "immediate",
              "transition": {
               "duration": 0,
               "easing": "linear"
              }
             }
            ],
            "label": "2022-08-25 06:00:00",
            "method": "animate"
           },
           {
            "args": [
             [
              "2022-08-25 09:00:00"
             ],
             {
              "frame": {
               "duration": 0,
               "redraw": true
              },
              "fromcurrent": true,
              "mode": "immediate",
              "transition": {
               "duration": 0,
               "easing": "linear"
              }
             }
            ],
            "label": "2022-08-25 09:00:00",
            "method": "animate"
           },
           {
            "args": [
             [
              "2022-08-25 12:00:00"
             ],
             {
              "frame": {
               "duration": 0,
               "redraw": true
              },
              "fromcurrent": true,
              "mode": "immediate",
              "transition": {
               "duration": 0,
               "easing": "linear"
              }
             }
            ],
            "label": "2022-08-25 12:00:00",
            "method": "animate"
           },
           {
            "args": [
             [
              "2022-08-25 15:00:00"
             ],
             {
              "frame": {
               "duration": 0,
               "redraw": true
              },
              "fromcurrent": true,
              "mode": "immediate",
              "transition": {
               "duration": 0,
               "easing": "linear"
              }
             }
            ],
            "label": "2022-08-25 15:00:00",
            "method": "animate"
           },
           {
            "args": [
             [
              "2022-08-25 18:00:00"
             ],
             {
              "frame": {
               "duration": 0,
               "redraw": true
              },
              "fromcurrent": true,
              "mode": "immediate",
              "transition": {
               "duration": 0,
               "easing": "linear"
              }
             }
            ],
            "label": "2022-08-25 18:00:00",
            "method": "animate"
           },
           {
            "args": [
             [
              "2022-08-25 21:00:00"
             ],
             {
              "frame": {
               "duration": 0,
               "redraw": true
              },
              "fromcurrent": true,
              "mode": "immediate",
              "transition": {
               "duration": 0,
               "easing": "linear"
              }
             }
            ],
            "label": "2022-08-25 21:00:00",
            "method": "animate"
           },
           {
            "args": [
             [
              "2022-08-26 00:00:00"
             ],
             {
              "frame": {
               "duration": 0,
               "redraw": true
              },
              "fromcurrent": true,
              "mode": "immediate",
              "transition": {
               "duration": 0,
               "easing": "linear"
              }
             }
            ],
            "label": "2022-08-26 00:00:00",
            "method": "animate"
           },
           {
            "args": [
             [
              "2022-08-26 03:00:00"
             ],
             {
              "frame": {
               "duration": 0,
               "redraw": true
              },
              "fromcurrent": true,
              "mode": "immediate",
              "transition": {
               "duration": 0,
               "easing": "linear"
              }
             }
            ],
            "label": "2022-08-26 03:00:00",
            "method": "animate"
           },
           {
            "args": [
             [
              "2022-08-26 06:00:00"
             ],
             {
              "frame": {
               "duration": 0,
               "redraw": true
              },
              "fromcurrent": true,
              "mode": "immediate",
              "transition": {
               "duration": 0,
               "easing": "linear"
              }
             }
            ],
            "label": "2022-08-26 06:00:00",
            "method": "animate"
           },
           {
            "args": [
             [
              "2022-08-26 09:00:00"
             ],
             {
              "frame": {
               "duration": 0,
               "redraw": true
              },
              "fromcurrent": true,
              "mode": "immediate",
              "transition": {
               "duration": 0,
               "easing": "linear"
              }
             }
            ],
            "label": "2022-08-26 09:00:00",
            "method": "animate"
           },
           {
            "args": [
             [
              "2022-08-26 12:00:00"
             ],
             {
              "frame": {
               "duration": 0,
               "redraw": true
              },
              "fromcurrent": true,
              "mode": "immediate",
              "transition": {
               "duration": 0,
               "easing": "linear"
              }
             }
            ],
            "label": "2022-08-26 12:00:00",
            "method": "animate"
           },
           {
            "args": [
             [
              "2022-08-26 15:00:00"
             ],
             {
              "frame": {
               "duration": 0,
               "redraw": true
              },
              "fromcurrent": true,
              "mode": "immediate",
              "transition": {
               "duration": 0,
               "easing": "linear"
              }
             }
            ],
            "label": "2022-08-26 15:00:00",
            "method": "animate"
           },
           {
            "args": [
             [
              "2022-08-26 18:00:00"
             ],
             {
              "frame": {
               "duration": 0,
               "redraw": true
              },
              "fromcurrent": true,
              "mode": "immediate",
              "transition": {
               "duration": 0,
               "easing": "linear"
              }
             }
            ],
            "label": "2022-08-26 18:00:00",
            "method": "animate"
           },
           {
            "args": [
             [
              "2022-08-26 21:00:00"
             ],
             {
              "frame": {
               "duration": 0,
               "redraw": true
              },
              "fromcurrent": true,
              "mode": "immediate",
              "transition": {
               "duration": 0,
               "easing": "linear"
              }
             }
            ],
            "label": "2022-08-26 21:00:00",
            "method": "animate"
           },
           {
            "args": [
             [
              "2022-08-27 00:00:00"
             ],
             {
              "frame": {
               "duration": 0,
               "redraw": true
              },
              "fromcurrent": true,
              "mode": "immediate",
              "transition": {
               "duration": 0,
               "easing": "linear"
              }
             }
            ],
            "label": "2022-08-27 00:00:00",
            "method": "animate"
           },
           {
            "args": [
             [
              "2022-08-27 03:00:00"
             ],
             {
              "frame": {
               "duration": 0,
               "redraw": true
              },
              "fromcurrent": true,
              "mode": "immediate",
              "transition": {
               "duration": 0,
               "easing": "linear"
              }
             }
            ],
            "label": "2022-08-27 03:00:00",
            "method": "animate"
           },
           {
            "args": [
             [
              "2022-08-27 06:00:00"
             ],
             {
              "frame": {
               "duration": 0,
               "redraw": true
              },
              "fromcurrent": true,
              "mode": "immediate",
              "transition": {
               "duration": 0,
               "easing": "linear"
              }
             }
            ],
            "label": "2022-08-27 06:00:00",
            "method": "animate"
           },
           {
            "args": [
             [
              "2022-08-27 09:00:00"
             ],
             {
              "frame": {
               "duration": 0,
               "redraw": true
              },
              "fromcurrent": true,
              "mode": "immediate",
              "transition": {
               "duration": 0,
               "easing": "linear"
              }
             }
            ],
            "label": "2022-08-27 09:00:00",
            "method": "animate"
           },
           {
            "args": [
             [
              "2022-08-27 12:00:00"
             ],
             {
              "frame": {
               "duration": 0,
               "redraw": true
              },
              "fromcurrent": true,
              "mode": "immediate",
              "transition": {
               "duration": 0,
               "easing": "linear"
              }
             }
            ],
            "label": "2022-08-27 12:00:00",
            "method": "animate"
           },
           {
            "args": [
             [
              "2022-08-27 15:00:00"
             ],
             {
              "frame": {
               "duration": 0,
               "redraw": true
              },
              "fromcurrent": true,
              "mode": "immediate",
              "transition": {
               "duration": 0,
               "easing": "linear"
              }
             }
            ],
            "label": "2022-08-27 15:00:00",
            "method": "animate"
           },
           {
            "args": [
             [
              "2022-08-27 18:00:00"
             ],
             {
              "frame": {
               "duration": 0,
               "redraw": true
              },
              "fromcurrent": true,
              "mode": "immediate",
              "transition": {
               "duration": 0,
               "easing": "linear"
              }
             }
            ],
            "label": "2022-08-27 18:00:00",
            "method": "animate"
           },
           {
            "args": [
             [
              "2022-08-27 21:00:00"
             ],
             {
              "frame": {
               "duration": 0,
               "redraw": true
              },
              "fromcurrent": true,
              "mode": "immediate",
              "transition": {
               "duration": 0,
               "easing": "linear"
              }
             }
            ],
            "label": "2022-08-27 21:00:00",
            "method": "animate"
           },
           {
            "args": [
             [
              "2022-08-28 00:00:00"
             ],
             {
              "frame": {
               "duration": 0,
               "redraw": true
              },
              "fromcurrent": true,
              "mode": "immediate",
              "transition": {
               "duration": 0,
               "easing": "linear"
              }
             }
            ],
            "label": "2022-08-28 00:00:00",
            "method": "animate"
           },
           {
            "args": [
             [
              "2022-08-28 03:00:00"
             ],
             {
              "frame": {
               "duration": 0,
               "redraw": true
              },
              "fromcurrent": true,
              "mode": "immediate",
              "transition": {
               "duration": 0,
               "easing": "linear"
              }
             }
            ],
            "label": "2022-08-28 03:00:00",
            "method": "animate"
           },
           {
            "args": [
             [
              "2022-08-28 06:00:00"
             ],
             {
              "frame": {
               "duration": 0,
               "redraw": true
              },
              "fromcurrent": true,
              "mode": "immediate",
              "transition": {
               "duration": 0,
               "easing": "linear"
              }
             }
            ],
            "label": "2022-08-28 06:00:00",
            "method": "animate"
           },
           {
            "args": [
             [
              "2022-08-28 09:00:00"
             ],
             {
              "frame": {
               "duration": 0,
               "redraw": true
              },
              "fromcurrent": true,
              "mode": "immediate",
              "transition": {
               "duration": 0,
               "easing": "linear"
              }
             }
            ],
            "label": "2022-08-28 09:00:00",
            "method": "animate"
           },
           {
            "args": [
             [
              "2022-08-28 12:00:00"
             ],
             {
              "frame": {
               "duration": 0,
               "redraw": true
              },
              "fromcurrent": true,
              "mode": "immediate",
              "transition": {
               "duration": 0,
               "easing": "linear"
              }
             }
            ],
            "label": "2022-08-28 12:00:00",
            "method": "animate"
           },
           {
            "args": [
             [
              "2022-08-28 15:00:00"
             ],
             {
              "frame": {
               "duration": 0,
               "redraw": true
              },
              "fromcurrent": true,
              "mode": "immediate",
              "transition": {
               "duration": 0,
               "easing": "linear"
              }
             }
            ],
            "label": "2022-08-28 15:00:00",
            "method": "animate"
           },
           {
            "args": [
             [
              "2022-08-28 18:00:00"
             ],
             {
              "frame": {
               "duration": 0,
               "redraw": true
              },
              "fromcurrent": true,
              "mode": "immediate",
              "transition": {
               "duration": 0,
               "easing": "linear"
              }
             }
            ],
            "label": "2022-08-28 18:00:00",
            "method": "animate"
           },
           {
            "args": [
             [
              "2022-08-28 21:00:00"
             ],
             {
              "frame": {
               "duration": 0,
               "redraw": true
              },
              "fromcurrent": true,
              "mode": "immediate",
              "transition": {
               "duration": 0,
               "easing": "linear"
              }
             }
            ],
            "label": "2022-08-28 21:00:00",
            "method": "animate"
           },
           {
            "args": [
             [
              "2022-08-29 00:00:00"
             ],
             {
              "frame": {
               "duration": 0,
               "redraw": true
              },
              "fromcurrent": true,
              "mode": "immediate",
              "transition": {
               "duration": 0,
               "easing": "linear"
              }
             }
            ],
            "label": "2022-08-29 00:00:00",
            "method": "animate"
           },
           {
            "args": [
             [
              "2022-08-29 03:00:00"
             ],
             {
              "frame": {
               "duration": 0,
               "redraw": true
              },
              "fromcurrent": true,
              "mode": "immediate",
              "transition": {
               "duration": 0,
               "easing": "linear"
              }
             }
            ],
            "label": "2022-08-29 03:00:00",
            "method": "animate"
           },
           {
            "args": [
             [
              "2022-08-29 06:00:00"
             ],
             {
              "frame": {
               "duration": 0,
               "redraw": true
              },
              "fromcurrent": true,
              "mode": "immediate",
              "transition": {
               "duration": 0,
               "easing": "linear"
              }
             }
            ],
            "label": "2022-08-29 06:00:00",
            "method": "animate"
           },
           {
            "args": [
             [
              "2022-08-29 09:00:00"
             ],
             {
              "frame": {
               "duration": 0,
               "redraw": true
              },
              "fromcurrent": true,
              "mode": "immediate",
              "transition": {
               "duration": 0,
               "easing": "linear"
              }
             }
            ],
            "label": "2022-08-29 09:00:00",
            "method": "animate"
           },
           {
            "args": [
             [
              "2022-08-29 12:00:00"
             ],
             {
              "frame": {
               "duration": 0,
               "redraw": true
              },
              "fromcurrent": true,
              "mode": "immediate",
              "transition": {
               "duration": 0,
               "easing": "linear"
              }
             }
            ],
            "label": "2022-08-29 12:00:00",
            "method": "animate"
           },
           {
            "args": [
             [
              "2022-08-29 15:00:00"
             ],
             {
              "frame": {
               "duration": 0,
               "redraw": true
              },
              "fromcurrent": true,
              "mode": "immediate",
              "transition": {
               "duration": 0,
               "easing": "linear"
              }
             }
            ],
            "label": "2022-08-29 15:00:00",
            "method": "animate"
           }
          ],
          "x": 0.1,
          "xanchor": "left",
          "y": 0,
          "yanchor": "top"
         }
        ],
        "template": {
         "data": {
          "bar": [
           {
            "error_x": {
             "color": "#2a3f5f"
            },
            "error_y": {
             "color": "#2a3f5f"
            },
            "marker": {
             "line": {
              "color": "#E5ECF6",
              "width": 0.5
             },
             "pattern": {
              "fillmode": "overlay",
              "size": 10,
              "solidity": 0.2
             }
            },
            "type": "bar"
           }
          ],
          "barpolar": [
           {
            "marker": {
             "line": {
              "color": "#E5ECF6",
              "width": 0.5
             },
             "pattern": {
              "fillmode": "overlay",
              "size": 10,
              "solidity": 0.2
             }
            },
            "type": "barpolar"
           }
          ],
          "carpet": [
           {
            "aaxis": {
             "endlinecolor": "#2a3f5f",
             "gridcolor": "white",
             "linecolor": "white",
             "minorgridcolor": "white",
             "startlinecolor": "#2a3f5f"
            },
            "baxis": {
             "endlinecolor": "#2a3f5f",
             "gridcolor": "white",
             "linecolor": "white",
             "minorgridcolor": "white",
             "startlinecolor": "#2a3f5f"
            },
            "type": "carpet"
           }
          ],
          "choropleth": [
           {
            "colorbar": {
             "outlinewidth": 0,
             "ticks": ""
            },
            "type": "choropleth"
           }
          ],
          "contour": [
           {
            "colorbar": {
             "outlinewidth": 0,
             "ticks": ""
            },
            "colorscale": [
             [
              0,
              "#0d0887"
             ],
             [
              0.1111111111111111,
              "#46039f"
             ],
             [
              0.2222222222222222,
              "#7201a8"
             ],
             [
              0.3333333333333333,
              "#9c179e"
             ],
             [
              0.4444444444444444,
              "#bd3786"
             ],
             [
              0.5555555555555556,
              "#d8576b"
             ],
             [
              0.6666666666666666,
              "#ed7953"
             ],
             [
              0.7777777777777778,
              "#fb9f3a"
             ],
             [
              0.8888888888888888,
              "#fdca26"
             ],
             [
              1,
              "#f0f921"
             ]
            ],
            "type": "contour"
           }
          ],
          "contourcarpet": [
           {
            "colorbar": {
             "outlinewidth": 0,
             "ticks": ""
            },
            "type": "contourcarpet"
           }
          ],
          "heatmap": [
           {
            "colorbar": {
             "outlinewidth": 0,
             "ticks": ""
            },
            "colorscale": [
             [
              0,
              "#0d0887"
             ],
             [
              0.1111111111111111,
              "#46039f"
             ],
             [
              0.2222222222222222,
              "#7201a8"
             ],
             [
              0.3333333333333333,
              "#9c179e"
             ],
             [
              0.4444444444444444,
              "#bd3786"
             ],
             [
              0.5555555555555556,
              "#d8576b"
             ],
             [
              0.6666666666666666,
              "#ed7953"
             ],
             [
              0.7777777777777778,
              "#fb9f3a"
             ],
             [
              0.8888888888888888,
              "#fdca26"
             ],
             [
              1,
              "#f0f921"
             ]
            ],
            "type": "heatmap"
           }
          ],
          "heatmapgl": [
           {
            "colorbar": {
             "outlinewidth": 0,
             "ticks": ""
            },
            "colorscale": [
             [
              0,
              "#0d0887"
             ],
             [
              0.1111111111111111,
              "#46039f"
             ],
             [
              0.2222222222222222,
              "#7201a8"
             ],
             [
              0.3333333333333333,
              "#9c179e"
             ],
             [
              0.4444444444444444,
              "#bd3786"
             ],
             [
              0.5555555555555556,
              "#d8576b"
             ],
             [
              0.6666666666666666,
              "#ed7953"
             ],
             [
              0.7777777777777778,
              "#fb9f3a"
             ],
             [
              0.8888888888888888,
              "#fdca26"
             ],
             [
              1,
              "#f0f921"
             ]
            ],
            "type": "heatmapgl"
           }
          ],
          "histogram": [
           {
            "marker": {
             "pattern": {
              "fillmode": "overlay",
              "size": 10,
              "solidity": 0.2
             }
            },
            "type": "histogram"
           }
          ],
          "histogram2d": [
           {
            "colorbar": {
             "outlinewidth": 0,
             "ticks": ""
            },
            "colorscale": [
             [
              0,
              "#0d0887"
             ],
             [
              0.1111111111111111,
              "#46039f"
             ],
             [
              0.2222222222222222,
              "#7201a8"
             ],
             [
              0.3333333333333333,
              "#9c179e"
             ],
             [
              0.4444444444444444,
              "#bd3786"
             ],
             [
              0.5555555555555556,
              "#d8576b"
             ],
             [
              0.6666666666666666,
              "#ed7953"
             ],
             [
              0.7777777777777778,
              "#fb9f3a"
             ],
             [
              0.8888888888888888,
              "#fdca26"
             ],
             [
              1,
              "#f0f921"
             ]
            ],
            "type": "histogram2d"
           }
          ],
          "histogram2dcontour": [
           {
            "colorbar": {
             "outlinewidth": 0,
             "ticks": ""
            },
            "colorscale": [
             [
              0,
              "#0d0887"
             ],
             [
              0.1111111111111111,
              "#46039f"
             ],
             [
              0.2222222222222222,
              "#7201a8"
             ],
             [
              0.3333333333333333,
              "#9c179e"
             ],
             [
              0.4444444444444444,
              "#bd3786"
             ],
             [
              0.5555555555555556,
              "#d8576b"
             ],
             [
              0.6666666666666666,
              "#ed7953"
             ],
             [
              0.7777777777777778,
              "#fb9f3a"
             ],
             [
              0.8888888888888888,
              "#fdca26"
             ],
             [
              1,
              "#f0f921"
             ]
            ],
            "type": "histogram2dcontour"
           }
          ],
          "mesh3d": [
           {
            "colorbar": {
             "outlinewidth": 0,
             "ticks": ""
            },
            "type": "mesh3d"
           }
          ],
          "parcoords": [
           {
            "line": {
             "colorbar": {
              "outlinewidth": 0,
              "ticks": ""
             }
            },
            "type": "parcoords"
           }
          ],
          "pie": [
           {
            "automargin": true,
            "type": "pie"
           }
          ],
          "scatter": [
           {
            "marker": {
             "colorbar": {
              "outlinewidth": 0,
              "ticks": ""
             }
            },
            "type": "scatter"
           }
          ],
          "scatter3d": [
           {
            "line": {
             "colorbar": {
              "outlinewidth": 0,
              "ticks": ""
             }
            },
            "marker": {
             "colorbar": {
              "outlinewidth": 0,
              "ticks": ""
             }
            },
            "type": "scatter3d"
           }
          ],
          "scattercarpet": [
           {
            "marker": {
             "colorbar": {
              "outlinewidth": 0,
              "ticks": ""
             }
            },
            "type": "scattercarpet"
           }
          ],
          "scattergeo": [
           {
            "marker": {
             "colorbar": {
              "outlinewidth": 0,
              "ticks": ""
             }
            },
            "type": "scattergeo"
           }
          ],
          "scattergl": [
           {
            "marker": {
             "colorbar": {
              "outlinewidth": 0,
              "ticks": ""
             }
            },
            "type": "scattergl"
           }
          ],
          "scattermapbox": [
           {
            "marker": {
             "colorbar": {
              "outlinewidth": 0,
              "ticks": ""
             }
            },
            "type": "scattermapbox"
           }
          ],
          "scatterpolar": [
           {
            "marker": {
             "colorbar": {
              "outlinewidth": 0,
              "ticks": ""
             }
            },
            "type": "scatterpolar"
           }
          ],
          "scatterpolargl": [
           {
            "marker": {
             "colorbar": {
              "outlinewidth": 0,
              "ticks": ""
             }
            },
            "type": "scatterpolargl"
           }
          ],
          "scatterternary": [
           {
            "marker": {
             "colorbar": {
              "outlinewidth": 0,
              "ticks": ""
             }
            },
            "type": "scatterternary"
           }
          ],
          "surface": [
           {
            "colorbar": {
             "outlinewidth": 0,
             "ticks": ""
            },
            "colorscale": [
             [
              0,
              "#0d0887"
             ],
             [
              0.1111111111111111,
              "#46039f"
             ],
             [
              0.2222222222222222,
              "#7201a8"
             ],
             [
              0.3333333333333333,
              "#9c179e"
             ],
             [
              0.4444444444444444,
              "#bd3786"
             ],
             [
              0.5555555555555556,
              "#d8576b"
             ],
             [
              0.6666666666666666,
              "#ed7953"
             ],
             [
              0.7777777777777778,
              "#fb9f3a"
             ],
             [
              0.8888888888888888,
              "#fdca26"
             ],
             [
              1,
              "#f0f921"
             ]
            ],
            "type": "surface"
           }
          ],
          "table": [
           {
            "cells": {
             "fill": {
              "color": "#EBF0F8"
             },
             "line": {
              "color": "white"
             }
            },
            "header": {
             "fill": {
              "color": "#C8D4E3"
             },
             "line": {
              "color": "white"
             }
            },
            "type": "table"
           }
          ]
         },
         "layout": {
          "annotationdefaults": {
           "arrowcolor": "#2a3f5f",
           "arrowhead": 0,
           "arrowwidth": 1
          },
          "autotypenumbers": "strict",
          "coloraxis": {
           "colorbar": {
            "outlinewidth": 0,
            "ticks": ""
           }
          },
          "colorscale": {
           "diverging": [
            [
             0,
             "#8e0152"
            ],
            [
             0.1,
             "#c51b7d"
            ],
            [
             0.2,
             "#de77ae"
            ],
            [
             0.3,
             "#f1b6da"
            ],
            [
             0.4,
             "#fde0ef"
            ],
            [
             0.5,
             "#f7f7f7"
            ],
            [
             0.6,
             "#e6f5d0"
            ],
            [
             0.7,
             "#b8e186"
            ],
            [
             0.8,
             "#7fbc41"
            ],
            [
             0.9,
             "#4d9221"
            ],
            [
             1,
             "#276419"
            ]
           ],
           "sequential": [
            [
             0,
             "#0d0887"
            ],
            [
             0.1111111111111111,
             "#46039f"
            ],
            [
             0.2222222222222222,
             "#7201a8"
            ],
            [
             0.3333333333333333,
             "#9c179e"
            ],
            [
             0.4444444444444444,
             "#bd3786"
            ],
            [
             0.5555555555555556,
             "#d8576b"
            ],
            [
             0.6666666666666666,
             "#ed7953"
            ],
            [
             0.7777777777777778,
             "#fb9f3a"
            ],
            [
             0.8888888888888888,
             "#fdca26"
            ],
            [
             1,
             "#f0f921"
            ]
           ],
           "sequentialminus": [
            [
             0,
             "#0d0887"
            ],
            [
             0.1111111111111111,
             "#46039f"
            ],
            [
             0.2222222222222222,
             "#7201a8"
            ],
            [
             0.3333333333333333,
             "#9c179e"
            ],
            [
             0.4444444444444444,
             "#bd3786"
            ],
            [
             0.5555555555555556,
             "#d8576b"
            ],
            [
             0.6666666666666666,
             "#ed7953"
            ],
            [
             0.7777777777777778,
             "#fb9f3a"
            ],
            [
             0.8888888888888888,
             "#fdca26"
            ],
            [
             1,
             "#f0f921"
            ]
           ]
          },
          "colorway": [
           "#636efa",
           "#EF553B",
           "#00cc96",
           "#ab63fa",
           "#FFA15A",
           "#19d3f3",
           "#FF6692",
           "#B6E880",
           "#FF97FF",
           "#FECB52"
          ],
          "font": {
           "color": "#2a3f5f"
          },
          "geo": {
           "bgcolor": "white",
           "lakecolor": "white",
           "landcolor": "#E5ECF6",
           "showlakes": true,
           "showland": true,
           "subunitcolor": "white"
          },
          "hoverlabel": {
           "align": "left"
          },
          "hovermode": "closest",
          "mapbox": {
           "style": "light"
          },
          "paper_bgcolor": "white",
          "plot_bgcolor": "#E5ECF6",
          "polar": {
           "angularaxis": {
            "gridcolor": "white",
            "linecolor": "white",
            "ticks": ""
           },
           "bgcolor": "#E5ECF6",
           "radialaxis": {
            "gridcolor": "white",
            "linecolor": "white",
            "ticks": ""
           }
          },
          "scene": {
           "xaxis": {
            "backgroundcolor": "#E5ECF6",
            "gridcolor": "white",
            "gridwidth": 2,
            "linecolor": "white",
            "showbackground": true,
            "ticks": "",
            "zerolinecolor": "white"
           },
           "yaxis": {
            "backgroundcolor": "#E5ECF6",
            "gridcolor": "white",
            "gridwidth": 2,
            "linecolor": "white",
            "showbackground": true,
            "ticks": "",
            "zerolinecolor": "white"
           },
           "zaxis": {
            "backgroundcolor": "#E5ECF6",
            "gridcolor": "white",
            "gridwidth": 2,
            "linecolor": "white",
            "showbackground": true,
            "ticks": "",
            "zerolinecolor": "white"
           }
          },
          "shapedefaults": {
           "line": {
            "color": "#2a3f5f"
           }
          },
          "ternary": {
           "aaxis": {
            "gridcolor": "white",
            "linecolor": "white",
            "ticks": ""
           },
           "baxis": {
            "gridcolor": "white",
            "linecolor": "white",
            "ticks": ""
           },
           "bgcolor": "#E5ECF6",
           "caxis": {
            "gridcolor": "white",
            "linecolor": "white",
            "ticks": ""
           }
          },
          "title": {
           "x": 0.05
          },
          "xaxis": {
           "automargin": true,
           "gridcolor": "white",
           "linecolor": "white",
           "ticks": "",
           "title": {
            "standoff": 15
           },
           "zerolinecolor": "white",
           "zerolinewidth": 2
          },
          "yaxis": {
           "automargin": true,
           "gridcolor": "white",
           "linecolor": "white",
           "ticks": "",
           "title": {
            "standoff": 15
           },
           "zerolinecolor": "white",
           "zerolinewidth": 2
          }
         }
        },
        "width": 1280
       }
      }
     },
     "metadata": {},
     "output_type": "display_data"
    }
   ],
   "source": [
    "infoMap.update_map()"
   ]
  }
 ],
 "metadata": {
  "kernelspec": {
   "display_name": "Python 3.9.12 ('base')",
   "language": "python",
   "name": "python3"
  },
  "language_info": {
   "codemirror_mode": {
    "name": "ipython",
    "version": 3
   },
   "file_extension": ".py",
   "mimetype": "text/x-python",
   "name": "python",
   "nbconvert_exporter": "python",
   "pygments_lexer": "ipython3",
   "version": "3.9.12"
  },
  "vscode": {
   "interpreter": {
    "hash": "af6a7de25dd7bd9a9e288da6c3d15d5d500c51449326063643a18fc796b35585"
   }
  }
 },
 "nbformat": 4,
 "nbformat_minor": 5
}
