{
 "cells": [
  {
   "cell_type": "code",
   "execution_count": 34,
   "metadata": {},
   "outputs": [
    {
     "name": "stdout",
     "output_type": "stream",
     "text": [
      "The autoreload extension is already loaded. To reload it, use:\n",
      "  %reload_ext autoreload\n"
     ]
    }
   ],
   "source": [
    "#https://ipython.readthedocs.io/en/stable/config/extensions/autoreload.html?highlight=autoreload\n",
    "%load_ext autoreload\n",
    "%autoreload 2\n",
    "from datetime import datetime\n",
    "import pandas as pd\n",
    "import numpy as np\n",
    "import json\n",
    "import os\n",
    "from dotenv import load_dotenv\n",
    "from Kafka import KafkaReader"
   ]
  },
  {
   "cell_type": "code",
   "execution_count": 45,
   "metadata": {
    "tags": []
   },
   "outputs": [],
   "source": [
    "from pkgutil import get_data\n",
    "\n",
    "def get_dataframe() -> pd.DataFrame:\n",
    "    kafka = KafkaReader()\n",
    "    df = pd.DataFrame(columns=['datetime','temp','city'])\n",
    "    messages = kafka.retrieve()\n",
    "    kafka.consumer.close()\n",
    "    maxKey = pd.to_datetime(pd.DataFrame(messages.keys())[0]).max().strftime('%d.%m.%Y %H:%M')\n",
    "    for f in messages[maxKey]['cities']:\n",
    "            city = f['city']\n",
    "            for w in f['weather']:\n",
    "                dt = w['dt']\n",
    "                temp = w['temp']\n",
    "                df.loc[len(df), df.columns] = dt, temp, city\n",
    "    return df\n",
    "\n",
    "def load_locations() -> pd.DataFrame:\n",
    "    df = pd.read_json('locations.json').T\n",
    "    return df\n",
    "\n",
    "def get_map_data() -> pd.DataFrame():\n",
    "    df = pd.merge(left=get_dataframe(), right=load_locations(), left_on='city', right_index=True)\n",
    "    df['temp'] = pd.to_numeric(df['temp'])\n",
    "    #df['datetime'] = pd.to_datetime(df['datetime'])\n",
    "    return df\n",
    "\n",
    "def create_map() -> None:\n",
    "    forecasts = get_dataframe()\n",
    "    print(forecasts.head())\n",
    "\n",
    "    # set all makers to the same size\n",
    "    marker_max = 20\n",
    "    marker_size = [marker_max]*forecasts.shape[0]\n",
    "    \n",
    "    # your code\n",
    "    \n",
    "    fig.show(renderer='colab')  # set renderer='colab' only when running in jupyter notebook"
   ]
  },
  {
   "cell_type": "code",
   "execution_count": 51,
   "id": "1a3478bd",
   "metadata": {},
   "outputs": [
    {
     "data": {
      "application/vnd.plotly.v1+json": {
       "config": {
        "plotlyServerURL": "https://plot.ly"
       },
       "data": [
        {
         "hovertemplate": "datetime=2022-08-23 21:00:00<br>latitude=%{lat}<br>longitude=%{lon}<br>temp=%{marker.color}<extra></extra>",
         "ids": [
          "Bregenz",
          "Ravensburg"
         ],
         "lat": [
          47.5025779,
          47.7811014
         ],
         "legendgroup": "",
         "lon": [
          9.7472924,
          9.612468
         ],
         "marker": {
          "color": [
           17.5,
           18.84
          ],
          "coloraxis": "coloraxis",
          "size": 20
         },
         "mode": "markers",
         "name": "",
         "showlegend": false,
         "subplot": "mapbox",
         "type": "scattermapbox"
        }
       ],
       "frames": [
        {
         "data": [
          {
           "hovertemplate": "datetime=2022-08-23 21:00:00<br>latitude=%{lat}<br>longitude=%{lon}<br>temp=%{marker.color}<extra></extra>",
           "ids": [
            "Bregenz",
            "Ravensburg"
           ],
           "lat": [
            47.5025779,
            47.7811014
           ],
           "legendgroup": "",
           "lon": [
            9.7472924,
            9.612468
           ],
           "marker": {
            "color": [
             17.5,
             18.84
            ],
            "coloraxis": "coloraxis"
           },
           "mode": "markers",
           "name": "",
           "showlegend": false,
           "subplot": "mapbox",
           "type": "scattermapbox"
          }
         ],
         "name": "2022-08-23 21:00:00"
        },
        {
         "data": [
          {
           "hovertemplate": "datetime=2022-08-24 00:00:00<br>latitude=%{lat}<br>longitude=%{lon}<br>temp=%{marker.color}<extra></extra>",
           "ids": [
            "Bregenz",
            "Ravensburg"
           ],
           "lat": [
            47.5025779,
            47.7811014
           ],
           "legendgroup": "",
           "lon": [
            9.7472924,
            9.612468
           ],
           "marker": {
            "color": [
             15.6,
             15.68
            ],
            "coloraxis": "coloraxis"
           },
           "mode": "markers",
           "name": "",
           "showlegend": false,
           "subplot": "mapbox",
           "type": "scattermapbox"
          }
         ],
         "name": "2022-08-24 00:00:00"
        },
        {
         "data": [
          {
           "hovertemplate": "datetime=2022-08-24 03:00:00<br>latitude=%{lat}<br>longitude=%{lon}<br>temp=%{marker.color}<extra></extra>",
           "ids": [
            "Bregenz",
            "Ravensburg"
           ],
           "lat": [
            47.5025779,
            47.7811014
           ],
           "legendgroup": "",
           "lon": [
            9.7472924,
            9.612468
           ],
           "marker": {
            "color": [
             13.09,
             11.97
            ],
            "coloraxis": "coloraxis"
           },
           "mode": "markers",
           "name": "",
           "showlegend": false,
           "subplot": "mapbox",
           "type": "scattermapbox"
          }
         ],
         "name": "2022-08-24 03:00:00"
        },
        {
         "data": [
          {
           "hovertemplate": "datetime=2022-08-24 06:00:00<br>latitude=%{lat}<br>longitude=%{lon}<br>temp=%{marker.color}<extra></extra>",
           "ids": [
            "Bregenz",
            "Ravensburg"
           ],
           "lat": [
            47.5025779,
            47.7811014
           ],
           "legendgroup": "",
           "lon": [
            9.7472924,
            9.612468
           ],
           "marker": {
            "color": [
             15.28,
             14.12
            ],
            "coloraxis": "coloraxis"
           },
           "mode": "markers",
           "name": "",
           "showlegend": false,
           "subplot": "mapbox",
           "type": "scattermapbox"
          }
         ],
         "name": "2022-08-24 06:00:00"
        },
        {
         "data": [
          {
           "hovertemplate": "datetime=2022-08-24 09:00:00<br>latitude=%{lat}<br>longitude=%{lon}<br>temp=%{marker.color}<extra></extra>",
           "ids": [
            "Bregenz",
            "Ravensburg"
           ],
           "lat": [
            47.5025779,
            47.7811014
           ],
           "legendgroup": "",
           "lon": [
            9.7472924,
            9.612468
           ],
           "marker": {
            "color": [
             21.53,
             21.66
            ],
            "coloraxis": "coloraxis"
           },
           "mode": "markers",
           "name": "",
           "showlegend": false,
           "subplot": "mapbox",
           "type": "scattermapbox"
          }
         ],
         "name": "2022-08-24 09:00:00"
        },
        {
         "data": [
          {
           "hovertemplate": "datetime=2022-08-24 12:00:00<br>latitude=%{lat}<br>longitude=%{lon}<br>temp=%{marker.color}<extra></extra>",
           "ids": [
            "Bregenz",
            "Ravensburg"
           ],
           "lat": [
            47.5025779,
            47.7811014
           ],
           "legendgroup": "",
           "lon": [
            9.7472924,
            9.612468
           ],
           "marker": {
            "color": [
             25.95,
             24.51
            ],
            "coloraxis": "coloraxis"
           },
           "mode": "markers",
           "name": "",
           "showlegend": false,
           "subplot": "mapbox",
           "type": "scattermapbox"
          }
         ],
         "name": "2022-08-24 12:00:00"
        },
        {
         "data": [
          {
           "hovertemplate": "datetime=2022-08-24 15:00:00<br>latitude=%{lat}<br>longitude=%{lon}<br>temp=%{marker.color}<extra></extra>",
           "ids": [
            "Bregenz",
            "Ravensburg"
           ],
           "lat": [
            47.5025779,
            47.7811014
           ],
           "legendgroup": "",
           "lon": [
            9.7472924,
            9.612468
           ],
           "marker": {
            "color": [
             26.89,
             24.52
            ],
            "coloraxis": "coloraxis"
           },
           "mode": "markers",
           "name": "",
           "showlegend": false,
           "subplot": "mapbox",
           "type": "scattermapbox"
          }
         ],
         "name": "2022-08-24 15:00:00"
        },
        {
         "data": [
          {
           "hovertemplate": "datetime=2022-08-24 18:00:00<br>latitude=%{lat}<br>longitude=%{lon}<br>temp=%{marker.color}<extra></extra>",
           "ids": [
            "Bregenz",
            "Ravensburg"
           ],
           "lat": [
            47.5025779,
            47.7811014
           ],
           "legendgroup": "",
           "lon": [
            9.7472924,
            9.612468
           ],
           "marker": {
            "color": [
             19.73,
             19.56
            ],
            "coloraxis": "coloraxis"
           },
           "mode": "markers",
           "name": "",
           "showlegend": false,
           "subplot": "mapbox",
           "type": "scattermapbox"
          }
         ],
         "name": "2022-08-24 18:00:00"
        },
        {
         "data": [
          {
           "hovertemplate": "datetime=2022-08-24 21:00:00<br>latitude=%{lat}<br>longitude=%{lon}<br>temp=%{marker.color}<extra></extra>",
           "ids": [
            "Bregenz",
            "Ravensburg"
           ],
           "lat": [
            47.5025779,
            47.7811014
           ],
           "legendgroup": "",
           "lon": [
            9.7472924,
            9.612468
           ],
           "marker": {
            "color": [
             16.6,
             16.69
            ],
            "coloraxis": "coloraxis"
           },
           "mode": "markers",
           "name": "",
           "showlegend": false,
           "subplot": "mapbox",
           "type": "scattermapbox"
          }
         ],
         "name": "2022-08-24 21:00:00"
        },
        {
         "data": [
          {
           "hovertemplate": "datetime=2022-08-25 00:00:00<br>latitude=%{lat}<br>longitude=%{lon}<br>temp=%{marker.color}<extra></extra>",
           "ids": [
            "Bregenz",
            "Ravensburg"
           ],
           "lat": [
            47.5025779,
            47.7811014
           ],
           "legendgroup": "",
           "lon": [
            9.7472924,
            9.612468
           ],
           "marker": {
            "color": [
             15.3,
             14.57
            ],
            "coloraxis": "coloraxis"
           },
           "mode": "markers",
           "name": "",
           "showlegend": false,
           "subplot": "mapbox",
           "type": "scattermapbox"
          }
         ],
         "name": "2022-08-25 00:00:00"
        },
        {
         "data": [
          {
           "hovertemplate": "datetime=2022-08-25 03:00:00<br>latitude=%{lat}<br>longitude=%{lon}<br>temp=%{marker.color}<extra></extra>",
           "ids": [
            "Bregenz",
            "Ravensburg"
           ],
           "lat": [
            47.5025779,
            47.7811014
           ],
           "legendgroup": "",
           "lon": [
            9.7472924,
            9.612468
           ],
           "marker": {
            "color": [
             14.47,
             13.52
            ],
            "coloraxis": "coloraxis"
           },
           "mode": "markers",
           "name": "",
           "showlegend": false,
           "subplot": "mapbox",
           "type": "scattermapbox"
          }
         ],
         "name": "2022-08-25 03:00:00"
        },
        {
         "data": [
          {
           "hovertemplate": "datetime=2022-08-25 06:00:00<br>latitude=%{lat}<br>longitude=%{lon}<br>temp=%{marker.color}<extra></extra>",
           "ids": [
            "Bregenz",
            "Ravensburg"
           ],
           "lat": [
            47.5025779,
            47.7811014
           ],
           "legendgroup": "",
           "lon": [
            9.7472924,
            9.612468
           ],
           "marker": {
            "color": [
             16.25,
             15.22
            ],
            "coloraxis": "coloraxis"
           },
           "mode": "markers",
           "name": "",
           "showlegend": false,
           "subplot": "mapbox",
           "type": "scattermapbox"
          }
         ],
         "name": "2022-08-25 06:00:00"
        },
        {
         "data": [
          {
           "hovertemplate": "datetime=2022-08-25 09:00:00<br>latitude=%{lat}<br>longitude=%{lon}<br>temp=%{marker.color}<extra></extra>",
           "ids": [
            "Bregenz",
            "Ravensburg"
           ],
           "lat": [
            47.5025779,
            47.7811014
           ],
           "legendgroup": "",
           "lon": [
            9.7472924,
            9.612468
           ],
           "marker": {
            "color": [
             22.29,
             22.31
            ],
            "coloraxis": "coloraxis"
           },
           "mode": "markers",
           "name": "",
           "showlegend": false,
           "subplot": "mapbox",
           "type": "scattermapbox"
          }
         ],
         "name": "2022-08-25 09:00:00"
        },
        {
         "data": [
          {
           "hovertemplate": "datetime=2022-08-25 12:00:00<br>latitude=%{lat}<br>longitude=%{lon}<br>temp=%{marker.color}<extra></extra>",
           "ids": [
            "Bregenz",
            "Ravensburg"
           ],
           "lat": [
            47.5025779,
            47.7811014
           ],
           "legendgroup": "",
           "lon": [
            9.7472924,
            9.612468
           ],
           "marker": {
            "color": [
             24.86,
             25.99
            ],
            "coloraxis": "coloraxis"
           },
           "mode": "markers",
           "name": "",
           "showlegend": false,
           "subplot": "mapbox",
           "type": "scattermapbox"
          }
         ],
         "name": "2022-08-25 12:00:00"
        },
        {
         "data": [
          {
           "hovertemplate": "datetime=2022-08-25 15:00:00<br>latitude=%{lat}<br>longitude=%{lon}<br>temp=%{marker.color}<extra></extra>",
           "ids": [
            "Bregenz",
            "Ravensburg"
           ],
           "lat": [
            47.5025779,
            47.7811014
           ],
           "legendgroup": "",
           "lon": [
            9.7472924,
            9.612468
           ],
           "marker": {
            "color": [
             25.66,
             26.04
            ],
            "coloraxis": "coloraxis"
           },
           "mode": "markers",
           "name": "",
           "showlegend": false,
           "subplot": "mapbox",
           "type": "scattermapbox"
          }
         ],
         "name": "2022-08-25 15:00:00"
        },
        {
         "data": [
          {
           "hovertemplate": "datetime=2022-08-25 18:00:00<br>latitude=%{lat}<br>longitude=%{lon}<br>temp=%{marker.color}<extra></extra>",
           "ids": [
            "Bregenz",
            "Ravensburg"
           ],
           "lat": [
            47.5025779,
            47.7811014
           ],
           "legendgroup": "",
           "lon": [
            9.7472924,
            9.612468
           ],
           "marker": {
            "color": [
             20.21,
             20.09
            ],
            "coloraxis": "coloraxis"
           },
           "mode": "markers",
           "name": "",
           "showlegend": false,
           "subplot": "mapbox",
           "type": "scattermapbox"
          }
         ],
         "name": "2022-08-25 18:00:00"
        },
        {
         "data": [
          {
           "hovertemplate": "datetime=2022-08-25 21:00:00<br>latitude=%{lat}<br>longitude=%{lon}<br>temp=%{marker.color}<extra></extra>",
           "ids": [
            "Bregenz",
            "Ravensburg"
           ],
           "lat": [
            47.5025779,
            47.7811014
           ],
           "legendgroup": "",
           "lon": [
            9.7472924,
            9.612468
           ],
           "marker": {
            "color": [
             17.45,
             17.18
            ],
            "coloraxis": "coloraxis"
           },
           "mode": "markers",
           "name": "",
           "showlegend": false,
           "subplot": "mapbox",
           "type": "scattermapbox"
          }
         ],
         "name": "2022-08-25 21:00:00"
        },
        {
         "data": [
          {
           "hovertemplate": "datetime=2022-08-26 00:00:00<br>latitude=%{lat}<br>longitude=%{lon}<br>temp=%{marker.color}<extra></extra>",
           "ids": [
            "Bregenz",
            "Ravensburg"
           ],
           "lat": [
            47.5025779,
            47.7811014
           ],
           "legendgroup": "",
           "lon": [
            9.7472924,
            9.612468
           ],
           "marker": {
            "color": [
             16.74,
             15.8
            ],
            "coloraxis": "coloraxis"
           },
           "mode": "markers",
           "name": "",
           "showlegend": false,
           "subplot": "mapbox",
           "type": "scattermapbox"
          }
         ],
         "name": "2022-08-26 00:00:00"
        },
        {
         "data": [
          {
           "hovertemplate": "datetime=2022-08-26 03:00:00<br>latitude=%{lat}<br>longitude=%{lon}<br>temp=%{marker.color}<extra></extra>",
           "ids": [
            "Bregenz",
            "Ravensburg"
           ],
           "lat": [
            47.5025779,
            47.7811014
           ],
           "legendgroup": "",
           "lon": [
            9.7472924,
            9.612468
           ],
           "marker": {
            "color": [
             16.07,
             14.73
            ],
            "coloraxis": "coloraxis"
           },
           "mode": "markers",
           "name": "",
           "showlegend": false,
           "subplot": "mapbox",
           "type": "scattermapbox"
          }
         ],
         "name": "2022-08-26 03:00:00"
        },
        {
         "data": [
          {
           "hovertemplate": "datetime=2022-08-26 06:00:00<br>latitude=%{lat}<br>longitude=%{lon}<br>temp=%{marker.color}<extra></extra>",
           "ids": [
            "Bregenz",
            "Ravensburg"
           ],
           "lat": [
            47.5025779,
            47.7811014
           ],
           "legendgroup": "",
           "lon": [
            9.7472924,
            9.612468
           ],
           "marker": {
            "color": [
             18.25,
             16.76
            ],
            "coloraxis": "coloraxis"
           },
           "mode": "markers",
           "name": "",
           "showlegend": false,
           "subplot": "mapbox",
           "type": "scattermapbox"
          }
         ],
         "name": "2022-08-26 06:00:00"
        },
        {
         "data": [
          {
           "hovertemplate": "datetime=2022-08-26 09:00:00<br>latitude=%{lat}<br>longitude=%{lon}<br>temp=%{marker.color}<extra></extra>",
           "ids": [
            "Bregenz",
            "Ravensburg"
           ],
           "lat": [
            47.5025779,
            47.7811014
           ],
           "legendgroup": "",
           "lon": [
            9.7472924,
            9.612468
           ],
           "marker": {
            "color": [
             24.08,
             23.77
            ],
            "coloraxis": "coloraxis"
           },
           "mode": "markers",
           "name": "",
           "showlegend": false,
           "subplot": "mapbox",
           "type": "scattermapbox"
          }
         ],
         "name": "2022-08-26 09:00:00"
        },
        {
         "data": [
          {
           "hovertemplate": "datetime=2022-08-26 12:00:00<br>latitude=%{lat}<br>longitude=%{lon}<br>temp=%{marker.color}<extra></extra>",
           "ids": [
            "Bregenz",
            "Ravensburg"
           ],
           "lat": [
            47.5025779,
            47.7811014
           ],
           "legendgroup": "",
           "lon": [
            9.7472924,
            9.612468
           ],
           "marker": {
            "color": [
             26.34,
             27.72
            ],
            "coloraxis": "coloraxis"
           },
           "mode": "markers",
           "name": "",
           "showlegend": false,
           "subplot": "mapbox",
           "type": "scattermapbox"
          }
         ],
         "name": "2022-08-26 12:00:00"
        },
        {
         "data": [
          {
           "hovertemplate": "datetime=2022-08-26 15:00:00<br>latitude=%{lat}<br>longitude=%{lon}<br>temp=%{marker.color}<extra></extra>",
           "ids": [
            "Bregenz",
            "Ravensburg"
           ],
           "lat": [
            47.5025779,
            47.7811014
           ],
           "legendgroup": "",
           "lon": [
            9.7472924,
            9.612468
           ],
           "marker": {
            "color": [
             27.12,
             27.49
            ],
            "coloraxis": "coloraxis"
           },
           "mode": "markers",
           "name": "",
           "showlegend": false,
           "subplot": "mapbox",
           "type": "scattermapbox"
          }
         ],
         "name": "2022-08-26 15:00:00"
        },
        {
         "data": [
          {
           "hovertemplate": "datetime=2022-08-26 18:00:00<br>latitude=%{lat}<br>longitude=%{lon}<br>temp=%{marker.color}<extra></extra>",
           "ids": [
            "Bregenz",
            "Ravensburg"
           ],
           "lat": [
            47.5025779,
            47.7811014
           ],
           "legendgroup": "",
           "lon": [
            9.7472924,
            9.612468
           ],
           "marker": {
            "color": [
             21.17,
             20.38
            ],
            "coloraxis": "coloraxis"
           },
           "mode": "markers",
           "name": "",
           "showlegend": false,
           "subplot": "mapbox",
           "type": "scattermapbox"
          }
         ],
         "name": "2022-08-26 18:00:00"
        },
        {
         "data": [
          {
           "hovertemplate": "datetime=2022-08-26 21:00:00<br>latitude=%{lat}<br>longitude=%{lon}<br>temp=%{marker.color}<extra></extra>",
           "ids": [
            "Bregenz",
            "Ravensburg"
           ],
           "lat": [
            47.5025779,
            47.7811014
           ],
           "legendgroup": "",
           "lon": [
            9.7472924,
            9.612468
           ],
           "marker": {
            "color": [
             17.26,
             17.42
            ],
            "coloraxis": "coloraxis"
           },
           "mode": "markers",
           "name": "",
           "showlegend": false,
           "subplot": "mapbox",
           "type": "scattermapbox"
          }
         ],
         "name": "2022-08-26 21:00:00"
        },
        {
         "data": [
          {
           "hovertemplate": "datetime=2022-08-27 00:00:00<br>latitude=%{lat}<br>longitude=%{lon}<br>temp=%{marker.color}<extra></extra>",
           "ids": [
            "Bregenz",
            "Ravensburg"
           ],
           "lat": [
            47.5025779,
            47.7811014
           ],
           "legendgroup": "",
           "lon": [
            9.7472924,
            9.612468
           ],
           "marker": {
            "color": [
             16.39,
             15.92
            ],
            "coloraxis": "coloraxis"
           },
           "mode": "markers",
           "name": "",
           "showlegend": false,
           "subplot": "mapbox",
           "type": "scattermapbox"
          }
         ],
         "name": "2022-08-27 00:00:00"
        },
        {
         "data": [
          {
           "hovertemplate": "datetime=2022-08-27 03:00:00<br>latitude=%{lat}<br>longitude=%{lon}<br>temp=%{marker.color}<extra></extra>",
           "ids": [
            "Bregenz",
            "Ravensburg"
           ],
           "lat": [
            47.5025779,
            47.7811014
           ],
           "legendgroup": "",
           "lon": [
            9.7472924,
            9.612468
           ],
           "marker": {
            "color": [
             15.53,
             14.97
            ],
            "coloraxis": "coloraxis"
           },
           "mode": "markers",
           "name": "",
           "showlegend": false,
           "subplot": "mapbox",
           "type": "scattermapbox"
          }
         ],
         "name": "2022-08-27 03:00:00"
        },
        {
         "data": [
          {
           "hovertemplate": "datetime=2022-08-27 06:00:00<br>latitude=%{lat}<br>longitude=%{lon}<br>temp=%{marker.color}<extra></extra>",
           "ids": [
            "Bregenz",
            "Ravensburg"
           ],
           "lat": [
            47.5025779,
            47.7811014
           ],
           "legendgroup": "",
           "lon": [
            9.7472924,
            9.612468
           ],
           "marker": {
            "color": [
             17.09,
             16.21
            ],
            "coloraxis": "coloraxis"
           },
           "mode": "markers",
           "name": "",
           "showlegend": false,
           "subplot": "mapbox",
           "type": "scattermapbox"
          }
         ],
         "name": "2022-08-27 06:00:00"
        },
        {
         "data": [
          {
           "hovertemplate": "datetime=2022-08-27 09:00:00<br>latitude=%{lat}<br>longitude=%{lon}<br>temp=%{marker.color}<extra></extra>",
           "ids": [
            "Bregenz",
            "Ravensburg"
           ],
           "lat": [
            47.5025779,
            47.7811014
           ],
           "legendgroup": "",
           "lon": [
            9.7472924,
            9.612468
           ],
           "marker": {
            "color": [
             20.99,
             20.78
            ],
            "coloraxis": "coloraxis"
           },
           "mode": "markers",
           "name": "",
           "showlegend": false,
           "subplot": "mapbox",
           "type": "scattermapbox"
          }
         ],
         "name": "2022-08-27 09:00:00"
        },
        {
         "data": [
          {
           "hovertemplate": "datetime=2022-08-27 12:00:00<br>latitude=%{lat}<br>longitude=%{lon}<br>temp=%{marker.color}<extra></extra>",
           "ids": [
            "Bregenz",
            "Ravensburg"
           ],
           "lat": [
            47.5025779,
            47.7811014
           ],
           "legendgroup": "",
           "lon": [
            9.7472924,
            9.612468
           ],
           "marker": {
            "color": [
             22.16,
             21.43
            ],
            "coloraxis": "coloraxis"
           },
           "mode": "markers",
           "name": "",
           "showlegend": false,
           "subplot": "mapbox",
           "type": "scattermapbox"
          }
         ],
         "name": "2022-08-27 12:00:00"
        },
        {
         "data": [
          {
           "hovertemplate": "datetime=2022-08-27 15:00:00<br>latitude=%{lat}<br>longitude=%{lon}<br>temp=%{marker.color}<extra></extra>",
           "ids": [
            "Bregenz",
            "Ravensburg"
           ],
           "lat": [
            47.5025779,
            47.7811014
           ],
           "legendgroup": "",
           "lon": [
            9.7472924,
            9.612468
           ],
           "marker": {
            "color": [
             20.84,
             20.08
            ],
            "coloraxis": "coloraxis"
           },
           "mode": "markers",
           "name": "",
           "showlegend": false,
           "subplot": "mapbox",
           "type": "scattermapbox"
          }
         ],
         "name": "2022-08-27 15:00:00"
        },
        {
         "data": [
          {
           "hovertemplate": "datetime=2022-08-27 18:00:00<br>latitude=%{lat}<br>longitude=%{lon}<br>temp=%{marker.color}<extra></extra>",
           "ids": [
            "Bregenz",
            "Ravensburg"
           ],
           "lat": [
            47.5025779,
            47.7811014
           ],
           "legendgroup": "",
           "lon": [
            9.7472924,
            9.612468
           ],
           "marker": {
            "color": [
             18.84,
             18
            ],
            "coloraxis": "coloraxis"
           },
           "mode": "markers",
           "name": "",
           "showlegend": false,
           "subplot": "mapbox",
           "type": "scattermapbox"
          }
         ],
         "name": "2022-08-27 18:00:00"
        },
        {
         "data": [
          {
           "hovertemplate": "datetime=2022-08-27 21:00:00<br>latitude=%{lat}<br>longitude=%{lon}<br>temp=%{marker.color}<extra></extra>",
           "ids": [
            "Bregenz",
            "Ravensburg"
           ],
           "lat": [
            47.5025779,
            47.7811014
           ],
           "legendgroup": "",
           "lon": [
            9.7472924,
            9.612468
           ],
           "marker": {
            "color": [
             18.22,
             17.45
            ],
            "coloraxis": "coloraxis"
           },
           "mode": "markers",
           "name": "",
           "showlegend": false,
           "subplot": "mapbox",
           "type": "scattermapbox"
          }
         ],
         "name": "2022-08-27 21:00:00"
        },
        {
         "data": [
          {
           "hovertemplate": "datetime=2022-08-28 00:00:00<br>latitude=%{lat}<br>longitude=%{lon}<br>temp=%{marker.color}<extra></extra>",
           "ids": [
            "Bregenz",
            "Ravensburg"
           ],
           "lat": [
            47.5025779,
            47.7811014
           ],
           "legendgroup": "",
           "lon": [
            9.7472924,
            9.612468
           ],
           "marker": {
            "color": [
             17.73,
             17.08
            ],
            "coloraxis": "coloraxis"
           },
           "mode": "markers",
           "name": "",
           "showlegend": false,
           "subplot": "mapbox",
           "type": "scattermapbox"
          }
         ],
         "name": "2022-08-28 00:00:00"
        },
        {
         "data": [
          {
           "hovertemplate": "datetime=2022-08-28 03:00:00<br>latitude=%{lat}<br>longitude=%{lon}<br>temp=%{marker.color}<extra></extra>",
           "ids": [
            "Bregenz",
            "Ravensburg"
           ],
           "lat": [
            47.5025779,
            47.7811014
           ],
           "legendgroup": "",
           "lon": [
            9.7472924,
            9.612468
           ],
           "marker": {
            "color": [
             17.18,
             16.56
            ],
            "coloraxis": "coloraxis"
           },
           "mode": "markers",
           "name": "",
           "showlegend": false,
           "subplot": "mapbox",
           "type": "scattermapbox"
          }
         ],
         "name": "2022-08-28 03:00:00"
        },
        {
         "data": [
          {
           "hovertemplate": "datetime=2022-08-28 06:00:00<br>latitude=%{lat}<br>longitude=%{lon}<br>temp=%{marker.color}<extra></extra>",
           "ids": [
            "Bregenz",
            "Ravensburg"
           ],
           "lat": [
            47.5025779,
            47.7811014
           ],
           "legendgroup": "",
           "lon": [
            9.7472924,
            9.612468
           ],
           "marker": {
            "color": [
             17.16,
             16.75
            ],
            "coloraxis": "coloraxis"
           },
           "mode": "markers",
           "name": "",
           "showlegend": false,
           "subplot": "mapbox",
           "type": "scattermapbox"
          }
         ],
         "name": "2022-08-28 06:00:00"
        },
        {
         "data": [
          {
           "hovertemplate": "datetime=2022-08-28 09:00:00<br>latitude=%{lat}<br>longitude=%{lon}<br>temp=%{marker.color}<extra></extra>",
           "ids": [
            "Bregenz",
            "Ravensburg"
           ],
           "lat": [
            47.5025779,
            47.7811014
           ],
           "legendgroup": "",
           "lon": [
            9.7472924,
            9.612468
           ],
           "marker": {
            "color": [
             19.72,
             18.72
            ],
            "coloraxis": "coloraxis"
           },
           "mode": "markers",
           "name": "",
           "showlegend": false,
           "subplot": "mapbox",
           "type": "scattermapbox"
          }
         ],
         "name": "2022-08-28 09:00:00"
        },
        {
         "data": [
          {
           "hovertemplate": "datetime=2022-08-28 12:00:00<br>latitude=%{lat}<br>longitude=%{lon}<br>temp=%{marker.color}<extra></extra>",
           "ids": [
            "Bregenz",
            "Ravensburg"
           ],
           "lat": [
            47.5025779,
            47.7811014
           ],
           "legendgroup": "",
           "lon": [
            9.7472924,
            9.612468
           ],
           "marker": {
            "color": [
             22.6,
             21.68
            ],
            "coloraxis": "coloraxis"
           },
           "mode": "markers",
           "name": "",
           "showlegend": false,
           "subplot": "mapbox",
           "type": "scattermapbox"
          }
         ],
         "name": "2022-08-28 12:00:00"
        },
        {
         "data": [
          {
           "hovertemplate": "datetime=2022-08-28 15:00:00<br>latitude=%{lat}<br>longitude=%{lon}<br>temp=%{marker.color}<extra></extra>",
           "ids": [
            "Bregenz",
            "Ravensburg"
           ],
           "lat": [
            47.5025779,
            47.7811014
           ],
           "legendgroup": "",
           "lon": [
            9.7472924,
            9.612468
           ],
           "marker": {
            "color": [
             22.02,
             21.06
            ],
            "coloraxis": "coloraxis"
           },
           "mode": "markers",
           "name": "",
           "showlegend": false,
           "subplot": "mapbox",
           "type": "scattermapbox"
          }
         ],
         "name": "2022-08-28 15:00:00"
        },
        {
         "data": [
          {
           "hovertemplate": "datetime=2022-08-28 18:00:00<br>latitude=%{lat}<br>longitude=%{lon}<br>temp=%{marker.color}<extra></extra>",
           "ids": [
            "Bregenz",
            "Ravensburg"
           ],
           "lat": [
            47.5025779,
            47.7811014
           ],
           "legendgroup": "",
           "lon": [
            9.7472924,
            9.612468
           ],
           "marker": {
            "color": [
             19.42,
             18.51
            ],
            "coloraxis": "coloraxis"
           },
           "mode": "markers",
           "name": "",
           "showlegend": false,
           "subplot": "mapbox",
           "type": "scattermapbox"
          }
         ],
         "name": "2022-08-28 18:00:00"
        }
       ],
       "layout": {
        "coloraxis": {
         "cmax": 40,
         "cmin": -10,
         "colorbar": {
          "title": {
           "text": "temp"
          }
         },
         "colorscale": [
          [
           0,
           "#000000"
          ],
          [
           0.0625,
           "#001f4d"
          ],
          [
           0.125,
           "#003786"
          ],
          [
           0.1875,
           "#0e58a8"
          ],
          [
           0.25,
           "#217eb8"
          ],
          [
           0.3125,
           "#30a4ca"
          ],
          [
           0.375,
           "#54c8df"
          ],
          [
           0.4375,
           "#9be4ef"
          ],
          [
           0.5,
           "#e1e9d1"
          ],
          [
           0.5625,
           "#f3d573"
          ],
          [
           0.625,
           "#e7b000"
          ],
          [
           0.6875,
           "#da8200"
          ],
          [
           0.75,
           "#c65400"
          ],
          [
           0.8125,
           "#ac2301"
          ],
          [
           0.875,
           "#820000"
          ],
          [
           0.9375,
           "#4c0000"
          ],
          [
           1,
           "#000000"
          ]
         ]
        },
        "height": 600,
        "legend": {
         "tracegroupgap": 0
        },
        "mapbox": {
         "accesstoken": "pk.eyJ1Ijoib2hpdHNsZW5hIiwiYSI6ImNqdDNicjNheDB0OGUzenBxNWFueXVweHAifQ.SlggtzzOlVJJNK_y6tpKRQ",
         "center": {
          "lat": 47.64183964999995,
          "lon": 9.679880200000005
         },
         "domain": {
          "x": [
           0,
           1
          ],
          "y": [
           0,
           1
          ]
         },
         "zoom": 8
        },
        "margin": {
         "b": 0,
         "l": 0,
         "r": 0,
         "t": 0
        },
        "sliders": [
         {
          "active": 0,
          "currentvalue": {
           "prefix": "datetime="
          },
          "len": 0.9,
          "pad": {
           "b": 10,
           "t": 60
          },
          "steps": [
           {
            "args": [
             [
              "2022-08-23 21:00:00"
             ],
             {
              "frame": {
               "duration": 0,
               "redraw": true
              },
              "fromcurrent": true,
              "mode": "immediate",
              "transition": {
               "duration": 0,
               "easing": "linear"
              }
             }
            ],
            "label": "2022-08-23 21:00:00",
            "method": "animate"
           },
           {
            "args": [
             [
              "2022-08-24 00:00:00"
             ],
             {
              "frame": {
               "duration": 0,
               "redraw": true
              },
              "fromcurrent": true,
              "mode": "immediate",
              "transition": {
               "duration": 0,
               "easing": "linear"
              }
             }
            ],
            "label": "2022-08-24 00:00:00",
            "method": "animate"
           },
           {
            "args": [
             [
              "2022-08-24 03:00:00"
             ],
             {
              "frame": {
               "duration": 0,
               "redraw": true
              },
              "fromcurrent": true,
              "mode": "immediate",
              "transition": {
               "duration": 0,
               "easing": "linear"
              }
             }
            ],
            "label": "2022-08-24 03:00:00",
            "method": "animate"
           },
           {
            "args": [
             [
              "2022-08-24 06:00:00"
             ],
             {
              "frame": {
               "duration": 0,
               "redraw": true
              },
              "fromcurrent": true,
              "mode": "immediate",
              "transition": {
               "duration": 0,
               "easing": "linear"
              }
             }
            ],
            "label": "2022-08-24 06:00:00",
            "method": "animate"
           },
           {
            "args": [
             [
              "2022-08-24 09:00:00"
             ],
             {
              "frame": {
               "duration": 0,
               "redraw": true
              },
              "fromcurrent": true,
              "mode": "immediate",
              "transition": {
               "duration": 0,
               "easing": "linear"
              }
             }
            ],
            "label": "2022-08-24 09:00:00",
            "method": "animate"
           },
           {
            "args": [
             [
              "2022-08-24 12:00:00"
             ],
             {
              "frame": {
               "duration": 0,
               "redraw": true
              },
              "fromcurrent": true,
              "mode": "immediate",
              "transition": {
               "duration": 0,
               "easing": "linear"
              }
             }
            ],
            "label": "2022-08-24 12:00:00",
            "method": "animate"
           },
           {
            "args": [
             [
              "2022-08-24 15:00:00"
             ],
             {
              "frame": {
               "duration": 0,
               "redraw": true
              },
              "fromcurrent": true,
              "mode": "immediate",
              "transition": {
               "duration": 0,
               "easing": "linear"
              }
             }
            ],
            "label": "2022-08-24 15:00:00",
            "method": "animate"
           },
           {
            "args": [
             [
              "2022-08-24 18:00:00"
             ],
             {
              "frame": {
               "duration": 0,
               "redraw": true
              },
              "fromcurrent": true,
              "mode": "immediate",
              "transition": {
               "duration": 0,
               "easing": "linear"
              }
             }
            ],
            "label": "2022-08-24 18:00:00",
            "method": "animate"
           },
           {
            "args": [
             [
              "2022-08-24 21:00:00"
             ],
             {
              "frame": {
               "duration": 0,
               "redraw": true
              },
              "fromcurrent": true,
              "mode": "immediate",
              "transition": {
               "duration": 0,
               "easing": "linear"
              }
             }
            ],
            "label": "2022-08-24 21:00:00",
            "method": "animate"
           },
           {
            "args": [
             [
              "2022-08-25 00:00:00"
             ],
             {
              "frame": {
               "duration": 0,
               "redraw": true
              },
              "fromcurrent": true,
              "mode": "immediate",
              "transition": {
               "duration": 0,
               "easing": "linear"
              }
             }
            ],
            "label": "2022-08-25 00:00:00",
            "method": "animate"
           },
           {
            "args": [
             [
              "2022-08-25 03:00:00"
             ],
             {
              "frame": {
               "duration": 0,
               "redraw": true
              },
              "fromcurrent": true,
              "mode": "immediate",
              "transition": {
               "duration": 0,
               "easing": "linear"
              }
             }
            ],
            "label": "2022-08-25 03:00:00",
            "method": "animate"
           },
           {
            "args": [
             [
              "2022-08-25 06:00:00"
             ],
             {
              "frame": {
               "duration": 0,
               "redraw": true
              },
              "fromcurrent": true,
              "mode": "immediate",
              "transition": {
               "duration": 0,
               "easing": "linear"
              }
             }
            ],
            "label": "2022-08-25 06:00:00",
            "method": "animate"
           },
           {
            "args": [
             [
              "2022-08-25 09:00:00"
             ],
             {
              "frame": {
               "duration": 0,
               "redraw": true
              },
              "fromcurrent": true,
              "mode": "immediate",
              "transition": {
               "duration": 0,
               "easing": "linear"
              }
             }
            ],
            "label": "2022-08-25 09:00:00",
            "method": "animate"
           },
           {
            "args": [
             [
              "2022-08-25 12:00:00"
             ],
             {
              "frame": {
               "duration": 0,
               "redraw": true
              },
              "fromcurrent": true,
              "mode": "immediate",
              "transition": {
               "duration": 0,
               "easing": "linear"
              }
             }
            ],
            "label": "2022-08-25 12:00:00",
            "method": "animate"
           },
           {
            "args": [
             [
              "2022-08-25 15:00:00"
             ],
             {
              "frame": {
               "duration": 0,
               "redraw": true
              },
              "fromcurrent": true,
              "mode": "immediate",
              "transition": {
               "duration": 0,
               "easing": "linear"
              }
             }
            ],
            "label": "2022-08-25 15:00:00",
            "method": "animate"
           },
           {
            "args": [
             [
              "2022-08-25 18:00:00"
             ],
             {
              "frame": {
               "duration": 0,
               "redraw": true
              },
              "fromcurrent": true,
              "mode": "immediate",
              "transition": {
               "duration": 0,
               "easing": "linear"
              }
             }
            ],
            "label": "2022-08-25 18:00:00",
            "method": "animate"
           },
           {
            "args": [
             [
              "2022-08-25 21:00:00"
             ],
             {
              "frame": {
               "duration": 0,
               "redraw": true
              },
              "fromcurrent": true,
              "mode": "immediate",
              "transition": {
               "duration": 0,
               "easing": "linear"
              }
             }
            ],
            "label": "2022-08-25 21:00:00",
            "method": "animate"
           },
           {
            "args": [
             [
              "2022-08-26 00:00:00"
             ],
             {
              "frame": {
               "duration": 0,
               "redraw": true
              },
              "fromcurrent": true,
              "mode": "immediate",
              "transition": {
               "duration": 0,
               "easing": "linear"
              }
             }
            ],
            "label": "2022-08-26 00:00:00",
            "method": "animate"
           },
           {
            "args": [
             [
              "2022-08-26 03:00:00"
             ],
             {
              "frame": {
               "duration": 0,
               "redraw": true
              },
              "fromcurrent": true,
              "mode": "immediate",
              "transition": {
               "duration": 0,
               "easing": "linear"
              }
             }
            ],
            "label": "2022-08-26 03:00:00",
            "method": "animate"
           },
           {
            "args": [
             [
              "2022-08-26 06:00:00"
             ],
             {
              "frame": {
               "duration": 0,
               "redraw": true
              },
              "fromcurrent": true,
              "mode": "immediate",
              "transition": {
               "duration": 0,
               "easing": "linear"
              }
             }
            ],
            "label": "2022-08-26 06:00:00",
            "method": "animate"
           },
           {
            "args": [
             [
              "2022-08-26 09:00:00"
             ],
             {
              "frame": {
               "duration": 0,
               "redraw": true
              },
              "fromcurrent": true,
              "mode": "immediate",
              "transition": {
               "duration": 0,
               "easing": "linear"
              }
             }
            ],
            "label": "2022-08-26 09:00:00",
            "method": "animate"
           },
           {
            "args": [
             [
              "2022-08-26 12:00:00"
             ],
             {
              "frame": {
               "duration": 0,
               "redraw": true
              },
              "fromcurrent": true,
              "mode": "immediate",
              "transition": {
               "duration": 0,
               "easing": "linear"
              }
             }
            ],
            "label": "2022-08-26 12:00:00",
            "method": "animate"
           },
           {
            "args": [
             [
              "2022-08-26 15:00:00"
             ],
             {
              "frame": {
               "duration": 0,
               "redraw": true
              },
              "fromcurrent": true,
              "mode": "immediate",
              "transition": {
               "duration": 0,
               "easing": "linear"
              }
             }
            ],
            "label": "2022-08-26 15:00:00",
            "method": "animate"
           },
           {
            "args": [
             [
              "2022-08-26 18:00:00"
             ],
             {
              "frame": {
               "duration": 0,
               "redraw": true
              },
              "fromcurrent": true,
              "mode": "immediate",
              "transition": {
               "duration": 0,
               "easing": "linear"
              }
             }
            ],
            "label": "2022-08-26 18:00:00",
            "method": "animate"
           },
           {
            "args": [
             [
              "2022-08-26 21:00:00"
             ],
             {
              "frame": {
               "duration": 0,
               "redraw": true
              },
              "fromcurrent": true,
              "mode": "immediate",
              "transition": {
               "duration": 0,
               "easing": "linear"
              }
             }
            ],
            "label": "2022-08-26 21:00:00",
            "method": "animate"
           },
           {
            "args": [
             [
              "2022-08-27 00:00:00"
             ],
             {
              "frame": {
               "duration": 0,
               "redraw": true
              },
              "fromcurrent": true,
              "mode": "immediate",
              "transition": {
               "duration": 0,
               "easing": "linear"
              }
             }
            ],
            "label": "2022-08-27 00:00:00",
            "method": "animate"
           },
           {
            "args": [
             [
              "2022-08-27 03:00:00"
             ],
             {
              "frame": {
               "duration": 0,
               "redraw": true
              },
              "fromcurrent": true,
              "mode": "immediate",
              "transition": {
               "duration": 0,
               "easing": "linear"
              }
             }
            ],
            "label": "2022-08-27 03:00:00",
            "method": "animate"
           },
           {
            "args": [
             [
              "2022-08-27 06:00:00"
             ],
             {
              "frame": {
               "duration": 0,
               "redraw": true
              },
              "fromcurrent": true,
              "mode": "immediate",
              "transition": {
               "duration": 0,
               "easing": "linear"
              }
             }
            ],
            "label": "2022-08-27 06:00:00",
            "method": "animate"
           },
           {
            "args": [
             [
              "2022-08-27 09:00:00"
             ],
             {
              "frame": {
               "duration": 0,
               "redraw": true
              },
              "fromcurrent": true,
              "mode": "immediate",
              "transition": {
               "duration": 0,
               "easing": "linear"
              }
             }
            ],
            "label": "2022-08-27 09:00:00",
            "method": "animate"
           },
           {
            "args": [
             [
              "2022-08-27 12:00:00"
             ],
             {
              "frame": {
               "duration": 0,
               "redraw": true
              },
              "fromcurrent": true,
              "mode": "immediate",
              "transition": {
               "duration": 0,
               "easing": "linear"
              }
             }
            ],
            "label": "2022-08-27 12:00:00",
            "method": "animate"
           },
           {
            "args": [
             [
              "2022-08-27 15:00:00"
             ],
             {
              "frame": {
               "duration": 0,
               "redraw": true
              },
              "fromcurrent": true,
              "mode": "immediate",
              "transition": {
               "duration": 0,
               "easing": "linear"
              }
             }
            ],
            "label": "2022-08-27 15:00:00",
            "method": "animate"
           },
           {
            "args": [
             [
              "2022-08-27 18:00:00"
             ],
             {
              "frame": {
               "duration": 0,
               "redraw": true
              },
              "fromcurrent": true,
              "mode": "immediate",
              "transition": {
               "duration": 0,
               "easing": "linear"
              }
             }
            ],
            "label": "2022-08-27 18:00:00",
            "method": "animate"
           },
           {
            "args": [
             [
              "2022-08-27 21:00:00"
             ],
             {
              "frame": {
               "duration": 0,
               "redraw": true
              },
              "fromcurrent": true,
              "mode": "immediate",
              "transition": {
               "duration": 0,
               "easing": "linear"
              }
             }
            ],
            "label": "2022-08-27 21:00:00",
            "method": "animate"
           },
           {
            "args": [
             [
              "2022-08-28 00:00:00"
             ],
             {
              "frame": {
               "duration": 0,
               "redraw": true
              },
              "fromcurrent": true,
              "mode": "immediate",
              "transition": {
               "duration": 0,
               "easing": "linear"
              }
             }
            ],
            "label": "2022-08-28 00:00:00",
            "method": "animate"
           },
           {
            "args": [
             [
              "2022-08-28 03:00:00"
             ],
             {
              "frame": {
               "duration": 0,
               "redraw": true
              },
              "fromcurrent": true,
              "mode": "immediate",
              "transition": {
               "duration": 0,
               "easing": "linear"
              }
             }
            ],
            "label": "2022-08-28 03:00:00",
            "method": "animate"
           },
           {
            "args": [
             [
              "2022-08-28 06:00:00"
             ],
             {
              "frame": {
               "duration": 0,
               "redraw": true
              },
              "fromcurrent": true,
              "mode": "immediate",
              "transition": {
               "duration": 0,
               "easing": "linear"
              }
             }
            ],
            "label": "2022-08-28 06:00:00",
            "method": "animate"
           },
           {
            "args": [
             [
              "2022-08-28 09:00:00"
             ],
             {
              "frame": {
               "duration": 0,
               "redraw": true
              },
              "fromcurrent": true,
              "mode": "immediate",
              "transition": {
               "duration": 0,
               "easing": "linear"
              }
             }
            ],
            "label": "2022-08-28 09:00:00",
            "method": "animate"
           },
           {
            "args": [
             [
              "2022-08-28 12:00:00"
             ],
             {
              "frame": {
               "duration": 0,
               "redraw": true
              },
              "fromcurrent": true,
              "mode": "immediate",
              "transition": {
               "duration": 0,
               "easing": "linear"
              }
             }
            ],
            "label": "2022-08-28 12:00:00",
            "method": "animate"
           },
           {
            "args": [
             [
              "2022-08-28 15:00:00"
             ],
             {
              "frame": {
               "duration": 0,
               "redraw": true
              },
              "fromcurrent": true,
              "mode": "immediate",
              "transition": {
               "duration": 0,
               "easing": "linear"
              }
             }
            ],
            "label": "2022-08-28 15:00:00",
            "method": "animate"
           },
           {
            "args": [
             [
              "2022-08-28 18:00:00"
             ],
             {
              "frame": {
               "duration": 0,
               "redraw": true
              },
              "fromcurrent": true,
              "mode": "immediate",
              "transition": {
               "duration": 0,
               "easing": "linear"
              }
             }
            ],
            "label": "2022-08-28 18:00:00",
            "method": "animate"
           }
          ],
          "x": 0.1,
          "xanchor": "left",
          "y": 0,
          "yanchor": "top"
         }
        ],
        "template": {
         "data": {
          "bar": [
           {
            "error_x": {
             "color": "#2a3f5f"
            },
            "error_y": {
             "color": "#2a3f5f"
            },
            "marker": {
             "line": {
              "color": "#E5ECF6",
              "width": 0.5
             },
             "pattern": {
              "fillmode": "overlay",
              "size": 10,
              "solidity": 0.2
             }
            },
            "type": "bar"
           }
          ],
          "barpolar": [
           {
            "marker": {
             "line": {
              "color": "#E5ECF6",
              "width": 0.5
             },
             "pattern": {
              "fillmode": "overlay",
              "size": 10,
              "solidity": 0.2
             }
            },
            "type": "barpolar"
           }
          ],
          "carpet": [
           {
            "aaxis": {
             "endlinecolor": "#2a3f5f",
             "gridcolor": "white",
             "linecolor": "white",
             "minorgridcolor": "white",
             "startlinecolor": "#2a3f5f"
            },
            "baxis": {
             "endlinecolor": "#2a3f5f",
             "gridcolor": "white",
             "linecolor": "white",
             "minorgridcolor": "white",
             "startlinecolor": "#2a3f5f"
            },
            "type": "carpet"
           }
          ],
          "choropleth": [
           {
            "colorbar": {
             "outlinewidth": 0,
             "ticks": ""
            },
            "type": "choropleth"
           }
          ],
          "contour": [
           {
            "colorbar": {
             "outlinewidth": 0,
             "ticks": ""
            },
            "colorscale": [
             [
              0,
              "#0d0887"
             ],
             [
              0.1111111111111111,
              "#46039f"
             ],
             [
              0.2222222222222222,
              "#7201a8"
             ],
             [
              0.3333333333333333,
              "#9c179e"
             ],
             [
              0.4444444444444444,
              "#bd3786"
             ],
             [
              0.5555555555555556,
              "#d8576b"
             ],
             [
              0.6666666666666666,
              "#ed7953"
             ],
             [
              0.7777777777777778,
              "#fb9f3a"
             ],
             [
              0.8888888888888888,
              "#fdca26"
             ],
             [
              1,
              "#f0f921"
             ]
            ],
            "type": "contour"
           }
          ],
          "contourcarpet": [
           {
            "colorbar": {
             "outlinewidth": 0,
             "ticks": ""
            },
            "type": "contourcarpet"
           }
          ],
          "heatmap": [
           {
            "colorbar": {
             "outlinewidth": 0,
             "ticks": ""
            },
            "colorscale": [
             [
              0,
              "#0d0887"
             ],
             [
              0.1111111111111111,
              "#46039f"
             ],
             [
              0.2222222222222222,
              "#7201a8"
             ],
             [
              0.3333333333333333,
              "#9c179e"
             ],
             [
              0.4444444444444444,
              "#bd3786"
             ],
             [
              0.5555555555555556,
              "#d8576b"
             ],
             [
              0.6666666666666666,
              "#ed7953"
             ],
             [
              0.7777777777777778,
              "#fb9f3a"
             ],
             [
              0.8888888888888888,
              "#fdca26"
             ],
             [
              1,
              "#f0f921"
             ]
            ],
            "type": "heatmap"
           }
          ],
          "heatmapgl": [
           {
            "colorbar": {
             "outlinewidth": 0,
             "ticks": ""
            },
            "colorscale": [
             [
              0,
              "#0d0887"
             ],
             [
              0.1111111111111111,
              "#46039f"
             ],
             [
              0.2222222222222222,
              "#7201a8"
             ],
             [
              0.3333333333333333,
              "#9c179e"
             ],
             [
              0.4444444444444444,
              "#bd3786"
             ],
             [
              0.5555555555555556,
              "#d8576b"
             ],
             [
              0.6666666666666666,
              "#ed7953"
             ],
             [
              0.7777777777777778,
              "#fb9f3a"
             ],
             [
              0.8888888888888888,
              "#fdca26"
             ],
             [
              1,
              "#f0f921"
             ]
            ],
            "type": "heatmapgl"
           }
          ],
          "histogram": [
           {
            "marker": {
             "pattern": {
              "fillmode": "overlay",
              "size": 10,
              "solidity": 0.2
             }
            },
            "type": "histogram"
           }
          ],
          "histogram2d": [
           {
            "colorbar": {
             "outlinewidth": 0,
             "ticks": ""
            },
            "colorscale": [
             [
              0,
              "#0d0887"
             ],
             [
              0.1111111111111111,
              "#46039f"
             ],
             [
              0.2222222222222222,
              "#7201a8"
             ],
             [
              0.3333333333333333,
              "#9c179e"
             ],
             [
              0.4444444444444444,
              "#bd3786"
             ],
             [
              0.5555555555555556,
              "#d8576b"
             ],
             [
              0.6666666666666666,
              "#ed7953"
             ],
             [
              0.7777777777777778,
              "#fb9f3a"
             ],
             [
              0.8888888888888888,
              "#fdca26"
             ],
             [
              1,
              "#f0f921"
             ]
            ],
            "type": "histogram2d"
           }
          ],
          "histogram2dcontour": [
           {
            "colorbar": {
             "outlinewidth": 0,
             "ticks": ""
            },
            "colorscale": [
             [
              0,
              "#0d0887"
             ],
             [
              0.1111111111111111,
              "#46039f"
             ],
             [
              0.2222222222222222,
              "#7201a8"
             ],
             [
              0.3333333333333333,
              "#9c179e"
             ],
             [
              0.4444444444444444,
              "#bd3786"
             ],
             [
              0.5555555555555556,
              "#d8576b"
             ],
             [
              0.6666666666666666,
              "#ed7953"
             ],
             [
              0.7777777777777778,
              "#fb9f3a"
             ],
             [
              0.8888888888888888,
              "#fdca26"
             ],
             [
              1,
              "#f0f921"
             ]
            ],
            "type": "histogram2dcontour"
           }
          ],
          "mesh3d": [
           {
            "colorbar": {
             "outlinewidth": 0,
             "ticks": ""
            },
            "type": "mesh3d"
           }
          ],
          "parcoords": [
           {
            "line": {
             "colorbar": {
              "outlinewidth": 0,
              "ticks": ""
             }
            },
            "type": "parcoords"
           }
          ],
          "pie": [
           {
            "automargin": true,
            "type": "pie"
           }
          ],
          "scatter": [
           {
            "marker": {
             "colorbar": {
              "outlinewidth": 0,
              "ticks": ""
             }
            },
            "type": "scatter"
           }
          ],
          "scatter3d": [
           {
            "line": {
             "colorbar": {
              "outlinewidth": 0,
              "ticks": ""
             }
            },
            "marker": {
             "colorbar": {
              "outlinewidth": 0,
              "ticks": ""
             }
            },
            "type": "scatter3d"
           }
          ],
          "scattercarpet": [
           {
            "marker": {
             "colorbar": {
              "outlinewidth": 0,
              "ticks": ""
             }
            },
            "type": "scattercarpet"
           }
          ],
          "scattergeo": [
           {
            "marker": {
             "colorbar": {
              "outlinewidth": 0,
              "ticks": ""
             }
            },
            "type": "scattergeo"
           }
          ],
          "scattergl": [
           {
            "marker": {
             "colorbar": {
              "outlinewidth": 0,
              "ticks": ""
             }
            },
            "type": "scattergl"
           }
          ],
          "scattermapbox": [
           {
            "marker": {
             "colorbar": {
              "outlinewidth": 0,
              "ticks": ""
             }
            },
            "type": "scattermapbox"
           }
          ],
          "scatterpolar": [
           {
            "marker": {
             "colorbar": {
              "outlinewidth": 0,
              "ticks": ""
             }
            },
            "type": "scatterpolar"
           }
          ],
          "scatterpolargl": [
           {
            "marker": {
             "colorbar": {
              "outlinewidth": 0,
              "ticks": ""
             }
            },
            "type": "scatterpolargl"
           }
          ],
          "scatterternary": [
           {
            "marker": {
             "colorbar": {
              "outlinewidth": 0,
              "ticks": ""
             }
            },
            "type": "scatterternary"
           }
          ],
          "surface": [
           {
            "colorbar": {
             "outlinewidth": 0,
             "ticks": ""
            },
            "colorscale": [
             [
              0,
              "#0d0887"
             ],
             [
              0.1111111111111111,
              "#46039f"
             ],
             [
              0.2222222222222222,
              "#7201a8"
             ],
             [
              0.3333333333333333,
              "#9c179e"
             ],
             [
              0.4444444444444444,
              "#bd3786"
             ],
             [
              0.5555555555555556,
              "#d8576b"
             ],
             [
              0.6666666666666666,
              "#ed7953"
             ],
             [
              0.7777777777777778,
              "#fb9f3a"
             ],
             [
              0.8888888888888888,
              "#fdca26"
             ],
             [
              1,
              "#f0f921"
             ]
            ],
            "type": "surface"
           }
          ],
          "table": [
           {
            "cells": {
             "fill": {
              "color": "#EBF0F8"
             },
             "line": {
              "color": "white"
             }
            },
            "header": {
             "fill": {
              "color": "#C8D4E3"
             },
             "line": {
              "color": "white"
             }
            },
            "type": "table"
           }
          ]
         },
         "layout": {
          "annotationdefaults": {
           "arrowcolor": "#2a3f5f",
           "arrowhead": 0,
           "arrowwidth": 1
          },
          "autotypenumbers": "strict",
          "coloraxis": {
           "colorbar": {
            "outlinewidth": 0,
            "ticks": ""
           }
          },
          "colorscale": {
           "diverging": [
            [
             0,
             "#8e0152"
            ],
            [
             0.1,
             "#c51b7d"
            ],
            [
             0.2,
             "#de77ae"
            ],
            [
             0.3,
             "#f1b6da"
            ],
            [
             0.4,
             "#fde0ef"
            ],
            [
             0.5,
             "#f7f7f7"
            ],
            [
             0.6,
             "#e6f5d0"
            ],
            [
             0.7,
             "#b8e186"
            ],
            [
             0.8,
             "#7fbc41"
            ],
            [
             0.9,
             "#4d9221"
            ],
            [
             1,
             "#276419"
            ]
           ],
           "sequential": [
            [
             0,
             "#0d0887"
            ],
            [
             0.1111111111111111,
             "#46039f"
            ],
            [
             0.2222222222222222,
             "#7201a8"
            ],
            [
             0.3333333333333333,
             "#9c179e"
            ],
            [
             0.4444444444444444,
             "#bd3786"
            ],
            [
             0.5555555555555556,
             "#d8576b"
            ],
            [
             0.6666666666666666,
             "#ed7953"
            ],
            [
             0.7777777777777778,
             "#fb9f3a"
            ],
            [
             0.8888888888888888,
             "#fdca26"
            ],
            [
             1,
             "#f0f921"
            ]
           ],
           "sequentialminus": [
            [
             0,
             "#0d0887"
            ],
            [
             0.1111111111111111,
             "#46039f"
            ],
            [
             0.2222222222222222,
             "#7201a8"
            ],
            [
             0.3333333333333333,
             "#9c179e"
            ],
            [
             0.4444444444444444,
             "#bd3786"
            ],
            [
             0.5555555555555556,
             "#d8576b"
            ],
            [
             0.6666666666666666,
             "#ed7953"
            ],
            [
             0.7777777777777778,
             "#fb9f3a"
            ],
            [
             0.8888888888888888,
             "#fdca26"
            ],
            [
             1,
             "#f0f921"
            ]
           ]
          },
          "colorway": [
           "#636efa",
           "#EF553B",
           "#00cc96",
           "#ab63fa",
           "#FFA15A",
           "#19d3f3",
           "#FF6692",
           "#B6E880",
           "#FF97FF",
           "#FECB52"
          ],
          "font": {
           "color": "#2a3f5f"
          },
          "geo": {
           "bgcolor": "white",
           "lakecolor": "white",
           "landcolor": "#E5ECF6",
           "showlakes": true,
           "showland": true,
           "subunitcolor": "white"
          },
          "hoverlabel": {
           "align": "left"
          },
          "hovermode": "closest",
          "mapbox": {
           "style": "light"
          },
          "paper_bgcolor": "white",
          "plot_bgcolor": "#E5ECF6",
          "polar": {
           "angularaxis": {
            "gridcolor": "white",
            "linecolor": "white",
            "ticks": ""
           },
           "bgcolor": "#E5ECF6",
           "radialaxis": {
            "gridcolor": "white",
            "linecolor": "white",
            "ticks": ""
           }
          },
          "scene": {
           "xaxis": {
            "backgroundcolor": "#E5ECF6",
            "gridcolor": "white",
            "gridwidth": 2,
            "linecolor": "white",
            "showbackground": true,
            "ticks": "",
            "zerolinecolor": "white"
           },
           "yaxis": {
            "backgroundcolor": "#E5ECF6",
            "gridcolor": "white",
            "gridwidth": 2,
            "linecolor": "white",
            "showbackground": true,
            "ticks": "",
            "zerolinecolor": "white"
           },
           "zaxis": {
            "backgroundcolor": "#E5ECF6",
            "gridcolor": "white",
            "gridwidth": 2,
            "linecolor": "white",
            "showbackground": true,
            "ticks": "",
            "zerolinecolor": "white"
           }
          },
          "shapedefaults": {
           "line": {
            "color": "#2a3f5f"
           }
          },
          "ternary": {
           "aaxis": {
            "gridcolor": "white",
            "linecolor": "white",
            "ticks": ""
           },
           "baxis": {
            "gridcolor": "white",
            "linecolor": "white",
            "ticks": ""
           },
           "bgcolor": "#E5ECF6",
           "caxis": {
            "gridcolor": "white",
            "linecolor": "white",
            "ticks": ""
           }
          },
          "title": {
           "x": 0.05
          },
          "xaxis": {
           "automargin": true,
           "gridcolor": "white",
           "linecolor": "white",
           "ticks": "",
           "title": {
            "standoff": 15
           },
           "zerolinecolor": "white",
           "zerolinewidth": 2
          },
          "yaxis": {
           "automargin": true,
           "gridcolor": "white",
           "linecolor": "white",
           "ticks": "",
           "title": {
            "standoff": 15
           },
           "zerolinecolor": "white",
           "zerolinewidth": 2
          }
         }
        },
        "width": 800
       }
      }
     },
     "metadata": {},
     "output_type": "display_data"
    }
   ],
   "source": [
    "import plotly.express as px\n",
    "\n",
    "load_dotenv()\n",
    "token = os.getenv('MAPBOXKEY')\n",
    "px.set_mapbox_access_token(token)\n",
    "\n",
    "df = get_map_data()\n",
    "\n",
    "fig = px.scatter_mapbox(df, lat=\"latitude\", lon=\"longitude\", color=\"temp\", width=800, height=600,\n",
    "                  color_continuous_scale=px.colors.cyclical.IceFire, range_color=(-10, 40), animation_frame='datetime', animation_group='city')\n",
    "fig.update_traces(marker={'size': 20})\n",
    "fig.update_layout(margin={\"r\":0,\"t\":0,\"l\":0,\"b\":0})\n",
    "fig[\"layout\"].pop(\"updatemenus\")\n",
    "fig.show()\n"
   ]
  }
 ],
 "metadata": {
  "kernelspec": {
   "display_name": "Python 3.9.12 ('base')",
   "language": "python",
   "name": "python3"
  },
  "language_info": {
   "codemirror_mode": {
    "name": "ipython",
    "version": 3
   },
   "file_extension": ".py",
   "mimetype": "text/x-python",
   "name": "python",
   "nbconvert_exporter": "python",
   "pygments_lexer": "ipython3",
   "version": "3.9.12"
  },
  "vscode": {
   "interpreter": {
    "hash": "af6a7de25dd7bd9a9e288da6c3d15d5d500c51449326063643a18fc796b35585"
   }
  }
 },
 "nbformat": 4,
 "nbformat_minor": 5
}
