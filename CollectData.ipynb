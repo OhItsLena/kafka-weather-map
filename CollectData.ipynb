{
 "cells": [
  {
   "cell_type": "code",
   "execution_count": 1,
   "id": "b52af4a2",
   "metadata": {},
   "outputs": [],
   "source": [
    "#https://ipython.readthedocs.io/en/stable/config/extensions/autoreload.html?highlight=autoreload\n",
    "%load_ext autoreload\n",
    "%autoreload 2\n",
    "\n",
    "import json\n",
    "import time\n",
    "from datetime import datetime\n",
    "import pandas as pd\n",
    "from Kafka import KafkaWriter\n",
    "from OpenWeatherMap import OpenWeatherMap\n",
    "from confluent_kafka import Consumer"
   ]
  },
  {
   "cell_type": "code",
   "execution_count": 17,
   "metadata": {},
   "outputs": [],
   "source": [
    "openWeatherMap = OpenWeatherMap()\n",
    "kafkaForecast = KafkaWriter('weather.forecast')\n",
    "kafkaCleaned = KafkaWriter('weather.cleaned')\n",
    "\n",
    "def format_date(dt: str) -> str:\n",
    "    return datetime.fromtimestamp(float(dt)).strftime('%d.%m.%Y %H:%M')\n",
    "\n",
    "\n",
    "# load 'locations.json' into a json-object and return it\n",
    "def load_locations() -> json:\n",
    "    with open('locations.json', mode='r') as file:\n",
    "        return json.load(file)\n",
    "\n",
    "def get_transformed_forecast(cities: json) -> {}:\n",
    "    forecasts = []\n",
    "\n",
    "    for key in cities:\n",
    "        city = cities[key]\n",
    "        forecast = openWeatherMap.get_forecast(city)\n",
    "\n",
    "        value = {\n",
    "            'city': forecast['city']['name'],\n",
    "            'weather': []\n",
    "        }\n",
    "\n",
    "        preds = []\n",
    "        for pred in forecast['list']:\n",
    "            preds.append({\n",
    "                'dt': pred['dt_txt'],\n",
    "                'temp': pred['main']['temp']\n",
    "            })\n",
    "        value['weather'] = preds\n",
    "\n",
    "        forecasts.append(value)\n",
    "    cities = {\n",
    "        'cities': forecasts\n",
    "    }\n",
    "    return cities\n",
    "\n",
    "# for each location, query openWeatherMap for the 5-day forecast and \n",
    "# store the the returned values in Kafka\n",
    "def collect_forecast_data() -> None:\n",
    "    try:\n",
    "        print(\"Starting collection ...\")\n",
    "\n",
    "        cities = load_locations()\n",
    "\n",
    "        while True:\n",
    "            forecasts = get_transformed_forecast(cities)\n",
    "            dt = format_date(datetime.timestamp(datetime.now()))\n",
    "\n",
    "            kafkaForecast.store(dt, forecasts)\n",
    "\n",
    "            print(f\"Weather data collected at {dt}!\")\n",
    "\n",
    "            time.sleep(60)\n",
    "\n",
    "    except KeyboardInterrupt:\n",
    "        print(\"... collection stopped!\")"
   ]
  },
  {
   "cell_type": "code",
   "execution_count": 19,
   "id": "69089f34",
   "metadata": {},
   "outputs": [
    {
     "name": "stdout",
     "output_type": "stream",
     "text": [
      "Starting collection ...\n",
      "Weather data collected at 23.08.2022 21:22!\n",
      "... collection stopped!\n"
     ]
    }
   ],
   "source": [
    "collect_forecast_data()"
   ]
  },
  {
   "cell_type": "code",
   "execution_count": 15,
   "id": "4ee9dcf0",
   "metadata": {},
   "outputs": [],
   "source": [
    "kafkaForecast.store('test', 'test2')"
   ]
  },
  {
   "cell_type": "code",
   "execution_count": 8,
   "id": "1f5cb564",
   "metadata": {},
   "outputs": [
    {
     "data": {
      "text/plain": [
       "{'cities': [{'city': 'Bregenz',\n",
       "   'weather': [{'dt': '2022-08-23 18:00:00', 'temp': 24.11},\n",
       "    {'dt': '2022-08-23 21:00:00', 'temp': 21.1},\n",
       "    {'dt': '2022-08-24 00:00:00', 'temp': 17.39},\n",
       "    {'dt': '2022-08-24 03:00:00', 'temp': 13.12},\n",
       "    {'dt': '2022-08-24 06:00:00', 'temp': 15.35},\n",
       "    {'dt': '2022-08-24 09:00:00', 'temp': 21.49},\n",
       "    {'dt': '2022-08-24 12:00:00', 'temp': 25.83},\n",
       "    {'dt': '2022-08-24 15:00:00', 'temp': 26.66},\n",
       "    {'dt': '2022-08-24 18:00:00', 'temp': 20.25},\n",
       "    {'dt': '2022-08-24 21:00:00', 'temp': 16.7},\n",
       "    {'dt': '2022-08-25 00:00:00', 'temp': 15.64},\n",
       "    {'dt': '2022-08-25 03:00:00', 'temp': 14.96},\n",
       "    {'dt': '2022-08-25 06:00:00', 'temp': 16.88},\n",
       "    {'dt': '2022-08-25 09:00:00', 'temp': 22.46},\n",
       "    {'dt': '2022-08-25 12:00:00', 'temp': 25.07},\n",
       "    {'dt': '2022-08-25 15:00:00', 'temp': 25.66},\n",
       "    {'dt': '2022-08-25 18:00:00', 'temp': 20.62},\n",
       "    {'dt': '2022-08-25 21:00:00', 'temp': 17.75},\n",
       "    {'dt': '2022-08-26 00:00:00', 'temp': 16.94},\n",
       "    {'dt': '2022-08-26 03:00:00', 'temp': 16.17},\n",
       "    {'dt': '2022-08-26 06:00:00', 'temp': 18.43},\n",
       "    {'dt': '2022-08-26 09:00:00', 'temp': 24.29},\n",
       "    {'dt': '2022-08-26 12:00:00', 'temp': 25.47},\n",
       "    {'dt': '2022-08-26 15:00:00', 'temp': 26.71},\n",
       "    {'dt': '2022-08-26 18:00:00', 'temp': 21.68},\n",
       "    {'dt': '2022-08-26 21:00:00', 'temp': 17.97},\n",
       "    {'dt': '2022-08-27 00:00:00', 'temp': 18.2},\n",
       "    {'dt': '2022-08-27 03:00:00', 'temp': 17.67},\n",
       "    {'dt': '2022-08-27 06:00:00', 'temp': 17.71},\n",
       "    {'dt': '2022-08-27 09:00:00', 'temp': 18.74},\n",
       "    {'dt': '2022-08-27 12:00:00', 'temp': 18.35},\n",
       "    {'dt': '2022-08-27 15:00:00', 'temp': 18.41},\n",
       "    {'dt': '2022-08-27 18:00:00', 'temp': 17.77},\n",
       "    {'dt': '2022-08-27 21:00:00', 'temp': 16.26},\n",
       "    {'dt': '2022-08-28 00:00:00', 'temp': 15.05},\n",
       "    {'dt': '2022-08-28 03:00:00', 'temp': 14.26},\n",
       "    {'dt': '2022-08-28 06:00:00', 'temp': 15.46},\n",
       "    {'dt': '2022-08-28 09:00:00', 'temp': 20.72},\n",
       "    {'dt': '2022-08-28 12:00:00', 'temp': 23.59},\n",
       "    {'dt': '2022-08-28 15:00:00', 'temp': 23.31}]},\n",
       "  {'city': 'Ravensburg',\n",
       "   'weather': [{'dt': '2022-08-23 18:00:00', 'temp': 25.54},\n",
       "    {'dt': '2022-08-23 21:00:00', 'temp': 22.03},\n",
       "    {'dt': '2022-08-24 00:00:00', 'temp': 17.15},\n",
       "    {'dt': '2022-08-24 03:00:00', 'temp': 11.94},\n",
       "    {'dt': '2022-08-24 06:00:00', 'temp': 13.96},\n",
       "    {'dt': '2022-08-24 09:00:00', 'temp': 21.53},\n",
       "    {'dt': '2022-08-24 12:00:00', 'temp': 24.49},\n",
       "    {'dt': '2022-08-24 15:00:00', 'temp': 24.73},\n",
       "    {'dt': '2022-08-24 18:00:00', 'temp': 19.97},\n",
       "    {'dt': '2022-08-24 21:00:00', 'temp': 16.81},\n",
       "    {'dt': '2022-08-25 00:00:00', 'temp': 14.81},\n",
       "    {'dt': '2022-08-25 03:00:00', 'temp': 13.93},\n",
       "    {'dt': '2022-08-25 06:00:00', 'temp': 15.68},\n",
       "    {'dt': '2022-08-25 09:00:00', 'temp': 22.49},\n",
       "    {'dt': '2022-08-25 12:00:00', 'temp': 26.11},\n",
       "    {'dt': '2022-08-25 15:00:00', 'temp': 26.17},\n",
       "    {'dt': '2022-08-25 18:00:00', 'temp': 20.12},\n",
       "    {'dt': '2022-08-25 21:00:00', 'temp': 17.09},\n",
       "    {'dt': '2022-08-26 00:00:00', 'temp': 15.88},\n",
       "    {'dt': '2022-08-26 03:00:00', 'temp': 14.9},\n",
       "    {'dt': '2022-08-26 06:00:00', 'temp': 17.03},\n",
       "    {'dt': '2022-08-26 09:00:00', 'temp': 23.75},\n",
       "    {'dt': '2022-08-26 12:00:00', 'temp': 27.11},\n",
       "    {'dt': '2022-08-26 15:00:00', 'temp': 27.4},\n",
       "    {'dt': '2022-08-26 18:00:00', 'temp': 21.06},\n",
       "    {'dt': '2022-08-26 21:00:00', 'temp': 17.68},\n",
       "    {'dt': '2022-08-27 00:00:00', 'temp': 16.65},\n",
       "    {'dt': '2022-08-27 03:00:00', 'temp': 16.73},\n",
       "    {'dt': '2022-08-27 06:00:00', 'temp': 16.75},\n",
       "    {'dt': '2022-08-27 09:00:00', 'temp': 17.41},\n",
       "    {'dt': '2022-08-27 12:00:00', 'temp': 17.7},\n",
       "    {'dt': '2022-08-27 15:00:00', 'temp': 18.04},\n",
       "    {'dt': '2022-08-27 18:00:00', 'temp': 16.74},\n",
       "    {'dt': '2022-08-27 21:00:00', 'temp': 15.18},\n",
       "    {'dt': '2022-08-28 00:00:00', 'temp': 14.28},\n",
       "    {'dt': '2022-08-28 03:00:00', 'temp': 13.63},\n",
       "    {'dt': '2022-08-28 06:00:00', 'temp': 15.06},\n",
       "    {'dt': '2022-08-28 09:00:00', 'temp': 19.77},\n",
       "    {'dt': '2022-08-28 12:00:00', 'temp': 22.84},\n",
       "    {'dt': '2022-08-28 15:00:00', 'temp': 24.4}]}]}"
      ]
     },
     "execution_count": 8,
     "metadata": {},
     "output_type": "execute_result"
    }
   ],
   "source": [
    "json.loads(get_transformed_forecast(load_locations()))"
   ]
  }
 ],
 "metadata": {
  "kernelspec": {
   "display_name": "Python 3.9.12 ('base')",
   "language": "python",
   "name": "python3"
  },
  "language_info": {
   "codemirror_mode": {
    "name": "ipython",
    "version": 3
   },
   "file_extension": ".py",
   "mimetype": "text/x-python",
   "name": "python",
   "nbconvert_exporter": "python",
   "pygments_lexer": "ipython3",
   "version": "3.9.12"
  },
  "vscode": {
   "interpreter": {
    "hash": "af6a7de25dd7bd9a9e288da6c3d15d5d500c51449326063643a18fc796b35585"
   }
  }
 },
 "nbformat": 4,
 "nbformat_minor": 5
}
