{
 "cells": [
  {
   "cell_type": "code",
   "execution_count": 30,
   "metadata": {},
   "outputs": [
    {
     "name": "stdout",
     "output_type": "stream",
     "text": [
      "The autoreload extension is already loaded. To reload it, use:\n",
      "  %reload_ext autoreload\n"
     ]
    }
   ],
   "source": [
    "#https://ipython.readthedocs.io/en/stable/config/extensions/autoreload.html?highlight=autoreload\n",
    "%load_ext autoreload\n",
    "%autoreload 2\n",
    "\n",
    "import json\n",
    "import time\n",
    "import uuid\n",
    "from datetime import datetime\n",
    "import pandas as pd\n",
    "from Kafka import KafkaWriter, KafkaReader\n",
    "from OpenWeatherMap import OpenWeatherMap\n",
    "from confluent_kafka import Consumer, DeserializingConsumer, TopicPartition"
   ]
  },
  {
   "cell_type": "code",
   "execution_count": 38,
   "metadata": {},
   "outputs": [],
   "source": [
    "def keydecoder(k, ctx):\n",
    "    return k.decode('utf-8')\n",
    "def valuedecoder(v, ctx):\n",
    "    return json.loads(v.decode('utf-8'))\n",
    "\n",
    "def clean_forecast_data() -> None:\n",
    "    kafkaForecast = DeserializingConsumer({\n",
    "        'bootstrap.servers': 'localhost:9092',\n",
    "        'group.id': 'buffering',\n",
    "        'client.id': 'buffering',\n",
    "        'auto.offset.reset': 'earliest',\n",
    "        'value.deserializer': valuedecoder,\n",
    "        'key.deserializer': keydecoder\n",
    "    })\n",
    "    kafkaForecast.assign([TopicPartition('weather.forecast', 0)])\n",
    "\n",
    "    kafkaCleaned = DeserializingConsumer({\n",
    "        'bootstrap.servers': 'localhost:9092',\n",
    "        'group.id': 'cleaning',\n",
    "        'client.id': 'cleaning',\n",
    "        'auto.offset.reset': 'latest',\n",
    "        'enable.auto.commit': 'False',\n",
    "        'value.deserializer': valuedecoder,\n",
    "        'key.deserializer': keydecoder\n",
    "    })\n",
    "    kafkaCleaned.assign([TopicPartition('weather.cleaned', 0)])\n",
    "\n",
    "    kafka = KafkaWriter('weather.cleaned')\n",
    "    \n",
    "    try:\n",
    "        print(\"Looking for new unique data ...\")\n",
    "\n",
    "        while True:\n",
    "            msg = kafkaForecast.poll(1.0)\n",
    "            \n",
    "            if msg is not None:\n",
    "                offsets = kafkaCleaned.get_watermark_offsets(TopicPartition('weather.cleaned', 0))\n",
    "                kafkaCleaned.seek(TopicPartition('weather.cleaned', 0, offsets[1]-1))\n",
    "                lastCleaned = kafkaCleaned.poll(1.0)\n",
    "                if lastCleaned is None:\n",
    "                    kafka.store(msg.key(), msg.value())\n",
    "                    print(\"Stored first data!\")\n",
    "                elif msg.value() != lastCleaned.value():\n",
    "                    kafka.store(msg.key(), msg.value())\n",
    "                    print(\"Stored new data!\")\n",
    "                else:\n",
    "                    print(\"Nothing to do!\")\n",
    "\n",
    "    except KeyboardInterrupt:\n",
    "        print(\"... search for new values stopped!\")\n",
    "    finally:\n",
    "        kafkaForecast.close()\n",
    "        kafkaCleaned.close()\n",
    "        kafka.producer.close()"
   ]
  },
  {
   "cell_type": "code",
   "execution_count": 39,
   "metadata": {},
   "outputs": [
    {
     "name": "stdout",
     "output_type": "stream",
     "text": [
      "Looking for new unique data ...\n",
      "(0, 1)\n",
      "last cleaned:  <cimpl.Message object at 0x7fef255fb1c0>\n",
      "Nothing to do!\n",
      "(0, 1)\n",
      "last cleaned:  <cimpl.Message object at 0x7fef255fb340>\n",
      "Nothing to do!\n",
      "(0, 1)\n",
      "last cleaned:  <cimpl.Message object at 0x7fef255fb1c0>\n",
      "Nothing to do!\n",
      "(0, 1)\n",
      "last cleaned:  <cimpl.Message object at 0x7fef255fb340>\n",
      "Stored new data!\n",
      "(0, 2)\n",
      "last cleaned:  <cimpl.Message object at 0x7fef255fb540>\n",
      "Stored new data!\n",
      "(0, 3)\n",
      "last cleaned:  <cimpl.Message object at 0x7fef255fb7c0>\n",
      "Nothing to do!\n",
      "... search for new values stopped!\n"
     ]
    }
   ],
   "source": [
    "clean_forecast_data()"
   ]
  }
 ],
 "metadata": {
  "kernelspec": {
   "display_name": "Python 3.9.12 ('base')",
   "language": "python",
   "name": "python3"
  },
  "language_info": {
   "codemirror_mode": {
    "name": "ipython",
    "version": 3
   },
   "file_extension": ".py",
   "mimetype": "text/x-python",
   "name": "python",
   "nbconvert_exporter": "python",
   "pygments_lexer": "ipython3",
   "version": "3.9.12"
  },
  "orig_nbformat": 4,
  "vscode": {
   "interpreter": {
    "hash": "af6a7de25dd7bd9a9e288da6c3d15d5d500c51449326063643a18fc796b35585"
   }
  }
 },
 "nbformat": 4,
 "nbformat_minor": 2
}
