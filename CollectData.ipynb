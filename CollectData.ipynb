{
 "cells": [
  {
   "cell_type": "markdown",
   "id": "123939a0",
   "metadata": {},
   "source": [
    "# Data Collection Microservice"
   ]
  },
  {
   "cell_type": "markdown",
   "id": "839f2ced",
   "metadata": {},
   "source": [
    "## Imports"
   ]
  },
  {
   "cell_type": "code",
   "execution_count": 1,
   "id": "b52af4a2",
   "metadata": {},
   "outputs": [],
   "source": [
    "# reload .py files on change:\n",
    "# https://ipython.readthedocs.io/en/stable/config/extensions/autoreload.html?highlight=autoreload\n",
    "%load_ext autoreload\n",
    "%autoreload 2\n",
    "\n",
    "import json\n",
    "import time\n",
    "import os\n",
    "from datetime import datetime\n",
    "import pandas as pd\n",
    "\n",
    "# import custom classes\n",
    "from OpenWeatherMap import OpenWeatherMap\n",
    "from Kafka import KafkaConfluentWriter"
   ]
  },
  {
   "cell_type": "markdown",
   "id": "cddb9a6c",
   "metadata": {},
   "source": [
    "## Collection Logic\n",
    "The service needs to collect 5-day forecast data for our list of cities and pass the information on to Kafka."
   ]
  },
  {
   "cell_type": "code",
   "execution_count": 2,
   "metadata": {},
   "outputs": [],
   "source": [
    "openWeatherMap = OpenWeatherMap()\n",
    "kafkaConfluentWriter = KafkaConfluentWriter('weather.forecast')\n",
    "\n",
    "# helper function to format a timestamp to a readable datetime string\n",
    "def format_date(dt: str) -> str:\n",
    "    return datetime.fromtimestamp(float(dt)).strftime('%d.%m.%Y %H:%M')\n",
    "\n",
    "\n",
    "# load 'locations.json' into a json-object and return it\n",
    "def load_locations() -> json:\n",
    "    with open('locations.json', mode='r') as file:\n",
    "        return json.load(file)\n",
    "\n",
    "# query open weather map api and only keep data of interest\n",
    "# return a list of temperature forecasts for the cities\n",
    "def get_transformed_forecast(cities: json) -> {}:\n",
    "    forecasts = []\n",
    "\n",
    "    for key in cities:\n",
    "        city = cities[key]\n",
    "        forecast = openWeatherMap.get_forecast(city) # get forecast for city lat/long\n",
    "\n",
    "        value = {\n",
    "            'city': city,\n",
    "            'weather': []\n",
    "        }\n",
    "\n",
    "        preds = []\n",
    "        for pred in forecast['list']:\n",
    "            # for now we only care about the temperature\n",
    "            # - same logic could be applied for other features like wind, humidity, etc.\n",
    "            preds.append({\n",
    "                'dt': pred['dt_txt'],\n",
    "                'temp': pred['main']['temp'] \n",
    "            })\n",
    "        value['weather'] = preds\n",
    "\n",
    "        forecasts.append(value)\n",
    "    cities = {\n",
    "        'cities': forecasts\n",
    "    }\n",
    "    return cities\n",
    "\n",
    "# for each location, query openWeatherMap for the 5-day forecast and \n",
    "# store the returned values in Kafka\n",
    "def collect_forecast_data() -> None:\n",
    "    try:\n",
    "        print(\"Starting collection ...\")\n",
    "\n",
    "        cities = load_locations() # get locations from locations.json\n",
    "\n",
    "        # TASK 3: BUFFERING\n",
    "        while True: # look for new forecast information every 1 minute\n",
    "            forecasts = get_transformed_forecast(cities) # get temp forecasts from OpenWeatherMap\n",
    "            dt = format_date(datetime.timestamp(datetime.now())) # time of collection as message key\n",
    "\n",
    "            print(f\"Weather data collected at {dt}!\")\n",
    "            # store message with collection time and forecasts in Kafka\n",
    "            kafkaConfluentWriter.produce(dt, forecasts) \n",
    "\n",
    "            time.sleep(60) # wait 1 minute\n",
    "\n",
    "    except KeyboardInterrupt: # stop service with KeyboardInterrupt\n",
    "        print(\"... collection stopped!\")"
   ]
  },
  {
   "cell_type": "markdown",
   "id": "989590da",
   "metadata": {},
   "source": [
    "## Run the Service"
   ]
  },
  {
   "cell_type": "code",
   "execution_count": 5,
   "id": "69089f34",
   "metadata": {},
   "outputs": [
    {
     "name": "stdout",
     "output_type": "stream",
     "text": [
      "Starting collection ...\n",
      "Weather data collected at 24.08.2022 22:10!\n",
      "Message delivered to weather.forecast [0]\n",
      "Weather data collected at 24.08.2022 22:11!\n",
      "Message delivered to weather.forecast [0]\n",
      "Weather data collected at 24.08.2022 22:12!\n",
      "Message delivered to weather.forecast [0]\n",
      "... collection stopped!\n"
     ]
    }
   ],
   "source": [
    "# collect new data every minute until service is stopped (KeyboardInterrupt)\n",
    "collect_forecast_data()"
   ]
  }
 ],
 "metadata": {
  "kernelspec": {
   "display_name": "Python 3.9.12 ('base')",
   "language": "python",
   "name": "python3"
  },
  "language_info": {
   "codemirror_mode": {
    "name": "ipython",
    "version": 3
   },
   "file_extension": ".py",
   "mimetype": "text/x-python",
   "name": "python",
   "nbconvert_exporter": "python",
   "pygments_lexer": "ipython3",
   "version": "3.9.12"
  },
  "vscode": {
   "interpreter": {
    "hash": "af6a7de25dd7bd9a9e288da6c3d15d5d500c51449326063643a18fc796b35585"
   }
  }
 },
 "nbformat": 4,
 "nbformat_minor": 5
}
