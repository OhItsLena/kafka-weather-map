{
 "cells": [
  {
   "cell_type": "markdown",
   "metadata": {},
   "source": [
    "# Data Deduplication Microservice"
   ]
  },
  {
   "cell_type": "markdown",
   "metadata": {},
   "source": [
    "## Imports"
   ]
  },
  {
   "cell_type": "code",
   "execution_count": 1,
   "metadata": {},
   "outputs": [],
   "source": [
    "# reload .py files on change:\n",
    "# https://ipython.readthedocs.io/en/stable/config/extensions/autoreload.html?highlight=autoreload\n",
    "%load_ext autoreload\n",
    "%autoreload 2\n",
    "\n",
    "import json\n",
    "import time\n",
    "import uuid\n",
    "from datetime import datetime\n",
    "import pandas as pd\n",
    "\n",
    "# import custom classes\n",
    "from Kafka import KafkaConfluentWriter, KafkaConfluentReader\n",
    "from OpenWeatherMap import OpenWeatherMap"
   ]
  },
  {
   "cell_type": "markdown",
   "metadata": {},
   "source": [
    "## Deduplication Logic\n",
    "The service needs to monitor new messages from data collection with buffering and sort out duplicates for forwarding to new cleaned topic."
   ]
  },
  {
   "cell_type": "code",
   "execution_count": 2,
   "metadata": {},
   "outputs": [],
   "source": [
    "kafkaConfluentWriter = KafkaConfluentWriter('weather.cleaned') # producer for cleaned topic\n",
    "kafkaConluentReaderForecast = KafkaConfluentReader('weather.forecast', True) # consumer for buffered topic\n",
    "kafkaConfluentReaderCleaned = KafkaConfluentReader('weather.cleaned', False) # consumer for cleaned topic\n",
    "\n",
    "# TASK 4: DEDUPLICATION in new topic\n",
    "# for each new message in the forecast topic check if it already exists in cleaned topic\n",
    "# and forward message to cleaned topic if it's in fact a new message with updated forecasts\n",
    "def clean_forecast_data() -> None:    \n",
    "    try:\n",
    "        print(\"Looking for new unique data ...\")\n",
    "\n",
    "        while True: # constantly consume new messages from buffered topic\n",
    "            msg = kafkaConluentReaderForecast.poll(1.0) # get message at offset from buffered topic\n",
    "            \n",
    "            if msg is not None: # if a new message is present check its content\n",
    "                lastCleaned = kafkaConfluentReaderCleaned.get_latest_message(1.0) # get latest message from cleaned topic\n",
    "                if lastCleaned is None: # cleaned topic is empty - add the new message\n",
    "                    kafkaConfluentWriter.produce(msg.key(), msg.value())\n",
    "                    print(\"Stored first data!\")\n",
    "                elif msg.value() != lastCleaned.value(): # new message is different than latest message - add the new message\n",
    "                    kafkaConfluentWriter.produce(msg.key(), msg.value())\n",
    "                    print(\"Stored new data!\")\n",
    "                else: # new message is not different - do nothing\n",
    "                    print(\"Nothing to do!\")\n",
    "\n",
    "    except KeyboardInterrupt: # stop service with KeyboardInterrupt\n",
    "        print(\"... search for new values stopped!\")"
   ]
  },
  {
   "cell_type": "markdown",
   "metadata": {},
   "source": [
    "## Run the Service"
   ]
  },
  {
   "cell_type": "code",
   "execution_count": 5,
   "metadata": {},
   "outputs": [
    {
     "name": "stdout",
     "output_type": "stream",
     "text": [
      "Looking for new unique data ...\n",
      "Message delivered to weather.cleaned [0]\n",
      "Stored new data!\n",
      "Message delivered to weather.cleaned [0]\n",
      "Stored new data!\n",
      "Message delivered to weather.cleaned [0]\n",
      "Stored new data!\n",
      "... search for new values stopped!\n"
     ]
    }
   ],
   "source": [
    "# forward messages with actual updated forecasts to new topic until service is stopped (KeyboardInterrupt)\n",
    "clean_forecast_data()"
   ]
  }
 ],
 "metadata": {
  "kernelspec": {
   "display_name": "Python 3.9.12 ('base')",
   "language": "python",
   "name": "python3"
  },
  "language_info": {
   "codemirror_mode": {
    "name": "ipython",
    "version": 3
   },
   "file_extension": ".py",
   "mimetype": "text/x-python",
   "name": "python",
   "nbconvert_exporter": "python",
   "pygments_lexer": "ipython3",
   "version": "3.9.12"
  },
  "orig_nbformat": 4,
  "vscode": {
   "interpreter": {
    "hash": "af6a7de25dd7bd9a9e288da6c3d15d5d500c51449326063643a18fc796b35585"
   }
  }
 },
 "nbformat": 4,
 "nbformat_minor": 2
}
