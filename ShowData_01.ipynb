{
 "cells": [
  {
   "cell_type": "code",
   "execution_count": 65,
   "metadata": {},
   "outputs": [
    {
     "name": "stdout",
     "output_type": "stream",
     "text": [
      "The autoreload extension is already loaded. To reload it, use:\n",
      "  %reload_ext autoreload\n"
     ]
    },
    {
     "data": {
      "text/plain": [
       "True"
      ]
     },
     "execution_count": 65,
     "metadata": {},
     "output_type": "execute_result"
    }
   ],
   "source": [
    "#https://ipython.readthedocs.io/en/stable/config/extensions/autoreload.html?highlight=autoreload\n",
    "%load_ext autoreload\n",
    "%autoreload 2\n",
    "from datetime import datetime\n",
    "import pandas as pd\n",
    "import numpy as np\n",
    "import json\n",
    "import os\n",
    "from dotenv import load_dotenv\n",
    "import plotly.express as px\n",
    "from Kafka import KafkaReader\n",
    "\n",
    "load_dotenv()"
   ]
  },
  {
   "cell_type": "code",
   "execution_count": 98,
   "metadata": {
    "tags": []
   },
   "outputs": [],
   "source": [
    "class InfoMap:\n",
    "    df_map_data = None\n",
    "    df_locations = None\n",
    "    kafka = KafkaReader('weather.cleaned')\n",
    "\n",
    "    def __init__(self) -> None:\n",
    "        self.df_locations = self.load_locations()\n",
    "        token = os.getenv('MAPBOXKEY')\n",
    "        px.set_mapbox_access_token(token)\n",
    "\n",
    "    def close_kafka(self) -> None:\n",
    "        self.kafka.consumer.close()\n",
    "        \n",
    "    def get_forecasts(self) -> pd.DataFrame:\n",
    "        df = pd.DataFrame(columns=['datetime','temp','city'])\n",
    "        messages = self.kafka.retrieve()\n",
    "        if messages:\n",
    "            maxKey = pd.to_datetime(pd.DataFrame(messages.keys())[0]).max().strftime('%d.%m.%Y %H:%M')\n",
    "            for f in messages[maxKey]['cities']:\n",
    "                    city = f['city']\n",
    "                    for w in f['weather']:\n",
    "                        dt = w['dt']\n",
    "                        temp = w['temp']\n",
    "                        df.loc[len(df), df.columns] = dt, temp, city\n",
    "        return df\n",
    "\n",
    "    def load_locations(self) -> pd.DataFrame:\n",
    "        df = pd.read_json('locations.json').T\n",
    "        return df\n",
    "\n",
    "    def get_map_data(self) -> None:\n",
    "        forecasts = self.get_forecasts()\n",
    "        df = pd.merge(left=forecasts, right=self.df_locations, left_on='city', right_index=True)\n",
    "        df['temp'] = pd.to_numeric(df['temp'])\n",
    "        #df['datetime'] = pd.to_datetime(df['datetime'])\n",
    "        if not df.empty:\n",
    "            self.df_map_data = df\n",
    "    \n",
    "    def plot_map(self) -> None:\n",
    "        if not self.df_map_data.empty:\n",
    "            fig = px.scatter_mapbox(self.df_map_data, lat=\"latitude\", lon=\"longitude\", text=\"city\", color=\"temp\", width=1440, height=800,\n",
    "                            color_continuous_scale=px.colors.cyclical.IceFire, range_color=(-10, 40), animation_frame='datetime', animation_group='city', custom_data=['temp'])\n",
    "            fig.update_traces(hovertemplate =\n",
    "                                \"<b>%{text} </b><br>\" +\n",
    "                                \"Temperature: %{customdata[0]} °C<br>\" +\n",
    "                                \"Hinweise:\")\n",
    "            fig.update_traces(marker={'size': 20, 'opacity': 0.75})\n",
    "            fig.update_coloraxes(colorbar_title_text=\"Temperature\", colorbar_title_side=\"top\", colorbar_ypad=20,colorbar_tickformat=\".1f\", colorbar_ticksuffix=\" °C\")\n",
    "            fig['layout']['margin']=dict(r=0, t=0, l=0, b=0)\n",
    "            fig['layout']['sliders'][0]['currentvalue']={\"prefix\": \"Date and time: \"}\n",
    "            fig['layout']['sliders'][0]['pad']=dict(r=0, t=10, l=0, b=20)\n",
    "            fig[\"layout\"].pop(\"updatemenus\")\n",
    "            fig.show()\n",
    "        else:\n",
    "            print(\"No information available to plot yet!\")\n",
    "    \n",
    "    def update_map(self) -> None:\n",
    "        self.get_map_data()\n",
    "        self.plot_map()\n",
    "\n",
    "infoMap = InfoMap()"
   ]
  },
  {
   "cell_type": "code",
   "execution_count": 99,
   "id": "1a3478bd",
   "metadata": {},
   "outputs": [
    {
     "data": {
      "application/vnd.plotly.v1+json": {
       "config": {
        "plotlyServerURL": "https://plot.ly"
       },
       "data": [
        {
         "customdata": [
          [
           19.58
          ],
          [
           19.32
          ]
         ],
         "hovertemplate": "<b>%{text} </b><br>Temperature: %{customdata[0]} °C<br>Hinweise:",
         "ids": [
          "Bregenz",
          "Ravensburg"
         ],
         "lat": [
          47.5025779,
          47.7811014
         ],
         "legendgroup": "",
         "lon": [
          9.7472924,
          9.612468
         ],
         "marker": {
          "color": [
           19.58,
           19.32
          ],
          "coloraxis": "coloraxis",
          "opacity": 0.75,
          "size": 20
         },
         "mode": "markers+text",
         "name": "",
         "showlegend": false,
         "subplot": "mapbox",
         "text": [
          "Bregenz",
          "Ravensburg"
         ],
         "type": "scattermapbox"
        }
       ],
       "frames": [
        {
         "data": [
          {
           "customdata": [
            [
             19.58
            ],
            [
             19.32
            ]
           ],
           "hovertemplate": "datetime=2022-08-24 09:00:00<br>city=%{text}<br>latitude=%{lat}<br>longitude=%{lon}<br>temp=%{marker.color}<extra></extra>",
           "ids": [
            "Bregenz",
            "Ravensburg"
           ],
           "lat": [
            47.5025779,
            47.7811014
           ],
           "legendgroup": "",
           "lon": [
            9.7472924,
            9.612468
           ],
           "marker": {
            "color": [
             19.58,
             19.32
            ],
            "coloraxis": "coloraxis"
           },
           "mode": "markers+text",
           "name": "",
           "showlegend": false,
           "subplot": "mapbox",
           "text": [
            "Bregenz",
            "Ravensburg"
           ],
           "type": "scattermapbox"
          }
         ],
         "name": "2022-08-24 09:00:00"
        },
        {
         "data": [
          {
           "customdata": [
            [
             23.77
            ],
            [
             22.46
            ]
           ],
           "hovertemplate": "datetime=2022-08-24 12:00:00<br>city=%{text}<br>latitude=%{lat}<br>longitude=%{lon}<br>temp=%{marker.color}<extra></extra>",
           "ids": [
            "Bregenz",
            "Ravensburg"
           ],
           "lat": [
            47.5025779,
            47.7811014
           ],
           "legendgroup": "",
           "lon": [
            9.7472924,
            9.612468
           ],
           "marker": {
            "color": [
             23.77,
             22.46
            ],
            "coloraxis": "coloraxis"
           },
           "mode": "markers+text",
           "name": "",
           "showlegend": false,
           "subplot": "mapbox",
           "text": [
            "Bregenz",
            "Ravensburg"
           ],
           "type": "scattermapbox"
          }
         ],
         "name": "2022-08-24 12:00:00"
        },
        {
         "data": [
          {
           "customdata": [
            [
             26.88
            ],
            [
             24.83
            ]
           ],
           "hovertemplate": "datetime=2022-08-24 15:00:00<br>city=%{text}<br>latitude=%{lat}<br>longitude=%{lon}<br>temp=%{marker.color}<extra></extra>",
           "ids": [
            "Bregenz",
            "Ravensburg"
           ],
           "lat": [
            47.5025779,
            47.7811014
           ],
           "legendgroup": "",
           "lon": [
            9.7472924,
            9.612468
           ],
           "marker": {
            "color": [
             26.88,
             24.83
            ],
            "coloraxis": "coloraxis"
           },
           "mode": "markers+text",
           "name": "",
           "showlegend": false,
           "subplot": "mapbox",
           "text": [
            "Bregenz",
            "Ravensburg"
           ],
           "type": "scattermapbox"
          }
         ],
         "name": "2022-08-24 15:00:00"
        },
        {
         "data": [
          {
           "customdata": [
            [
             19.75
            ],
            [
             19.51
            ]
           ],
           "hovertemplate": "datetime=2022-08-24 18:00:00<br>city=%{text}<br>latitude=%{lat}<br>longitude=%{lon}<br>temp=%{marker.color}<extra></extra>",
           "ids": [
            "Bregenz",
            "Ravensburg"
           ],
           "lat": [
            47.5025779,
            47.7811014
           ],
           "legendgroup": "",
           "lon": [
            9.7472924,
            9.612468
           ],
           "marker": {
            "color": [
             19.75,
             19.51
            ],
            "coloraxis": "coloraxis"
           },
           "mode": "markers+text",
           "name": "",
           "showlegend": false,
           "subplot": "mapbox",
           "text": [
            "Bregenz",
            "Ravensburg"
           ],
           "type": "scattermapbox"
          }
         ],
         "name": "2022-08-24 18:00:00"
        },
        {
         "data": [
          {
           "customdata": [
            [
             16.87
            ],
            [
             16.72
            ]
           ],
           "hovertemplate": "datetime=2022-08-24 21:00:00<br>city=%{text}<br>latitude=%{lat}<br>longitude=%{lon}<br>temp=%{marker.color}<extra></extra>",
           "ids": [
            "Bregenz",
            "Ravensburg"
           ],
           "lat": [
            47.5025779,
            47.7811014
           ],
           "legendgroup": "",
           "lon": [
            9.7472924,
            9.612468
           ],
           "marker": {
            "color": [
             16.87,
             16.72
            ],
            "coloraxis": "coloraxis"
           },
           "mode": "markers+text",
           "name": "",
           "showlegend": false,
           "subplot": "mapbox",
           "text": [
            "Bregenz",
            "Ravensburg"
           ],
           "type": "scattermapbox"
          }
         ],
         "name": "2022-08-24 21:00:00"
        },
        {
         "data": [
          {
           "customdata": [
            [
             15.56
            ],
            [
             14.77
            ]
           ],
           "hovertemplate": "datetime=2022-08-25 00:00:00<br>city=%{text}<br>latitude=%{lat}<br>longitude=%{lon}<br>temp=%{marker.color}<extra></extra>",
           "ids": [
            "Bregenz",
            "Ravensburg"
           ],
           "lat": [
            47.5025779,
            47.7811014
           ],
           "legendgroup": "",
           "lon": [
            9.7472924,
            9.612468
           ],
           "marker": {
            "color": [
             15.56,
             14.77
            ],
            "coloraxis": "coloraxis"
           },
           "mode": "markers+text",
           "name": "",
           "showlegend": false,
           "subplot": "mapbox",
           "text": [
            "Bregenz",
            "Ravensburg"
           ],
           "type": "scattermapbox"
          }
         ],
         "name": "2022-08-25 00:00:00"
        },
        {
         "data": [
          {
           "customdata": [
            [
             14.58
            ],
            [
             13.48
            ]
           ],
           "hovertemplate": "datetime=2022-08-25 03:00:00<br>city=%{text}<br>latitude=%{lat}<br>longitude=%{lon}<br>temp=%{marker.color}<extra></extra>",
           "ids": [
            "Bregenz",
            "Ravensburg"
           ],
           "lat": [
            47.5025779,
            47.7811014
           ],
           "legendgroup": "",
           "lon": [
            9.7472924,
            9.612468
           ],
           "marker": {
            "color": [
             14.58,
             13.48
            ],
            "coloraxis": "coloraxis"
           },
           "mode": "markers+text",
           "name": "",
           "showlegend": false,
           "subplot": "mapbox",
           "text": [
            "Bregenz",
            "Ravensburg"
           ],
           "type": "scattermapbox"
          }
         ],
         "name": "2022-08-25 03:00:00"
        },
        {
         "data": [
          {
           "customdata": [
            [
             16.45
            ],
            [
             15.22
            ]
           ],
           "hovertemplate": "datetime=2022-08-25 06:00:00<br>city=%{text}<br>latitude=%{lat}<br>longitude=%{lon}<br>temp=%{marker.color}<extra></extra>",
           "ids": [
            "Bregenz",
            "Ravensburg"
           ],
           "lat": [
            47.5025779,
            47.7811014
           ],
           "legendgroup": "",
           "lon": [
            9.7472924,
            9.612468
           ],
           "marker": {
            "color": [
             16.45,
             15.22
            ],
            "coloraxis": "coloraxis"
           },
           "mode": "markers+text",
           "name": "",
           "showlegend": false,
           "subplot": "mapbox",
           "text": [
            "Bregenz",
            "Ravensburg"
           ],
           "type": "scattermapbox"
          }
         ],
         "name": "2022-08-25 06:00:00"
        },
        {
         "data": [
          {
           "customdata": [
            [
             22.16
            ],
            [
             22.34
            ]
           ],
           "hovertemplate": "datetime=2022-08-25 09:00:00<br>city=%{text}<br>latitude=%{lat}<br>longitude=%{lon}<br>temp=%{marker.color}<extra></extra>",
           "ids": [
            "Bregenz",
            "Ravensburg"
           ],
           "lat": [
            47.5025779,
            47.7811014
           ],
           "legendgroup": "",
           "lon": [
            9.7472924,
            9.612468
           ],
           "marker": {
            "color": [
             22.16,
             22.34
            ],
            "coloraxis": "coloraxis"
           },
           "mode": "markers+text",
           "name": "",
           "showlegend": false,
           "subplot": "mapbox",
           "text": [
            "Bregenz",
            "Ravensburg"
           ],
           "type": "scattermapbox"
          }
         ],
         "name": "2022-08-25 09:00:00"
        },
        {
         "data": [
          {
           "customdata": [
            [
             24.76
            ],
            [
             26.05
            ]
           ],
           "hovertemplate": "datetime=2022-08-25 12:00:00<br>city=%{text}<br>latitude=%{lat}<br>longitude=%{lon}<br>temp=%{marker.color}<extra></extra>",
           "ids": [
            "Bregenz",
            "Ravensburg"
           ],
           "lat": [
            47.5025779,
            47.7811014
           ],
           "legendgroup": "",
           "lon": [
            9.7472924,
            9.612468
           ],
           "marker": {
            "color": [
             24.76,
             26.05
            ],
            "coloraxis": "coloraxis"
           },
           "mode": "markers+text",
           "name": "",
           "showlegend": false,
           "subplot": "mapbox",
           "text": [
            "Bregenz",
            "Ravensburg"
           ],
           "type": "scattermapbox"
          }
         ],
         "name": "2022-08-25 12:00:00"
        },
        {
         "data": [
          {
           "customdata": [
            [
             25.67
            ],
            [
             26.25
            ]
           ],
           "hovertemplate": "datetime=2022-08-25 15:00:00<br>city=%{text}<br>latitude=%{lat}<br>longitude=%{lon}<br>temp=%{marker.color}<extra></extra>",
           "ids": [
            "Bregenz",
            "Ravensburg"
           ],
           "lat": [
            47.5025779,
            47.7811014
           ],
           "legendgroup": "",
           "lon": [
            9.7472924,
            9.612468
           ],
           "marker": {
            "color": [
             25.67,
             26.25
            ],
            "coloraxis": "coloraxis"
           },
           "mode": "markers+text",
           "name": "",
           "showlegend": false,
           "subplot": "mapbox",
           "text": [
            "Bregenz",
            "Ravensburg"
           ],
           "type": "scattermapbox"
          }
         ],
         "name": "2022-08-25 15:00:00"
        },
        {
         "data": [
          {
           "customdata": [
            [
             20.41
            ],
            [
             20.16
            ]
           ],
           "hovertemplate": "datetime=2022-08-25 18:00:00<br>city=%{text}<br>latitude=%{lat}<br>longitude=%{lon}<br>temp=%{marker.color}<extra></extra>",
           "ids": [
            "Bregenz",
            "Ravensburg"
           ],
           "lat": [
            47.5025779,
            47.7811014
           ],
           "legendgroup": "",
           "lon": [
            9.7472924,
            9.612468
           ],
           "marker": {
            "color": [
             20.41,
             20.16
            ],
            "coloraxis": "coloraxis"
           },
           "mode": "markers+text",
           "name": "",
           "showlegend": false,
           "subplot": "mapbox",
           "text": [
            "Bregenz",
            "Ravensburg"
           ],
           "type": "scattermapbox"
          }
         ],
         "name": "2022-08-25 18:00:00"
        },
        {
         "data": [
          {
           "customdata": [
            [
             17.69
            ],
            [
             17.17
            ]
           ],
           "hovertemplate": "datetime=2022-08-25 21:00:00<br>city=%{text}<br>latitude=%{lat}<br>longitude=%{lon}<br>temp=%{marker.color}<extra></extra>",
           "ids": [
            "Bregenz",
            "Ravensburg"
           ],
           "lat": [
            47.5025779,
            47.7811014
           ],
           "legendgroup": "",
           "lon": [
            9.7472924,
            9.612468
           ],
           "marker": {
            "color": [
             17.69,
             17.17
            ],
            "coloraxis": "coloraxis"
           },
           "mode": "markers+text",
           "name": "",
           "showlegend": false,
           "subplot": "mapbox",
           "text": [
            "Bregenz",
            "Ravensburg"
           ],
           "type": "scattermapbox"
          }
         ],
         "name": "2022-08-25 21:00:00"
        },
        {
         "data": [
          {
           "customdata": [
            [
             16.84
            ],
            [
             15.87
            ]
           ],
           "hovertemplate": "datetime=2022-08-26 00:00:00<br>city=%{text}<br>latitude=%{lat}<br>longitude=%{lon}<br>temp=%{marker.color}<extra></extra>",
           "ids": [
            "Bregenz",
            "Ravensburg"
           ],
           "lat": [
            47.5025779,
            47.7811014
           ],
           "legendgroup": "",
           "lon": [
            9.7472924,
            9.612468
           ],
           "marker": {
            "color": [
             16.84,
             15.87
            ],
            "coloraxis": "coloraxis"
           },
           "mode": "markers+text",
           "name": "",
           "showlegend": false,
           "subplot": "mapbox",
           "text": [
            "Bregenz",
            "Ravensburg"
           ],
           "type": "scattermapbox"
          }
         ],
         "name": "2022-08-26 00:00:00"
        },
        {
         "data": [
          {
           "customdata": [
            [
             16.06
            ],
            [
             14.94
            ]
           ],
           "hovertemplate": "datetime=2022-08-26 03:00:00<br>city=%{text}<br>latitude=%{lat}<br>longitude=%{lon}<br>temp=%{marker.color}<extra></extra>",
           "ids": [
            "Bregenz",
            "Ravensburg"
           ],
           "lat": [
            47.5025779,
            47.7811014
           ],
           "legendgroup": "",
           "lon": [
            9.7472924,
            9.612468
           ],
           "marker": {
            "color": [
             16.06,
             14.94
            ],
            "coloraxis": "coloraxis"
           },
           "mode": "markers+text",
           "name": "",
           "showlegend": false,
           "subplot": "mapbox",
           "text": [
            "Bregenz",
            "Ravensburg"
           ],
           "type": "scattermapbox"
          }
         ],
         "name": "2022-08-26 03:00:00"
        },
        {
         "data": [
          {
           "customdata": [
            [
             18.24
            ],
            [
             16.75
            ]
           ],
           "hovertemplate": "datetime=2022-08-26 06:00:00<br>city=%{text}<br>latitude=%{lat}<br>longitude=%{lon}<br>temp=%{marker.color}<extra></extra>",
           "ids": [
            "Bregenz",
            "Ravensburg"
           ],
           "lat": [
            47.5025779,
            47.7811014
           ],
           "legendgroup": "",
           "lon": [
            9.7472924,
            9.612468
           ],
           "marker": {
            "color": [
             18.24,
             16.75
            ],
            "coloraxis": "coloraxis"
           },
           "mode": "markers+text",
           "name": "",
           "showlegend": false,
           "subplot": "mapbox",
           "text": [
            "Bregenz",
            "Ravensburg"
           ],
           "type": "scattermapbox"
          }
         ],
         "name": "2022-08-26 06:00:00"
        },
        {
         "data": [
          {
           "customdata": [
            [
             23.83
            ],
            [
             22.84
            ]
           ],
           "hovertemplate": "datetime=2022-08-26 09:00:00<br>city=%{text}<br>latitude=%{lat}<br>longitude=%{lon}<br>temp=%{marker.color}<extra></extra>",
           "ids": [
            "Bregenz",
            "Ravensburg"
           ],
           "lat": [
            47.5025779,
            47.7811014
           ],
           "legendgroup": "",
           "lon": [
            9.7472924,
            9.612468
           ],
           "marker": {
            "color": [
             23.83,
             22.84
            ],
            "coloraxis": "coloraxis"
           },
           "mode": "markers+text",
           "name": "",
           "showlegend": false,
           "subplot": "mapbox",
           "text": [
            "Bregenz",
            "Ravensburg"
           ],
           "type": "scattermapbox"
          }
         ],
         "name": "2022-08-26 09:00:00"
        },
        {
         "data": [
          {
           "customdata": [
            [
             25.45
            ],
            [
             27.08
            ]
           ],
           "hovertemplate": "datetime=2022-08-26 12:00:00<br>city=%{text}<br>latitude=%{lat}<br>longitude=%{lon}<br>temp=%{marker.color}<extra></extra>",
           "ids": [
            "Bregenz",
            "Ravensburg"
           ],
           "lat": [
            47.5025779,
            47.7811014
           ],
           "legendgroup": "",
           "lon": [
            9.7472924,
            9.612468
           ],
           "marker": {
            "color": [
             25.45,
             27.08
            ],
            "coloraxis": "coloraxis"
           },
           "mode": "markers+text",
           "name": "",
           "showlegend": false,
           "subplot": "mapbox",
           "text": [
            "Bregenz",
            "Ravensburg"
           ],
           "type": "scattermapbox"
          }
         ],
         "name": "2022-08-26 12:00:00"
        },
        {
         "data": [
          {
           "customdata": [
            [
             26.68
            ],
            [
             24.73
            ]
           ],
           "hovertemplate": "datetime=2022-08-26 15:00:00<br>city=%{text}<br>latitude=%{lat}<br>longitude=%{lon}<br>temp=%{marker.color}<extra></extra>",
           "ids": [
            "Bregenz",
            "Ravensburg"
           ],
           "lat": [
            47.5025779,
            47.7811014
           ],
           "legendgroup": "",
           "lon": [
            9.7472924,
            9.612468
           ],
           "marker": {
            "color": [
             26.68,
             24.73
            ],
            "coloraxis": "coloraxis"
           },
           "mode": "markers+text",
           "name": "",
           "showlegend": false,
           "subplot": "mapbox",
           "text": [
            "Bregenz",
            "Ravensburg"
           ],
           "type": "scattermapbox"
          }
         ],
         "name": "2022-08-26 15:00:00"
        },
        {
         "data": [
          {
           "customdata": [
            [
             21.28
            ],
            [
             20.14
            ]
           ],
           "hovertemplate": "datetime=2022-08-26 18:00:00<br>city=%{text}<br>latitude=%{lat}<br>longitude=%{lon}<br>temp=%{marker.color}<extra></extra>",
           "ids": [
            "Bregenz",
            "Ravensburg"
           ],
           "lat": [
            47.5025779,
            47.7811014
           ],
           "legendgroup": "",
           "lon": [
            9.7472924,
            9.612468
           ],
           "marker": {
            "color": [
             21.28,
             20.14
            ],
            "coloraxis": "coloraxis"
           },
           "mode": "markers+text",
           "name": "",
           "showlegend": false,
           "subplot": "mapbox",
           "text": [
            "Bregenz",
            "Ravensburg"
           ],
           "type": "scattermapbox"
          }
         ],
         "name": "2022-08-26 18:00:00"
        },
        {
         "data": [
          {
           "customdata": [
            [
             16.91
            ],
            [
             17.42
            ]
           ],
           "hovertemplate": "datetime=2022-08-26 21:00:00<br>city=%{text}<br>latitude=%{lat}<br>longitude=%{lon}<br>temp=%{marker.color}<extra></extra>",
           "ids": [
            "Bregenz",
            "Ravensburg"
           ],
           "lat": [
            47.5025779,
            47.7811014
           ],
           "legendgroup": "",
           "lon": [
            9.7472924,
            9.612468
           ],
           "marker": {
            "color": [
             16.91,
             17.42
            ],
            "coloraxis": "coloraxis"
           },
           "mode": "markers+text",
           "name": "",
           "showlegend": false,
           "subplot": "mapbox",
           "text": [
            "Bregenz",
            "Ravensburg"
           ],
           "type": "scattermapbox"
          }
         ],
         "name": "2022-08-26 21:00:00"
        },
        {
         "data": [
          {
           "customdata": [
            [
             17.35
            ],
            [
             16.39
            ]
           ],
           "hovertemplate": "datetime=2022-08-27 00:00:00<br>city=%{text}<br>latitude=%{lat}<br>longitude=%{lon}<br>temp=%{marker.color}<extra></extra>",
           "ids": [
            "Bregenz",
            "Ravensburg"
           ],
           "lat": [
            47.5025779,
            47.7811014
           ],
           "legendgroup": "",
           "lon": [
            9.7472924,
            9.612468
           ],
           "marker": {
            "color": [
             17.35,
             16.39
            ],
            "coloraxis": "coloraxis"
           },
           "mode": "markers+text",
           "name": "",
           "showlegend": false,
           "subplot": "mapbox",
           "text": [
            "Bregenz",
            "Ravensburg"
           ],
           "type": "scattermapbox"
          }
         ],
         "name": "2022-08-27 00:00:00"
        },
        {
         "data": [
          {
           "customdata": [
            [
             17.32
            ],
            [
             16.27
            ]
           ],
           "hovertemplate": "datetime=2022-08-27 03:00:00<br>city=%{text}<br>latitude=%{lat}<br>longitude=%{lon}<br>temp=%{marker.color}<extra></extra>",
           "ids": [
            "Bregenz",
            "Ravensburg"
           ],
           "lat": [
            47.5025779,
            47.7811014
           ],
           "legendgroup": "",
           "lon": [
            9.7472924,
            9.612468
           ],
           "marker": {
            "color": [
             17.32,
             16.27
            ],
            "coloraxis": "coloraxis"
           },
           "mode": "markers+text",
           "name": "",
           "showlegend": false,
           "subplot": "mapbox",
           "text": [
            "Bregenz",
            "Ravensburg"
           ],
           "type": "scattermapbox"
          }
         ],
         "name": "2022-08-27 03:00:00"
        },
        {
         "data": [
          {
           "customdata": [
            [
             18.02
            ],
            [
             16.82
            ]
           ],
           "hovertemplate": "datetime=2022-08-27 06:00:00<br>city=%{text}<br>latitude=%{lat}<br>longitude=%{lon}<br>temp=%{marker.color}<extra></extra>",
           "ids": [
            "Bregenz",
            "Ravensburg"
           ],
           "lat": [
            47.5025779,
            47.7811014
           ],
           "legendgroup": "",
           "lon": [
            9.7472924,
            9.612468
           ],
           "marker": {
            "color": [
             18.02,
             16.82
            ],
            "coloraxis": "coloraxis"
           },
           "mode": "markers+text",
           "name": "",
           "showlegend": false,
           "subplot": "mapbox",
           "text": [
            "Bregenz",
            "Ravensburg"
           ],
           "type": "scattermapbox"
          }
         ],
         "name": "2022-08-27 06:00:00"
        },
        {
         "data": [
          {
           "customdata": [
            [
             22.31
            ],
            [
             21.92
            ]
           ],
           "hovertemplate": "datetime=2022-08-27 09:00:00<br>city=%{text}<br>latitude=%{lat}<br>longitude=%{lon}<br>temp=%{marker.color}<extra></extra>",
           "ids": [
            "Bregenz",
            "Ravensburg"
           ],
           "lat": [
            47.5025779,
            47.7811014
           ],
           "legendgroup": "",
           "lon": [
            9.7472924,
            9.612468
           ],
           "marker": {
            "color": [
             22.31,
             21.92
            ],
            "coloraxis": "coloraxis"
           },
           "mode": "markers+text",
           "name": "",
           "showlegend": false,
           "subplot": "mapbox",
           "text": [
            "Bregenz",
            "Ravensburg"
           ],
           "type": "scattermapbox"
          }
         ],
         "name": "2022-08-27 09:00:00"
        },
        {
         "data": [
          {
           "customdata": [
            [
             24.99
            ],
            [
             23.93
            ]
           ],
           "hovertemplate": "datetime=2022-08-27 12:00:00<br>city=%{text}<br>latitude=%{lat}<br>longitude=%{lon}<br>temp=%{marker.color}<extra></extra>",
           "ids": [
            "Bregenz",
            "Ravensburg"
           ],
           "lat": [
            47.5025779,
            47.7811014
           ],
           "legendgroup": "",
           "lon": [
            9.7472924,
            9.612468
           ],
           "marker": {
            "color": [
             24.99,
             23.93
            ],
            "coloraxis": "coloraxis"
           },
           "mode": "markers+text",
           "name": "",
           "showlegend": false,
           "subplot": "mapbox",
           "text": [
            "Bregenz",
            "Ravensburg"
           ],
           "type": "scattermapbox"
          }
         ],
         "name": "2022-08-27 12:00:00"
        },
        {
         "data": [
          {
           "customdata": [
            [
             25.34
            ],
            [
             23.78
            ]
           ],
           "hovertemplate": "datetime=2022-08-27 15:00:00<br>city=%{text}<br>latitude=%{lat}<br>longitude=%{lon}<br>temp=%{marker.color}<extra></extra>",
           "ids": [
            "Bregenz",
            "Ravensburg"
           ],
           "lat": [
            47.5025779,
            47.7811014
           ],
           "legendgroup": "",
           "lon": [
            9.7472924,
            9.612468
           ],
           "marker": {
            "color": [
             25.34,
             23.78
            ],
            "coloraxis": "coloraxis"
           },
           "mode": "markers+text",
           "name": "",
           "showlegend": false,
           "subplot": "mapbox",
           "text": [
            "Bregenz",
            "Ravensburg"
           ],
           "type": "scattermapbox"
          }
         ],
         "name": "2022-08-27 15:00:00"
        },
        {
         "data": [
          {
           "customdata": [
            [
             19.13
            ],
            [
             17.94
            ]
           ],
           "hovertemplate": "datetime=2022-08-27 18:00:00<br>city=%{text}<br>latitude=%{lat}<br>longitude=%{lon}<br>temp=%{marker.color}<extra></extra>",
           "ids": [
            "Bregenz",
            "Ravensburg"
           ],
           "lat": [
            47.5025779,
            47.7811014
           ],
           "legendgroup": "",
           "lon": [
            9.7472924,
            9.612468
           ],
           "marker": {
            "color": [
             19.13,
             17.94
            ],
            "coloraxis": "coloraxis"
           },
           "mode": "markers+text",
           "name": "",
           "showlegend": false,
           "subplot": "mapbox",
           "text": [
            "Bregenz",
            "Ravensburg"
           ],
           "type": "scattermapbox"
          }
         ],
         "name": "2022-08-27 18:00:00"
        },
        {
         "data": [
          {
           "customdata": [
            [
             17.32
            ],
            [
             16.42
            ]
           ],
           "hovertemplate": "datetime=2022-08-27 21:00:00<br>city=%{text}<br>latitude=%{lat}<br>longitude=%{lon}<br>temp=%{marker.color}<extra></extra>",
           "ids": [
            "Bregenz",
            "Ravensburg"
           ],
           "lat": [
            47.5025779,
            47.7811014
           ],
           "legendgroup": "",
           "lon": [
            9.7472924,
            9.612468
           ],
           "marker": {
            "color": [
             17.32,
             16.42
            ],
            "coloraxis": "coloraxis"
           },
           "mode": "markers+text",
           "name": "",
           "showlegend": false,
           "subplot": "mapbox",
           "text": [
            "Bregenz",
            "Ravensburg"
           ],
           "type": "scattermapbox"
          }
         ],
         "name": "2022-08-27 21:00:00"
        },
        {
         "data": [
          {
           "customdata": [
            [
             16.47
            ],
            [
             15.28
            ]
           ],
           "hovertemplate": "datetime=2022-08-28 00:00:00<br>city=%{text}<br>latitude=%{lat}<br>longitude=%{lon}<br>temp=%{marker.color}<extra></extra>",
           "ids": [
            "Bregenz",
            "Ravensburg"
           ],
           "lat": [
            47.5025779,
            47.7811014
           ],
           "legendgroup": "",
           "lon": [
            9.7472924,
            9.612468
           ],
           "marker": {
            "color": [
             16.47,
             15.28
            ],
            "coloraxis": "coloraxis"
           },
           "mode": "markers+text",
           "name": "",
           "showlegend": false,
           "subplot": "mapbox",
           "text": [
            "Bregenz",
            "Ravensburg"
           ],
           "type": "scattermapbox"
          }
         ],
         "name": "2022-08-28 00:00:00"
        },
        {
         "data": [
          {
           "customdata": [
            [
             15.61
            ],
            [
             14.52
            ]
           ],
           "hovertemplate": "datetime=2022-08-28 03:00:00<br>city=%{text}<br>latitude=%{lat}<br>longitude=%{lon}<br>temp=%{marker.color}<extra></extra>",
           "ids": [
            "Bregenz",
            "Ravensburg"
           ],
           "lat": [
            47.5025779,
            47.7811014
           ],
           "legendgroup": "",
           "lon": [
            9.7472924,
            9.612468
           ],
           "marker": {
            "color": [
             15.61,
             14.52
            ],
            "coloraxis": "coloraxis"
           },
           "mode": "markers+text",
           "name": "",
           "showlegend": false,
           "subplot": "mapbox",
           "text": [
            "Bregenz",
            "Ravensburg"
           ],
           "type": "scattermapbox"
          }
         ],
         "name": "2022-08-28 03:00:00"
        },
        {
         "data": [
          {
           "customdata": [
            [
             16.6
            ],
            [
             15.78
            ]
           ],
           "hovertemplate": "datetime=2022-08-28 06:00:00<br>city=%{text}<br>latitude=%{lat}<br>longitude=%{lon}<br>temp=%{marker.color}<extra></extra>",
           "ids": [
            "Bregenz",
            "Ravensburg"
           ],
           "lat": [
            47.5025779,
            47.7811014
           ],
           "legendgroup": "",
           "lon": [
            9.7472924,
            9.612468
           ],
           "marker": {
            "color": [
             16.6,
             15.78
            ],
            "coloraxis": "coloraxis"
           },
           "mode": "markers+text",
           "name": "",
           "showlegend": false,
           "subplot": "mapbox",
           "text": [
            "Bregenz",
            "Ravensburg"
           ],
           "type": "scattermapbox"
          }
         ],
         "name": "2022-08-28 06:00:00"
        },
        {
         "data": [
          {
           "customdata": [
            [
             21.63
            ],
            [
             20.67
            ]
           ],
           "hovertemplate": "datetime=2022-08-28 09:00:00<br>city=%{text}<br>latitude=%{lat}<br>longitude=%{lon}<br>temp=%{marker.color}<extra></extra>",
           "ids": [
            "Bregenz",
            "Ravensburg"
           ],
           "lat": [
            47.5025779,
            47.7811014
           ],
           "legendgroup": "",
           "lon": [
            9.7472924,
            9.612468
           ],
           "marker": {
            "color": [
             21.63,
             20.67
            ],
            "coloraxis": "coloraxis"
           },
           "mode": "markers+text",
           "name": "",
           "showlegend": false,
           "subplot": "mapbox",
           "text": [
            "Bregenz",
            "Ravensburg"
           ],
           "type": "scattermapbox"
          }
         ],
         "name": "2022-08-28 09:00:00"
        },
        {
         "data": [
          {
           "customdata": [
            [
             23.7
            ],
            [
             23.56
            ]
           ],
           "hovertemplate": "datetime=2022-08-28 12:00:00<br>city=%{text}<br>latitude=%{lat}<br>longitude=%{lon}<br>temp=%{marker.color}<extra></extra>",
           "ids": [
            "Bregenz",
            "Ravensburg"
           ],
           "lat": [
            47.5025779,
            47.7811014
           ],
           "legendgroup": "",
           "lon": [
            9.7472924,
            9.612468
           ],
           "marker": {
            "color": [
             23.7,
             23.56
            ],
            "coloraxis": "coloraxis"
           },
           "mode": "markers+text",
           "name": "",
           "showlegend": false,
           "subplot": "mapbox",
           "text": [
            "Bregenz",
            "Ravensburg"
           ],
           "type": "scattermapbox"
          }
         ],
         "name": "2022-08-28 12:00:00"
        },
        {
         "data": [
          {
           "customdata": [
            [
             24.35
            ],
            [
             23.77
            ]
           ],
           "hovertemplate": "datetime=2022-08-28 15:00:00<br>city=%{text}<br>latitude=%{lat}<br>longitude=%{lon}<br>temp=%{marker.color}<extra></extra>",
           "ids": [
            "Bregenz",
            "Ravensburg"
           ],
           "lat": [
            47.5025779,
            47.7811014
           ],
           "legendgroup": "",
           "lon": [
            9.7472924,
            9.612468
           ],
           "marker": {
            "color": [
             24.35,
             23.77
            ],
            "coloraxis": "coloraxis"
           },
           "mode": "markers+text",
           "name": "",
           "showlegend": false,
           "subplot": "mapbox",
           "text": [
            "Bregenz",
            "Ravensburg"
           ],
           "type": "scattermapbox"
          }
         ],
         "name": "2022-08-28 15:00:00"
        },
        {
         "data": [
          {
           "customdata": [
            [
             19.66
            ],
            [
             18.19
            ]
           ],
           "hovertemplate": "datetime=2022-08-28 18:00:00<br>city=%{text}<br>latitude=%{lat}<br>longitude=%{lon}<br>temp=%{marker.color}<extra></extra>",
           "ids": [
            "Bregenz",
            "Ravensburg"
           ],
           "lat": [
            47.5025779,
            47.7811014
           ],
           "legendgroup": "",
           "lon": [
            9.7472924,
            9.612468
           ],
           "marker": {
            "color": [
             19.66,
             18.19
            ],
            "coloraxis": "coloraxis"
           },
           "mode": "markers+text",
           "name": "",
           "showlegend": false,
           "subplot": "mapbox",
           "text": [
            "Bregenz",
            "Ravensburg"
           ],
           "type": "scattermapbox"
          }
         ],
         "name": "2022-08-28 18:00:00"
        },
        {
         "data": [
          {
           "customdata": [
            [
             16.77
            ],
            [
             15.91
            ]
           ],
           "hovertemplate": "datetime=2022-08-28 21:00:00<br>city=%{text}<br>latitude=%{lat}<br>longitude=%{lon}<br>temp=%{marker.color}<extra></extra>",
           "ids": [
            "Bregenz",
            "Ravensburg"
           ],
           "lat": [
            47.5025779,
            47.7811014
           ],
           "legendgroup": "",
           "lon": [
            9.7472924,
            9.612468
           ],
           "marker": {
            "color": [
             16.77,
             15.91
            ],
            "coloraxis": "coloraxis"
           },
           "mode": "markers+text",
           "name": "",
           "showlegend": false,
           "subplot": "mapbox",
           "text": [
            "Bregenz",
            "Ravensburg"
           ],
           "type": "scattermapbox"
          }
         ],
         "name": "2022-08-28 21:00:00"
        },
        {
         "data": [
          {
           "customdata": [
            [
             15.76
            ],
            [
             14.62
            ]
           ],
           "hovertemplate": "datetime=2022-08-29 00:00:00<br>city=%{text}<br>latitude=%{lat}<br>longitude=%{lon}<br>temp=%{marker.color}<extra></extra>",
           "ids": [
            "Bregenz",
            "Ravensburg"
           ],
           "lat": [
            47.5025779,
            47.7811014
           ],
           "legendgroup": "",
           "lon": [
            9.7472924,
            9.612468
           ],
           "marker": {
            "color": [
             15.76,
             14.62
            ],
            "coloraxis": "coloraxis"
           },
           "mode": "markers+text",
           "name": "",
           "showlegend": false,
           "subplot": "mapbox",
           "text": [
            "Bregenz",
            "Ravensburg"
           ],
           "type": "scattermapbox"
          }
         ],
         "name": "2022-08-29 00:00:00"
        },
        {
         "data": [
          {
           "customdata": [
            [
             14.97
            ],
            [
             13.75
            ]
           ],
           "hovertemplate": "datetime=2022-08-29 03:00:00<br>city=%{text}<br>latitude=%{lat}<br>longitude=%{lon}<br>temp=%{marker.color}<extra></extra>",
           "ids": [
            "Bregenz",
            "Ravensburg"
           ],
           "lat": [
            47.5025779,
            47.7811014
           ],
           "legendgroup": "",
           "lon": [
            9.7472924,
            9.612468
           ],
           "marker": {
            "color": [
             14.97,
             13.75
            ],
            "coloraxis": "coloraxis"
           },
           "mode": "markers+text",
           "name": "",
           "showlegend": false,
           "subplot": "mapbox",
           "text": [
            "Bregenz",
            "Ravensburg"
           ],
           "type": "scattermapbox"
          }
         ],
         "name": "2022-08-29 03:00:00"
        },
        {
         "data": [
          {
           "customdata": [
            [
             16.55
            ],
            [
             15.46
            ]
           ],
           "hovertemplate": "datetime=2022-08-29 06:00:00<br>city=%{text}<br>latitude=%{lat}<br>longitude=%{lon}<br>temp=%{marker.color}<extra></extra>",
           "ids": [
            "Bregenz",
            "Ravensburg"
           ],
           "lat": [
            47.5025779,
            47.7811014
           ],
           "legendgroup": "",
           "lon": [
            9.7472924,
            9.612468
           ],
           "marker": {
            "color": [
             16.55,
             15.46
            ],
            "coloraxis": "coloraxis"
           },
           "mode": "markers+text",
           "name": "",
           "showlegend": false,
           "subplot": "mapbox",
           "text": [
            "Bregenz",
            "Ravensburg"
           ],
           "type": "scattermapbox"
          }
         ],
         "name": "2022-08-29 06:00:00"
        }
       ],
       "layout": {
        "coloraxis": {
         "cmax": 40,
         "cmin": -10,
         "colorbar": {
          "tickformat": ".1f",
          "ticksuffix": " °C",
          "title": {
           "side": "top",
           "text": "Temperature"
          },
          "ypad": 20
         },
         "colorscale": [
          [
           0,
           "#000000"
          ],
          [
           0.0625,
           "#001f4d"
          ],
          [
           0.125,
           "#003786"
          ],
          [
           0.1875,
           "#0e58a8"
          ],
          [
           0.25,
           "#217eb8"
          ],
          [
           0.3125,
           "#30a4ca"
          ],
          [
           0.375,
           "#54c8df"
          ],
          [
           0.4375,
           "#9be4ef"
          ],
          [
           0.5,
           "#e1e9d1"
          ],
          [
           0.5625,
           "#f3d573"
          ],
          [
           0.625,
           "#e7b000"
          ],
          [
           0.6875,
           "#da8200"
          ],
          [
           0.75,
           "#c65400"
          ],
          [
           0.8125,
           "#ac2301"
          ],
          [
           0.875,
           "#820000"
          ],
          [
           0.9375,
           "#4c0000"
          ],
          [
           1,
           "#000000"
          ]
         ]
        },
        "height": 800,
        "legend": {
         "tracegroupgap": 0
        },
        "mapbox": {
         "accesstoken": "pk.eyJ1Ijoib2hpdHNsZW5hIiwiYSI6ImNqdDNicjNheDB0OGUzenBxNWFueXVweHAifQ.SlggtzzOlVJJNK_y6tpKRQ",
         "center": {
          "lat": 47.64183964999995,
          "lon": 9.679880200000005
         },
         "domain": {
          "x": [
           0,
           1
          ],
          "y": [
           0,
           1
          ]
         },
         "zoom": 8
        },
        "margin": {
         "b": 0,
         "l": 0,
         "r": 0,
         "t": 0
        },
        "sliders": [
         {
          "active": 0,
          "currentvalue": {
           "prefix": "Date and time: "
          },
          "len": 0.9,
          "pad": {
           "b": 20,
           "l": 0,
           "r": 0,
           "t": 10
          },
          "steps": [
           {
            "args": [
             [
              "2022-08-24 09:00:00"
             ],
             {
              "frame": {
               "duration": 0,
               "redraw": true
              },
              "fromcurrent": true,
              "mode": "immediate",
              "transition": {
               "duration": 0,
               "easing": "linear"
              }
             }
            ],
            "label": "2022-08-24 09:00:00",
            "method": "animate"
           },
           {
            "args": [
             [
              "2022-08-24 12:00:00"
             ],
             {
              "frame": {
               "duration": 0,
               "redraw": true
              },
              "fromcurrent": true,
              "mode": "immediate",
              "transition": {
               "duration": 0,
               "easing": "linear"
              }
             }
            ],
            "label": "2022-08-24 12:00:00",
            "method": "animate"
           },
           {
            "args": [
             [
              "2022-08-24 15:00:00"
             ],
             {
              "frame": {
               "duration": 0,
               "redraw": true
              },
              "fromcurrent": true,
              "mode": "immediate",
              "transition": {
               "duration": 0,
               "easing": "linear"
              }
             }
            ],
            "label": "2022-08-24 15:00:00",
            "method": "animate"
           },
           {
            "args": [
             [
              "2022-08-24 18:00:00"
             ],
             {
              "frame": {
               "duration": 0,
               "redraw": true
              },
              "fromcurrent": true,
              "mode": "immediate",
              "transition": {
               "duration": 0,
               "easing": "linear"
              }
             }
            ],
            "label": "2022-08-24 18:00:00",
            "method": "animate"
           },
           {
            "args": [
             [
              "2022-08-24 21:00:00"
             ],
             {
              "frame": {
               "duration": 0,
               "redraw": true
              },
              "fromcurrent": true,
              "mode": "immediate",
              "transition": {
               "duration": 0,
               "easing": "linear"
              }
             }
            ],
            "label": "2022-08-24 21:00:00",
            "method": "animate"
           },
           {
            "args": [
             [
              "2022-08-25 00:00:00"
             ],
             {
              "frame": {
               "duration": 0,
               "redraw": true
              },
              "fromcurrent": true,
              "mode": "immediate",
              "transition": {
               "duration": 0,
               "easing": "linear"
              }
             }
            ],
            "label": "2022-08-25 00:00:00",
            "method": "animate"
           },
           {
            "args": [
             [
              "2022-08-25 03:00:00"
             ],
             {
              "frame": {
               "duration": 0,
               "redraw": true
              },
              "fromcurrent": true,
              "mode": "immediate",
              "transition": {
               "duration": 0,
               "easing": "linear"
              }
             }
            ],
            "label": "2022-08-25 03:00:00",
            "method": "animate"
           },
           {
            "args": [
             [
              "2022-08-25 06:00:00"
             ],
             {
              "frame": {
               "duration": 0,
               "redraw": true
              },
              "fromcurrent": true,
              "mode": "immediate",
              "transition": {
               "duration": 0,
               "easing": "linear"
              }
             }
            ],
            "label": "2022-08-25 06:00:00",
            "method": "animate"
           },
           {
            "args": [
             [
              "2022-08-25 09:00:00"
             ],
             {
              "frame": {
               "duration": 0,
               "redraw": true
              },
              "fromcurrent": true,
              "mode": "immediate",
              "transition": {
               "duration": 0,
               "easing": "linear"
              }
             }
            ],
            "label": "2022-08-25 09:00:00",
            "method": "animate"
           },
           {
            "args": [
             [
              "2022-08-25 12:00:00"
             ],
             {
              "frame": {
               "duration": 0,
               "redraw": true
              },
              "fromcurrent": true,
              "mode": "immediate",
              "transition": {
               "duration": 0,
               "easing": "linear"
              }
             }
            ],
            "label": "2022-08-25 12:00:00",
            "method": "animate"
           },
           {
            "args": [
             [
              "2022-08-25 15:00:00"
             ],
             {
              "frame": {
               "duration": 0,
               "redraw": true
              },
              "fromcurrent": true,
              "mode": "immediate",
              "transition": {
               "duration": 0,
               "easing": "linear"
              }
             }
            ],
            "label": "2022-08-25 15:00:00",
            "method": "animate"
           },
           {
            "args": [
             [
              "2022-08-25 18:00:00"
             ],
             {
              "frame": {
               "duration": 0,
               "redraw": true
              },
              "fromcurrent": true,
              "mode": "immediate",
              "transition": {
               "duration": 0,
               "easing": "linear"
              }
             }
            ],
            "label": "2022-08-25 18:00:00",
            "method": "animate"
           },
           {
            "args": [
             [
              "2022-08-25 21:00:00"
             ],
             {
              "frame": {
               "duration": 0,
               "redraw": true
              },
              "fromcurrent": true,
              "mode": "immediate",
              "transition": {
               "duration": 0,
               "easing": "linear"
              }
             }
            ],
            "label": "2022-08-25 21:00:00",
            "method": "animate"
           },
           {
            "args": [
             [
              "2022-08-26 00:00:00"
             ],
             {
              "frame": {
               "duration": 0,
               "redraw": true
              },
              "fromcurrent": true,
              "mode": "immediate",
              "transition": {
               "duration": 0,
               "easing": "linear"
              }
             }
            ],
            "label": "2022-08-26 00:00:00",
            "method": "animate"
           },
           {
            "args": [
             [
              "2022-08-26 03:00:00"
             ],
             {
              "frame": {
               "duration": 0,
               "redraw": true
              },
              "fromcurrent": true,
              "mode": "immediate",
              "transition": {
               "duration": 0,
               "easing": "linear"
              }
             }
            ],
            "label": "2022-08-26 03:00:00",
            "method": "animate"
           },
           {
            "args": [
             [
              "2022-08-26 06:00:00"
             ],
             {
              "frame": {
               "duration": 0,
               "redraw": true
              },
              "fromcurrent": true,
              "mode": "immediate",
              "transition": {
               "duration": 0,
               "easing": "linear"
              }
             }
            ],
            "label": "2022-08-26 06:00:00",
            "method": "animate"
           },
           {
            "args": [
             [
              "2022-08-26 09:00:00"
             ],
             {
              "frame": {
               "duration": 0,
               "redraw": true
              },
              "fromcurrent": true,
              "mode": "immediate",
              "transition": {
               "duration": 0,
               "easing": "linear"
              }
             }
            ],
            "label": "2022-08-26 09:00:00",
            "method": "animate"
           },
           {
            "args": [
             [
              "2022-08-26 12:00:00"
             ],
             {
              "frame": {
               "duration": 0,
               "redraw": true
              },
              "fromcurrent": true,
              "mode": "immediate",
              "transition": {
               "duration": 0,
               "easing": "linear"
              }
             }
            ],
            "label": "2022-08-26 12:00:00",
            "method": "animate"
           },
           {
            "args": [
             [
              "2022-08-26 15:00:00"
             ],
             {
              "frame": {
               "duration": 0,
               "redraw": true
              },
              "fromcurrent": true,
              "mode": "immediate",
              "transition": {
               "duration": 0,
               "easing": "linear"
              }
             }
            ],
            "label": "2022-08-26 15:00:00",
            "method": "animate"
           },
           {
            "args": [
             [
              "2022-08-26 18:00:00"
             ],
             {
              "frame": {
               "duration": 0,
               "redraw": true
              },
              "fromcurrent": true,
              "mode": "immediate",
              "transition": {
               "duration": 0,
               "easing": "linear"
              }
             }
            ],
            "label": "2022-08-26 18:00:00",
            "method": "animate"
           },
           {
            "args": [
             [
              "2022-08-26 21:00:00"
             ],
             {
              "frame": {
               "duration": 0,
               "redraw": true
              },
              "fromcurrent": true,
              "mode": "immediate",
              "transition": {
               "duration": 0,
               "easing": "linear"
              }
             }
            ],
            "label": "2022-08-26 21:00:00",
            "method": "animate"
           },
           {
            "args": [
             [
              "2022-08-27 00:00:00"
             ],
             {
              "frame": {
               "duration": 0,
               "redraw": true
              },
              "fromcurrent": true,
              "mode": "immediate",
              "transition": {
               "duration": 0,
               "easing": "linear"
              }
             }
            ],
            "label": "2022-08-27 00:00:00",
            "method": "animate"
           },
           {
            "args": [
             [
              "2022-08-27 03:00:00"
             ],
             {
              "frame": {
               "duration": 0,
               "redraw": true
              },
              "fromcurrent": true,
              "mode": "immediate",
              "transition": {
               "duration": 0,
               "easing": "linear"
              }
             }
            ],
            "label": "2022-08-27 03:00:00",
            "method": "animate"
           },
           {
            "args": [
             [
              "2022-08-27 06:00:00"
             ],
             {
              "frame": {
               "duration": 0,
               "redraw": true
              },
              "fromcurrent": true,
              "mode": "immediate",
              "transition": {
               "duration": 0,
               "easing": "linear"
              }
             }
            ],
            "label": "2022-08-27 06:00:00",
            "method": "animate"
           },
           {
            "args": [
             [
              "2022-08-27 09:00:00"
             ],
             {
              "frame": {
               "duration": 0,
               "redraw": true
              },
              "fromcurrent": true,
              "mode": "immediate",
              "transition": {
               "duration": 0,
               "easing": "linear"
              }
             }
            ],
            "label": "2022-08-27 09:00:00",
            "method": "animate"
           },
           {
            "args": [
             [
              "2022-08-27 12:00:00"
             ],
             {
              "frame": {
               "duration": 0,
               "redraw": true
              },
              "fromcurrent": true,
              "mode": "immediate",
              "transition": {
               "duration": 0,
               "easing": "linear"
              }
             }
            ],
            "label": "2022-08-27 12:00:00",
            "method": "animate"
           },
           {
            "args": [
             [
              "2022-08-27 15:00:00"
             ],
             {
              "frame": {
               "duration": 0,
               "redraw": true
              },
              "fromcurrent": true,
              "mode": "immediate",
              "transition": {
               "duration": 0,
               "easing": "linear"
              }
             }
            ],
            "label": "2022-08-27 15:00:00",
            "method": "animate"
           },
           {
            "args": [
             [
              "2022-08-27 18:00:00"
             ],
             {
              "frame": {
               "duration": 0,
               "redraw": true
              },
              "fromcurrent": true,
              "mode": "immediate",
              "transition": {
               "duration": 0,
               "easing": "linear"
              }
             }
            ],
            "label": "2022-08-27 18:00:00",
            "method": "animate"
           },
           {
            "args": [
             [
              "2022-08-27 21:00:00"
             ],
             {
              "frame": {
               "duration": 0,
               "redraw": true
              },
              "fromcurrent": true,
              "mode": "immediate",
              "transition": {
               "duration": 0,
               "easing": "linear"
              }
             }
            ],
            "label": "2022-08-27 21:00:00",
            "method": "animate"
           },
           {
            "args": [
             [
              "2022-08-28 00:00:00"
             ],
             {
              "frame": {
               "duration": 0,
               "redraw": true
              },
              "fromcurrent": true,
              "mode": "immediate",
              "transition": {
               "duration": 0,
               "easing": "linear"
              }
             }
            ],
            "label": "2022-08-28 00:00:00",
            "method": "animate"
           },
           {
            "args": [
             [
              "2022-08-28 03:00:00"
             ],
             {
              "frame": {
               "duration": 0,
               "redraw": true
              },
              "fromcurrent": true,
              "mode": "immediate",
              "transition": {
               "duration": 0,
               "easing": "linear"
              }
             }
            ],
            "label": "2022-08-28 03:00:00",
            "method": "animate"
           },
           {
            "args": [
             [
              "2022-08-28 06:00:00"
             ],
             {
              "frame": {
               "duration": 0,
               "redraw": true
              },
              "fromcurrent": true,
              "mode": "immediate",
              "transition": {
               "duration": 0,
               "easing": "linear"
              }
             }
            ],
            "label": "2022-08-28 06:00:00",
            "method": "animate"
           },
           {
            "args": [
             [
              "2022-08-28 09:00:00"
             ],
             {
              "frame": {
               "duration": 0,
               "redraw": true
              },
              "fromcurrent": true,
              "mode": "immediate",
              "transition": {
               "duration": 0,
               "easing": "linear"
              }
             }
            ],
            "label": "2022-08-28 09:00:00",
            "method": "animate"
           },
           {
            "args": [
             [
              "2022-08-28 12:00:00"
             ],
             {
              "frame": {
               "duration": 0,
               "redraw": true
              },
              "fromcurrent": true,
              "mode": "immediate",
              "transition": {
               "duration": 0,
               "easing": "linear"
              }
             }
            ],
            "label": "2022-08-28 12:00:00",
            "method": "animate"
           },
           {
            "args": [
             [
              "2022-08-28 15:00:00"
             ],
             {
              "frame": {
               "duration": 0,
               "redraw": true
              },
              "fromcurrent": true,
              "mode": "immediate",
              "transition": {
               "duration": 0,
               "easing": "linear"
              }
             }
            ],
            "label": "2022-08-28 15:00:00",
            "method": "animate"
           },
           {
            "args": [
             [
              "2022-08-28 18:00:00"
             ],
             {
              "frame": {
               "duration": 0,
               "redraw": true
              },
              "fromcurrent": true,
              "mode": "immediate",
              "transition": {
               "duration": 0,
               "easing": "linear"
              }
             }
            ],
            "label": "2022-08-28 18:00:00",
            "method": "animate"
           },
           {
            "args": [
             [
              "2022-08-28 21:00:00"
             ],
             {
              "frame": {
               "duration": 0,
               "redraw": true
              },
              "fromcurrent": true,
              "mode": "immediate",
              "transition": {
               "duration": 0,
               "easing": "linear"
              }
             }
            ],
            "label": "2022-08-28 21:00:00",
            "method": "animate"
           },
           {
            "args": [
             [
              "2022-08-29 00:00:00"
             ],
             {
              "frame": {
               "duration": 0,
               "redraw": true
              },
              "fromcurrent": true,
              "mode": "immediate",
              "transition": {
               "duration": 0,
               "easing": "linear"
              }
             }
            ],
            "label": "2022-08-29 00:00:00",
            "method": "animate"
           },
           {
            "args": [
             [
              "2022-08-29 03:00:00"
             ],
             {
              "frame": {
               "duration": 0,
               "redraw": true
              },
              "fromcurrent": true,
              "mode": "immediate",
              "transition": {
               "duration": 0,
               "easing": "linear"
              }
             }
            ],
            "label": "2022-08-29 03:00:00",
            "method": "animate"
           },
           {
            "args": [
             [
              "2022-08-29 06:00:00"
             ],
             {
              "frame": {
               "duration": 0,
               "redraw": true
              },
              "fromcurrent": true,
              "mode": "immediate",
              "transition": {
               "duration": 0,
               "easing": "linear"
              }
             }
            ],
            "label": "2022-08-29 06:00:00",
            "method": "animate"
           }
          ],
          "x": 0.1,
          "xanchor": "left",
          "y": 0,
          "yanchor": "top"
         }
        ],
        "template": {
         "data": {
          "bar": [
           {
            "error_x": {
             "color": "#2a3f5f"
            },
            "error_y": {
             "color": "#2a3f5f"
            },
            "marker": {
             "line": {
              "color": "#E5ECF6",
              "width": 0.5
             },
             "pattern": {
              "fillmode": "overlay",
              "size": 10,
              "solidity": 0.2
             }
            },
            "type": "bar"
           }
          ],
          "barpolar": [
           {
            "marker": {
             "line": {
              "color": "#E5ECF6",
              "width": 0.5
             },
             "pattern": {
              "fillmode": "overlay",
              "size": 10,
              "solidity": 0.2
             }
            },
            "type": "barpolar"
           }
          ],
          "carpet": [
           {
            "aaxis": {
             "endlinecolor": "#2a3f5f",
             "gridcolor": "white",
             "linecolor": "white",
             "minorgridcolor": "white",
             "startlinecolor": "#2a3f5f"
            },
            "baxis": {
             "endlinecolor": "#2a3f5f",
             "gridcolor": "white",
             "linecolor": "white",
             "minorgridcolor": "white",
             "startlinecolor": "#2a3f5f"
            },
            "type": "carpet"
           }
          ],
          "choropleth": [
           {
            "colorbar": {
             "outlinewidth": 0,
             "ticks": ""
            },
            "type": "choropleth"
           }
          ],
          "contour": [
           {
            "colorbar": {
             "outlinewidth": 0,
             "ticks": ""
            },
            "colorscale": [
             [
              0,
              "#0d0887"
             ],
             [
              0.1111111111111111,
              "#46039f"
             ],
             [
              0.2222222222222222,
              "#7201a8"
             ],
             [
              0.3333333333333333,
              "#9c179e"
             ],
             [
              0.4444444444444444,
              "#bd3786"
             ],
             [
              0.5555555555555556,
              "#d8576b"
             ],
             [
              0.6666666666666666,
              "#ed7953"
             ],
             [
              0.7777777777777778,
              "#fb9f3a"
             ],
             [
              0.8888888888888888,
              "#fdca26"
             ],
             [
              1,
              "#f0f921"
             ]
            ],
            "type": "contour"
           }
          ],
          "contourcarpet": [
           {
            "colorbar": {
             "outlinewidth": 0,
             "ticks": ""
            },
            "type": "contourcarpet"
           }
          ],
          "heatmap": [
           {
            "colorbar": {
             "outlinewidth": 0,
             "ticks": ""
            },
            "colorscale": [
             [
              0,
              "#0d0887"
             ],
             [
              0.1111111111111111,
              "#46039f"
             ],
             [
              0.2222222222222222,
              "#7201a8"
             ],
             [
              0.3333333333333333,
              "#9c179e"
             ],
             [
              0.4444444444444444,
              "#bd3786"
             ],
             [
              0.5555555555555556,
              "#d8576b"
             ],
             [
              0.6666666666666666,
              "#ed7953"
             ],
             [
              0.7777777777777778,
              "#fb9f3a"
             ],
             [
              0.8888888888888888,
              "#fdca26"
             ],
             [
              1,
              "#f0f921"
             ]
            ],
            "type": "heatmap"
           }
          ],
          "heatmapgl": [
           {
            "colorbar": {
             "outlinewidth": 0,
             "ticks": ""
            },
            "colorscale": [
             [
              0,
              "#0d0887"
             ],
             [
              0.1111111111111111,
              "#46039f"
             ],
             [
              0.2222222222222222,
              "#7201a8"
             ],
             [
              0.3333333333333333,
              "#9c179e"
             ],
             [
              0.4444444444444444,
              "#bd3786"
             ],
             [
              0.5555555555555556,
              "#d8576b"
             ],
             [
              0.6666666666666666,
              "#ed7953"
             ],
             [
              0.7777777777777778,
              "#fb9f3a"
             ],
             [
              0.8888888888888888,
              "#fdca26"
             ],
             [
              1,
              "#f0f921"
             ]
            ],
            "type": "heatmapgl"
           }
          ],
          "histogram": [
           {
            "marker": {
             "pattern": {
              "fillmode": "overlay",
              "size": 10,
              "solidity": 0.2
             }
            },
            "type": "histogram"
           }
          ],
          "histogram2d": [
           {
            "colorbar": {
             "outlinewidth": 0,
             "ticks": ""
            },
            "colorscale": [
             [
              0,
              "#0d0887"
             ],
             [
              0.1111111111111111,
              "#46039f"
             ],
             [
              0.2222222222222222,
              "#7201a8"
             ],
             [
              0.3333333333333333,
              "#9c179e"
             ],
             [
              0.4444444444444444,
              "#bd3786"
             ],
             [
              0.5555555555555556,
              "#d8576b"
             ],
             [
              0.6666666666666666,
              "#ed7953"
             ],
             [
              0.7777777777777778,
              "#fb9f3a"
             ],
             [
              0.8888888888888888,
              "#fdca26"
             ],
             [
              1,
              "#f0f921"
             ]
            ],
            "type": "histogram2d"
           }
          ],
          "histogram2dcontour": [
           {
            "colorbar": {
             "outlinewidth": 0,
             "ticks": ""
            },
            "colorscale": [
             [
              0,
              "#0d0887"
             ],
             [
              0.1111111111111111,
              "#46039f"
             ],
             [
              0.2222222222222222,
              "#7201a8"
             ],
             [
              0.3333333333333333,
              "#9c179e"
             ],
             [
              0.4444444444444444,
              "#bd3786"
             ],
             [
              0.5555555555555556,
              "#d8576b"
             ],
             [
              0.6666666666666666,
              "#ed7953"
             ],
             [
              0.7777777777777778,
              "#fb9f3a"
             ],
             [
              0.8888888888888888,
              "#fdca26"
             ],
             [
              1,
              "#f0f921"
             ]
            ],
            "type": "histogram2dcontour"
           }
          ],
          "mesh3d": [
           {
            "colorbar": {
             "outlinewidth": 0,
             "ticks": ""
            },
            "type": "mesh3d"
           }
          ],
          "parcoords": [
           {
            "line": {
             "colorbar": {
              "outlinewidth": 0,
              "ticks": ""
             }
            },
            "type": "parcoords"
           }
          ],
          "pie": [
           {
            "automargin": true,
            "type": "pie"
           }
          ],
          "scatter": [
           {
            "marker": {
             "colorbar": {
              "outlinewidth": 0,
              "ticks": ""
             }
            },
            "type": "scatter"
           }
          ],
          "scatter3d": [
           {
            "line": {
             "colorbar": {
              "outlinewidth": 0,
              "ticks": ""
             }
            },
            "marker": {
             "colorbar": {
              "outlinewidth": 0,
              "ticks": ""
             }
            },
            "type": "scatter3d"
           }
          ],
          "scattercarpet": [
           {
            "marker": {
             "colorbar": {
              "outlinewidth": 0,
              "ticks": ""
             }
            },
            "type": "scattercarpet"
           }
          ],
          "scattergeo": [
           {
            "marker": {
             "colorbar": {
              "outlinewidth": 0,
              "ticks": ""
             }
            },
            "type": "scattergeo"
           }
          ],
          "scattergl": [
           {
            "marker": {
             "colorbar": {
              "outlinewidth": 0,
              "ticks": ""
             }
            },
            "type": "scattergl"
           }
          ],
          "scattermapbox": [
           {
            "marker": {
             "colorbar": {
              "outlinewidth": 0,
              "ticks": ""
             }
            },
            "type": "scattermapbox"
           }
          ],
          "scatterpolar": [
           {
            "marker": {
             "colorbar": {
              "outlinewidth": 0,
              "ticks": ""
             }
            },
            "type": "scatterpolar"
           }
          ],
          "scatterpolargl": [
           {
            "marker": {
             "colorbar": {
              "outlinewidth": 0,
              "ticks": ""
             }
            },
            "type": "scatterpolargl"
           }
          ],
          "scatterternary": [
           {
            "marker": {
             "colorbar": {
              "outlinewidth": 0,
              "ticks": ""
             }
            },
            "type": "scatterternary"
           }
          ],
          "surface": [
           {
            "colorbar": {
             "outlinewidth": 0,
             "ticks": ""
            },
            "colorscale": [
             [
              0,
              "#0d0887"
             ],
             [
              0.1111111111111111,
              "#46039f"
             ],
             [
              0.2222222222222222,
              "#7201a8"
             ],
             [
              0.3333333333333333,
              "#9c179e"
             ],
             [
              0.4444444444444444,
              "#bd3786"
             ],
             [
              0.5555555555555556,
              "#d8576b"
             ],
             [
              0.6666666666666666,
              "#ed7953"
             ],
             [
              0.7777777777777778,
              "#fb9f3a"
             ],
             [
              0.8888888888888888,
              "#fdca26"
             ],
             [
              1,
              "#f0f921"
             ]
            ],
            "type": "surface"
           }
          ],
          "table": [
           {
            "cells": {
             "fill": {
              "color": "#EBF0F8"
             },
             "line": {
              "color": "white"
             }
            },
            "header": {
             "fill": {
              "color": "#C8D4E3"
             },
             "line": {
              "color": "white"
             }
            },
            "type": "table"
           }
          ]
         },
         "layout": {
          "annotationdefaults": {
           "arrowcolor": "#2a3f5f",
           "arrowhead": 0,
           "arrowwidth": 1
          },
          "autotypenumbers": "strict",
          "coloraxis": {
           "colorbar": {
            "outlinewidth": 0,
            "ticks": ""
           }
          },
          "colorscale": {
           "diverging": [
            [
             0,
             "#8e0152"
            ],
            [
             0.1,
             "#c51b7d"
            ],
            [
             0.2,
             "#de77ae"
            ],
            [
             0.3,
             "#f1b6da"
            ],
            [
             0.4,
             "#fde0ef"
            ],
            [
             0.5,
             "#f7f7f7"
            ],
            [
             0.6,
             "#e6f5d0"
            ],
            [
             0.7,
             "#b8e186"
            ],
            [
             0.8,
             "#7fbc41"
            ],
            [
             0.9,
             "#4d9221"
            ],
            [
             1,
             "#276419"
            ]
           ],
           "sequential": [
            [
             0,
             "#0d0887"
            ],
            [
             0.1111111111111111,
             "#46039f"
            ],
            [
             0.2222222222222222,
             "#7201a8"
            ],
            [
             0.3333333333333333,
             "#9c179e"
            ],
            [
             0.4444444444444444,
             "#bd3786"
            ],
            [
             0.5555555555555556,
             "#d8576b"
            ],
            [
             0.6666666666666666,
             "#ed7953"
            ],
            [
             0.7777777777777778,
             "#fb9f3a"
            ],
            [
             0.8888888888888888,
             "#fdca26"
            ],
            [
             1,
             "#f0f921"
            ]
           ],
           "sequentialminus": [
            [
             0,
             "#0d0887"
            ],
            [
             0.1111111111111111,
             "#46039f"
            ],
            [
             0.2222222222222222,
             "#7201a8"
            ],
            [
             0.3333333333333333,
             "#9c179e"
            ],
            [
             0.4444444444444444,
             "#bd3786"
            ],
            [
             0.5555555555555556,
             "#d8576b"
            ],
            [
             0.6666666666666666,
             "#ed7953"
            ],
            [
             0.7777777777777778,
             "#fb9f3a"
            ],
            [
             0.8888888888888888,
             "#fdca26"
            ],
            [
             1,
             "#f0f921"
            ]
           ]
          },
          "colorway": [
           "#636efa",
           "#EF553B",
           "#00cc96",
           "#ab63fa",
           "#FFA15A",
           "#19d3f3",
           "#FF6692",
           "#B6E880",
           "#FF97FF",
           "#FECB52"
          ],
          "font": {
           "color": "#2a3f5f"
          },
          "geo": {
           "bgcolor": "white",
           "lakecolor": "white",
           "landcolor": "#E5ECF6",
           "showlakes": true,
           "showland": true,
           "subunitcolor": "white"
          },
          "hoverlabel": {
           "align": "left"
          },
          "hovermode": "closest",
          "mapbox": {
           "style": "light"
          },
          "paper_bgcolor": "white",
          "plot_bgcolor": "#E5ECF6",
          "polar": {
           "angularaxis": {
            "gridcolor": "white",
            "linecolor": "white",
            "ticks": ""
           },
           "bgcolor": "#E5ECF6",
           "radialaxis": {
            "gridcolor": "white",
            "linecolor": "white",
            "ticks": ""
           }
          },
          "scene": {
           "xaxis": {
            "backgroundcolor": "#E5ECF6",
            "gridcolor": "white",
            "gridwidth": 2,
            "linecolor": "white",
            "showbackground": true,
            "ticks": "",
            "zerolinecolor": "white"
           },
           "yaxis": {
            "backgroundcolor": "#E5ECF6",
            "gridcolor": "white",
            "gridwidth": 2,
            "linecolor": "white",
            "showbackground": true,
            "ticks": "",
            "zerolinecolor": "white"
           },
           "zaxis": {
            "backgroundcolor": "#E5ECF6",
            "gridcolor": "white",
            "gridwidth": 2,
            "linecolor": "white",
            "showbackground": true,
            "ticks": "",
            "zerolinecolor": "white"
           }
          },
          "shapedefaults": {
           "line": {
            "color": "#2a3f5f"
           }
          },
          "ternary": {
           "aaxis": {
            "gridcolor": "white",
            "linecolor": "white",
            "ticks": ""
           },
           "baxis": {
            "gridcolor": "white",
            "linecolor": "white",
            "ticks": ""
           },
           "bgcolor": "#E5ECF6",
           "caxis": {
            "gridcolor": "white",
            "linecolor": "white",
            "ticks": ""
           }
          },
          "title": {
           "x": 0.05
          },
          "xaxis": {
           "automargin": true,
           "gridcolor": "white",
           "linecolor": "white",
           "ticks": "",
           "title": {
            "standoff": 15
           },
           "zerolinecolor": "white",
           "zerolinewidth": 2
          },
          "yaxis": {
           "automargin": true,
           "gridcolor": "white",
           "linecolor": "white",
           "ticks": "",
           "title": {
            "standoff": 15
           },
           "zerolinecolor": "white",
           "zerolinewidth": 2
          }
         }
        },
        "width": 1440
       }
      }
     },
     "metadata": {},
     "output_type": "display_data"
    },
    {
     "ename": "AttributeError",
     "evalue": "'Figure' object has no attribute '_get_validator'",
     "output_type": "error",
     "traceback": [
      "\u001b[0;31m---------------------------------------------------------------------------\u001b[0m",
      "\u001b[0;31mTypeError\u001b[0m                                 Traceback (most recent call last)",
      "File \u001b[0;32m~/opt/anaconda3/lib/python3.9/site-packages/plotly/basedatatypes.py:188\u001b[0m, in \u001b[0;36m_check_path_in_prop_tree\u001b[0;34m(obj, path, error_cast)\u001b[0m\n\u001b[1;32m    187\u001b[0m \u001b[39mtry\u001b[39;00m:\n\u001b[0;32m--> 188\u001b[0m     obj \u001b[39m=\u001b[39m obj[p]\n\u001b[1;32m    189\u001b[0m \u001b[39mexcept\u001b[39;00m (\u001b[39mValueError\u001b[39;00m, \u001b[39mKeyError\u001b[39;00m, \u001b[39mIndexError\u001b[39;00m, \u001b[39mTypeError\u001b[39;00m) \u001b[39mas\u001b[39;00m e:\n",
      "\u001b[0;31mTypeError\u001b[0m: tuple indices must be integers or slices, not str",
      "\nDuring handling of the above exception, another exception occurred:\n",
      "\u001b[0;31mAttributeError\u001b[0m                            Traceback (most recent call last)",
      "\u001b[1;32m/Users/hammerer/Documents/DHBW4/Big Data Programming/kafka-weather-map/ShowData_01.ipynb Zelle 3\u001b[0m in \u001b[0;36m<cell line: 3>\u001b[0;34m()\u001b[0m\n\u001b[1;32m      <a href='vscode-notebook-cell:/Users/hammerer/Documents/DHBW4/Big%20Data%20Programming/kafka-weather-map/ShowData_01.ipynb#W2sZmlsZQ%3D%3D?line=0'>1</a>\u001b[0m infoMap\u001b[39m.\u001b[39mget_map_data()\n\u001b[1;32m      <a href='vscode-notebook-cell:/Users/hammerer/Documents/DHBW4/Big%20Data%20Programming/kafka-weather-map/ShowData_01.ipynb#W2sZmlsZQ%3D%3D?line=1'>2</a>\u001b[0m infoMap\u001b[39m.\u001b[39mplot_map()\n\u001b[0;32m----> <a href='vscode-notebook-cell:/Users/hammerer/Documents/DHBW4/Big%20Data%20Programming/kafka-weather-map/ShowData_01.ipynb#W2sZmlsZQ%3D%3D?line=2'>3</a>\u001b[0m infoMap\u001b[39m.\u001b[39;49mupdate_map()\n",
      "\u001b[1;32m/Users/hammerer/Documents/DHBW4/Big Data Programming/kafka-weather-map/ShowData_01.ipynb Zelle 3\u001b[0m in \u001b[0;36mInfoMap.update_map\u001b[0;34m(self)\u001b[0m\n\u001b[1;32m     <a href='vscode-notebook-cell:/Users/hammerer/Documents/DHBW4/Big%20Data%20Programming/kafka-weather-map/ShowData_01.ipynb#W2sZmlsZQ%3D%3D?line=59'>60</a>\u001b[0m \u001b[39mdef\u001b[39;00m \u001b[39mupdate_map\u001b[39m(\u001b[39mself\u001b[39m) \u001b[39m-\u001b[39m\u001b[39m>\u001b[39m \u001b[39mNone\u001b[39;00m:\n\u001b[1;32m     <a href='vscode-notebook-cell:/Users/hammerer/Documents/DHBW4/Big%20Data%20Programming/kafka-weather-map/ShowData_01.ipynb#W2sZmlsZQ%3D%3D?line=60'>61</a>\u001b[0m     \u001b[39mself\u001b[39m\u001b[39m.\u001b[39mget_map_data()\n\u001b[0;32m---> <a href='vscode-notebook-cell:/Users/hammerer/Documents/DHBW4/Big%20Data%20Programming/kafka-weather-map/ShowData_01.ipynb#W2sZmlsZQ%3D%3D?line=61'>62</a>\u001b[0m     \u001b[39mself\u001b[39;49m\u001b[39m.\u001b[39;49mfig_map\u001b[39m.\u001b[39;49mupdate(data_frame\u001b[39m=\u001b[39;49m\u001b[39mself\u001b[39;49m\u001b[39m.\u001b[39;49mdf_map_data)\n",
      "File \u001b[0;32m~/opt/anaconda3/lib/python3.9/site-packages/plotly/basedatatypes.py:899\u001b[0m, in \u001b[0;36mBaseFigure.update\u001b[0;34m(self, dict1, overwrite, **kwargs)\u001b[0m\n\u001b[1;32m    897\u001b[0m \u001b[39mif\u001b[39;00m d:\n\u001b[1;32m    898\u001b[0m     \u001b[39mfor\u001b[39;00m k, v \u001b[39min\u001b[39;00m d\u001b[39m.\u001b[39mitems():\n\u001b[0;32m--> 899\u001b[0m         update_target \u001b[39m=\u001b[39m \u001b[39mself\u001b[39;49m[k]\n\u001b[1;32m    900\u001b[0m         \u001b[39mif\u001b[39;00m update_target \u001b[39m==\u001b[39m () \u001b[39mor\u001b[39;00m overwrite:\n\u001b[1;32m    901\u001b[0m             \u001b[39mif\u001b[39;00m k \u001b[39m==\u001b[39m \u001b[39m\"\u001b[39m\u001b[39mdata\u001b[39m\u001b[39m\"\u001b[39m:\n\u001b[1;32m    902\u001b[0m                 \u001b[39m# Overwrite all traces as special due to\u001b[39;00m\n\u001b[1;32m    903\u001b[0m                 \u001b[39m# restrictions on trace assignment\u001b[39;00m\n",
      "File \u001b[0;32m~/opt/anaconda3/lib/python3.9/site-packages/plotly/basedatatypes.py:754\u001b[0m, in \u001b[0;36mBaseFigure.__getitem__\u001b[0;34m(self, prop)\u001b[0m\n\u001b[1;32m    748\u001b[0m         \u001b[39mraise\u001b[39;00m \u001b[39mKeyError\u001b[39;00m(orig_prop)\n\u001b[1;32m    750\u001b[0m \u001b[39m# Handle non-scalar case\u001b[39;00m\n\u001b[1;32m    751\u001b[0m \u001b[39m# ----------------------\u001b[39;00m\n\u001b[1;32m    752\u001b[0m \u001b[39m# e.g. ('foo', 1)\u001b[39;00m\n\u001b[1;32m    753\u001b[0m \u001b[39melse\u001b[39;00m:\n\u001b[0;32m--> 754\u001b[0m     err \u001b[39m=\u001b[39m _check_path_in_prop_tree(\u001b[39mself\u001b[39;49m, orig_prop, error_cast\u001b[39m=\u001b[39;49mPlotlyKeyError)\n\u001b[1;32m    755\u001b[0m     \u001b[39mif\u001b[39;00m err \u001b[39mis\u001b[39;00m \u001b[39mnot\u001b[39;00m \u001b[39mNone\u001b[39;00m:\n\u001b[1;32m    756\u001b[0m         \u001b[39mraise\u001b[39;00m err\n",
      "File \u001b[0;32m~/opt/anaconda3/lib/python3.9/site-packages/plotly/basedatatypes.py:196\u001b[0m, in \u001b[0;36m_check_path_in_prop_tree\u001b[0;34m(obj, path, error_cast)\u001b[0m\n\u001b[1;32m    191\u001b[0m             \u001b[39mif\u001b[39;00m \u001b[39missubclass\u001b[39m(e\u001b[39m.\u001b[39m\u001b[39m__class__\u001b[39m, \u001b[39mTypeError\u001b[39;00m):\n\u001b[1;32m    192\u001b[0m                 \u001b[39m# If obj doesn't support subscripting, state that and show the\u001b[39;00m\n\u001b[1;32m    193\u001b[0m                 \u001b[39m# (valid) property that gives the object that doesn't support\u001b[39;00m\n\u001b[1;32m    194\u001b[0m                 \u001b[39m# subscripting.\u001b[39;00m\n\u001b[1;32m    195\u001b[0m                 \u001b[39mif\u001b[39;00m i \u001b[39m>\u001b[39m \u001b[39m0\u001b[39m:\n\u001b[0;32m--> 196\u001b[0m                     validator \u001b[39m=\u001b[39m prev_objs[i \u001b[39m-\u001b[39;49m \u001b[39m1\u001b[39;49m]\u001b[39m.\u001b[39;49m_get_validator(prop[i \u001b[39m-\u001b[39m \u001b[39m1\u001b[39m])\n\u001b[1;32m    197\u001b[0m                     arg \u001b[39m+\u001b[39m\u001b[39m=\u001b[39m \u001b[39m\"\"\"\u001b[39m\n\u001b[1;32m    198\u001b[0m \n\u001b[1;32m    199\u001b[0m \u001b[39mInvalid value received for the \u001b[39m\u001b[39m'\u001b[39m\u001b[39m{plotly_name}\u001b[39;00m\u001b[39m'\u001b[39m\u001b[39m property of \u001b[39m\u001b[39m{parent_name}\u001b[39;00m\n\u001b[0;32m   (...)\u001b[0m\n\u001b[1;32m    204\u001b[0m                         description\u001b[39m=\u001b[39mvalidator\u001b[39m.\u001b[39mdescription(),\n\u001b[1;32m    205\u001b[0m                     )\n\u001b[1;32m    206\u001b[0m                 \u001b[39m# In case i is 0, the best we can do is indicate the first\u001b[39;00m\n\u001b[1;32m    207\u001b[0m                 \u001b[39m# property in the string as having caused the error\u001b[39;00m\n",
      "\u001b[0;31mAttributeError\u001b[0m: 'Figure' object has no attribute '_get_validator'"
     ]
    }
   ],
   "source": [
    "infoMap.get_map_data()\n",
    "infoMap.plot_map()\n",
    "infoMap.update_map()"
   ]
  }
 ],
 "metadata": {
  "kernelspec": {
   "display_name": "Python 3.9.12 ('base')",
   "language": "python",
   "name": "python3"
  },
  "language_info": {
   "codemirror_mode": {
    "name": "ipython",
    "version": 3
   },
   "file_extension": ".py",
   "mimetype": "text/x-python",
   "name": "python",
   "nbconvert_exporter": "python",
   "pygments_lexer": "ipython3",
   "version": "3.9.12"
  },
  "vscode": {
   "interpreter": {
    "hash": "af6a7de25dd7bd9a9e288da6c3d15d5d500c51449326063643a18fc796b35585"
   }
  }
 },
 "nbformat": 4,
 "nbformat_minor": 5
}
