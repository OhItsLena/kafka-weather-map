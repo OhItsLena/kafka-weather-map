{
 "cells": [
  {
   "cell_type": "code",
   "execution_count": 30,
   "metadata": {},
   "outputs": [
    {
     "name": "stdout",
     "output_type": "stream",
     "text": [
      "The autoreload extension is already loaded. To reload it, use:\n",
      "  %reload_ext autoreload\n"
     ]
    }
   ],
   "source": [
    "#https://ipython.readthedocs.io/en/stable/config/extensions/autoreload.html?highlight=autoreload\n",
    "%load_ext autoreload\n",
    "%autoreload 2\n",
    "\n",
    "import json\n",
    "import time\n",
    "import uuid\n",
    "from datetime import datetime\n",
    "import pandas as pd\n",
    "\n",
    "from Kafka import KafkaConfluentWriter, KafkaConfluentReader\n",
    "from OpenWeatherMap import OpenWeatherMap"
   ]
  },
  {
   "cell_type": "code",
   "execution_count": 31,
   "metadata": {},
   "outputs": [],
   "source": [
    "kafkaConfluentWriter = KafkaConfluentWriter('weather.cleaned')\n",
    "kafkaConluentReaderForecast = KafkaConfluentReader('weather.forecast', True)\n",
    "kafkaConfluentReaderCleaned = KafkaConfluentReader('weather.cleaned', False)\n",
    "\n",
    "def clean_forecast_data() -> None:    \n",
    "    try:\n",
    "        print(\"Looking for new unique data ...\")\n",
    "\n",
    "        while True:\n",
    "            msg = kafkaConluentReaderForecast.poll(1.0)\n",
    "            \n",
    "            if msg is not None:\n",
    "                lastCleaned = kafkaConfluentReaderCleaned.get_latest_message(1.0)\n",
    "                if lastCleaned is None:\n",
    "                    kafkaConfluentWriter.produce(msg.key(), msg.value())\n",
    "                    print(\"Stored first data!\")\n",
    "                elif msg.value() != lastCleaned.value():\n",
    "                    kafkaConfluentWriter.produce(msg.key(), msg.value())\n",
    "                    print(\"Stored new data!\")\n",
    "                else:\n",
    "                    print(\"Nothing to do!\")\n",
    "\n",
    "    except KeyboardInterrupt:\n",
    "        print(\"... search for new values stopped!\")"
   ]
  },
  {
   "cell_type": "code",
   "execution_count": 32,
   "metadata": {},
   "outputs": [
    {
     "name": "stdout",
     "output_type": "stream",
     "text": [
      "Looking for new unique data ...\n",
      "Message delivered to weather.cleaned [0]\n",
      "Stored new data!\n",
      "... search for new values stopped!\n"
     ]
    }
   ],
   "source": [
    "clean_forecast_data()"
   ]
  }
 ],
 "metadata": {
  "kernelspec": {
   "display_name": "Python 3.9.12 ('base')",
   "language": "python",
   "name": "python3"
  },
  "language_info": {
   "codemirror_mode": {
    "name": "ipython",
    "version": 3
   },
   "file_extension": ".py",
   "mimetype": "text/x-python",
   "name": "python",
   "nbconvert_exporter": "python",
   "pygments_lexer": "ipython3",
   "version": "3.9.12"
  },
  "orig_nbformat": 4,
  "vscode": {
   "interpreter": {
    "hash": "af6a7de25dd7bd9a9e288da6c3d15d5d500c51449326063643a18fc796b35585"
   }
  }
 },
 "nbformat": 4,
 "nbformat_minor": 2
}
