{
 "cells": [
  {
   "cell_type": "code",
   "execution_count": 41,
   "id": "b52af4a2",
   "metadata": {},
   "outputs": [
    {
     "name": "stdout",
     "output_type": "stream",
     "text": [
      "The autoreload extension is already loaded. To reload it, use:\n",
      "  %reload_ext autoreload\n"
     ]
    }
   ],
   "source": [
    "#https://ipython.readthedocs.io/en/stable/config/extensions/autoreload.html?highlight=autoreload\n",
    "%load_ext autoreload\n",
    "%autoreload 2\n",
    "\n",
    "import json\n",
    "import time\n",
    "from datetime import datetime\n",
    "import pandas as pd\n",
    "from Kafka import KafkaWriter\n",
    "from OpenWeatherMap import OpenWeatherMap"
   ]
  },
  {
   "cell_type": "code",
   "execution_count": 46,
   "metadata": {},
   "outputs": [],
   "source": [
    "openWeatherMap = OpenWeatherMap()\n",
    "kafkaForecast = KafkaWriter('weather.forecast')\n",
    "kafkaCleaned = KafkaWriter('weather.cleaned')\n",
    "\n",
    "def format_date(dt: str) -> str:\n",
    "    return datetime.fromtimestamp(float(dt)).strftime('%d.%m.%Y %H:%M')\n",
    "\n",
    "\n",
    "# load 'locations.json' into a json-object and return it\n",
    "def load_locations() -> json:\n",
    "    with open('locations.json', mode='r') as file:\n",
    "        return json.load(file)\n",
    "\n",
    "def transform_forecast(forecast: json) -> json:\n",
    "    value = {\n",
    "        'city': forecast['city']['name'],\n",
    "        'weather': []\n",
    "    }\n",
    "\n",
    "    preds = []\n",
    "    for pred in forecast['list']:\n",
    "        preds.append({\n",
    "            'dt': pred['dt_txt'],\n",
    "            'temp': pred['main']['temp']\n",
    "        })\n",
    "    value['weather'] = preds\n",
    "    return value\n",
    "\n",
    "# for each location, query openWeatherMap for the 5-day forecast and \n",
    "# store the the returned values in Kafka\n",
    "def collect_forecast_data() -> None:\n",
    "    cities = load_locations()\n",
    "    forecasts = {}\n",
    "    for key in cities:\n",
    "        forecasts[key] = None\n",
    "\n",
    "    while True:\n",
    "        print(\"Starting collection ...\")\n",
    "        for key in cities:\n",
    "            city = cities[key]\n",
    "            forecast = transform_forecast(openWeatherMap.get_forecast(city))\n",
    "\n",
    "            if(forecasts[key] != forecast):\n",
    "                kafkaCleaned.store(key, forecast)\n",
    "                forecasts[key]=forecast\n",
    "                print(\"New forecast found!\")\n",
    "\n",
    "            kafkaForecast.store(key, forecast)\n",
    "        print(f\"Weather data collected at {format_date(datetime.timestamp(datetime.now()))}!\")\n",
    "        time.sleep(60)"
   ]
  },
  {
   "cell_type": "code",
   "execution_count": 47,
   "id": "69089f34",
   "metadata": {},
   "outputs": [
    {
     "name": "stdout",
     "output_type": "stream",
     "text": [
      "Starting collection ...\n",
      "New forecast found!\n",
      "New forecast found!\n",
      "Weather data collected at 22.08.2022 22:59!\n",
      "Starting collection ...\n",
      "Weather data collected at 22.08.2022 23:00!\n",
      "... collection stopped!\n"
     ]
    }
   ],
   "source": [
    "try:\n",
    "    collect_forecast_data()\n",
    "except KeyboardInterrupt:\n",
    "    print(\"... collection stopped!\")"
   ]
  }
 ],
 "metadata": {
  "kernelspec": {
   "display_name": "Python 3.9.12 ('base')",
   "language": "python",
   "name": "python3"
  },
  "language_info": {
   "codemirror_mode": {
    "name": "ipython",
    "version": 3
   },
   "file_extension": ".py",
   "mimetype": "text/x-python",
   "name": "python",
   "nbconvert_exporter": "python",
   "pygments_lexer": "ipython3",
   "version": "3.9.12"
  },
  "vscode": {
   "interpreter": {
    "hash": "af6a7de25dd7bd9a9e288da6c3d15d5d500c51449326063643a18fc796b35585"
   }
  }
 },
 "nbformat": 4,
 "nbformat_minor": 5
}
