{
 "cells": [
  {
   "cell_type": "markdown",
   "id": "731dad3f",
   "metadata": {},
   "source": [
    "# Info Map Microservice"
   ]
  },
  {
   "cell_type": "markdown",
   "id": "8942edef",
   "metadata": {},
   "source": [
    "## Imports"
   ]
  },
  {
   "cell_type": "code",
   "execution_count": 25,
   "metadata": {},
   "outputs": [
    {
     "name": "stdout",
     "output_type": "stream",
     "text": [
      "The autoreload extension is already loaded. To reload it, use:\n",
      "  %reload_ext autoreload\n"
     ]
    }
   ],
   "source": [
    "# reload .py files on change:\n",
    "# https://ipython.readthedocs.io/en/stable/config/extensions/autoreload.html?highlight=autoreload\n",
    "%load_ext autoreload\n",
    "%autoreload 2\n",
    "\n",
    "from datetime import datetime\n",
    "import pandas as pd\n",
    "import os\n",
    "import plotly.express as px\n",
    "import plotly.graph_objects as go\n",
    "from Kafka import KafkaConfluentReader\n",
    "from IPython.display import clear_output\n",
    "\n",
    "from dotenv import load_dotenv\n",
    "\n",
    "# import custom class\n",
    "from InfoMap import InfoMap"
   ]
  },
  {
   "cell_type": "code",
   "execution_count": 26,
   "metadata": {
    "tags": []
   },
   "outputs": [],
   "source": [
    "infoMap = InfoMap()"
   ]
  },
  {
   "cell_type": "markdown",
   "id": "d821f66c",
   "metadata": {},
   "source": [
    "## Manual refresh Map\n",
    "This map should display the most recent forecast data available when plotting. **Manual refresh** is needed to get new information.\n",
    "\n",
    "- Color corresponds to temperature\n",
    "- Hover over cities provides more information\n",
    "- Adjust date and time with the slider at the bottom"
   ]
  },
  {
   "cell_type": "code",
   "execution_count": null,
   "id": "1a3478bd",
   "metadata": {},
   "outputs": [
    {
     "data": {
      "application/vnd.plotly.v1+json": {
       "config": {
        "plotlyServerURL": "https://plot.ly"
       },
       "data": [
        {
         "customdata": [
          [
           26.17,
           "😰   CAUTION: <br>warm temperatures!"
          ],
          [
           27.62,
           "😰   CAUTION: <br>warm temperatures!"
          ],
          [
           28.54,
           "😰   CAUTION: <br>warm temperatures!"
          ],
          [
           19.66,
           "😕   INFO: <br>bring a jacket!"
          ],
          [
           26.67,
           "😰   CAUTION: <br>warm temperatures!"
          ],
          [
           31.29,
           "🥵   DANGER: <br>it's hot!"
          ],
          [
           20.9,
           "😊   INFO: <br>enjoy your day!"
          ],
          [
           31.32,
           "🥵   DANGER: <br>it's hot!"
          ],
          [
           27.03,
           "😰   CAUTION: <br>warm temperatures!"
          ],
          [
           32.37,
           "🥵   DANGER: <br>it's hot!"
          ],
          [
           26.81,
           "😰   CAUTION: <br>warm temperatures!"
          ],
          [
           30.78,
           "🥵   DANGER: <br>it's hot!"
          ],
          [
           30.2,
           "🥵   DANGER: <br>it's hot!"
          ],
          [
           22.97,
           "😊   INFO: <br>enjoy your day!"
          ],
          [
           32.74,
           "🥵   DANGER: <br>it's hot!"
          ],
          [
           28.9,
           "😰   CAUTION: <br>warm temperatures!"
          ],
          [
           25.88,
           "😰   CAUTION: <br>warm temperatures!"
          ],
          [
           31.17,
           "🥵   DANGER: <br>it's hot!"
          ],
          [
           25.43,
           "😰   CAUTION: <br>warm temperatures!"
          ],
          [
           30.7,
           "🥵   DANGER: <br>it's hot!"
          ],
          [
           25.83,
           "😰   CAUTION: <br>warm temperatures!"
          ],
          [
           24.62,
           "😊   INFO: <br>enjoy your day!"
          ],
          [
           29.11,
           "😰   CAUTION: <br>warm temperatures!"
          ]
         ],
         "hovertemplate": "<b>%{text} </b><br>Temperature: %{customdata[0]} °C<br><extra><i>%{customdata[1]}</i></extra>",
         "ids": [
          "Bregenz",
          "Wien",
          "Paris",
          "London",
          "Prag",
          "Florenz",
          "Kopenhagen",
          "Aachen",
          "Berlin",
          "Bonn",
          "Dresden",
          "Frankfurt am Main",
          "Freiburg",
          "Kiel",
          "Köln",
          "Leipzig",
          "Lübeck",
          "Mannheim",
          "München",
          "Münster",
          "Ravensburg",
          "Rostock",
          "Stuttgart"
         ],
         "lat": [
          47.5025779,
          48.2083537,
          48.8588897,
          51.5073219,
          50.0596288,
          43.7698712,
          55.6867243,
          50.776351,
          52.5170365,
          50.735851,
          51.0493286,
          50.1106444,
          47.9960901,
          54.3227085,
          50.938361,
          51.3406321,
          53.866444,
          49.4892913,
          48.1371079,
          51.9625101,
          47.7811014,
          54.0924445,
          48.7784485
         ],
         "legendgroup": "",
         "lon": [
          9.7472924,
          16.3725042,
          2.320041021720076,
          -0.1276474,
          14.446459273258009,
          11.2555757,
          12.5700724,
          6.083862,
          13.3888599,
          7.10066,
          13.7381437,
          8.6820917,
          7.8494005,
          10.135555,
          6.959974,
          12.3747329,
          10.684738,
          8.4673098,
          11.5753822,
          7.6251879,
          9.612468,
          12.1286127,
          9.1800132
         ],
         "marker": {
          "color": [
           26.17,
           27.62,
           28.54,
           19.66,
           26.67,
           31.29,
           20.9,
           31.32,
           27.03,
           32.37,
           26.81,
           30.78,
           30.2,
           22.97,
           32.74,
           28.9,
           25.88,
           31.17,
           25.43,
           30.7,
           25.83,
           24.62,
           29.11
          ],
          "coloraxis": "coloraxis",
          "opacity": 0.75,
          "size": 20
         },
         "mode": "markers+text",
         "name": "",
         "showlegend": false,
         "subplot": "mapbox",
         "text": [
          "Bregenz",
          "Wien",
          "Paris",
          "London",
          "Prag",
          "Florenz",
          "Kopenhagen",
          "Aachen",
          "Berlin",
          "Bonn",
          "Dresden",
          "Frankfurt am Main",
          "Freiburg",
          "Kiel",
          "Köln",
          "Leipzig",
          "Lübeck",
          "Mannheim",
          "München",
          "Münster",
          "Ravensburg",
          "Rostock",
          "Stuttgart"
         ],
         "type": "scattermapbox"
        }
       ],
       "frames": [
        {
         "data": [
          {
           "customdata": [
            [
             26.17,
             "😰   CAUTION: <br>warm temperatures!"
            ],
            [
             27.62,
             "😰   CAUTION: <br>warm temperatures!"
            ],
            [
             28.54,
             "😰   CAUTION: <br>warm temperatures!"
            ],
            [
             19.66,
             "😕   INFO: <br>bring a jacket!"
            ],
            [
             26.67,
             "😰   CAUTION: <br>warm temperatures!"
            ],
            [
             31.29,
             "🥵   DANGER: <br>it's hot!"
            ],
            [
             20.9,
             "😊   INFO: <br>enjoy your day!"
            ],
            [
             31.32,
             "🥵   DANGER: <br>it's hot!"
            ],
            [
             27.03,
             "😰   CAUTION: <br>warm temperatures!"
            ],
            [
             32.37,
             "🥵   DANGER: <br>it's hot!"
            ],
            [
             26.81,
             "😰   CAUTION: <br>warm temperatures!"
            ],
            [
             30.78,
             "🥵   DANGER: <br>it's hot!"
            ],
            [
             30.2,
             "🥵   DANGER: <br>it's hot!"
            ],
            [
             22.97,
             "😊   INFO: <br>enjoy your day!"
            ],
            [
             32.74,
             "🥵   DANGER: <br>it's hot!"
            ],
            [
             28.9,
             "😰   CAUTION: <br>warm temperatures!"
            ],
            [
             25.88,
             "😰   CAUTION: <br>warm temperatures!"
            ],
            [
             31.17,
             "🥵   DANGER: <br>it's hot!"
            ],
            [
             25.43,
             "😰   CAUTION: <br>warm temperatures!"
            ],
            [
             30.7,
             "🥵   DANGER: <br>it's hot!"
            ],
            [
             25.83,
             "😰   CAUTION: <br>warm temperatures!"
            ],
            [
             24.62,
             "😊   INFO: <br>enjoy your day!"
            ],
            [
             29.11,
             "😰   CAUTION: <br>warm temperatures!"
            ]
           ],
           "hovertemplate": "<b>%{text} </b><br>Temperature: %{customdata[0]} °C<br><extra><i>%{customdata[1]}</i></extra>",
           "ids": [
            "Bregenz",
            "Wien",
            "Paris",
            "London",
            "Prag",
            "Florenz",
            "Kopenhagen",
            "Aachen",
            "Berlin",
            "Bonn",
            "Dresden",
            "Frankfurt am Main",
            "Freiburg",
            "Kiel",
            "Köln",
            "Leipzig",
            "Lübeck",
            "Mannheim",
            "München",
            "Münster",
            "Ravensburg",
            "Rostock",
            "Stuttgart"
           ],
           "lat": [
            47.5025779,
            48.2083537,
            48.8588897,
            51.5073219,
            50.0596288,
            43.7698712,
            55.6867243,
            50.776351,
            52.5170365,
            50.735851,
            51.0493286,
            50.1106444,
            47.9960901,
            54.3227085,
            50.938361,
            51.3406321,
            53.866444,
            49.4892913,
            48.1371079,
            51.9625101,
            47.7811014,
            54.0924445,
            48.7784485
           ],
           "legendgroup": "",
           "lon": [
            9.7472924,
            16.3725042,
            2.320041021720076,
            -0.1276474,
            14.446459273258009,
            11.2555757,
            12.5700724,
            6.083862,
            13.3888599,
            7.10066,
            13.7381437,
            8.6820917,
            7.8494005,
            10.135555,
            6.959974,
            12.3747329,
            10.684738,
            8.4673098,
            11.5753822,
            7.6251879,
            9.612468,
            12.1286127,
            9.1800132
           ],
           "marker": {
            "color": [
             26.17,
             27.62,
             28.54,
             19.66,
             26.67,
             31.29,
             20.9,
             31.32,
             27.03,
             32.37,
             26.81,
             30.78,
             30.2,
             22.97,
             32.74,
             28.9,
             25.88,
             31.17,
             25.43,
             30.7,
             25.83,
             24.62,
             29.11
            ],
            "coloraxis": "coloraxis"
           },
           "mode": "markers+text",
           "name": "",
           "showlegend": false,
           "subplot": "mapbox",
           "text": [
            "Bregenz",
            "Wien",
            "Paris",
            "London",
            "Prag",
            "Florenz",
            "Kopenhagen",
            "Aachen",
            "Berlin",
            "Bonn",
            "Dresden",
            "Frankfurt am Main",
            "Freiburg",
            "Kiel",
            "Köln",
            "Leipzig",
            "Lübeck",
            "Mannheim",
            "München",
            "Münster",
            "Ravensburg",
            "Rostock",
            "Stuttgart"
           ],
           "type": "scattermapbox"
          }
         ],
         "name": "2022-08-25 18:00:00"
        },
        {
         "data": [
          {
           "customdata": [
            [
             23.56,
             "😊   INFO: <br>enjoy your day!"
            ],
            [
             26,
             "😰   CAUTION: <br>warm temperatures!"
            ],
            [
             26.62,
             "😰   CAUTION: <br>warm temperatures!"
            ],
            [
             18.99,
             "😕   INFO: <br>bring a jacket!"
            ],
            [
             24.57,
             "😊   INFO: <br>enjoy your day!"
            ],
            [
             29.21,
             "😰   CAUTION: <br>warm temperatures!"
            ],
            [
             20.48,
             "😊   INFO: <br>enjoy your day!"
            ],
            [
             28.18,
             "😰   CAUTION: <br>warm temperatures!"
            ],
            [
             26.03,
             "😰   CAUTION: <br>warm temperatures!"
            ],
            [
             29.79,
             "😰   CAUTION: <br>warm temperatures!"
            ],
            [
             25.09,
             "😰   CAUTION: <br>warm temperatures!"
            ],
            [
             28.89,
             "😰   CAUTION: <br>warm temperatures!"
            ],
            [
             27.21,
             "😰   CAUTION: <br>warm temperatures!"
            ],
            [
             22.5,
             "😊   INFO: <br>enjoy your day!"
            ],
            [
             30.68,
             "🥵   DANGER: <br>it's hot!"
            ],
            [
             27.18,
             "😰   CAUTION: <br>warm temperatures!"
            ],
            [
             24.56,
             "😊   INFO: <br>enjoy your day!"
            ],
            [
             30.07,
             "🥵   DANGER: <br>it's hot!"
            ],
            [
             23.1,
             "😊   INFO: <br>enjoy your day!"
            ],
            [
             28.29,
             "😰   CAUTION: <br>warm temperatures!"
            ],
            [
             23.14,
             "😊   INFO: <br>enjoy your day!"
            ],
            [
             22.96,
             "😊   INFO: <br>enjoy your day!"
            ],
            [
             26.72,
             "😰   CAUTION: <br>warm temperatures!"
            ]
           ],
           "hovertemplate": "<b>%{text} </b><br>Temperature: %{customdata[0]} °C<br><extra><i>%{customdata[1]}</i></extra>",
           "ids": [
            "Bregenz",
            "Wien",
            "Paris",
            "London",
            "Prag",
            "Florenz",
            "Kopenhagen",
            "Aachen",
            "Berlin",
            "Bonn",
            "Dresden",
            "Frankfurt am Main",
            "Freiburg",
            "Kiel",
            "Köln",
            "Leipzig",
            "Lübeck",
            "Mannheim",
            "München",
            "Münster",
            "Ravensburg",
            "Rostock",
            "Stuttgart"
           ],
           "lat": [
            47.5025779,
            48.2083537,
            48.8588897,
            51.5073219,
            50.0596288,
            43.7698712,
            55.6867243,
            50.776351,
            52.5170365,
            50.735851,
            51.0493286,
            50.1106444,
            47.9960901,
            54.3227085,
            50.938361,
            51.3406321,
            53.866444,
            49.4892913,
            48.1371079,
            51.9625101,
            47.7811014,
            54.0924445,
            48.7784485
           ],
           "legendgroup": "",
           "lon": [
            9.7472924,
            16.3725042,
            2.320041021720076,
            -0.1276474,
            14.446459273258009,
            11.2555757,
            12.5700724,
            6.083862,
            13.3888599,
            7.10066,
            13.7381437,
            8.6820917,
            7.8494005,
            10.135555,
            6.959974,
            12.3747329,
            10.684738,
            8.4673098,
            11.5753822,
            7.6251879,
            9.612468,
            12.1286127,
            9.1800132
           ],
           "marker": {
            "color": [
             23.56,
             26,
             26.62,
             18.99,
             24.57,
             29.21,
             20.48,
             28.18,
             26.03,
             29.79,
             25.09,
             28.89,
             27.21,
             22.5,
             30.68,
             27.18,
             24.56,
             30.07,
             23.1,
             28.29,
             23.14,
             22.96,
             26.72
            ],
            "coloraxis": "coloraxis"
           },
           "mode": "markers+text",
           "name": "",
           "showlegend": false,
           "subplot": "mapbox",
           "text": [
            "Bregenz",
            "Wien",
            "Paris",
            "London",
            "Prag",
            "Florenz",
            "Kopenhagen",
            "Aachen",
            "Berlin",
            "Bonn",
            "Dresden",
            "Frankfurt am Main",
            "Freiburg",
            "Kiel",
            "Köln",
            "Leipzig",
            "Lübeck",
            "Mannheim",
            "München",
            "Münster",
            "Ravensburg",
            "Rostock",
            "Stuttgart"
           ],
           "type": "scattermapbox"
          }
         ],
         "name": "2022-08-25 21:00:00"
        },
        {
         "data": [
          {
           "customdata": [
            [
             20.6,
             "😊   INFO: <br>enjoy your day!"
            ],
            [
             23.29,
             "😊   INFO: <br>enjoy your day!"
            ],
            [
             23.49,
             "😊   INFO: <br>enjoy your day!"
            ],
            [
             17.74,
             "😕   INFO: <br>bring a jacket!"
            ],
            [
             21.78,
             "😊   INFO: <br>enjoy your day!"
            ],
            [
             26.15,
             "😰   CAUTION: <br>warm temperatures!"
            ],
            [
             19.38,
             "😕   INFO: <br>bring a jacket!"
            ],
            [
             22.58,
             "😊   INFO: <br>enjoy your day!"
            ],
            [
             23.3,
             "😊   INFO: <br>enjoy your day!"
            ],
            [
             26.13,
             "😰   CAUTION: <br>warm temperatures!"
            ],
            [
             22.46,
             "😊   INFO: <br>enjoy your day!"
            ],
            [
             25.51,
             "😰   CAUTION: <br>warm temperatures!"
            ],
            [
             23.46,
             "😊   INFO: <br>enjoy your day!"
            ],
            [
             21.3,
             "😊   INFO: <br>enjoy your day!"
            ],
            [
             26.2,
             "😰   CAUTION: <br>warm temperatures!"
            ],
            [
             24.28,
             "😊   INFO: <br>enjoy your day!"
            ],
            [
             22.46,
             "😊   INFO: <br>enjoy your day!"
            ],
            [
             27.12,
             "😰   CAUTION: <br>warm temperatures!"
            ],
            [
             20.01,
             "😊   INFO: <br>enjoy your day!"
            ],
            [
             24.33,
             "😊   INFO: <br>enjoy your day!"
            ],
            [
             19.63,
             "😕   INFO: <br>bring a jacket!"
            ],
            [
             21.73,
             "😊   INFO: <br>enjoy your day!"
            ],
            [
             23.43,
             "😊   INFO: <br>enjoy your day!"
            ]
           ],
           "hovertemplate": "<b>%{text} </b><br>Temperature: %{customdata[0]} °C<br><extra><i>%{customdata[1]}</i></extra>",
           "ids": [
            "Bregenz",
            "Wien",
            "Paris",
            "London",
            "Prag",
            "Florenz",
            "Kopenhagen",
            "Aachen",
            "Berlin",
            "Bonn",
            "Dresden",
            "Frankfurt am Main",
            "Freiburg",
            "Kiel",
            "Köln",
            "Leipzig",
            "Lübeck",
            "Mannheim",
            "München",
            "Münster",
            "Ravensburg",
            "Rostock",
            "Stuttgart"
           ],
           "lat": [
            47.5025779,
            48.2083537,
            48.8588897,
            51.5073219,
            50.0596288,
            43.7698712,
            55.6867243,
            50.776351,
            52.5170365,
            50.735851,
            51.0493286,
            50.1106444,
            47.9960901,
            54.3227085,
            50.938361,
            51.3406321,
            53.866444,
            49.4892913,
            48.1371079,
            51.9625101,
            47.7811014,
            54.0924445,
            48.7784485
           ],
           "legendgroup": "",
           "lon": [
            9.7472924,
            16.3725042,
            2.320041021720076,
            -0.1276474,
            14.446459273258009,
            11.2555757,
            12.5700724,
            6.083862,
            13.3888599,
            7.10066,
            13.7381437,
            8.6820917,
            7.8494005,
            10.135555,
            6.959974,
            12.3747329,
            10.684738,
            8.4673098,
            11.5753822,
            7.6251879,
            9.612468,
            12.1286127,
            9.1800132
           ],
           "marker": {
            "color": [
             20.6,
             23.29,
             23.49,
             17.74,
             21.78,
             26.15,
             19.38,
             22.58,
             23.3,
             26.13,
             22.46,
             25.51,
             23.46,
             21.3,
             26.2,
             24.28,
             22.46,
             27.12,
             20.01,
             24.33,
             19.63,
             21.73,
             23.43
            ],
            "coloraxis": "coloraxis"
           },
           "mode": "markers+text",
           "name": "",
           "showlegend": false,
           "subplot": "mapbox",
           "text": [
            "Bregenz",
            "Wien",
            "Paris",
            "London",
            "Prag",
            "Florenz",
            "Kopenhagen",
            "Aachen",
            "Berlin",
            "Bonn",
            "Dresden",
            "Frankfurt am Main",
            "Freiburg",
            "Kiel",
            "Köln",
            "Leipzig",
            "Lübeck",
            "Mannheim",
            "München",
            "Münster",
            "Ravensburg",
            "Rostock",
            "Stuttgart"
           ],
           "type": "scattermapbox"
          }
         ],
         "name": "2022-08-26 00:00:00"
        },
        {
         "data": [
          {
           "customdata": [
            [
             16.82,
             "😕   INFO: <br>bring a jacket!"
            ],
            [
             20.02,
             "😊   INFO: <br>enjoy your day!"
            ],
            [
             19.61,
             "😕   INFO: <br>bring a jacket!"
            ],
            [
             15.88,
             "😕   INFO: <br>bring a jacket!"
            ],
            [
             18.51,
             "😕   INFO: <br>bring a jacket!"
            ],
            [
             22.46,
             "😊   INFO: <br>enjoy your day!"
            ],
            [
             18.31,
             "😕   INFO: <br>bring a jacket!"
            ],
            [
             17.21,
             "😕   INFO: <br>bring a jacket!"
            ],
            [
             20.13,
             "😊   INFO: <br>enjoy your day!"
            ],
            [
             19.58,
             "😕   INFO: <br>bring a jacket!"
            ],
            [
             19.62,
             "😕   INFO: <br>bring a jacket!"
            ],
            [
             21.56,
             "😊   INFO: <br>enjoy your day!"
            ],
            [
             19.36,
             "😕   INFO: <br>bring a jacket!"
            ],
            [
             20.17,
             "😊   INFO: <br>enjoy your day!"
            ],
            [
             20.37,
             "😊   INFO: <br>enjoy your day!"
            ],
            [
             20.26,
             "😊   INFO: <br>enjoy your day!"
            ],
            [
             20.96,
             "😊   INFO: <br>enjoy your day!"
            ],
            [
             23.37,
             "😊   INFO: <br>enjoy your day!"
            ],
            [
             16.04,
             "😕   INFO: <br>bring a jacket!"
            ],
            [
             18.89,
             "😕   INFO: <br>bring a jacket!"
            ],
            [
             15.99,
             "😕   INFO: <br>bring a jacket!"
            ],
            [
             20,
             "😊   INFO: <br>enjoy your day!"
            ],
            [
             19.32,
             "😕   INFO: <br>bring a jacket!"
            ]
           ],
           "hovertemplate": "<b>%{text} </b><br>Temperature: %{customdata[0]} °C<br><extra><i>%{customdata[1]}</i></extra>",
           "ids": [
            "Bregenz",
            "Wien",
            "Paris",
            "London",
            "Prag",
            "Florenz",
            "Kopenhagen",
            "Aachen",
            "Berlin",
            "Bonn",
            "Dresden",
            "Frankfurt am Main",
            "Freiburg",
            "Kiel",
            "Köln",
            "Leipzig",
            "Lübeck",
            "Mannheim",
            "München",
            "Münster",
            "Ravensburg",
            "Rostock",
            "Stuttgart"
           ],
           "lat": [
            47.5025779,
            48.2083537,
            48.8588897,
            51.5073219,
            50.0596288,
            43.7698712,
            55.6867243,
            50.776351,
            52.5170365,
            50.735851,
            51.0493286,
            50.1106444,
            47.9960901,
            54.3227085,
            50.938361,
            51.3406321,
            53.866444,
            49.4892913,
            48.1371079,
            51.9625101,
            47.7811014,
            54.0924445,
            48.7784485
           ],
           "legendgroup": "",
           "lon": [
            9.7472924,
            16.3725042,
            2.320041021720076,
            -0.1276474,
            14.446459273258009,
            11.2555757,
            12.5700724,
            6.083862,
            13.3888599,
            7.10066,
            13.7381437,
            8.6820917,
            7.8494005,
            10.135555,
            6.959974,
            12.3747329,
            10.684738,
            8.4673098,
            11.5753822,
            7.6251879,
            9.612468,
            12.1286127,
            9.1800132
           ],
           "marker": {
            "color": [
             16.82,
             20.02,
             19.61,
             15.88,
             18.51,
             22.46,
             18.31,
             17.21,
             20.13,
             19.58,
             19.62,
             21.56,
             19.36,
             20.17,
             20.37,
             20.26,
             20.96,
             23.37,
             16.04,
             18.89,
             15.99,
             20,
             19.32
            ],
            "coloraxis": "coloraxis"
           },
           "mode": "markers+text",
           "name": "",
           "showlegend": false,
           "subplot": "mapbox",
           "text": [
            "Bregenz",
            "Wien",
            "Paris",
            "London",
            "Prag",
            "Florenz",
            "Kopenhagen",
            "Aachen",
            "Berlin",
            "Bonn",
            "Dresden",
            "Frankfurt am Main",
            "Freiburg",
            "Kiel",
            "Köln",
            "Leipzig",
            "Lübeck",
            "Mannheim",
            "München",
            "Münster",
            "Ravensburg",
            "Rostock",
            "Stuttgart"
           ],
           "type": "scattermapbox"
          }
         ],
         "name": "2022-08-26 03:00:00"
        },
        {
         "data": [
          {
           "customdata": [
            [
             18.54,
             "😕   INFO: <br>bring a jacket!"
            ],
            [
             21.37,
             "😊   INFO: <br>enjoy your day!"
            ],
            [
             18.7,
             "😕   INFO: <br>bring a jacket!"
            ],
            [
             15.76,
             "😕   INFO: <br>bring a jacket!"
            ],
            [
             20.39,
             "😊   INFO: <br>enjoy your day!"
            ],
            [
             23.82,
             "😊   INFO: <br>enjoy your day!"
            ],
            [
             19.1,
             "😕   INFO: <br>bring a jacket!"
            ],
            [
             17.87,
             "😕   INFO: <br>bring a jacket!"
            ],
            [
             21.58,
             "😊   INFO: <br>enjoy your day!"
            ],
            [
             20.07,
             "😊   INFO: <br>enjoy your day!"
            ],
            [
             21.82,
             "😊   INFO: <br>enjoy your day!"
            ],
            [
             22.72,
             "😊   INFO: <br>enjoy your day!"
            ],
            [
             20.69,
             "😊   INFO: <br>enjoy your day!"
            ],
            [
             21.21,
             "😊   INFO: <br>enjoy your day!"
            ],
            [
             20.48,
             "😊   INFO: <br>enjoy your day!"
            ],
            [
             21.88,
             "😊   INFO: <br>enjoy your day!"
            ],
            [
             21.81,
             "😊   INFO: <br>enjoy your day!"
            ],
            [
             24.07,
             "😊   INFO: <br>enjoy your day!"
            ],
            [
             18.03,
             "😕   INFO: <br>bring a jacket!"
            ],
            [
             18.75,
             "😕   INFO: <br>bring a jacket!"
            ],
            [
             17.53,
             "😕   INFO: <br>bring a jacket!"
            ],
            [
             20.73,
             "😊   INFO: <br>enjoy your day!"
            ],
            [
             20.94,
             "😊   INFO: <br>enjoy your day!"
            ]
           ],
           "hovertemplate": "<b>%{text} </b><br>Temperature: %{customdata[0]} °C<br><extra><i>%{customdata[1]}</i></extra>",
           "ids": [
            "Bregenz",
            "Wien",
            "Paris",
            "London",
            "Prag",
            "Florenz",
            "Kopenhagen",
            "Aachen",
            "Berlin",
            "Bonn",
            "Dresden",
            "Frankfurt am Main",
            "Freiburg",
            "Kiel",
            "Köln",
            "Leipzig",
            "Lübeck",
            "Mannheim",
            "München",
            "Münster",
            "Ravensburg",
            "Rostock",
            "Stuttgart"
           ],
           "lat": [
            47.5025779,
            48.2083537,
            48.8588897,
            51.5073219,
            50.0596288,
            43.7698712,
            55.6867243,
            50.776351,
            52.5170365,
            50.735851,
            51.0493286,
            50.1106444,
            47.9960901,
            54.3227085,
            50.938361,
            51.3406321,
            53.866444,
            49.4892913,
            48.1371079,
            51.9625101,
            47.7811014,
            54.0924445,
            48.7784485
           ],
           "legendgroup": "",
           "lon": [
            9.7472924,
            16.3725042,
            2.320041021720076,
            -0.1276474,
            14.446459273258009,
            11.2555757,
            12.5700724,
            6.083862,
            13.3888599,
            7.10066,
            13.7381437,
            8.6820917,
            7.8494005,
            10.135555,
            6.959974,
            12.3747329,
            10.684738,
            8.4673098,
            11.5753822,
            7.6251879,
            9.612468,
            12.1286127,
            9.1800132
           ],
           "marker": {
            "color": [
             18.54,
             21.37,
             18.7,
             15.76,
             20.39,
             23.82,
             19.1,
             17.87,
             21.58,
             20.07,
             21.82,
             22.72,
             20.69,
             21.21,
             20.48,
             21.88,
             21.81,
             24.07,
             18.03,
             18.75,
             17.53,
             20.73,
             20.94
            ],
            "coloraxis": "coloraxis"
           },
           "mode": "markers+text",
           "name": "",
           "showlegend": false,
           "subplot": "mapbox",
           "text": [
            "Bregenz",
            "Wien",
            "Paris",
            "London",
            "Prag",
            "Florenz",
            "Kopenhagen",
            "Aachen",
            "Berlin",
            "Bonn",
            "Dresden",
            "Frankfurt am Main",
            "Freiburg",
            "Kiel",
            "Köln",
            "Leipzig",
            "Lübeck",
            "Mannheim",
            "München",
            "Münster",
            "Ravensburg",
            "Rostock",
            "Stuttgart"
           ],
           "type": "scattermapbox"
          }
         ],
         "name": "2022-08-26 06:00:00"
        },
        {
         "data": [
          {
           "customdata": [
            [
             24.18,
             "😊   INFO: <br>enjoy your day!"
            ],
            [
             26.97,
             "😰   CAUTION: <br>warm temperatures!"
            ],
            [
             22.55,
             "😊   INFO: <br>enjoy your day!"
            ],
            [
             19.65,
             "😕   INFO: <br>bring a jacket!"
            ],
            [
             24.91,
             "😊   INFO: <br>enjoy your day!"
            ],
            [
             30.67,
             "🥵   DANGER: <br>it's hot!"
            ],
            [
             22.61,
             "😊   INFO: <br>enjoy your day!"
            ],
            [
             20.19,
             "😊   INFO: <br>enjoy your day!"
            ],
            [
             26.6,
             "😰   CAUTION: <br>warm temperatures!"
            ],
            [
             22.52,
             "😊   INFO: <br>enjoy your day!"
            ],
            [
             27.13,
             "😰   CAUTION: <br>warm temperatures!"
            ],
            [
             26.5,
             "😰   CAUTION: <br>warm temperatures!"
            ],
            [
             25.14,
             "😰   CAUTION: <br>warm temperatures!"
            ],
            [
             23.14,
             "😊   INFO: <br>enjoy your day!"
            ],
            [
             22.79,
             "😊   INFO: <br>enjoy your day!"
            ],
            [
             27.1,
             "😰   CAUTION: <br>warm temperatures!"
            ],
            [
             23.72,
             "😊   INFO: <br>enjoy your day!"
            ],
            [
             28.49,
             "😰   CAUTION: <br>warm temperatures!"
            ],
            [
             24.4,
             "😊   INFO: <br>enjoy your day!"
            ],
            [
             25.81,
             "😰   CAUTION: <br>warm temperatures!"
            ],
            [
             23.9,
             "😊   INFO: <br>enjoy your day!"
            ],
            [
             23.28,
             "😊   INFO: <br>enjoy your day!"
            ],
            [
             27.44,
             "😰   CAUTION: <br>warm temperatures!"
            ]
           ],
           "hovertemplate": "<b>%{text} </b><br>Temperature: %{customdata[0]} °C<br><extra><i>%{customdata[1]}</i></extra>",
           "ids": [
            "Bregenz",
            "Wien",
            "Paris",
            "London",
            "Prag",
            "Florenz",
            "Kopenhagen",
            "Aachen",
            "Berlin",
            "Bonn",
            "Dresden",
            "Frankfurt am Main",
            "Freiburg",
            "Kiel",
            "Köln",
            "Leipzig",
            "Lübeck",
            "Mannheim",
            "München",
            "Münster",
            "Ravensburg",
            "Rostock",
            "Stuttgart"
           ],
           "lat": [
            47.5025779,
            48.2083537,
            48.8588897,
            51.5073219,
            50.0596288,
            43.7698712,
            55.6867243,
            50.776351,
            52.5170365,
            50.735851,
            51.0493286,
            50.1106444,
            47.9960901,
            54.3227085,
            50.938361,
            51.3406321,
            53.866444,
            49.4892913,
            48.1371079,
            51.9625101,
            47.7811014,
            54.0924445,
            48.7784485
           ],
           "legendgroup": "",
           "lon": [
            9.7472924,
            16.3725042,
            2.320041021720076,
            -0.1276474,
            14.446459273258009,
            11.2555757,
            12.5700724,
            6.083862,
            13.3888599,
            7.10066,
            13.7381437,
            8.6820917,
            7.8494005,
            10.135555,
            6.959974,
            12.3747329,
            10.684738,
            8.4673098,
            11.5753822,
            7.6251879,
            9.612468,
            12.1286127,
            9.1800132
           ],
           "marker": {
            "color": [
             24.18,
             26.97,
             22.55,
             19.65,
             24.91,
             30.67,
             22.61,
             20.19,
             26.6,
             22.52,
             27.13,
             26.5,
             25.14,
             23.14,
             22.79,
             27.1,
             23.72,
             28.49,
             24.4,
             25.81,
             23.9,
             23.28,
             27.44
            ],
            "coloraxis": "coloraxis"
           },
           "mode": "markers+text",
           "name": "",
           "showlegend": false,
           "subplot": "mapbox",
           "text": [
            "Bregenz",
            "Wien",
            "Paris",
            "London",
            "Prag",
            "Florenz",
            "Kopenhagen",
            "Aachen",
            "Berlin",
            "Bonn",
            "Dresden",
            "Frankfurt am Main",
            "Freiburg",
            "Kiel",
            "Köln",
            "Leipzig",
            "Lübeck",
            "Mannheim",
            "München",
            "Münster",
            "Ravensburg",
            "Rostock",
            "Stuttgart"
           ],
           "type": "scattermapbox"
          }
         ],
         "name": "2022-08-26 09:00:00"
        },
        {
         "data": [
          {
           "customdata": [
            [
             25.56,
             "😰   CAUTION: <br>warm temperatures!"
            ],
            [
             30.69,
             "🥵   DANGER: <br>it's hot!"
            ],
            [
             26.7,
             "😰   CAUTION: <br>warm temperatures!"
            ],
            [
             23.35,
             "😊   INFO: <br>enjoy your day!"
            ],
            [
             28.39,
             "😰   CAUTION: <br>warm temperatures!"
            ],
            [
             33.8,
             "🥵   DANGER: <br>it's hot!"
            ],
            [
             24.35,
             "😊   INFO: <br>enjoy your day!"
            ],
            [
             22.85,
             "😊   INFO: <br>enjoy your day!"
            ],
            [
             30.8,
             "🥵   DANGER: <br>it's hot!"
            ],
            [
             24.88,
             "😊   INFO: <br>enjoy your day!"
            ],
            [
             30.21,
             "🥵   DANGER: <br>it's hot!"
            ],
            [
             29.76,
             "😰   CAUTION: <br>warm temperatures!"
            ],
            [
             27.36,
             "😰   CAUTION: <br>warm temperatures!"
            ],
            [
             25.96,
             "😰   CAUTION: <br>warm temperatures!"
            ],
            [
             24.68,
             "😊   INFO: <br>enjoy your day!"
            ],
            [
             30.8,
             "🥵   DANGER: <br>it's hot!"
            ],
            [
             26.9,
             "😰   CAUTION: <br>warm temperatures!"
            ],
            [
             30.69,
             "🥵   DANGER: <br>it's hot!"
            ],
            [
             26.87,
             "😰   CAUTION: <br>warm temperatures!"
            ],
            [
             26.33,
             "😰   CAUTION: <br>warm temperatures!"
            ],
            [
             26.83,
             "😰   CAUTION: <br>warm temperatures!"
            ],
            [
             26.5,
             "😰   CAUTION: <br>warm temperatures!"
            ],
            [
             29.52,
             "😰   CAUTION: <br>warm temperatures!"
            ]
           ],
           "hovertemplate": "<b>%{text} </b><br>Temperature: %{customdata[0]} °C<br><extra><i>%{customdata[1]}</i></extra>",
           "ids": [
            "Bregenz",
            "Wien",
            "Paris",
            "London",
            "Prag",
            "Florenz",
            "Kopenhagen",
            "Aachen",
            "Berlin",
            "Bonn",
            "Dresden",
            "Frankfurt am Main",
            "Freiburg",
            "Kiel",
            "Köln",
            "Leipzig",
            "Lübeck",
            "Mannheim",
            "München",
            "Münster",
            "Ravensburg",
            "Rostock",
            "Stuttgart"
           ],
           "lat": [
            47.5025779,
            48.2083537,
            48.8588897,
            51.5073219,
            50.0596288,
            43.7698712,
            55.6867243,
            50.776351,
            52.5170365,
            50.735851,
            51.0493286,
            50.1106444,
            47.9960901,
            54.3227085,
            50.938361,
            51.3406321,
            53.866444,
            49.4892913,
            48.1371079,
            51.9625101,
            47.7811014,
            54.0924445,
            48.7784485
           ],
           "legendgroup": "",
           "lon": [
            9.7472924,
            16.3725042,
            2.320041021720076,
            -0.1276474,
            14.446459273258009,
            11.2555757,
            12.5700724,
            6.083862,
            13.3888599,
            7.10066,
            13.7381437,
            8.6820917,
            7.8494005,
            10.135555,
            6.959974,
            12.3747329,
            10.684738,
            8.4673098,
            11.5753822,
            7.6251879,
            9.612468,
            12.1286127,
            9.1800132
           ],
           "marker": {
            "color": [
             25.56,
             30.69,
             26.7,
             23.35,
             28.39,
             33.8,
             24.35,
             22.85,
             30.8,
             24.88,
             30.21,
             29.76,
             27.36,
             25.96,
             24.68,
             30.8,
             26.9,
             30.69,
             26.87,
             26.33,
             26.83,
             26.5,
             29.52
            ],
            "coloraxis": "coloraxis"
           },
           "mode": "markers+text",
           "name": "",
           "showlegend": false,
           "subplot": "mapbox",
           "text": [
            "Bregenz",
            "Wien",
            "Paris",
            "London",
            "Prag",
            "Florenz",
            "Kopenhagen",
            "Aachen",
            "Berlin",
            "Bonn",
            "Dresden",
            "Frankfurt am Main",
            "Freiburg",
            "Kiel",
            "Köln",
            "Leipzig",
            "Lübeck",
            "Mannheim",
            "München",
            "Münster",
            "Ravensburg",
            "Rostock",
            "Stuttgart"
           ],
           "type": "scattermapbox"
          }
         ],
         "name": "2022-08-26 12:00:00"
        },
        {
         "data": [
          {
           "customdata": [
            [
             26.04,
             "😰   CAUTION: <br>warm temperatures!"
            ],
            [
             31.26,
             "🥵   DANGER: <br>it's hot!"
            ],
            [
             28.49,
             "😰   CAUTION: <br>warm temperatures!"
            ],
            [
             24.67,
             "😊   INFO: <br>enjoy your day!"
            ],
            [
             23.86,
             "😊   INFO: <br>enjoy your day!"
            ],
            [
             32.88,
             "🥵   DANGER: <br>it's hot!"
            ],
            [
             24.43,
             "😊   INFO: <br>enjoy your day!"
            ],
            [
             23.08,
             "😊   INFO: <br>enjoy your day!"
            ],
            [
             31.42,
             "🥵   DANGER: <br>it's hot!"
            ],
            [
             26.84,
             "😰   CAUTION: <br>warm temperatures!"
            ],
            [
             28.13,
             "😰   CAUTION: <br>warm temperatures!"
            ],
            [
             26.78,
             "😰   CAUTION: <br>warm temperatures!"
            ],
            [
             28.22,
             "😰   CAUTION: <br>warm temperatures!"
            ],
            [
             26.23,
             "😰   CAUTION: <br>warm temperatures!"
            ],
            [
             26.39,
             "😰   CAUTION: <br>warm temperatures!"
            ],
            [
             26.39,
             "😰   CAUTION: <br>warm temperatures!"
            ],
            [
             27.17,
             "😰   CAUTION: <br>warm temperatures!"
            ],
            [
             28.14,
             "😰   CAUTION: <br>warm temperatures!"
            ],
            [
             25.6,
             "😰   CAUTION: <br>warm temperatures!"
            ],
            [
             23.47,
             "😊   INFO: <br>enjoy your day!"
            ],
            [
             23.89,
             "😊   INFO: <br>enjoy your day!"
            ],
            [
             20.98,
             "😊   INFO: <br>enjoy your day!"
            ],
            [
             24.42,
             "😊   INFO: <br>enjoy your day!"
            ]
           ],
           "hovertemplate": "<b>%{text} </b><br>Temperature: %{customdata[0]} °C<br><extra><i>%{customdata[1]}</i></extra>",
           "ids": [
            "Bregenz",
            "Wien",
            "Paris",
            "London",
            "Prag",
            "Florenz",
            "Kopenhagen",
            "Aachen",
            "Berlin",
            "Bonn",
            "Dresden",
            "Frankfurt am Main",
            "Freiburg",
            "Kiel",
            "Köln",
            "Leipzig",
            "Lübeck",
            "Mannheim",
            "München",
            "Münster",
            "Ravensburg",
            "Rostock",
            "Stuttgart"
           ],
           "lat": [
            47.5025779,
            48.2083537,
            48.8588897,
            51.5073219,
            50.0596288,
            43.7698712,
            55.6867243,
            50.776351,
            52.5170365,
            50.735851,
            51.0493286,
            50.1106444,
            47.9960901,
            54.3227085,
            50.938361,
            51.3406321,
            53.866444,
            49.4892913,
            48.1371079,
            51.9625101,
            47.7811014,
            54.0924445,
            48.7784485
           ],
           "legendgroup": "",
           "lon": [
            9.7472924,
            16.3725042,
            2.320041021720076,
            -0.1276474,
            14.446459273258009,
            11.2555757,
            12.5700724,
            6.083862,
            13.3888599,
            7.10066,
            13.7381437,
            8.6820917,
            7.8494005,
            10.135555,
            6.959974,
            12.3747329,
            10.684738,
            8.4673098,
            11.5753822,
            7.6251879,
            9.612468,
            12.1286127,
            9.1800132
           ],
           "marker": {
            "color": [
             26.04,
             31.26,
             28.49,
             24.67,
             23.86,
             32.88,
             24.43,
             23.08,
             31.42,
             26.84,
             28.13,
             26.78,
             28.22,
             26.23,
             26.39,
             26.39,
             27.17,
             28.14,
             25.6,
             23.47,
             23.89,
             20.98,
             24.42
            ],
            "coloraxis": "coloraxis"
           },
           "mode": "markers+text",
           "name": "",
           "showlegend": false,
           "subplot": "mapbox",
           "text": [
            "Bregenz",
            "Wien",
            "Paris",
            "London",
            "Prag",
            "Florenz",
            "Kopenhagen",
            "Aachen",
            "Berlin",
            "Bonn",
            "Dresden",
            "Frankfurt am Main",
            "Freiburg",
            "Kiel",
            "Köln",
            "Leipzig",
            "Lübeck",
            "Mannheim",
            "München",
            "Münster",
            "Ravensburg",
            "Rostock",
            "Stuttgart"
           ],
           "type": "scattermapbox"
          }
         ],
         "name": "2022-08-26 15:00:00"
        },
        {
         "data": [
          {
           "customdata": [
            [
             18.9,
             "😕   INFO: <br>bring a jacket!"
            ],
            [
             26.07,
             "😰   CAUTION: <br>warm temperatures!"
            ],
            [
             26.09,
             "😰   CAUTION: <br>warm temperatures!"
            ],
            [
             22.65,
             "😊   INFO: <br>enjoy your day!"
            ],
            [
             20.78,
             "😊   INFO: <br>enjoy your day!"
            ],
            [
             28.45,
             "😰   CAUTION: <br>warm temperatures!"
            ],
            [
             22.45,
             "😊   INFO: <br>enjoy your day!"
            ],
            [
             20.36,
             "😊   INFO: <br>enjoy your day!"
            ],
            [
             27.02,
             "😰   CAUTION: <br>warm temperatures!"
            ],
            [
             23.21,
             "😊   INFO: <br>enjoy your day!"
            ],
            [
             20.44,
             "😊   INFO: <br>enjoy your day!"
            ],
            [
             22.38,
             "😊   INFO: <br>enjoy your day!"
            ],
            [
             21.36,
             "😊   INFO: <br>enjoy your day!"
            ],
            [
             21.45,
             "😊   INFO: <br>enjoy your day!"
            ],
            [
             23.17,
             "😊   INFO: <br>enjoy your day!"
            ],
            [
             20.31,
             "😊   INFO: <br>enjoy your day!"
            ],
            [
             21.19,
             "😊   INFO: <br>enjoy your day!"
            ],
            [
             24.98,
             "😊   INFO: <br>enjoy your day!"
            ],
            [
             19.09,
             "😕   INFO: <br>bring a jacket!"
            ],
            [
             21.08,
             "😊   INFO: <br>enjoy your day!"
            ],
            [
             17.68,
             "😕   INFO: <br>bring a jacket!"
            ],
            [
             19.73,
             "😕   INFO: <br>bring a jacket!"
            ],
            [
             21.18,
             "😊   INFO: <br>enjoy your day!"
            ]
           ],
           "hovertemplate": "<b>%{text} </b><br>Temperature: %{customdata[0]} °C<br><extra><i>%{customdata[1]}</i></extra>",
           "ids": [
            "Bregenz",
            "Wien",
            "Paris",
            "London",
            "Prag",
            "Florenz",
            "Kopenhagen",
            "Aachen",
            "Berlin",
            "Bonn",
            "Dresden",
            "Frankfurt am Main",
            "Freiburg",
            "Kiel",
            "Köln",
            "Leipzig",
            "Lübeck",
            "Mannheim",
            "München",
            "Münster",
            "Ravensburg",
            "Rostock",
            "Stuttgart"
           ],
           "lat": [
            47.5025779,
            48.2083537,
            48.8588897,
            51.5073219,
            50.0596288,
            43.7698712,
            55.6867243,
            50.776351,
            52.5170365,
            50.735851,
            51.0493286,
            50.1106444,
            47.9960901,
            54.3227085,
            50.938361,
            51.3406321,
            53.866444,
            49.4892913,
            48.1371079,
            51.9625101,
            47.7811014,
            54.0924445,
            48.7784485
           ],
           "legendgroup": "",
           "lon": [
            9.7472924,
            16.3725042,
            2.320041021720076,
            -0.1276474,
            14.446459273258009,
            11.2555757,
            12.5700724,
            6.083862,
            13.3888599,
            7.10066,
            13.7381437,
            8.6820917,
            7.8494005,
            10.135555,
            6.959974,
            12.3747329,
            10.684738,
            8.4673098,
            11.5753822,
            7.6251879,
            9.612468,
            12.1286127,
            9.1800132
           ],
           "marker": {
            "color": [
             18.9,
             26.07,
             26.09,
             22.65,
             20.78,
             28.45,
             22.45,
             20.36,
             27.02,
             23.21,
             20.44,
             22.38,
             21.36,
             21.45,
             23.17,
             20.31,
             21.19,
             24.98,
             19.09,
             21.08,
             17.68,
             19.73,
             21.18
            ],
            "coloraxis": "coloraxis"
           },
           "mode": "markers+text",
           "name": "",
           "showlegend": false,
           "subplot": "mapbox",
           "text": [
            "Bregenz",
            "Wien",
            "Paris",
            "London",
            "Prag",
            "Florenz",
            "Kopenhagen",
            "Aachen",
            "Berlin",
            "Bonn",
            "Dresden",
            "Frankfurt am Main",
            "Freiburg",
            "Kiel",
            "Köln",
            "Leipzig",
            "Lübeck",
            "Mannheim",
            "München",
            "Münster",
            "Ravensburg",
            "Rostock",
            "Stuttgart"
           ],
           "type": "scattermapbox"
          }
         ],
         "name": "2022-08-26 18:00:00"
        },
        {
         "data": [
          {
           "customdata": [
            [
             17.22,
             "😕   INFO: <br>bring a jacket!"
            ],
            [
             22.94,
             "😊   INFO: <br>enjoy your day!"
            ],
            [
             20.97,
             "😊   INFO: <br>enjoy your day!"
            ],
            [
             21.43,
             "😊   INFO: <br>enjoy your day!"
            ],
            [
             19.48,
             "😕   INFO: <br>bring a jacket!"
            ],
            [
             24.84,
             "😊   INFO: <br>enjoy your day!"
            ],
            [
             21.18,
             "😊   INFO: <br>enjoy your day!"
            ],
            [
             18.66,
             "😕   INFO: <br>bring a jacket!"
            ],
            [
             22.5,
             "😊   INFO: <br>enjoy your day!"
            ],
            [
             20.42,
             "😊   INFO: <br>enjoy your day!"
            ],
            [
             19.57,
             "😕   INFO: <br>bring a jacket!"
            ],
            [
             20.65,
             "😊   INFO: <br>enjoy your day!"
            ],
            [
             17.75,
             "😕   INFO: <br>bring a jacket!"
            ],
            [
             19.29,
             "😕   INFO: <br>bring a jacket!"
            ],
            [
             21.28,
             "😊   INFO: <br>enjoy your day!"
            ],
            [
             20.24,
             "😊   INFO: <br>enjoy your day!"
            ],
            [
             19.71,
             "😕   INFO: <br>bring a jacket!"
            ],
            [
             21.62,
             "😊   INFO: <br>enjoy your day!"
            ],
            [
             17.11,
             "😕   INFO: <br>bring a jacket!"
            ],
            [
             17.61,
             "😕   INFO: <br>bring a jacket!"
            ],
            [
             16.42,
             "😕   INFO: <br>bring a jacket!"
            ],
            [
             19.43,
             "😕   INFO: <br>bring a jacket!"
            ],
            [
             19.39,
             "😕   INFO: <br>bring a jacket!"
            ]
           ],
           "hovertemplate": "<b>%{text} </b><br>Temperature: %{customdata[0]} °C<br><extra><i>%{customdata[1]}</i></extra>",
           "ids": [
            "Bregenz",
            "Wien",
            "Paris",
            "London",
            "Prag",
            "Florenz",
            "Kopenhagen",
            "Aachen",
            "Berlin",
            "Bonn",
            "Dresden",
            "Frankfurt am Main",
            "Freiburg",
            "Kiel",
            "Köln",
            "Leipzig",
            "Lübeck",
            "Mannheim",
            "München",
            "Münster",
            "Ravensburg",
            "Rostock",
            "Stuttgart"
           ],
           "lat": [
            47.5025779,
            48.2083537,
            48.8588897,
            51.5073219,
            50.0596288,
            43.7698712,
            55.6867243,
            50.776351,
            52.5170365,
            50.735851,
            51.0493286,
            50.1106444,
            47.9960901,
            54.3227085,
            50.938361,
            51.3406321,
            53.866444,
            49.4892913,
            48.1371079,
            51.9625101,
            47.7811014,
            54.0924445,
            48.7784485
           ],
           "legendgroup": "",
           "lon": [
            9.7472924,
            16.3725042,
            2.320041021720076,
            -0.1276474,
            14.446459273258009,
            11.2555757,
            12.5700724,
            6.083862,
            13.3888599,
            7.10066,
            13.7381437,
            8.6820917,
            7.8494005,
            10.135555,
            6.959974,
            12.3747329,
            10.684738,
            8.4673098,
            11.5753822,
            7.6251879,
            9.612468,
            12.1286127,
            9.1800132
           ],
           "marker": {
            "color": [
             17.22,
             22.94,
             20.97,
             21.43,
             19.48,
             24.84,
             21.18,
             18.66,
             22.5,
             20.42,
             19.57,
             20.65,
             17.75,
             19.29,
             21.28,
             20.24,
             19.71,
             21.62,
             17.11,
             17.61,
             16.42,
             19.43,
             19.39
            ],
            "coloraxis": "coloraxis"
           },
           "mode": "markers+text",
           "name": "",
           "showlegend": false,
           "subplot": "mapbox",
           "text": [
            "Bregenz",
            "Wien",
            "Paris",
            "London",
            "Prag",
            "Florenz",
            "Kopenhagen",
            "Aachen",
            "Berlin",
            "Bonn",
            "Dresden",
            "Frankfurt am Main",
            "Freiburg",
            "Kiel",
            "Köln",
            "Leipzig",
            "Lübeck",
            "Mannheim",
            "München",
            "Münster",
            "Ravensburg",
            "Rostock",
            "Stuttgart"
           ],
           "type": "scattermapbox"
          }
         ],
         "name": "2022-08-26 21:00:00"
        },
        {
         "data": [
          {
           "customdata": [
            [
             16.26,
             "😕   INFO: <br>bring a jacket!"
            ],
            [
             20.97,
             "😊   INFO: <br>enjoy your day!"
            ],
            [
             18.87,
             "😕   INFO: <br>bring a jacket!"
            ],
            [
             20.12,
             "😊   INFO: <br>enjoy your day!"
            ],
            [
             18.19,
             "😕   INFO: <br>bring a jacket!"
            ],
            [
             23.41,
             "😊   INFO: <br>enjoy your day!"
            ],
            [
             20.51,
             "😊   INFO: <br>enjoy your day!"
            ],
            [
             16.42,
             "😕   INFO: <br>bring a jacket!"
            ],
            [
             20.37,
             "😊   INFO: <br>enjoy your day!"
            ],
            [
             19.55,
             "😕   INFO: <br>bring a jacket!"
            ],
            [
             18.58,
             "😕   INFO: <br>bring a jacket!"
            ],
            [
             20.33,
             "😊   INFO: <br>enjoy your day!"
            ],
            [
             17.41,
             "😕   INFO: <br>bring a jacket!"
            ],
            [
             18.07,
             "😕   INFO: <br>bring a jacket!"
            ],
            [
             19.68,
             "😕   INFO: <br>bring a jacket!"
            ],
            [
             19.58,
             "😕   INFO: <br>bring a jacket!"
            ],
            [
             18.29,
             "😕   INFO: <br>bring a jacket!"
            ],
            [
             20.01,
             "😊   INFO: <br>enjoy your day!"
            ],
            [
             16.27,
             "😕   INFO: <br>bring a jacket!"
            ],
            [
             17.37,
             "😕   INFO: <br>bring a jacket!"
            ],
            [
             15.76,
             "😕   INFO: <br>bring a jacket!"
            ],
            [
             19.38,
             "😕   INFO: <br>bring a jacket!"
            ],
            [
             17.87,
             "😕   INFO: <br>bring a jacket!"
            ]
           ],
           "hovertemplate": "<b>%{text} </b><br>Temperature: %{customdata[0]} °C<br><extra><i>%{customdata[1]}</i></extra>",
           "ids": [
            "Bregenz",
            "Wien",
            "Paris",
            "London",
            "Prag",
            "Florenz",
            "Kopenhagen",
            "Aachen",
            "Berlin",
            "Bonn",
            "Dresden",
            "Frankfurt am Main",
            "Freiburg",
            "Kiel",
            "Köln",
            "Leipzig",
            "Lübeck",
            "Mannheim",
            "München",
            "Münster",
            "Ravensburg",
            "Rostock",
            "Stuttgart"
           ],
           "lat": [
            47.5025779,
            48.2083537,
            48.8588897,
            51.5073219,
            50.0596288,
            43.7698712,
            55.6867243,
            50.776351,
            52.5170365,
            50.735851,
            51.0493286,
            50.1106444,
            47.9960901,
            54.3227085,
            50.938361,
            51.3406321,
            53.866444,
            49.4892913,
            48.1371079,
            51.9625101,
            47.7811014,
            54.0924445,
            48.7784485
           ],
           "legendgroup": "",
           "lon": [
            9.7472924,
            16.3725042,
            2.320041021720076,
            -0.1276474,
            14.446459273258009,
            11.2555757,
            12.5700724,
            6.083862,
            13.3888599,
            7.10066,
            13.7381437,
            8.6820917,
            7.8494005,
            10.135555,
            6.959974,
            12.3747329,
            10.684738,
            8.4673098,
            11.5753822,
            7.6251879,
            9.612468,
            12.1286127,
            9.1800132
           ],
           "marker": {
            "color": [
             16.26,
             20.97,
             18.87,
             20.12,
             18.19,
             23.41,
             20.51,
             16.42,
             20.37,
             19.55,
             18.58,
             20.33,
             17.41,
             18.07,
             19.68,
             19.58,
             18.29,
             20.01,
             16.27,
             17.37,
             15.76,
             19.38,
             17.87
            ],
            "coloraxis": "coloraxis"
           },
           "mode": "markers+text",
           "name": "",
           "showlegend": false,
           "subplot": "mapbox",
           "text": [
            "Bregenz",
            "Wien",
            "Paris",
            "London",
            "Prag",
            "Florenz",
            "Kopenhagen",
            "Aachen",
            "Berlin",
            "Bonn",
            "Dresden",
            "Frankfurt am Main",
            "Freiburg",
            "Kiel",
            "Köln",
            "Leipzig",
            "Lübeck",
            "Mannheim",
            "München",
            "Münster",
            "Ravensburg",
            "Rostock",
            "Stuttgart"
           ],
           "type": "scattermapbox"
          }
         ],
         "name": "2022-08-27 00:00:00"
        },
        {
         "data": [
          {
           "customdata": [
            [
             15.76,
             "😕   INFO: <br>bring a jacket!"
            ],
            [
             19.92,
             "😕   INFO: <br>bring a jacket!"
            ],
            [
             17.72,
             "😕   INFO: <br>bring a jacket!"
            ],
            [
             18.84,
             "😕   INFO: <br>bring a jacket!"
            ],
            [
             18.28,
             "😕   INFO: <br>bring a jacket!"
            ],
            [
             22.35,
             "😊   INFO: <br>enjoy your day!"
            ],
            [
             19.36,
             "😕   INFO: <br>bring a jacket!"
            ],
            [
             12.48,
             "😕   INFO: <br>bring a jacket!"
            ],
            [
             19.5,
             "😕   INFO: <br>bring a jacket!"
            ],
            [
             17.91,
             "😕   INFO: <br>bring a jacket!"
            ],
            [
             18.62,
             "😕   INFO: <br>bring a jacket!"
            ],
            [
             19.24,
             "😕   INFO: <br>bring a jacket!"
            ],
            [
             16.47,
             "😕   INFO: <br>bring a jacket!"
            ],
            [
             18.13,
             "😕   INFO: <br>bring a jacket!"
            ],
            [
             17.52,
             "😕   INFO: <br>bring a jacket!"
            ],
            [
             18.56,
             "😕   INFO: <br>bring a jacket!"
            ],
            [
             17.85,
             "😕   INFO: <br>bring a jacket!"
            ],
            [
             19.41,
             "😕   INFO: <br>bring a jacket!"
            ],
            [
             15.38,
             "😕   INFO: <br>bring a jacket!"
            ],
            [
             16.82,
             "😕   INFO: <br>bring a jacket!"
            ],
            [
             14.92,
             "😕   INFO: <br>bring a jacket!"
            ],
            [
             18.93,
             "😕   INFO: <br>bring a jacket!"
            ],
            [
             17.7,
             "😕   INFO: <br>bring a jacket!"
            ]
           ],
           "hovertemplate": "<b>%{text} </b><br>Temperature: %{customdata[0]} °C<br><extra><i>%{customdata[1]}</i></extra>",
           "ids": [
            "Bregenz",
            "Wien",
            "Paris",
            "London",
            "Prag",
            "Florenz",
            "Kopenhagen",
            "Aachen",
            "Berlin",
            "Bonn",
            "Dresden",
            "Frankfurt am Main",
            "Freiburg",
            "Kiel",
            "Köln",
            "Leipzig",
            "Lübeck",
            "Mannheim",
            "München",
            "Münster",
            "Ravensburg",
            "Rostock",
            "Stuttgart"
           ],
           "lat": [
            47.5025779,
            48.2083537,
            48.8588897,
            51.5073219,
            50.0596288,
            43.7698712,
            55.6867243,
            50.776351,
            52.5170365,
            50.735851,
            51.0493286,
            50.1106444,
            47.9960901,
            54.3227085,
            50.938361,
            51.3406321,
            53.866444,
            49.4892913,
            48.1371079,
            51.9625101,
            47.7811014,
            54.0924445,
            48.7784485
           ],
           "legendgroup": "",
           "lon": [
            9.7472924,
            16.3725042,
            2.320041021720076,
            -0.1276474,
            14.446459273258009,
            11.2555757,
            12.5700724,
            6.083862,
            13.3888599,
            7.10066,
            13.7381437,
            8.6820917,
            7.8494005,
            10.135555,
            6.959974,
            12.3747329,
            10.684738,
            8.4673098,
            11.5753822,
            7.6251879,
            9.612468,
            12.1286127,
            9.1800132
           ],
           "marker": {
            "color": [
             15.76,
             19.92,
             17.72,
             18.84,
             18.28,
             22.35,
             19.36,
             12.48,
             19.5,
             17.91,
             18.62,
             19.24,
             16.47,
             18.13,
             17.52,
             18.56,
             17.85,
             19.41,
             15.38,
             16.82,
             14.92,
             18.93,
             17.7
            ],
            "coloraxis": "coloraxis"
           },
           "mode": "markers+text",
           "name": "",
           "showlegend": false,
           "subplot": "mapbox",
           "text": [
            "Bregenz",
            "Wien",
            "Paris",
            "London",
            "Prag",
            "Florenz",
            "Kopenhagen",
            "Aachen",
            "Berlin",
            "Bonn",
            "Dresden",
            "Frankfurt am Main",
            "Freiburg",
            "Kiel",
            "Köln",
            "Leipzig",
            "Lübeck",
            "Mannheim",
            "München",
            "Münster",
            "Ravensburg",
            "Rostock",
            "Stuttgart"
           ],
           "type": "scattermapbox"
          }
         ],
         "name": "2022-08-27 03:00:00"
        },
        {
         "data": [
          {
           "customdata": [
            [
             17.13,
             "😕   INFO: <br>bring a jacket!"
            ],
            [
             20.37,
             "😊   INFO: <br>enjoy your day!"
            ],
            [
             16.93,
             "😕   INFO: <br>bring a jacket!"
            ],
            [
             18.17,
             "😕   INFO: <br>bring a jacket!"
            ],
            [
             18.63,
             "😕   INFO: <br>bring a jacket!"
            ],
            [
             23.11,
             "😊   INFO: <br>enjoy your day!"
            ],
            [
             19.91,
             "😕   INFO: <br>bring a jacket!"
            ],
            [
             13.46,
             "😕   INFO: <br>bring a jacket!"
            ],
            [
             20,
             "😊   INFO: <br>enjoy your day!"
            ],
            [
             17.09,
             "😕   INFO: <br>bring a jacket!"
            ],
            [
             19.27,
             "😕   INFO: <br>bring a jacket!"
            ],
            [
             19.29,
             "😕   INFO: <br>bring a jacket!"
            ],
            [
             17.46,
             "😕   INFO: <br>bring a jacket!"
            ],
            [
             17.6,
             "😕   INFO: <br>bring a jacket!"
            ],
            [
             17.47,
             "😕   INFO: <br>bring a jacket!"
            ],
            [
             18.32,
             "😕   INFO: <br>bring a jacket!"
            ],
            [
             18.61,
             "😕   INFO: <br>bring a jacket!"
            ],
            [
             19.36,
             "😕   INFO: <br>bring a jacket!"
            ],
            [
             16.47,
             "😕   INFO: <br>bring a jacket!"
            ],
            [
             16.88,
             "😕   INFO: <br>bring a jacket!"
            ],
            [
             16.08,
             "😕   INFO: <br>bring a jacket!"
            ],
            [
             19.74,
             "😕   INFO: <br>bring a jacket!"
            ],
            [
             18.49,
             "😕   INFO: <br>bring a jacket!"
            ]
           ],
           "hovertemplate": "<b>%{text} </b><br>Temperature: %{customdata[0]} °C<br><extra><i>%{customdata[1]}</i></extra>",
           "ids": [
            "Bregenz",
            "Wien",
            "Paris",
            "London",
            "Prag",
            "Florenz",
            "Kopenhagen",
            "Aachen",
            "Berlin",
            "Bonn",
            "Dresden",
            "Frankfurt am Main",
            "Freiburg",
            "Kiel",
            "Köln",
            "Leipzig",
            "Lübeck",
            "Mannheim",
            "München",
            "Münster",
            "Ravensburg",
            "Rostock",
            "Stuttgart"
           ],
           "lat": [
            47.5025779,
            48.2083537,
            48.8588897,
            51.5073219,
            50.0596288,
            43.7698712,
            55.6867243,
            50.776351,
            52.5170365,
            50.735851,
            51.0493286,
            50.1106444,
            47.9960901,
            54.3227085,
            50.938361,
            51.3406321,
            53.866444,
            49.4892913,
            48.1371079,
            51.9625101,
            47.7811014,
            54.0924445,
            48.7784485
           ],
           "legendgroup": "",
           "lon": [
            9.7472924,
            16.3725042,
            2.320041021720076,
            -0.1276474,
            14.446459273258009,
            11.2555757,
            12.5700724,
            6.083862,
            13.3888599,
            7.10066,
            13.7381437,
            8.6820917,
            7.8494005,
            10.135555,
            6.959974,
            12.3747329,
            10.684738,
            8.4673098,
            11.5753822,
            7.6251879,
            9.612468,
            12.1286127,
            9.1800132
           ],
           "marker": {
            "color": [
             17.13,
             20.37,
             16.93,
             18.17,
             18.63,
             23.11,
             19.91,
             13.46,
             20,
             17.09,
             19.27,
             19.29,
             17.46,
             17.6,
             17.47,
             18.32,
             18.61,
             19.36,
             16.47,
             16.88,
             16.08,
             19.74,
             18.49
            ],
            "coloraxis": "coloraxis"
           },
           "mode": "markers+text",
           "name": "",
           "showlegend": false,
           "subplot": "mapbox",
           "text": [
            "Bregenz",
            "Wien",
            "Paris",
            "London",
            "Prag",
            "Florenz",
            "Kopenhagen",
            "Aachen",
            "Berlin",
            "Bonn",
            "Dresden",
            "Frankfurt am Main",
            "Freiburg",
            "Kiel",
            "Köln",
            "Leipzig",
            "Lübeck",
            "Mannheim",
            "München",
            "Münster",
            "Ravensburg",
            "Rostock",
            "Stuttgart"
           ],
           "type": "scattermapbox"
          }
         ],
         "name": "2022-08-27 06:00:00"
        },
        {
         "data": [
          {
           "customdata": [
            [
             21.78,
             "😊   INFO: <br>enjoy your day!"
            ],
            [
             25.04,
             "😰   CAUTION: <br>warm temperatures!"
            ],
            [
             21.11,
             "😊   INFO: <br>enjoy your day!"
            ],
            [
             19.99,
             "😕   INFO: <br>bring a jacket!"
            ],
            [
             19.76,
             "😕   INFO: <br>bring a jacket!"
            ],
            [
             29.1,
             "😰   CAUTION: <br>warm temperatures!"
            ],
            [
             22.41,
             "😊   INFO: <br>enjoy your day!"
            ],
            [
             18.69,
             "😕   INFO: <br>bring a jacket!"
            ],
            [
             22.86,
             "😊   INFO: <br>enjoy your day!"
            ],
            [
             19.13,
             "😕   INFO: <br>bring a jacket!"
            ],
            [
             18.82,
             "😕   INFO: <br>bring a jacket!"
            ],
            [
             20.36,
             "😊   INFO: <br>enjoy your day!"
            ],
            [
             21.65,
             "😊   INFO: <br>enjoy your day!"
            ],
            [
             17.32,
             "😕   INFO: <br>bring a jacket!"
            ],
            [
             19.73,
             "😕   INFO: <br>bring a jacket!"
            ],
            [
             18.4,
             "😕   INFO: <br>bring a jacket!"
            ],
            [
             18.19,
             "😕   INFO: <br>bring a jacket!"
            ],
            [
             20.2,
             "😊   INFO: <br>enjoy your day!"
            ],
            [
             20.82,
             "😊   INFO: <br>enjoy your day!"
            ],
            [
             19.19,
             "😕   INFO: <br>bring a jacket!"
            ],
            [
             21.6,
             "😊   INFO: <br>enjoy your day!"
            ],
            [
             19.3,
             "😕   INFO: <br>bring a jacket!"
            ],
            [
             20.26,
             "😊   INFO: <br>enjoy your day!"
            ]
           ],
           "hovertemplate": "<b>%{text} </b><br>Temperature: %{customdata[0]} °C<br><extra><i>%{customdata[1]}</i></extra>",
           "ids": [
            "Bregenz",
            "Wien",
            "Paris",
            "London",
            "Prag",
            "Florenz",
            "Kopenhagen",
            "Aachen",
            "Berlin",
            "Bonn",
            "Dresden",
            "Frankfurt am Main",
            "Freiburg",
            "Kiel",
            "Köln",
            "Leipzig",
            "Lübeck",
            "Mannheim",
            "München",
            "Münster",
            "Ravensburg",
            "Rostock",
            "Stuttgart"
           ],
           "lat": [
            47.5025779,
            48.2083537,
            48.8588897,
            51.5073219,
            50.0596288,
            43.7698712,
            55.6867243,
            50.776351,
            52.5170365,
            50.735851,
            51.0493286,
            50.1106444,
            47.9960901,
            54.3227085,
            50.938361,
            51.3406321,
            53.866444,
            49.4892913,
            48.1371079,
            51.9625101,
            47.7811014,
            54.0924445,
            48.7784485
           ],
           "legendgroup": "",
           "lon": [
            9.7472924,
            16.3725042,
            2.320041021720076,
            -0.1276474,
            14.446459273258009,
            11.2555757,
            12.5700724,
            6.083862,
            13.3888599,
            7.10066,
            13.7381437,
            8.6820917,
            7.8494005,
            10.135555,
            6.959974,
            12.3747329,
            10.684738,
            8.4673098,
            11.5753822,
            7.6251879,
            9.612468,
            12.1286127,
            9.1800132
           ],
           "marker": {
            "color": [
             21.78,
             25.04,
             21.11,
             19.99,
             19.76,
             29.1,
             22.41,
             18.69,
             22.86,
             19.13,
             18.82,
             20.36,
             21.65,
             17.32,
             19.73,
             18.4,
             18.19,
             20.2,
             20.82,
             19.19,
             21.6,
             19.3,
             20.26
            ],
            "coloraxis": "coloraxis"
           },
           "mode": "markers+text",
           "name": "",
           "showlegend": false,
           "subplot": "mapbox",
           "text": [
            "Bregenz",
            "Wien",
            "Paris",
            "London",
            "Prag",
            "Florenz",
            "Kopenhagen",
            "Aachen",
            "Berlin",
            "Bonn",
            "Dresden",
            "Frankfurt am Main",
            "Freiburg",
            "Kiel",
            "Köln",
            "Leipzig",
            "Lübeck",
            "Mannheim",
            "München",
            "Münster",
            "Ravensburg",
            "Rostock",
            "Stuttgart"
           ],
           "type": "scattermapbox"
          }
         ],
         "name": "2022-08-27 09:00:00"
        },
        {
         "data": [
          {
           "customdata": [
            [
             23.58,
             "😊   INFO: <br>enjoy your day!"
            ],
            [
             29.24,
             "😰   CAUTION: <br>warm temperatures!"
            ],
            [
             25.64,
             "😰   CAUTION: <br>warm temperatures!"
            ],
            [
             21.51,
             "😊   INFO: <br>enjoy your day!"
            ],
            [
             24.13,
             "😊   INFO: <br>enjoy your day!"
            ],
            [
             33.24,
             "🥵   DANGER: <br>it's hot!"
            ],
            [
             23.54,
             "😊   INFO: <br>enjoy your day!"
            ],
            [
             23.33,
             "😊   INFO: <br>enjoy your day!"
            ],
            [
             22.2,
             "😊   INFO: <br>enjoy your day!"
            ],
            [
             24.17,
             "😊   INFO: <br>enjoy your day!"
            ],
            [
             19.07,
             "😕   INFO: <br>bring a jacket!"
            ],
            [
             21.77,
             "😊   INFO: <br>enjoy your day!"
            ],
            [
             24.54,
             "😊   INFO: <br>enjoy your day!"
            ],
            [
             18.01,
             "😕   INFO: <br>bring a jacket!"
            ],
            [
             24.54,
             "😊   INFO: <br>enjoy your day!"
            ],
            [
             18.2,
             "😕   INFO: <br>bring a jacket!"
            ],
            [
             17.55,
             "😕   INFO: <br>bring a jacket!"
            ],
            [
             21.73,
             "😊   INFO: <br>enjoy your day!"
            ],
            [
             23.92,
             "😊   INFO: <br>enjoy your day!"
            ],
            [
             24.82,
             "😊   INFO: <br>enjoy your day!"
            ],
            [
             22.2,
             "😊   INFO: <br>enjoy your day!"
            ],
            [
             18.95,
             "😕   INFO: <br>bring a jacket!"
            ],
            [
             20.52,
             "😊   INFO: <br>enjoy your day!"
            ]
           ],
           "hovertemplate": "<b>%{text} </b><br>Temperature: %{customdata[0]} °C<br><extra><i>%{customdata[1]}</i></extra>",
           "ids": [
            "Bregenz",
            "Wien",
            "Paris",
            "London",
            "Prag",
            "Florenz",
            "Kopenhagen",
            "Aachen",
            "Berlin",
            "Bonn",
            "Dresden",
            "Frankfurt am Main",
            "Freiburg",
            "Kiel",
            "Köln",
            "Leipzig",
            "Lübeck",
            "Mannheim",
            "München",
            "Münster",
            "Ravensburg",
            "Rostock",
            "Stuttgart"
           ],
           "lat": [
            47.5025779,
            48.2083537,
            48.8588897,
            51.5073219,
            50.0596288,
            43.7698712,
            55.6867243,
            50.776351,
            52.5170365,
            50.735851,
            51.0493286,
            50.1106444,
            47.9960901,
            54.3227085,
            50.938361,
            51.3406321,
            53.866444,
            49.4892913,
            48.1371079,
            51.9625101,
            47.7811014,
            54.0924445,
            48.7784485
           ],
           "legendgroup": "",
           "lon": [
            9.7472924,
            16.3725042,
            2.320041021720076,
            -0.1276474,
            14.446459273258009,
            11.2555757,
            12.5700724,
            6.083862,
            13.3888599,
            7.10066,
            13.7381437,
            8.6820917,
            7.8494005,
            10.135555,
            6.959974,
            12.3747329,
            10.684738,
            8.4673098,
            11.5753822,
            7.6251879,
            9.612468,
            12.1286127,
            9.1800132
           ],
           "marker": {
            "color": [
             23.58,
             29.24,
             25.64,
             21.51,
             24.13,
             33.24,
             23.54,
             23.33,
             22.2,
             24.17,
             19.07,
             21.77,
             24.54,
             18.01,
             24.54,
             18.2,
             17.55,
             21.73,
             23.92,
             24.82,
             22.2,
             18.95,
             20.52
            ],
            "coloraxis": "coloraxis"
           },
           "mode": "markers+text",
           "name": "",
           "showlegend": false,
           "subplot": "mapbox",
           "text": [
            "Bregenz",
            "Wien",
            "Paris",
            "London",
            "Prag",
            "Florenz",
            "Kopenhagen",
            "Aachen",
            "Berlin",
            "Bonn",
            "Dresden",
            "Frankfurt am Main",
            "Freiburg",
            "Kiel",
            "Köln",
            "Leipzig",
            "Lübeck",
            "Mannheim",
            "München",
            "Münster",
            "Ravensburg",
            "Rostock",
            "Stuttgart"
           ],
           "type": "scattermapbox"
          }
         ],
         "name": "2022-08-27 12:00:00"
        },
        {
         "data": [
          {
           "customdata": [
            [
             21.43,
             "😊   INFO: <br>enjoy your day!"
            ],
            [
             29.31,
             "😰   CAUTION: <br>warm temperatures!"
            ],
            [
             27.43,
             "😰   CAUTION: <br>warm temperatures!"
            ],
            [
             23.42,
             "😊   INFO: <br>enjoy your day!"
            ],
            [
             22.51,
             "😊   INFO: <br>enjoy your day!"
            ],
            [
             32.13,
             "🥵   DANGER: <br>it's hot!"
            ],
            [
             21.01,
             "😊   INFO: <br>enjoy your day!"
            ],
            [
             24.57,
             "😊   INFO: <br>enjoy your day!"
            ],
            [
             19.42,
             "😕   INFO: <br>bring a jacket!"
            ],
            [
             25.52,
             "😰   CAUTION: <br>warm temperatures!"
            ],
            [
             19.11,
             "😕   INFO: <br>bring a jacket!"
            ],
            [
             22.59,
             "😊   INFO: <br>enjoy your day!"
            ],
            [
             24.48,
             "😊   INFO: <br>enjoy your day!"
            ],
            [
             20.82,
             "😊   INFO: <br>enjoy your day!"
            ],
            [
             25.78,
             "😰   CAUTION: <br>warm temperatures!"
            ],
            [
             18.21,
             "😕   INFO: <br>bring a jacket!"
            ],
            [
             17.53,
             "😕   INFO: <br>bring a jacket!"
            ],
            [
             24.04,
             "😊   INFO: <br>enjoy your day!"
            ],
            [
             21.61,
             "😊   INFO: <br>enjoy your day!"
            ],
            [
             25.2,
             "😰   CAUTION: <br>warm temperatures!"
            ],
            [
             20.46,
             "😊   INFO: <br>enjoy your day!"
            ],
            [
             18.44,
             "😕   INFO: <br>bring a jacket!"
            ],
            [
             21.97,
             "😊   INFO: <br>enjoy your day!"
            ]
           ],
           "hovertemplate": "<b>%{text} </b><br>Temperature: %{customdata[0]} °C<br><extra><i>%{customdata[1]}</i></extra>",
           "ids": [
            "Bregenz",
            "Wien",
            "Paris",
            "London",
            "Prag",
            "Florenz",
            "Kopenhagen",
            "Aachen",
            "Berlin",
            "Bonn",
            "Dresden",
            "Frankfurt am Main",
            "Freiburg",
            "Kiel",
            "Köln",
            "Leipzig",
            "Lübeck",
            "Mannheim",
            "München",
            "Münster",
            "Ravensburg",
            "Rostock",
            "Stuttgart"
           ],
           "lat": [
            47.5025779,
            48.2083537,
            48.8588897,
            51.5073219,
            50.0596288,
            43.7698712,
            55.6867243,
            50.776351,
            52.5170365,
            50.735851,
            51.0493286,
            50.1106444,
            47.9960901,
            54.3227085,
            50.938361,
            51.3406321,
            53.866444,
            49.4892913,
            48.1371079,
            51.9625101,
            47.7811014,
            54.0924445,
            48.7784485
           ],
           "legendgroup": "",
           "lon": [
            9.7472924,
            16.3725042,
            2.320041021720076,
            -0.1276474,
            14.446459273258009,
            11.2555757,
            12.5700724,
            6.083862,
            13.3888599,
            7.10066,
            13.7381437,
            8.6820917,
            7.8494005,
            10.135555,
            6.959974,
            12.3747329,
            10.684738,
            8.4673098,
            11.5753822,
            7.6251879,
            9.612468,
            12.1286127,
            9.1800132
           ],
           "marker": {
            "color": [
             21.43,
             29.31,
             27.43,
             23.42,
             22.51,
             32.13,
             21.01,
             24.57,
             19.42,
             25.52,
             19.11,
             22.59,
             24.48,
             20.82,
             25.78,
             18.21,
             17.53,
             24.04,
             21.61,
             25.2,
             20.46,
             18.44,
             21.97
            ],
            "coloraxis": "coloraxis"
           },
           "mode": "markers+text",
           "name": "",
           "showlegend": false,
           "subplot": "mapbox",
           "text": [
            "Bregenz",
            "Wien",
            "Paris",
            "London",
            "Prag",
            "Florenz",
            "Kopenhagen",
            "Aachen",
            "Berlin",
            "Bonn",
            "Dresden",
            "Frankfurt am Main",
            "Freiburg",
            "Kiel",
            "Köln",
            "Leipzig",
            "Lübeck",
            "Mannheim",
            "München",
            "Münster",
            "Ravensburg",
            "Rostock",
            "Stuttgart"
           ],
           "type": "scattermapbox"
          }
         ],
         "name": "2022-08-27 15:00:00"
        },
        {
         "data": [
          {
           "customdata": [
            [
             18.99,
             "😕   INFO: <br>bring a jacket!"
            ],
            [
             21.82,
             "😊   INFO: <br>enjoy your day!"
            ],
            [
             25.75,
             "😰   CAUTION: <br>warm temperatures!"
            ],
            [
             20.84,
             "😊   INFO: <br>enjoy your day!"
            ],
            [
             19.06,
             "😕   INFO: <br>bring a jacket!"
            ],
            [
             19.65,
             "😕   INFO: <br>bring a jacket!"
            ],
            [
             18.85,
             "😕   INFO: <br>bring a jacket!"
            ],
            [
             20.94,
             "😊   INFO: <br>enjoy your day!"
            ],
            [
             18.65,
             "😕   INFO: <br>bring a jacket!"
            ],
            [
             21.91,
             "😊   INFO: <br>enjoy your day!"
            ],
            [
             17.67,
             "😕   INFO: <br>bring a jacket!"
            ],
            [
             21.67,
             "😊   INFO: <br>enjoy your day!"
            ],
            [
             20.61,
             "😊   INFO: <br>enjoy your day!"
            ],
            [
             18.52,
             "😕   INFO: <br>bring a jacket!"
            ],
            [
             23.05,
             "😊   INFO: <br>enjoy your day!"
            ],
            [
             17.93,
             "😕   INFO: <br>bring a jacket!"
            ],
            [
             18.43,
             "😕   INFO: <br>bring a jacket!"
            ],
            [
             22.45,
             "😊   INFO: <br>enjoy your day!"
            ],
            [
             18.37,
             "😕   INFO: <br>bring a jacket!"
            ],
            [
             19.95,
             "😕   INFO: <br>bring a jacket!"
            ],
            [
             18.14,
             "😕   INFO: <br>bring a jacket!"
            ],
            [
             18.6,
             "😕   INFO: <br>bring a jacket!"
            ],
            [
             20.67,
             "😊   INFO: <br>enjoy your day!"
            ]
           ],
           "hovertemplate": "<b>%{text} </b><br>Temperature: %{customdata[0]} °C<br><extra><i>%{customdata[1]}</i></extra>",
           "ids": [
            "Bregenz",
            "Wien",
            "Paris",
            "London",
            "Prag",
            "Florenz",
            "Kopenhagen",
            "Aachen",
            "Berlin",
            "Bonn",
            "Dresden",
            "Frankfurt am Main",
            "Freiburg",
            "Kiel",
            "Köln",
            "Leipzig",
            "Lübeck",
            "Mannheim",
            "München",
            "Münster",
            "Ravensburg",
            "Rostock",
            "Stuttgart"
           ],
           "lat": [
            47.5025779,
            48.2083537,
            48.8588897,
            51.5073219,
            50.0596288,
            43.7698712,
            55.6867243,
            50.776351,
            52.5170365,
            50.735851,
            51.0493286,
            50.1106444,
            47.9960901,
            54.3227085,
            50.938361,
            51.3406321,
            53.866444,
            49.4892913,
            48.1371079,
            51.9625101,
            47.7811014,
            54.0924445,
            48.7784485
           ],
           "legendgroup": "",
           "lon": [
            9.7472924,
            16.3725042,
            2.320041021720076,
            -0.1276474,
            14.446459273258009,
            11.2555757,
            12.5700724,
            6.083862,
            13.3888599,
            7.10066,
            13.7381437,
            8.6820917,
            7.8494005,
            10.135555,
            6.959974,
            12.3747329,
            10.684738,
            8.4673098,
            11.5753822,
            7.6251879,
            9.612468,
            12.1286127,
            9.1800132
           ],
           "marker": {
            "color": [
             18.99,
             21.82,
             25.75,
             20.84,
             19.06,
             19.65,
             18.85,
             20.94,
             18.65,
             21.91,
             17.67,
             21.67,
             20.61,
             18.52,
             23.05,
             17.93,
             18.43,
             22.45,
             18.37,
             19.95,
             18.14,
             18.6,
             20.67
            ],
            "coloraxis": "coloraxis"
           },
           "mode": "markers+text",
           "name": "",
           "showlegend": false,
           "subplot": "mapbox",
           "text": [
            "Bregenz",
            "Wien",
            "Paris",
            "London",
            "Prag",
            "Florenz",
            "Kopenhagen",
            "Aachen",
            "Berlin",
            "Bonn",
            "Dresden",
            "Frankfurt am Main",
            "Freiburg",
            "Kiel",
            "Köln",
            "Leipzig",
            "Lübeck",
            "Mannheim",
            "München",
            "Münster",
            "Ravensburg",
            "Rostock",
            "Stuttgart"
           ],
           "type": "scattermapbox"
          }
         ],
         "name": "2022-08-27 18:00:00"
        },
        {
         "data": [
          {
           "customdata": [
            [
             16.75,
             "😕   INFO: <br>bring a jacket!"
            ],
            [
             20.48,
             "😊   INFO: <br>enjoy your day!"
            ],
            [
             22.32,
             "😊   INFO: <br>enjoy your day!"
            ],
            [
             18.46,
             "😕   INFO: <br>bring a jacket!"
            ],
            [
             16.81,
             "😕   INFO: <br>bring a jacket!"
            ],
            [
             19.82,
             "😕   INFO: <br>bring a jacket!"
            ],
            [
             18.47,
             "😕   INFO: <br>bring a jacket!"
            ],
            [
             16.41,
             "😕   INFO: <br>bring a jacket!"
            ],
            [
             17.97,
             "😕   INFO: <br>bring a jacket!"
            ],
            [
             18.18,
             "😕   INFO: <br>bring a jacket!"
            ],
            [
             17.58,
             "😕   INFO: <br>bring a jacket!"
            ],
            [
             18.84,
             "😕   INFO: <br>bring a jacket!"
            ],
            [
             17.25,
             "😕   INFO: <br>bring a jacket!"
            ],
            [
             14.4,
             "😕   INFO: <br>bring a jacket!"
            ],
            [
             19.05,
             "😕   INFO: <br>bring a jacket!"
            ],
            [
             18.07,
             "😕   INFO: <br>bring a jacket!"
            ],
            [
             13.95,
             "😕   INFO: <br>bring a jacket!"
            ],
            [
             21.6,
             "😊   INFO: <br>enjoy your day!"
            ],
            [
             16.63,
             "😕   INFO: <br>bring a jacket!"
            ],
            [
             14.18,
             "😕   INFO: <br>bring a jacket!"
            ],
            [
             16.46,
             "😕   INFO: <br>bring a jacket!"
            ],
            [
             18.45,
             "😕   INFO: <br>bring a jacket!"
            ],
            [
             19.67,
             "😕   INFO: <br>bring a jacket!"
            ]
           ],
           "hovertemplate": "<b>%{text} </b><br>Temperature: %{customdata[0]} °C<br><extra><i>%{customdata[1]}</i></extra>",
           "ids": [
            "Bregenz",
            "Wien",
            "Paris",
            "London",
            "Prag",
            "Florenz",
            "Kopenhagen",
            "Aachen",
            "Berlin",
            "Bonn",
            "Dresden",
            "Frankfurt am Main",
            "Freiburg",
            "Kiel",
            "Köln",
            "Leipzig",
            "Lübeck",
            "Mannheim",
            "München",
            "Münster",
            "Ravensburg",
            "Rostock",
            "Stuttgart"
           ],
           "lat": [
            47.5025779,
            48.2083537,
            48.8588897,
            51.5073219,
            50.0596288,
            43.7698712,
            55.6867243,
            50.776351,
            52.5170365,
            50.735851,
            51.0493286,
            50.1106444,
            47.9960901,
            54.3227085,
            50.938361,
            51.3406321,
            53.866444,
            49.4892913,
            48.1371079,
            51.9625101,
            47.7811014,
            54.0924445,
            48.7784485
           ],
           "legendgroup": "",
           "lon": [
            9.7472924,
            16.3725042,
            2.320041021720076,
            -0.1276474,
            14.446459273258009,
            11.2555757,
            12.5700724,
            6.083862,
            13.3888599,
            7.10066,
            13.7381437,
            8.6820917,
            7.8494005,
            10.135555,
            6.959974,
            12.3747329,
            10.684738,
            8.4673098,
            11.5753822,
            7.6251879,
            9.612468,
            12.1286127,
            9.1800132
           ],
           "marker": {
            "color": [
             16.75,
             20.48,
             22.32,
             18.46,
             16.81,
             19.82,
             18.47,
             16.41,
             17.97,
             18.18,
             17.58,
             18.84,
             17.25,
             14.4,
             19.05,
             18.07,
             13.95,
             21.6,
             16.63,
             14.18,
             16.46,
             18.45,
             19.67
            ],
            "coloraxis": "coloraxis"
           },
           "mode": "markers+text",
           "name": "",
           "showlegend": false,
           "subplot": "mapbox",
           "text": [
            "Bregenz",
            "Wien",
            "Paris",
            "London",
            "Prag",
            "Florenz",
            "Kopenhagen",
            "Aachen",
            "Berlin",
            "Bonn",
            "Dresden",
            "Frankfurt am Main",
            "Freiburg",
            "Kiel",
            "Köln",
            "Leipzig",
            "Lübeck",
            "Mannheim",
            "München",
            "Münster",
            "Ravensburg",
            "Rostock",
            "Stuttgart"
           ],
           "type": "scattermapbox"
          }
         ],
         "name": "2022-08-27 21:00:00"
        },
        {
         "data": [
          {
           "customdata": [
            [
             17.61,
             "😕   INFO: <br>bring a jacket!"
            ],
            [
             19.69,
             "😕   INFO: <br>bring a jacket!"
            ],
            [
             19.08,
             "😕   INFO: <br>bring a jacket!"
            ],
            [
             17.17,
             "😕   INFO: <br>bring a jacket!"
            ],
            [
             15.94,
             "😕   INFO: <br>bring a jacket!"
            ],
            [
             19.65,
             "😕   INFO: <br>bring a jacket!"
            ],
            [
             18.41,
             "😕   INFO: <br>bring a jacket!"
            ],
            [
             12.2,
             "😕   INFO: <br>bring a jacket!"
            ],
            [
             17.49,
             "😕   INFO: <br>bring a jacket!"
            ],
            [
             15.43,
             "😕   INFO: <br>bring a jacket!"
            ],
            [
             17.72,
             "😕   INFO: <br>bring a jacket!"
            ],
            [
             17.18,
             "😕   INFO: <br>bring a jacket!"
            ],
            [
             17.14,
             "😕   INFO: <br>bring a jacket!"
            ],
            [
             13.26,
             "😕   INFO: <br>bring a jacket!"
            ],
            [
             16.22,
             "😕   INFO: <br>bring a jacket!"
            ],
            [
             16.19,
             "😕   INFO: <br>bring a jacket!"
            ],
            [
             12.33,
             "😕   INFO: <br>bring a jacket!"
            ],
            [
             20.17,
             "😊   INFO: <br>enjoy your day!"
            ],
            [
             16.56,
             "😕   INFO: <br>bring a jacket!"
            ],
            [
             11.46,
             "😕   INFO: <br>bring a jacket!"
            ],
            [
             16.72,
             "😕   INFO: <br>bring a jacket!"
            ],
            [
             17.05,
             "😕   INFO: <br>bring a jacket!"
            ],
            [
             19.21,
             "😕   INFO: <br>bring a jacket!"
            ]
           ],
           "hovertemplate": "<b>%{text} </b><br>Temperature: %{customdata[0]} °C<br><extra><i>%{customdata[1]}</i></extra>",
           "ids": [
            "Bregenz",
            "Wien",
            "Paris",
            "London",
            "Prag",
            "Florenz",
            "Kopenhagen",
            "Aachen",
            "Berlin",
            "Bonn",
            "Dresden",
            "Frankfurt am Main",
            "Freiburg",
            "Kiel",
            "Köln",
            "Leipzig",
            "Lübeck",
            "Mannheim",
            "München",
            "Münster",
            "Ravensburg",
            "Rostock",
            "Stuttgart"
           ],
           "lat": [
            47.5025779,
            48.2083537,
            48.8588897,
            51.5073219,
            50.0596288,
            43.7698712,
            55.6867243,
            50.776351,
            52.5170365,
            50.735851,
            51.0493286,
            50.1106444,
            47.9960901,
            54.3227085,
            50.938361,
            51.3406321,
            53.866444,
            49.4892913,
            48.1371079,
            51.9625101,
            47.7811014,
            54.0924445,
            48.7784485
           ],
           "legendgroup": "",
           "lon": [
            9.7472924,
            16.3725042,
            2.320041021720076,
            -0.1276474,
            14.446459273258009,
            11.2555757,
            12.5700724,
            6.083862,
            13.3888599,
            7.10066,
            13.7381437,
            8.6820917,
            7.8494005,
            10.135555,
            6.959974,
            12.3747329,
            10.684738,
            8.4673098,
            11.5753822,
            7.6251879,
            9.612468,
            12.1286127,
            9.1800132
           ],
           "marker": {
            "color": [
             17.61,
             19.69,
             19.08,
             17.17,
             15.94,
             19.65,
             18.41,
             12.2,
             17.49,
             15.43,
             17.72,
             17.18,
             17.14,
             13.26,
             16.22,
             16.19,
             12.33,
             20.17,
             16.56,
             11.46,
             16.72,
             17.05,
             19.21
            ],
            "coloraxis": "coloraxis"
           },
           "mode": "markers+text",
           "name": "",
           "showlegend": false,
           "subplot": "mapbox",
           "text": [
            "Bregenz",
            "Wien",
            "Paris",
            "London",
            "Prag",
            "Florenz",
            "Kopenhagen",
            "Aachen",
            "Berlin",
            "Bonn",
            "Dresden",
            "Frankfurt am Main",
            "Freiburg",
            "Kiel",
            "Köln",
            "Leipzig",
            "Lübeck",
            "Mannheim",
            "München",
            "Münster",
            "Ravensburg",
            "Rostock",
            "Stuttgart"
           ],
           "type": "scattermapbox"
          }
         ],
         "name": "2022-08-28 00:00:00"
        },
        {
         "data": [
          {
           "customdata": [
            [
             17.62,
             "😕   INFO: <br>bring a jacket!"
            ],
            [
             19.13,
             "😕   INFO: <br>bring a jacket!"
            ],
            [
             17.07,
             "😕   INFO: <br>bring a jacket!"
            ],
            [
             16.13,
             "😕   INFO: <br>bring a jacket!"
            ],
            [
             15.25,
             "😕   INFO: <br>bring a jacket!"
            ],
            [
             19.37,
             "😕   INFO: <br>bring a jacket!"
            ],
            [
             18,
             "😕   INFO: <br>bring a jacket!"
            ],
            [
             10.49,
             "😕   INFO: <br>bring a jacket!"
            ],
            [
             15.61,
             "😕   INFO: <br>bring a jacket!"
            ],
            [
             13.58,
             "😕   INFO: <br>bring a jacket!"
            ],
            [
             16.31,
             "😕   INFO: <br>bring a jacket!"
            ],
            [
             15.24,
             "😕   INFO: <br>bring a jacket!"
            ],
            [
             17.41,
             "😕   INFO: <br>bring a jacket!"
            ],
            [
             12.59,
             "😕   INFO: <br>bring a jacket!"
            ],
            [
             14.6,
             "😕   INFO: <br>bring a jacket!"
            ],
            [
             13.02,
             "😕   INFO: <br>bring a jacket!"
            ],
            [
             11.79,
             "😕   INFO: <br>bring a jacket!"
            ],
            [
             18.81,
             "😕   INFO: <br>bring a jacket!"
            ],
            [
             16.46,
             "😕   INFO: <br>bring a jacket!"
            ],
            [
             10.61,
             "😕   INFO: <br>bring a jacket!"
            ],
            [
             16.46,
             "😕   INFO: <br>bring a jacket!"
            ],
            [
             15.36,
             "😕   INFO: <br>bring a jacket!"
            ],
            [
             18.65,
             "😕   INFO: <br>bring a jacket!"
            ]
           ],
           "hovertemplate": "<b>%{text} </b><br>Temperature: %{customdata[0]} °C<br><extra><i>%{customdata[1]}</i></extra>",
           "ids": [
            "Bregenz",
            "Wien",
            "Paris",
            "London",
            "Prag",
            "Florenz",
            "Kopenhagen",
            "Aachen",
            "Berlin",
            "Bonn",
            "Dresden",
            "Frankfurt am Main",
            "Freiburg",
            "Kiel",
            "Köln",
            "Leipzig",
            "Lübeck",
            "Mannheim",
            "München",
            "Münster",
            "Ravensburg",
            "Rostock",
            "Stuttgart"
           ],
           "lat": [
            47.5025779,
            48.2083537,
            48.8588897,
            51.5073219,
            50.0596288,
            43.7698712,
            55.6867243,
            50.776351,
            52.5170365,
            50.735851,
            51.0493286,
            50.1106444,
            47.9960901,
            54.3227085,
            50.938361,
            51.3406321,
            53.866444,
            49.4892913,
            48.1371079,
            51.9625101,
            47.7811014,
            54.0924445,
            48.7784485
           ],
           "legendgroup": "",
           "lon": [
            9.7472924,
            16.3725042,
            2.320041021720076,
            -0.1276474,
            14.446459273258009,
            11.2555757,
            12.5700724,
            6.083862,
            13.3888599,
            7.10066,
            13.7381437,
            8.6820917,
            7.8494005,
            10.135555,
            6.959974,
            12.3747329,
            10.684738,
            8.4673098,
            11.5753822,
            7.6251879,
            9.612468,
            12.1286127,
            9.1800132
           ],
           "marker": {
            "color": [
             17.62,
             19.13,
             17.07,
             16.13,
             15.25,
             19.37,
             18,
             10.49,
             15.61,
             13.58,
             16.31,
             15.24,
             17.41,
             12.59,
             14.6,
             13.02,
             11.79,
             18.81,
             16.46,
             10.61,
             16.46,
             15.36,
             18.65
            ],
            "coloraxis": "coloraxis"
           },
           "mode": "markers+text",
           "name": "",
           "showlegend": false,
           "subplot": "mapbox",
           "text": [
            "Bregenz",
            "Wien",
            "Paris",
            "London",
            "Prag",
            "Florenz",
            "Kopenhagen",
            "Aachen",
            "Berlin",
            "Bonn",
            "Dresden",
            "Frankfurt am Main",
            "Freiburg",
            "Kiel",
            "Köln",
            "Leipzig",
            "Lübeck",
            "Mannheim",
            "München",
            "Münster",
            "Ravensburg",
            "Rostock",
            "Stuttgart"
           ],
           "type": "scattermapbox"
          }
         ],
         "name": "2022-08-28 03:00:00"
        },
        {
         "data": [
          {
           "customdata": [
            [
             18.09,
             "😕   INFO: <br>bring a jacket!"
            ],
            [
             18.81,
             "😕   INFO: <br>bring a jacket!"
            ],
            [
             16.33,
             "😕   INFO: <br>bring a jacket!"
            ],
            [
             15.77,
             "😕   INFO: <br>bring a jacket!"
            ],
            [
             17.22,
             "😕   INFO: <br>bring a jacket!"
            ],
            [
             20.76,
             "😊   INFO: <br>enjoy your day!"
            ],
            [
             18.06,
             "😕   INFO: <br>bring a jacket!"
            ],
            [
             12,
             "😕   INFO: <br>bring a jacket!"
            ],
            [
             14.14,
             "😕   INFO: <br>bring a jacket!"
            ],
            [
             14.05,
             "😕   INFO: <br>bring a jacket!"
            ],
            [
             14.91,
             "😕   INFO: <br>bring a jacket!"
            ],
            [
             15.33,
             "😕   INFO: <br>bring a jacket!"
            ],
            [
             17.33,
             "😕   INFO: <br>bring a jacket!"
            ],
            [
             14.56,
             "😕   INFO: <br>bring a jacket!"
            ],
            [
             14.97,
             "😕   INFO: <br>bring a jacket!"
            ],
            [
             13.77,
             "😕   INFO: <br>bring a jacket!"
            ],
            [
             13.62,
             "😕   INFO: <br>bring a jacket!"
            ],
            [
             17.41,
             "😕   INFO: <br>bring a jacket!"
            ],
            [
             16.52,
             "😕   INFO: <br>bring a jacket!"
            ],
            [
             12.56,
             "😕   INFO: <br>bring a jacket!"
            ],
            [
             16.34,
             "😕   INFO: <br>bring a jacket!"
            ],
            [
             16.42,
             "😕   INFO: <br>bring a jacket!"
            ],
            [
             18.75,
             "😕   INFO: <br>bring a jacket!"
            ]
           ],
           "hovertemplate": "<b>%{text} </b><br>Temperature: %{customdata[0]} °C<br><extra><i>%{customdata[1]}</i></extra>",
           "ids": [
            "Bregenz",
            "Wien",
            "Paris",
            "London",
            "Prag",
            "Florenz",
            "Kopenhagen",
            "Aachen",
            "Berlin",
            "Bonn",
            "Dresden",
            "Frankfurt am Main",
            "Freiburg",
            "Kiel",
            "Köln",
            "Leipzig",
            "Lübeck",
            "Mannheim",
            "München",
            "Münster",
            "Ravensburg",
            "Rostock",
            "Stuttgart"
           ],
           "lat": [
            47.5025779,
            48.2083537,
            48.8588897,
            51.5073219,
            50.0596288,
            43.7698712,
            55.6867243,
            50.776351,
            52.5170365,
            50.735851,
            51.0493286,
            50.1106444,
            47.9960901,
            54.3227085,
            50.938361,
            51.3406321,
            53.866444,
            49.4892913,
            48.1371079,
            51.9625101,
            47.7811014,
            54.0924445,
            48.7784485
           ],
           "legendgroup": "",
           "lon": [
            9.7472924,
            16.3725042,
            2.320041021720076,
            -0.1276474,
            14.446459273258009,
            11.2555757,
            12.5700724,
            6.083862,
            13.3888599,
            7.10066,
            13.7381437,
            8.6820917,
            7.8494005,
            10.135555,
            6.959974,
            12.3747329,
            10.684738,
            8.4673098,
            11.5753822,
            7.6251879,
            9.612468,
            12.1286127,
            9.1800132
           ],
           "marker": {
            "color": [
             18.09,
             18.81,
             16.33,
             15.77,
             17.22,
             20.76,
             18.06,
             12,
             14.14,
             14.05,
             14.91,
             15.33,
             17.33,
             14.56,
             14.97,
             13.77,
             13.62,
             17.41,
             16.52,
             12.56,
             16.34,
             16.42,
             18.75
            ],
            "coloraxis": "coloraxis"
           },
           "mode": "markers+text",
           "name": "",
           "showlegend": false,
           "subplot": "mapbox",
           "text": [
            "Bregenz",
            "Wien",
            "Paris",
            "London",
            "Prag",
            "Florenz",
            "Kopenhagen",
            "Aachen",
            "Berlin",
            "Bonn",
            "Dresden",
            "Frankfurt am Main",
            "Freiburg",
            "Kiel",
            "Köln",
            "Leipzig",
            "Lübeck",
            "Mannheim",
            "München",
            "Münster",
            "Ravensburg",
            "Rostock",
            "Stuttgart"
           ],
           "type": "scattermapbox"
          }
         ],
         "name": "2022-08-28 06:00:00"
        },
        {
         "data": [
          {
           "customdata": [
            [
             19.52,
             "😕   INFO: <br>bring a jacket!"
            ],
            [
             18.73,
             "😕   INFO: <br>bring a jacket!"
            ],
            [
             22.06,
             "😊   INFO: <br>enjoy your day!"
            ],
            [
             18.99,
             "😕   INFO: <br>bring a jacket!"
            ],
            [
             20,
             "😊   INFO: <br>enjoy your day!"
            ],
            [
             27.68,
             "😰   CAUTION: <br>warm temperatures!"
            ],
            [
             20.06,
             "😊   INFO: <br>enjoy your day!"
            ],
            [
             18.6,
             "😕   INFO: <br>bring a jacket!"
            ],
            [
             18.7,
             "😕   INFO: <br>bring a jacket!"
            ],
            [
             19.55,
             "😕   INFO: <br>bring a jacket!"
            ],
            [
             18.65,
             "😕   INFO: <br>bring a jacket!"
            ],
            [
             20.42,
             "😊   INFO: <br>enjoy your day!"
            ],
            [
             19.76,
             "😕   INFO: <br>bring a jacket!"
            ],
            [
             19.3,
             "😕   INFO: <br>bring a jacket!"
            ],
            [
             19.66,
             "😕   INFO: <br>bring a jacket!"
            ],
            [
             17.96,
             "😕   INFO: <br>bring a jacket!"
            ],
            [
             19.47,
             "😕   INFO: <br>bring a jacket!"
            ],
            [
             21.8,
             "😊   INFO: <br>enjoy your day!"
            ],
            [
             17.66,
             "😕   INFO: <br>bring a jacket!"
            ],
            [
             19.46,
             "😕   INFO: <br>bring a jacket!"
            ],
            [
             17.93,
             "😕   INFO: <br>bring a jacket!"
            ],
            [
             17.64,
             "😕   INFO: <br>bring a jacket!"
            ],
            [
             20.32,
             "😊   INFO: <br>enjoy your day!"
            ]
           ],
           "hovertemplate": "<b>%{text} </b><br>Temperature: %{customdata[0]} °C<br><extra><i>%{customdata[1]}</i></extra>",
           "ids": [
            "Bregenz",
            "Wien",
            "Paris",
            "London",
            "Prag",
            "Florenz",
            "Kopenhagen",
            "Aachen",
            "Berlin",
            "Bonn",
            "Dresden",
            "Frankfurt am Main",
            "Freiburg",
            "Kiel",
            "Köln",
            "Leipzig",
            "Lübeck",
            "Mannheim",
            "München",
            "Münster",
            "Ravensburg",
            "Rostock",
            "Stuttgart"
           ],
           "lat": [
            47.5025779,
            48.2083537,
            48.8588897,
            51.5073219,
            50.0596288,
            43.7698712,
            55.6867243,
            50.776351,
            52.5170365,
            50.735851,
            51.0493286,
            50.1106444,
            47.9960901,
            54.3227085,
            50.938361,
            51.3406321,
            53.866444,
            49.4892913,
            48.1371079,
            51.9625101,
            47.7811014,
            54.0924445,
            48.7784485
           ],
           "legendgroup": "",
           "lon": [
            9.7472924,
            16.3725042,
            2.320041021720076,
            -0.1276474,
            14.446459273258009,
            11.2555757,
            12.5700724,
            6.083862,
            13.3888599,
            7.10066,
            13.7381437,
            8.6820917,
            7.8494005,
            10.135555,
            6.959974,
            12.3747329,
            10.684738,
            8.4673098,
            11.5753822,
            7.6251879,
            9.612468,
            12.1286127,
            9.1800132
           ],
           "marker": {
            "color": [
             19.52,
             18.73,
             22.06,
             18.99,
             20,
             27.68,
             20.06,
             18.6,
             18.7,
             19.55,
             18.65,
             20.42,
             19.76,
             19.3,
             19.66,
             17.96,
             19.47,
             21.8,
             17.66,
             19.46,
             17.93,
             17.64,
             20.32
            ],
            "coloraxis": "coloraxis"
           },
           "mode": "markers+text",
           "name": "",
           "showlegend": false,
           "subplot": "mapbox",
           "text": [
            "Bregenz",
            "Wien",
            "Paris",
            "London",
            "Prag",
            "Florenz",
            "Kopenhagen",
            "Aachen",
            "Berlin",
            "Bonn",
            "Dresden",
            "Frankfurt am Main",
            "Freiburg",
            "Kiel",
            "Köln",
            "Leipzig",
            "Lübeck",
            "Mannheim",
            "München",
            "Münster",
            "Ravensburg",
            "Rostock",
            "Stuttgart"
           ],
           "type": "scattermapbox"
          }
         ],
         "name": "2022-08-28 09:00:00"
        },
        {
         "data": [
          {
           "customdata": [
            [
             22.2,
             "😊   INFO: <br>enjoy your day!"
            ],
            [
             21.59,
             "😊   INFO: <br>enjoy your day!"
            ],
            [
             26.97,
             "😰   CAUTION: <br>warm temperatures!"
            ],
            [
             22.32,
             "😊   INFO: <br>enjoy your day!"
            ],
            [
             21.37,
             "😊   INFO: <br>enjoy your day!"
            ],
            [
             31.86,
             "🥵   DANGER: <br>it's hot!"
            ],
            [
             21.89,
             "😊   INFO: <br>enjoy your day!"
            ],
            [
             22.25,
             "😊   INFO: <br>enjoy your day!"
            ],
            [
             22.47,
             "😊   INFO: <br>enjoy your day!"
            ],
            [
             23.65,
             "😊   INFO: <br>enjoy your day!"
            ],
            [
             21.56,
             "😊   INFO: <br>enjoy your day!"
            ],
            [
             24.44,
             "😊   INFO: <br>enjoy your day!"
            ],
            [
             23.72,
             "😊   INFO: <br>enjoy your day!"
            ],
            [
             21.65,
             "😊   INFO: <br>enjoy your day!"
            ],
            [
             23.3,
             "😊   INFO: <br>enjoy your day!"
            ],
            [
             21.31,
             "😊   INFO: <br>enjoy your day!"
            ],
            [
             22.6,
             "😊   INFO: <br>enjoy your day!"
            ],
            [
             25.53,
             "😰   CAUTION: <br>warm temperatures!"
            ],
            [
             20.72,
             "😊   INFO: <br>enjoy your day!"
            ],
            [
             23.55,
             "😊   INFO: <br>enjoy your day!"
            ],
            [
             21.4,
             "😊   INFO: <br>enjoy your day!"
            ],
            [
             20.04,
             "😊   INFO: <br>enjoy your day!"
            ],
            [
             23.94,
             "😊   INFO: <br>enjoy your day!"
            ]
           ],
           "hovertemplate": "<b>%{text} </b><br>Temperature: %{customdata[0]} °C<br><extra><i>%{customdata[1]}</i></extra>",
           "ids": [
            "Bregenz",
            "Wien",
            "Paris",
            "London",
            "Prag",
            "Florenz",
            "Kopenhagen",
            "Aachen",
            "Berlin",
            "Bonn",
            "Dresden",
            "Frankfurt am Main",
            "Freiburg",
            "Kiel",
            "Köln",
            "Leipzig",
            "Lübeck",
            "Mannheim",
            "München",
            "Münster",
            "Ravensburg",
            "Rostock",
            "Stuttgart"
           ],
           "lat": [
            47.5025779,
            48.2083537,
            48.8588897,
            51.5073219,
            50.0596288,
            43.7698712,
            55.6867243,
            50.776351,
            52.5170365,
            50.735851,
            51.0493286,
            50.1106444,
            47.9960901,
            54.3227085,
            50.938361,
            51.3406321,
            53.866444,
            49.4892913,
            48.1371079,
            51.9625101,
            47.7811014,
            54.0924445,
            48.7784485
           ],
           "legendgroup": "",
           "lon": [
            9.7472924,
            16.3725042,
            2.320041021720076,
            -0.1276474,
            14.446459273258009,
            11.2555757,
            12.5700724,
            6.083862,
            13.3888599,
            7.10066,
            13.7381437,
            8.6820917,
            7.8494005,
            10.135555,
            6.959974,
            12.3747329,
            10.684738,
            8.4673098,
            11.5753822,
            7.6251879,
            9.612468,
            12.1286127,
            9.1800132
           ],
           "marker": {
            "color": [
             22.2,
             21.59,
             26.97,
             22.32,
             21.37,
             31.86,
             21.89,
             22.25,
             22.47,
             23.65,
             21.56,
             24.44,
             23.72,
             21.65,
             23.3,
             21.31,
             22.6,
             25.53,
             20.72,
             23.55,
             21.4,
             20.04,
             23.94
            ],
            "coloraxis": "coloraxis"
           },
           "mode": "markers+text",
           "name": "",
           "showlegend": false,
           "subplot": "mapbox",
           "text": [
            "Bregenz",
            "Wien",
            "Paris",
            "London",
            "Prag",
            "Florenz",
            "Kopenhagen",
            "Aachen",
            "Berlin",
            "Bonn",
            "Dresden",
            "Frankfurt am Main",
            "Freiburg",
            "Kiel",
            "Köln",
            "Leipzig",
            "Lübeck",
            "Mannheim",
            "München",
            "Münster",
            "Ravensburg",
            "Rostock",
            "Stuttgart"
           ],
           "type": "scattermapbox"
          }
         ],
         "name": "2022-08-28 12:00:00"
        },
        {
         "data": [
          {
           "customdata": [
            [
             22.93,
             "😊   INFO: <br>enjoy your day!"
            ],
            [
             24.25,
             "😊   INFO: <br>enjoy your day!"
            ],
            [
             28.55,
             "😰   CAUTION: <br>warm temperatures!"
            ],
            [
             20.79,
             "😊   INFO: <br>enjoy your day!"
            ],
            [
             22.77,
             "😊   INFO: <br>enjoy your day!"
            ],
            [
             32.01,
             "🥵   DANGER: <br>it's hot!"
            ],
            [
             21.64,
             "😊   INFO: <br>enjoy your day!"
            ],
            [
             23.41,
             "😊   INFO: <br>enjoy your day!"
            ],
            [
             23.27,
             "😊   INFO: <br>enjoy your day!"
            ],
            [
             24.37,
             "😊   INFO: <br>enjoy your day!"
            ],
            [
             21.92,
             "😊   INFO: <br>enjoy your day!"
            ],
            [
             25.59,
             "😰   CAUTION: <br>warm temperatures!"
            ],
            [
             25.34,
             "😰   CAUTION: <br>warm temperatures!"
            ],
            [
             20.45,
             "😊   INFO: <br>enjoy your day!"
            ],
            [
             24.45,
             "😊   INFO: <br>enjoy your day!"
            ],
            [
             22.4,
             "😊   INFO: <br>enjoy your day!"
            ],
            [
             21.71,
             "😊   INFO: <br>enjoy your day!"
            ],
            [
             26.45,
             "😰   CAUTION: <br>warm temperatures!"
            ],
            [
             21.1,
             "😊   INFO: <br>enjoy your day!"
            ],
            [
             23.95,
             "😊   INFO: <br>enjoy your day!"
            ],
            [
             22.56,
             "😊   INFO: <br>enjoy your day!"
            ],
            [
             20.73,
             "😊   INFO: <br>enjoy your day!"
            ],
            [
             26.33,
             "😰   CAUTION: <br>warm temperatures!"
            ]
           ],
           "hovertemplate": "<b>%{text} </b><br>Temperature: %{customdata[0]} °C<br><extra><i>%{customdata[1]}</i></extra>",
           "ids": [
            "Bregenz",
            "Wien",
            "Paris",
            "London",
            "Prag",
            "Florenz",
            "Kopenhagen",
            "Aachen",
            "Berlin",
            "Bonn",
            "Dresden",
            "Frankfurt am Main",
            "Freiburg",
            "Kiel",
            "Köln",
            "Leipzig",
            "Lübeck",
            "Mannheim",
            "München",
            "Münster",
            "Ravensburg",
            "Rostock",
            "Stuttgart"
           ],
           "lat": [
            47.5025779,
            48.2083537,
            48.8588897,
            51.5073219,
            50.0596288,
            43.7698712,
            55.6867243,
            50.776351,
            52.5170365,
            50.735851,
            51.0493286,
            50.1106444,
            47.9960901,
            54.3227085,
            50.938361,
            51.3406321,
            53.866444,
            49.4892913,
            48.1371079,
            51.9625101,
            47.7811014,
            54.0924445,
            48.7784485
           ],
           "legendgroup": "",
           "lon": [
            9.7472924,
            16.3725042,
            2.320041021720076,
            -0.1276474,
            14.446459273258009,
            11.2555757,
            12.5700724,
            6.083862,
            13.3888599,
            7.10066,
            13.7381437,
            8.6820917,
            7.8494005,
            10.135555,
            6.959974,
            12.3747329,
            10.684738,
            8.4673098,
            11.5753822,
            7.6251879,
            9.612468,
            12.1286127,
            9.1800132
           ],
           "marker": {
            "color": [
             22.93,
             24.25,
             28.55,
             20.79,
             22.77,
             32.01,
             21.64,
             23.41,
             23.27,
             24.37,
             21.92,
             25.59,
             25.34,
             20.45,
             24.45,
             22.4,
             21.71,
             26.45,
             21.1,
             23.95,
             22.56,
             20.73,
             26.33
            ],
            "coloraxis": "coloraxis"
           },
           "mode": "markers+text",
           "name": "",
           "showlegend": false,
           "subplot": "mapbox",
           "text": [
            "Bregenz",
            "Wien",
            "Paris",
            "London",
            "Prag",
            "Florenz",
            "Kopenhagen",
            "Aachen",
            "Berlin",
            "Bonn",
            "Dresden",
            "Frankfurt am Main",
            "Freiburg",
            "Kiel",
            "Köln",
            "Leipzig",
            "Lübeck",
            "Mannheim",
            "München",
            "Münster",
            "Ravensburg",
            "Rostock",
            "Stuttgart"
           ],
           "type": "scattermapbox"
          }
         ],
         "name": "2022-08-28 15:00:00"
        },
        {
         "data": [
          {
           "customdata": [
            [
             18.62,
             "😕   INFO: <br>bring a jacket!"
            ],
            [
             21.42,
             "😊   INFO: <br>enjoy your day!"
            ],
            [
             26.42,
             "😰   CAUTION: <br>warm temperatures!"
            ],
            [
             19.47,
             "😕   INFO: <br>bring a jacket!"
            ],
            [
             18.81,
             "😕   INFO: <br>bring a jacket!"
            ],
            [
             21.55,
             "😊   INFO: <br>enjoy your day!"
            ],
            [
             18.38,
             "😕   INFO: <br>bring a jacket!"
            ],
            [
             19.14,
             "😕   INFO: <br>bring a jacket!"
            ],
            [
             20.01,
             "😊   INFO: <br>enjoy your day!"
            ],
            [
             20.72,
             "😊   INFO: <br>enjoy your day!"
            ],
            [
             18.07,
             "😕   INFO: <br>bring a jacket!"
            ],
            [
             21.99,
             "😊   INFO: <br>enjoy your day!"
            ],
            [
             21.49,
             "😊   INFO: <br>enjoy your day!"
            ],
            [
             17.26,
             "😕   INFO: <br>bring a jacket!"
            ],
            [
             21.7,
             "😊   INFO: <br>enjoy your day!"
            ],
            [
             18.26,
             "😕   INFO: <br>bring a jacket!"
            ],
            [
             16.9,
             "😕   INFO: <br>bring a jacket!"
            ],
            [
             23.57,
             "😊   INFO: <br>enjoy your day!"
            ],
            [
             17.3,
             "😕   INFO: <br>bring a jacket!"
            ],
            [
             18.31,
             "😕   INFO: <br>bring a jacket!"
            ],
            [
             18.01,
             "😕   INFO: <br>bring a jacket!"
            ],
            [
             18.56,
             "😕   INFO: <br>bring a jacket!"
            ],
            [
             22.34,
             "😊   INFO: <br>enjoy your day!"
            ]
           ],
           "hovertemplate": "<b>%{text} </b><br>Temperature: %{customdata[0]} °C<br><extra><i>%{customdata[1]}</i></extra>",
           "ids": [
            "Bregenz",
            "Wien",
            "Paris",
            "London",
            "Prag",
            "Florenz",
            "Kopenhagen",
            "Aachen",
            "Berlin",
            "Bonn",
            "Dresden",
            "Frankfurt am Main",
            "Freiburg",
            "Kiel",
            "Köln",
            "Leipzig",
            "Lübeck",
            "Mannheim",
            "München",
            "Münster",
            "Ravensburg",
            "Rostock",
            "Stuttgart"
           ],
           "lat": [
            47.5025779,
            48.2083537,
            48.8588897,
            51.5073219,
            50.0596288,
            43.7698712,
            55.6867243,
            50.776351,
            52.5170365,
            50.735851,
            51.0493286,
            50.1106444,
            47.9960901,
            54.3227085,
            50.938361,
            51.3406321,
            53.866444,
            49.4892913,
            48.1371079,
            51.9625101,
            47.7811014,
            54.0924445,
            48.7784485
           ],
           "legendgroup": "",
           "lon": [
            9.7472924,
            16.3725042,
            2.320041021720076,
            -0.1276474,
            14.446459273258009,
            11.2555757,
            12.5700724,
            6.083862,
            13.3888599,
            7.10066,
            13.7381437,
            8.6820917,
            7.8494005,
            10.135555,
            6.959974,
            12.3747329,
            10.684738,
            8.4673098,
            11.5753822,
            7.6251879,
            9.612468,
            12.1286127,
            9.1800132
           ],
           "marker": {
            "color": [
             18.62,
             21.42,
             26.42,
             19.47,
             18.81,
             21.55,
             18.38,
             19.14,
             20.01,
             20.72,
             18.07,
             21.99,
             21.49,
             17.26,
             21.7,
             18.26,
             16.9,
             23.57,
             17.3,
             18.31,
             18.01,
             18.56,
             22.34
            ],
            "coloraxis": "coloraxis"
           },
           "mode": "markers+text",
           "name": "",
           "showlegend": false,
           "subplot": "mapbox",
           "text": [
            "Bregenz",
            "Wien",
            "Paris",
            "London",
            "Prag",
            "Florenz",
            "Kopenhagen",
            "Aachen",
            "Berlin",
            "Bonn",
            "Dresden",
            "Frankfurt am Main",
            "Freiburg",
            "Kiel",
            "Köln",
            "Leipzig",
            "Lübeck",
            "Mannheim",
            "München",
            "Münster",
            "Ravensburg",
            "Rostock",
            "Stuttgart"
           ],
           "type": "scattermapbox"
          }
         ],
         "name": "2022-08-28 18:00:00"
        },
        {
         "data": [
          {
           "customdata": [
            [
             16.53,
             "😕   INFO: <br>bring a jacket!"
            ],
            [
             19.62,
             "😕   INFO: <br>bring a jacket!"
            ],
            [
             22.35,
             "😊   INFO: <br>enjoy your day!"
            ],
            [
             17.54,
             "😕   INFO: <br>bring a jacket!"
            ],
            [
             15.96,
             "😕   INFO: <br>bring a jacket!"
            ],
            [
             21.24,
             "😊   INFO: <br>enjoy your day!"
            ],
            [
             17.4,
             "😕   INFO: <br>bring a jacket!"
            ],
            [
             13.25,
             "😕   INFO: <br>bring a jacket!"
            ],
            [
             17.04,
             "😕   INFO: <br>bring a jacket!"
            ],
            [
             16.64,
             "😕   INFO: <br>bring a jacket!"
            ],
            [
             16.25,
             "😕   INFO: <br>bring a jacket!"
            ],
            [
             18.37,
             "😕   INFO: <br>bring a jacket!"
            ],
            [
             18.43,
             "😕   INFO: <br>bring a jacket!"
            ],
            [
             17.44,
             "😕   INFO: <br>bring a jacket!"
            ],
            [
             17.9,
             "😕   INFO: <br>bring a jacket!"
            ],
            [
             15.78,
             "😕   INFO: <br>bring a jacket!"
            ],
            [
             16.33,
             "😕   INFO: <br>bring a jacket!"
            ],
            [
             20.33,
             "😊   INFO: <br>enjoy your day!"
            ],
            [
             15.43,
             "😕   INFO: <br>bring a jacket!"
            ],
            [
             12.46,
             "😕   INFO: <br>bring a jacket!"
            ],
            [
             15.56,
             "😕   INFO: <br>bring a jacket!"
            ],
            [
             17.22,
             "😕   INFO: <br>bring a jacket!"
            ],
            [
             19.35,
             "😕   INFO: <br>bring a jacket!"
            ]
           ],
           "hovertemplate": "<b>%{text} </b><br>Temperature: %{customdata[0]} °C<br><extra><i>%{customdata[1]}</i></extra>",
           "ids": [
            "Bregenz",
            "Wien",
            "Paris",
            "London",
            "Prag",
            "Florenz",
            "Kopenhagen",
            "Aachen",
            "Berlin",
            "Bonn",
            "Dresden",
            "Frankfurt am Main",
            "Freiburg",
            "Kiel",
            "Köln",
            "Leipzig",
            "Lübeck",
            "Mannheim",
            "München",
            "Münster",
            "Ravensburg",
            "Rostock",
            "Stuttgart"
           ],
           "lat": [
            47.5025779,
            48.2083537,
            48.8588897,
            51.5073219,
            50.0596288,
            43.7698712,
            55.6867243,
            50.776351,
            52.5170365,
            50.735851,
            51.0493286,
            50.1106444,
            47.9960901,
            54.3227085,
            50.938361,
            51.3406321,
            53.866444,
            49.4892913,
            48.1371079,
            51.9625101,
            47.7811014,
            54.0924445,
            48.7784485
           ],
           "legendgroup": "",
           "lon": [
            9.7472924,
            16.3725042,
            2.320041021720076,
            -0.1276474,
            14.446459273258009,
            11.2555757,
            12.5700724,
            6.083862,
            13.3888599,
            7.10066,
            13.7381437,
            8.6820917,
            7.8494005,
            10.135555,
            6.959974,
            12.3747329,
            10.684738,
            8.4673098,
            11.5753822,
            7.6251879,
            9.612468,
            12.1286127,
            9.1800132
           ],
           "marker": {
            "color": [
             16.53,
             19.62,
             22.35,
             17.54,
             15.96,
             21.24,
             17.4,
             13.25,
             17.04,
             16.64,
             16.25,
             18.37,
             18.43,
             17.44,
             17.9,
             15.78,
             16.33,
             20.33,
             15.43,
             12.46,
             15.56,
             17.22,
             19.35
            ],
            "coloraxis": "coloraxis"
           },
           "mode": "markers+text",
           "name": "",
           "showlegend": false,
           "subplot": "mapbox",
           "text": [
            "Bregenz",
            "Wien",
            "Paris",
            "London",
            "Prag",
            "Florenz",
            "Kopenhagen",
            "Aachen",
            "Berlin",
            "Bonn",
            "Dresden",
            "Frankfurt am Main",
            "Freiburg",
            "Kiel",
            "Köln",
            "Leipzig",
            "Lübeck",
            "Mannheim",
            "München",
            "Münster",
            "Ravensburg",
            "Rostock",
            "Stuttgart"
           ],
           "type": "scattermapbox"
          }
         ],
         "name": "2022-08-28 21:00:00"
        },
        {
         "data": [
          {
           "customdata": [
            [
             15.72,
             "😕   INFO: <br>bring a jacket!"
            ],
            [
             18.26,
             "😕   INFO: <br>bring a jacket!"
            ],
            [
             19.22,
             "😕   INFO: <br>bring a jacket!"
            ],
            [
             16.03,
             "😕   INFO: <br>bring a jacket!"
            ],
            [
             14.73,
             "😕   INFO: <br>bring a jacket!"
            ],
            [
             20.78,
             "😊   INFO: <br>enjoy your day!"
            ],
            [
             15.96,
             "😕   INFO: <br>bring a jacket!"
            ],
            [
             10.9,
             "😕   INFO: <br>bring a jacket!"
            ],
            [
             14.43,
             "😕   INFO: <br>bring a jacket!"
            ],
            [
             13.78,
             "😕   INFO: <br>bring a jacket!"
            ],
            [
             14.82,
             "😕   INFO: <br>bring a jacket!"
            ],
            [
             16.07,
             "😕   INFO: <br>bring a jacket!"
            ],
            [
             16.38,
             "😕   INFO: <br>bring a jacket!"
            ],
            [
             14.12,
             "😕   INFO: <br>bring a jacket!"
            ],
            [
             15.16,
             "😕   INFO: <br>bring a jacket!"
            ],
            [
             13.4,
             "😕   INFO: <br>bring a jacket!"
            ],
            [
             14.86,
             "😕   INFO: <br>bring a jacket!"
            ],
            [
             18.55,
             "😕   INFO: <br>bring a jacket!"
            ],
            [
             14.62,
             "😕   INFO: <br>bring a jacket!"
            ],
            [
             10.54,
             "😕   INFO: <br>bring a jacket!"
            ],
            [
             14.36,
             "😕   INFO: <br>bring a jacket!"
            ],
            [
             17.57,
             "😕   INFO: <br>bring a jacket!"
            ],
            [
             16.83,
             "😕   INFO: <br>bring a jacket!"
            ]
           ],
           "hovertemplate": "<b>%{text} </b><br>Temperature: %{customdata[0]} °C<br><extra><i>%{customdata[1]}</i></extra>",
           "ids": [
            "Bregenz",
            "Wien",
            "Paris",
            "London",
            "Prag",
            "Florenz",
            "Kopenhagen",
            "Aachen",
            "Berlin",
            "Bonn",
            "Dresden",
            "Frankfurt am Main",
            "Freiburg",
            "Kiel",
            "Köln",
            "Leipzig",
            "Lübeck",
            "Mannheim",
            "München",
            "Münster",
            "Ravensburg",
            "Rostock",
            "Stuttgart"
           ],
           "lat": [
            47.5025779,
            48.2083537,
            48.8588897,
            51.5073219,
            50.0596288,
            43.7698712,
            55.6867243,
            50.776351,
            52.5170365,
            50.735851,
            51.0493286,
            50.1106444,
            47.9960901,
            54.3227085,
            50.938361,
            51.3406321,
            53.866444,
            49.4892913,
            48.1371079,
            51.9625101,
            47.7811014,
            54.0924445,
            48.7784485
           ],
           "legendgroup": "",
           "lon": [
            9.7472924,
            16.3725042,
            2.320041021720076,
            -0.1276474,
            14.446459273258009,
            11.2555757,
            12.5700724,
            6.083862,
            13.3888599,
            7.10066,
            13.7381437,
            8.6820917,
            7.8494005,
            10.135555,
            6.959974,
            12.3747329,
            10.684738,
            8.4673098,
            11.5753822,
            7.6251879,
            9.612468,
            12.1286127,
            9.1800132
           ],
           "marker": {
            "color": [
             15.72,
             18.26,
             19.22,
             16.03,
             14.73,
             20.78,
             15.96,
             10.9,
             14.43,
             13.78,
             14.82,
             16.07,
             16.38,
             14.12,
             15.16,
             13.4,
             14.86,
             18.55,
             14.62,
             10.54,
             14.36,
             17.57,
             16.83
            ],
            "coloraxis": "coloraxis"
           },
           "mode": "markers+text",
           "name": "",
           "showlegend": false,
           "subplot": "mapbox",
           "text": [
            "Bregenz",
            "Wien",
            "Paris",
            "London",
            "Prag",
            "Florenz",
            "Kopenhagen",
            "Aachen",
            "Berlin",
            "Bonn",
            "Dresden",
            "Frankfurt am Main",
            "Freiburg",
            "Kiel",
            "Köln",
            "Leipzig",
            "Lübeck",
            "Mannheim",
            "München",
            "Münster",
            "Ravensburg",
            "Rostock",
            "Stuttgart"
           ],
           "type": "scattermapbox"
          }
         ],
         "name": "2022-08-29 00:00:00"
        },
        {
         "data": [
          {
           "customdata": [
            [
             14.73,
             "😕   INFO: <br>bring a jacket!"
            ],
            [
             17.84,
             "😕   INFO: <br>bring a jacket!"
            ],
            [
             16.97,
             "😕   INFO: <br>bring a jacket!"
            ],
            [
             14.93,
             "😕   INFO: <br>bring a jacket!"
            ],
            [
             13.53,
             "😕   INFO: <br>bring a jacket!"
            ],
            [
             20.09,
             "😊   INFO: <br>enjoy your day!"
            ],
            [
             15.51,
             "😕   INFO: <br>bring a jacket!"
            ],
            [
             10.15,
             "😕   INFO: <br>bring a jacket!"
            ],
            [
             13.4,
             "😕   INFO: <br>bring a jacket!"
            ],
            [
             12.15,
             "😕   INFO: <br>bring a jacket!"
            ],
            [
             12.99,
             "😕   INFO: <br>bring a jacket!"
            ],
            [
             14.06,
             "😕   INFO: <br>bring a jacket!"
            ],
            [
             15.45,
             "😕   INFO: <br>bring a jacket!"
            ],
            [
             14.01,
             "😕   INFO: <br>bring a jacket!"
            ],
            [
             13.6,
             "😕   INFO: <br>bring a jacket!"
            ],
            [
             11.82,
             "😕   INFO: <br>bring a jacket!"
            ],
            [
             12.89,
             "😕   INFO: <br>bring a jacket!"
            ],
            [
             16.86,
             "😕   INFO: <br>bring a jacket!"
            ],
            [
             13.77,
             "😕   INFO: <br>bring a jacket!"
            ],
            [
             9.93,
             "🥶   CAUTION: <br>it's cold outside!"
            ],
            [
             13.53,
             "😕   INFO: <br>bring a jacket!"
            ],
            [
             16.37,
             "😕   INFO: <br>bring a jacket!"
            ],
            [
             15.76,
             "😕   INFO: <br>bring a jacket!"
            ]
           ],
           "hovertemplate": "<b>%{text} </b><br>Temperature: %{customdata[0]} °C<br><extra><i>%{customdata[1]}</i></extra>",
           "ids": [
            "Bregenz",
            "Wien",
            "Paris",
            "London",
            "Prag",
            "Florenz",
            "Kopenhagen",
            "Aachen",
            "Berlin",
            "Bonn",
            "Dresden",
            "Frankfurt am Main",
            "Freiburg",
            "Kiel",
            "Köln",
            "Leipzig",
            "Lübeck",
            "Mannheim",
            "München",
            "Münster",
            "Ravensburg",
            "Rostock",
            "Stuttgart"
           ],
           "lat": [
            47.5025779,
            48.2083537,
            48.8588897,
            51.5073219,
            50.0596288,
            43.7698712,
            55.6867243,
            50.776351,
            52.5170365,
            50.735851,
            51.0493286,
            50.1106444,
            47.9960901,
            54.3227085,
            50.938361,
            51.3406321,
            53.866444,
            49.4892913,
            48.1371079,
            51.9625101,
            47.7811014,
            54.0924445,
            48.7784485
           ],
           "legendgroup": "",
           "lon": [
            9.7472924,
            16.3725042,
            2.320041021720076,
            -0.1276474,
            14.446459273258009,
            11.2555757,
            12.5700724,
            6.083862,
            13.3888599,
            7.10066,
            13.7381437,
            8.6820917,
            7.8494005,
            10.135555,
            6.959974,
            12.3747329,
            10.684738,
            8.4673098,
            11.5753822,
            7.6251879,
            9.612468,
            12.1286127,
            9.1800132
           ],
           "marker": {
            "color": [
             14.73,
             17.84,
             16.97,
             14.93,
             13.53,
             20.09,
             15.51,
             10.15,
             13.4,
             12.15,
             12.99,
             14.06,
             15.45,
             14.01,
             13.6,
             11.82,
             12.89,
             16.86,
             13.77,
             9.93,
             13.53,
             16.37,
             15.76
            ],
            "coloraxis": "coloraxis"
           },
           "mode": "markers+text",
           "name": "",
           "showlegend": false,
           "subplot": "mapbox",
           "text": [
            "Bregenz",
            "Wien",
            "Paris",
            "London",
            "Prag",
            "Florenz",
            "Kopenhagen",
            "Aachen",
            "Berlin",
            "Bonn",
            "Dresden",
            "Frankfurt am Main",
            "Freiburg",
            "Kiel",
            "Köln",
            "Leipzig",
            "Lübeck",
            "Mannheim",
            "München",
            "Münster",
            "Ravensburg",
            "Rostock",
            "Stuttgart"
           ],
           "type": "scattermapbox"
          }
         ],
         "name": "2022-08-29 03:00:00"
        },
        {
         "data": [
          {
           "customdata": [
            [
             16.38,
             "😕   INFO: <br>bring a jacket!"
            ],
            [
             19.46,
             "😕   INFO: <br>bring a jacket!"
            ],
            [
             16.3,
             "😕   INFO: <br>bring a jacket!"
            ],
            [
             14.45,
             "😕   INFO: <br>bring a jacket!"
            ],
            [
             15.61,
             "😕   INFO: <br>bring a jacket!"
            ],
            [
             21.24,
             "😊   INFO: <br>enjoy your day!"
            ],
            [
             15.29,
             "😕   INFO: <br>bring a jacket!"
            ],
            [
             12,
             "😕   INFO: <br>bring a jacket!"
            ],
            [
             15.14,
             "😕   INFO: <br>bring a jacket!"
            ],
            [
             13.16,
             "😕   INFO: <br>bring a jacket!"
            ],
            [
             14.46,
             "😕   INFO: <br>bring a jacket!"
            ],
            [
             14.47,
             "😕   INFO: <br>bring a jacket!"
            ],
            [
             17.17,
             "😕   INFO: <br>bring a jacket!"
            ],
            [
             15.73,
             "😕   INFO: <br>bring a jacket!"
            ],
            [
             14.16,
             "😕   INFO: <br>bring a jacket!"
            ],
            [
             13.49,
             "😕   INFO: <br>bring a jacket!"
            ],
            [
             14.87,
             "😕   INFO: <br>bring a jacket!"
            ],
            [
             16.99,
             "😕   INFO: <br>bring a jacket!"
            ],
            [
             15.61,
             "😕   INFO: <br>bring a jacket!"
            ],
            [
             12.11,
             "😕   INFO: <br>bring a jacket!"
            ],
            [
             15.1,
             "😕   INFO: <br>bring a jacket!"
            ],
            [
             16.54,
             "😕   INFO: <br>bring a jacket!"
            ],
            [
             17.04,
             "😕   INFO: <br>bring a jacket!"
            ]
           ],
           "hovertemplate": "<b>%{text} </b><br>Temperature: %{customdata[0]} °C<br><extra><i>%{customdata[1]}</i></extra>",
           "ids": [
            "Bregenz",
            "Wien",
            "Paris",
            "London",
            "Prag",
            "Florenz",
            "Kopenhagen",
            "Aachen",
            "Berlin",
            "Bonn",
            "Dresden",
            "Frankfurt am Main",
            "Freiburg",
            "Kiel",
            "Köln",
            "Leipzig",
            "Lübeck",
            "Mannheim",
            "München",
            "Münster",
            "Ravensburg",
            "Rostock",
            "Stuttgart"
           ],
           "lat": [
            47.5025779,
            48.2083537,
            48.8588897,
            51.5073219,
            50.0596288,
            43.7698712,
            55.6867243,
            50.776351,
            52.5170365,
            50.735851,
            51.0493286,
            50.1106444,
            47.9960901,
            54.3227085,
            50.938361,
            51.3406321,
            53.866444,
            49.4892913,
            48.1371079,
            51.9625101,
            47.7811014,
            54.0924445,
            48.7784485
           ],
           "legendgroup": "",
           "lon": [
            9.7472924,
            16.3725042,
            2.320041021720076,
            -0.1276474,
            14.446459273258009,
            11.2555757,
            12.5700724,
            6.083862,
            13.3888599,
            7.10066,
            13.7381437,
            8.6820917,
            7.8494005,
            10.135555,
            6.959974,
            12.3747329,
            10.684738,
            8.4673098,
            11.5753822,
            7.6251879,
            9.612468,
            12.1286127,
            9.1800132
           ],
           "marker": {
            "color": [
             16.38,
             19.46,
             16.3,
             14.45,
             15.61,
             21.24,
             15.29,
             12,
             15.14,
             13.16,
             14.46,
             14.47,
             17.17,
             15.73,
             14.16,
             13.49,
             14.87,
             16.99,
             15.61,
             12.11,
             15.1,
             16.54,
             17.04
            ],
            "coloraxis": "coloraxis"
           },
           "mode": "markers+text",
           "name": "",
           "showlegend": false,
           "subplot": "mapbox",
           "text": [
            "Bregenz",
            "Wien",
            "Paris",
            "London",
            "Prag",
            "Florenz",
            "Kopenhagen",
            "Aachen",
            "Berlin",
            "Bonn",
            "Dresden",
            "Frankfurt am Main",
            "Freiburg",
            "Kiel",
            "Köln",
            "Leipzig",
            "Lübeck",
            "Mannheim",
            "München",
            "Münster",
            "Ravensburg",
            "Rostock",
            "Stuttgart"
           ],
           "type": "scattermapbox"
          }
         ],
         "name": "2022-08-29 06:00:00"
        },
        {
         "data": [
          {
           "customdata": [
            [
             22.12,
             "😊   INFO: <br>enjoy your day!"
            ],
            [
             23.64,
             "😊   INFO: <br>enjoy your day!"
            ],
            [
             22.26,
             "😊   INFO: <br>enjoy your day!"
            ],
            [
             18.19,
             "😕   INFO: <br>bring a jacket!"
            ],
            [
             20.67,
             "😊   INFO: <br>enjoy your day!"
            ],
            [
             27.77,
             "😰   CAUTION: <br>warm temperatures!"
            ],
            [
             15.52,
             "😕   INFO: <br>bring a jacket!"
            ],
            [
             18.77,
             "😕   INFO: <br>bring a jacket!"
            ],
            [
             19.6,
             "😕   INFO: <br>bring a jacket!"
            ],
            [
             19.96,
             "😕   INFO: <br>bring a jacket!"
            ],
            [
             18.88,
             "😕   INFO: <br>bring a jacket!"
            ],
            [
             21.03,
             "😊   INFO: <br>enjoy your day!"
            ],
            [
             23.24,
             "😊   INFO: <br>enjoy your day!"
            ],
            [
             17.98,
             "😕   INFO: <br>bring a jacket!"
            ],
            [
             20.15,
             "😊   INFO: <br>enjoy your day!"
            ],
            [
             17.87,
             "😕   INFO: <br>bring a jacket!"
            ],
            [
             18.67,
             "😕   INFO: <br>bring a jacket!"
            ],
            [
             23.13,
             "😊   INFO: <br>enjoy your day!"
            ],
            [
             21.33,
             "😊   INFO: <br>enjoy your day!"
            ],
            [
             18.41,
             "😕   INFO: <br>bring a jacket!"
            ],
            [
             21.99,
             "😊   INFO: <br>enjoy your day!"
            ],
            [
             18,
             "😕   INFO: <br>bring a jacket!"
            ],
            [
             23.6,
             "😊   INFO: <br>enjoy your day!"
            ]
           ],
           "hovertemplate": "<b>%{text} </b><br>Temperature: %{customdata[0]} °C<br><extra><i>%{customdata[1]}</i></extra>",
           "ids": [
            "Bregenz",
            "Wien",
            "Paris",
            "London",
            "Prag",
            "Florenz",
            "Kopenhagen",
            "Aachen",
            "Berlin",
            "Bonn",
            "Dresden",
            "Frankfurt am Main",
            "Freiburg",
            "Kiel",
            "Köln",
            "Leipzig",
            "Lübeck",
            "Mannheim",
            "München",
            "Münster",
            "Ravensburg",
            "Rostock",
            "Stuttgart"
           ],
           "lat": [
            47.5025779,
            48.2083537,
            48.8588897,
            51.5073219,
            50.0596288,
            43.7698712,
            55.6867243,
            50.776351,
            52.5170365,
            50.735851,
            51.0493286,
            50.1106444,
            47.9960901,
            54.3227085,
            50.938361,
            51.3406321,
            53.866444,
            49.4892913,
            48.1371079,
            51.9625101,
            47.7811014,
            54.0924445,
            48.7784485
           ],
           "legendgroup": "",
           "lon": [
            9.7472924,
            16.3725042,
            2.320041021720076,
            -0.1276474,
            14.446459273258009,
            11.2555757,
            12.5700724,
            6.083862,
            13.3888599,
            7.10066,
            13.7381437,
            8.6820917,
            7.8494005,
            10.135555,
            6.959974,
            12.3747329,
            10.684738,
            8.4673098,
            11.5753822,
            7.6251879,
            9.612468,
            12.1286127,
            9.1800132
           ],
           "marker": {
            "color": [
             22.12,
             23.64,
             22.26,
             18.19,
             20.67,
             27.77,
             15.52,
             18.77,
             19.6,
             19.96,
             18.88,
             21.03,
             23.24,
             17.98,
             20.15,
             17.87,
             18.67,
             23.13,
             21.33,
             18.41,
             21.99,
             18,
             23.6
            ],
            "coloraxis": "coloraxis"
           },
           "mode": "markers+text",
           "name": "",
           "showlegend": false,
           "subplot": "mapbox",
           "text": [
            "Bregenz",
            "Wien",
            "Paris",
            "London",
            "Prag",
            "Florenz",
            "Kopenhagen",
            "Aachen",
            "Berlin",
            "Bonn",
            "Dresden",
            "Frankfurt am Main",
            "Freiburg",
            "Kiel",
            "Köln",
            "Leipzig",
            "Lübeck",
            "Mannheim",
            "München",
            "Münster",
            "Ravensburg",
            "Rostock",
            "Stuttgart"
           ],
           "type": "scattermapbox"
          }
         ],
         "name": "2022-08-29 09:00:00"
        },
        {
         "data": [
          {
           "customdata": [
            [
             24.52,
             "😊   INFO: <br>enjoy your day!"
            ],
            [
             26.6,
             "😰   CAUTION: <br>warm temperatures!"
            ],
            [
             27.85,
             "😰   CAUTION: <br>warm temperatures!"
            ],
            [
             21.49,
             "😊   INFO: <br>enjoy your day!"
            ],
            [
             23.55,
             "😊   INFO: <br>enjoy your day!"
            ],
            [
             31.7,
             "🥵   DANGER: <br>it's hot!"
            ],
            [
             15.84,
             "😕   INFO: <br>bring a jacket!"
            ],
            [
             23.23,
             "😊   INFO: <br>enjoy your day!"
            ],
            [
             20.9,
             "😊   INFO: <br>enjoy your day!"
            ],
            [
             24.56,
             "😊   INFO: <br>enjoy your day!"
            ],
            [
             21.92,
             "😊   INFO: <br>enjoy your day!"
            ],
            [
             25.97,
             "😰   CAUTION: <br>warm temperatures!"
            ],
            [
             27.12,
             "😰   CAUTION: <br>warm temperatures!"
            ],
            [
             20.02,
             "😊   INFO: <br>enjoy your day!"
            ],
            [
             24.18,
             "😊   INFO: <br>enjoy your day!"
            ],
            [
             21.03,
             "😊   INFO: <br>enjoy your day!"
            ],
            [
             20.94,
             "😊   INFO: <br>enjoy your day!"
            ],
            [
             27.98,
             "😰   CAUTION: <br>warm temperatures!"
            ],
            [
             24.67,
             "😊   INFO: <br>enjoy your day!"
            ],
            [
             22.92,
             "😊   INFO: <br>enjoy your day!"
            ],
            [
             25.33,
             "😰   CAUTION: <br>warm temperatures!"
            ],
            [
             18.11,
             "😕   INFO: <br>bring a jacket!"
            ],
            [
             27.55,
             "😰   CAUTION: <br>warm temperatures!"
            ]
           ],
           "hovertemplate": "<b>%{text} </b><br>Temperature: %{customdata[0]} °C<br><extra><i>%{customdata[1]}</i></extra>",
           "ids": [
            "Bregenz",
            "Wien",
            "Paris",
            "London",
            "Prag",
            "Florenz",
            "Kopenhagen",
            "Aachen",
            "Berlin",
            "Bonn",
            "Dresden",
            "Frankfurt am Main",
            "Freiburg",
            "Kiel",
            "Köln",
            "Leipzig",
            "Lübeck",
            "Mannheim",
            "München",
            "Münster",
            "Ravensburg",
            "Rostock",
            "Stuttgart"
           ],
           "lat": [
            47.5025779,
            48.2083537,
            48.8588897,
            51.5073219,
            50.0596288,
            43.7698712,
            55.6867243,
            50.776351,
            52.5170365,
            50.735851,
            51.0493286,
            50.1106444,
            47.9960901,
            54.3227085,
            50.938361,
            51.3406321,
            53.866444,
            49.4892913,
            48.1371079,
            51.9625101,
            47.7811014,
            54.0924445,
            48.7784485
           ],
           "legendgroup": "",
           "lon": [
            9.7472924,
            16.3725042,
            2.320041021720076,
            -0.1276474,
            14.446459273258009,
            11.2555757,
            12.5700724,
            6.083862,
            13.3888599,
            7.10066,
            13.7381437,
            8.6820917,
            7.8494005,
            10.135555,
            6.959974,
            12.3747329,
            10.684738,
            8.4673098,
            11.5753822,
            7.6251879,
            9.612468,
            12.1286127,
            9.1800132
           ],
           "marker": {
            "color": [
             24.52,
             26.6,
             27.85,
             21.49,
             23.55,
             31.7,
             15.84,
             23.23,
             20.9,
             24.56,
             21.92,
             25.97,
             27.12,
             20.02,
             24.18,
             21.03,
             20.94,
             27.98,
             24.67,
             22.92,
             25.33,
             18.11,
             27.55
            ],
            "coloraxis": "coloraxis"
           },
           "mode": "markers+text",
           "name": "",
           "showlegend": false,
           "subplot": "mapbox",
           "text": [
            "Bregenz",
            "Wien",
            "Paris",
            "London",
            "Prag",
            "Florenz",
            "Kopenhagen",
            "Aachen",
            "Berlin",
            "Bonn",
            "Dresden",
            "Frankfurt am Main",
            "Freiburg",
            "Kiel",
            "Köln",
            "Leipzig",
            "Lübeck",
            "Mannheim",
            "München",
            "Münster",
            "Ravensburg",
            "Rostock",
            "Stuttgart"
           ],
           "type": "scattermapbox"
          }
         ],
         "name": "2022-08-29 12:00:00"
        },
        {
         "data": [
          {
           "customdata": [
            [
             25.05,
             "😰   CAUTION: <br>warm temperatures!"
            ],
            [
             26.82,
             "😰   CAUTION: <br>warm temperatures!"
            ],
            [
             30.34,
             "🥵   DANGER: <br>it's hot!"
            ],
            [
             22.43,
             "😊   INFO: <br>enjoy your day!"
            ],
            [
             24.23,
             "😊   INFO: <br>enjoy your day!"
            ],
            [
             32.4,
             "🥵   DANGER: <br>it's hot!"
            ],
            [
             16.56,
             "😕   INFO: <br>bring a jacket!"
            ],
            [
             24.26,
             "😊   INFO: <br>enjoy your day!"
            ],
            [
             21.47,
             "😊   INFO: <br>enjoy your day!"
            ],
            [
             24.91,
             "😊   INFO: <br>enjoy your day!"
            ],
            [
             22.31,
             "😊   INFO: <br>enjoy your day!"
            ],
            [
             26.6,
             "😰   CAUTION: <br>warm temperatures!"
            ],
            [
             28.12,
             "😰   CAUTION: <br>warm temperatures!"
            ],
            [
             20.2,
             "😊   INFO: <br>enjoy your day!"
            ],
            [
             24.93,
             "😊   INFO: <br>enjoy your day!"
            ],
            [
             21.99,
             "😊   INFO: <br>enjoy your day!"
            ],
            [
             20.53,
             "😊   INFO: <br>enjoy your day!"
            ],
            [
             28.81,
             "😰   CAUTION: <br>warm temperatures!"
            ],
            [
             25.13,
             "😰   CAUTION: <br>warm temperatures!"
            ],
            [
             24.36,
             "😊   INFO: <br>enjoy your day!"
            ],
            [
             24.8,
             "😊   INFO: <br>enjoy your day!"
            ],
            [
             18.25,
             "😕   INFO: <br>bring a jacket!"
            ],
            [
             28.22,
             "😰   CAUTION: <br>warm temperatures!"
            ]
           ],
           "hovertemplate": "<b>%{text} </b><br>Temperature: %{customdata[0]} °C<br><extra><i>%{customdata[1]}</i></extra>",
           "ids": [
            "Bregenz",
            "Wien",
            "Paris",
            "London",
            "Prag",
            "Florenz",
            "Kopenhagen",
            "Aachen",
            "Berlin",
            "Bonn",
            "Dresden",
            "Frankfurt am Main",
            "Freiburg",
            "Kiel",
            "Köln",
            "Leipzig",
            "Lübeck",
            "Mannheim",
            "München",
            "Münster",
            "Ravensburg",
            "Rostock",
            "Stuttgart"
           ],
           "lat": [
            47.5025779,
            48.2083537,
            48.8588897,
            51.5073219,
            50.0596288,
            43.7698712,
            55.6867243,
            50.776351,
            52.5170365,
            50.735851,
            51.0493286,
            50.1106444,
            47.9960901,
            54.3227085,
            50.938361,
            51.3406321,
            53.866444,
            49.4892913,
            48.1371079,
            51.9625101,
            47.7811014,
            54.0924445,
            48.7784485
           ],
           "legendgroup": "",
           "lon": [
            9.7472924,
            16.3725042,
            2.320041021720076,
            -0.1276474,
            14.446459273258009,
            11.2555757,
            12.5700724,
            6.083862,
            13.3888599,
            7.10066,
            13.7381437,
            8.6820917,
            7.8494005,
            10.135555,
            6.959974,
            12.3747329,
            10.684738,
            8.4673098,
            11.5753822,
            7.6251879,
            9.612468,
            12.1286127,
            9.1800132
           ],
           "marker": {
            "color": [
             25.05,
             26.82,
             30.34,
             22.43,
             24.23,
             32.4,
             16.56,
             24.26,
             21.47,
             24.91,
             22.31,
             26.6,
             28.12,
             20.2,
             24.93,
             21.99,
             20.53,
             28.81,
             25.13,
             24.36,
             24.8,
             18.25,
             28.22
            ],
            "coloraxis": "coloraxis"
           },
           "mode": "markers+text",
           "name": "",
           "showlegend": false,
           "subplot": "mapbox",
           "text": [
            "Bregenz",
            "Wien",
            "Paris",
            "London",
            "Prag",
            "Florenz",
            "Kopenhagen",
            "Aachen",
            "Berlin",
            "Bonn",
            "Dresden",
            "Frankfurt am Main",
            "Freiburg",
            "Kiel",
            "Köln",
            "Leipzig",
            "Lübeck",
            "Mannheim",
            "München",
            "Münster",
            "Ravensburg",
            "Rostock",
            "Stuttgart"
           ],
           "type": "scattermapbox"
          }
         ],
         "name": "2022-08-29 15:00:00"
        },
        {
         "data": [
          {
           "customdata": [
            [
             19.97,
             "😕   INFO: <br>bring a jacket!"
            ],
            [
             22.99,
             "😊   INFO: <br>enjoy your day!"
            ],
            [
             27.74,
             "😰   CAUTION: <br>warm temperatures!"
            ],
            [
             19.82,
             "😕   INFO: <br>bring a jacket!"
            ],
            [
             19.43,
             "😕   INFO: <br>bring a jacket!"
            ],
            [
             27.36,
             "😰   CAUTION: <br>warm temperatures!"
            ],
            [
             15.5,
             "😕   INFO: <br>bring a jacket!"
            ],
            [
             19.68,
             "😕   INFO: <br>bring a jacket!"
            ],
            [
             19.15,
             "😕   INFO: <br>bring a jacket!"
            ],
            [
             21.3,
             "😊   INFO: <br>enjoy your day!"
            ],
            [
             17.78,
             "😕   INFO: <br>bring a jacket!"
            ],
            [
             22.84,
             "😊   INFO: <br>enjoy your day!"
            ],
            [
             22.29,
             "😊   INFO: <br>enjoy your day!"
            ],
            [
             17.03,
             "😕   INFO: <br>bring a jacket!"
            ],
            [
             22,
             "😊   INFO: <br>enjoy your day!"
            ],
            [
             17.99,
             "😕   INFO: <br>bring a jacket!"
            ],
            [
             17.01,
             "😕   INFO: <br>bring a jacket!"
            ],
            [
             25.03,
             "😰   CAUTION: <br>warm temperatures!"
            ],
            [
             19.07,
             "😕   INFO: <br>bring a jacket!"
            ],
            [
             20.36,
             "😊   INFO: <br>enjoy your day!"
            ],
            [
             19.08,
             "😕   INFO: <br>bring a jacket!"
            ],
            [
             17.06,
             "😕   INFO: <br>bring a jacket!"
            ],
            [
             23.65,
             "😊   INFO: <br>enjoy your day!"
            ]
           ],
           "hovertemplate": "<b>%{text} </b><br>Temperature: %{customdata[0]} °C<br><extra><i>%{customdata[1]}</i></extra>",
           "ids": [
            "Bregenz",
            "Wien",
            "Paris",
            "London",
            "Prag",
            "Florenz",
            "Kopenhagen",
            "Aachen",
            "Berlin",
            "Bonn",
            "Dresden",
            "Frankfurt am Main",
            "Freiburg",
            "Kiel",
            "Köln",
            "Leipzig",
            "Lübeck",
            "Mannheim",
            "München",
            "Münster",
            "Ravensburg",
            "Rostock",
            "Stuttgart"
           ],
           "lat": [
            47.5025779,
            48.2083537,
            48.8588897,
            51.5073219,
            50.0596288,
            43.7698712,
            55.6867243,
            50.776351,
            52.5170365,
            50.735851,
            51.0493286,
            50.1106444,
            47.9960901,
            54.3227085,
            50.938361,
            51.3406321,
            53.866444,
            49.4892913,
            48.1371079,
            51.9625101,
            47.7811014,
            54.0924445,
            48.7784485
           ],
           "legendgroup": "",
           "lon": [
            9.7472924,
            16.3725042,
            2.320041021720076,
            -0.1276474,
            14.446459273258009,
            11.2555757,
            12.5700724,
            6.083862,
            13.3888599,
            7.10066,
            13.7381437,
            8.6820917,
            7.8494005,
            10.135555,
            6.959974,
            12.3747329,
            10.684738,
            8.4673098,
            11.5753822,
            7.6251879,
            9.612468,
            12.1286127,
            9.1800132
           ],
           "marker": {
            "color": [
             19.97,
             22.99,
             27.74,
             19.82,
             19.43,
             27.36,
             15.5,
             19.68,
             19.15,
             21.3,
             17.78,
             22.84,
             22.29,
             17.03,
             22,
             17.99,
             17.01,
             25.03,
             19.07,
             20.36,
             19.08,
             17.06,
             23.65
            ],
            "coloraxis": "coloraxis"
           },
           "mode": "markers+text",
           "name": "",
           "showlegend": false,
           "subplot": "mapbox",
           "text": [
            "Bregenz",
            "Wien",
            "Paris",
            "London",
            "Prag",
            "Florenz",
            "Kopenhagen",
            "Aachen",
            "Berlin",
            "Bonn",
            "Dresden",
            "Frankfurt am Main",
            "Freiburg",
            "Kiel",
            "Köln",
            "Leipzig",
            "Lübeck",
            "Mannheim",
            "München",
            "Münster",
            "Ravensburg",
            "Rostock",
            "Stuttgart"
           ],
           "type": "scattermapbox"
          }
         ],
         "name": "2022-08-29 18:00:00"
        },
        {
         "data": [
          {
           "customdata": [
            [
             17.36,
             "😕   INFO: <br>bring a jacket!"
            ],
            [
             20.87,
             "😊   INFO: <br>enjoy your day!"
            ],
            [
             23.69,
             "😊   INFO: <br>enjoy your day!"
            ],
            [
             16.87,
             "😕   INFO: <br>bring a jacket!"
            ],
            [
             16.33,
             "😕   INFO: <br>bring a jacket!"
            ],
            [
             24.39,
             "😊   INFO: <br>enjoy your day!"
            ],
            [
             15.53,
             "😕   INFO: <br>bring a jacket!"
            ],
            [
             15.01,
             "😕   INFO: <br>bring a jacket!"
            ],
            [
             16.78,
             "😕   INFO: <br>bring a jacket!"
            ],
            [
             17.03,
             "😕   INFO: <br>bring a jacket!"
            ],
            [
             16.4,
             "😕   INFO: <br>bring a jacket!"
            ],
            [
             19.23,
             "😕   INFO: <br>bring a jacket!"
            ],
            [
             18.95,
             "😕   INFO: <br>bring a jacket!"
            ],
            [
             14.52,
             "😕   INFO: <br>bring a jacket!"
            ],
            [
             18.22,
             "😕   INFO: <br>bring a jacket!"
            ],
            [
             16.53,
             "😕   INFO: <br>bring a jacket!"
            ],
            [
             14.11,
             "😕   INFO: <br>bring a jacket!"
            ],
            [
             21.52,
             "😊   INFO: <br>enjoy your day!"
            ],
            [
             16.42,
             "😕   INFO: <br>bring a jacket!"
            ],
            [
             14.99,
             "😕   INFO: <br>bring a jacket!"
            ],
            [
             16.38,
             "😕   INFO: <br>bring a jacket!"
            ],
            [
             16.51,
             "😕   INFO: <br>bring a jacket!"
            ],
            [
             19.99,
             "😕   INFO: <br>bring a jacket!"
            ]
           ],
           "hovertemplate": "<b>%{text} </b><br>Temperature: %{customdata[0]} °C<br><extra><i>%{customdata[1]}</i></extra>",
           "ids": [
            "Bregenz",
            "Wien",
            "Paris",
            "London",
            "Prag",
            "Florenz",
            "Kopenhagen",
            "Aachen",
            "Berlin",
            "Bonn",
            "Dresden",
            "Frankfurt am Main",
            "Freiburg",
            "Kiel",
            "Köln",
            "Leipzig",
            "Lübeck",
            "Mannheim",
            "München",
            "Münster",
            "Ravensburg",
            "Rostock",
            "Stuttgart"
           ],
           "lat": [
            47.5025779,
            48.2083537,
            48.8588897,
            51.5073219,
            50.0596288,
            43.7698712,
            55.6867243,
            50.776351,
            52.5170365,
            50.735851,
            51.0493286,
            50.1106444,
            47.9960901,
            54.3227085,
            50.938361,
            51.3406321,
            53.866444,
            49.4892913,
            48.1371079,
            51.9625101,
            47.7811014,
            54.0924445,
            48.7784485
           ],
           "legendgroup": "",
           "lon": [
            9.7472924,
            16.3725042,
            2.320041021720076,
            -0.1276474,
            14.446459273258009,
            11.2555757,
            12.5700724,
            6.083862,
            13.3888599,
            7.10066,
            13.7381437,
            8.6820917,
            7.8494005,
            10.135555,
            6.959974,
            12.3747329,
            10.684738,
            8.4673098,
            11.5753822,
            7.6251879,
            9.612468,
            12.1286127,
            9.1800132
           ],
           "marker": {
            "color": [
             17.36,
             20.87,
             23.69,
             16.87,
             16.33,
             24.39,
             15.53,
             15.01,
             16.78,
             17.03,
             16.4,
             19.23,
             18.95,
             14.52,
             18.22,
             16.53,
             14.11,
             21.52,
             16.42,
             14.99,
             16.38,
             16.51,
             19.99
            ],
            "coloraxis": "coloraxis"
           },
           "mode": "markers+text",
           "name": "",
           "showlegend": false,
           "subplot": "mapbox",
           "text": [
            "Bregenz",
            "Wien",
            "Paris",
            "London",
            "Prag",
            "Florenz",
            "Kopenhagen",
            "Aachen",
            "Berlin",
            "Bonn",
            "Dresden",
            "Frankfurt am Main",
            "Freiburg",
            "Kiel",
            "Köln",
            "Leipzig",
            "Lübeck",
            "Mannheim",
            "München",
            "Münster",
            "Ravensburg",
            "Rostock",
            "Stuttgart"
           ],
           "type": "scattermapbox"
          }
         ],
         "name": "2022-08-29 21:00:00"
        },
        {
         "data": [
          {
           "customdata": [
            [
             16.31,
             "😕   INFO: <br>bring a jacket!"
            ],
            [
             19.12,
             "😕   INFO: <br>bring a jacket!"
            ],
            [
             21.12,
             "😊   INFO: <br>enjoy your day!"
            ],
            [
             15.46,
             "😕   INFO: <br>bring a jacket!"
            ],
            [
             15.02,
             "😕   INFO: <br>bring a jacket!"
            ],
            [
             23.07,
             "😊   INFO: <br>enjoy your day!"
            ],
            [
             15.12,
             "😕   INFO: <br>bring a jacket!"
            ],
            [
             13.42,
             "😕   INFO: <br>bring a jacket!"
            ],
            [
             15.28,
             "😕   INFO: <br>bring a jacket!"
            ],
            [
             15.25,
             "😕   INFO: <br>bring a jacket!"
            ],
            [
             15.04,
             "😕   INFO: <br>bring a jacket!"
            ],
            [
             17.15,
             "😕   INFO: <br>bring a jacket!"
            ],
            [
             17.46,
             "😕   INFO: <br>bring a jacket!"
            ],
            [
             13.75,
             "😕   INFO: <br>bring a jacket!"
            ],
            [
             16.37,
             "😕   INFO: <br>bring a jacket!"
            ],
            [
             14.56,
             "😕   INFO: <br>bring a jacket!"
            ],
            [
             13.15,
             "😕   INFO: <br>bring a jacket!"
            ],
            [
             19.72,
             "😕   INFO: <br>bring a jacket!"
            ],
            [
             15.69,
             "😕   INFO: <br>bring a jacket!"
            ],
            [
             12.81,
             "😕   INFO: <br>bring a jacket!"
            ],
            [
             15.06,
             "😕   INFO: <br>bring a jacket!"
            ],
            [
             15.67,
             "😕   INFO: <br>bring a jacket!"
            ],
            [
             18.14,
             "😕   INFO: <br>bring a jacket!"
            ]
           ],
           "hovertemplate": "<b>%{text} </b><br>Temperature: %{customdata[0]} °C<br><extra><i>%{customdata[1]}</i></extra>",
           "ids": [
            "Bregenz",
            "Wien",
            "Paris",
            "London",
            "Prag",
            "Florenz",
            "Kopenhagen",
            "Aachen",
            "Berlin",
            "Bonn",
            "Dresden",
            "Frankfurt am Main",
            "Freiburg",
            "Kiel",
            "Köln",
            "Leipzig",
            "Lübeck",
            "Mannheim",
            "München",
            "Münster",
            "Ravensburg",
            "Rostock",
            "Stuttgart"
           ],
           "lat": [
            47.5025779,
            48.2083537,
            48.8588897,
            51.5073219,
            50.0596288,
            43.7698712,
            55.6867243,
            50.776351,
            52.5170365,
            50.735851,
            51.0493286,
            50.1106444,
            47.9960901,
            54.3227085,
            50.938361,
            51.3406321,
            53.866444,
            49.4892913,
            48.1371079,
            51.9625101,
            47.7811014,
            54.0924445,
            48.7784485
           ],
           "legendgroup": "",
           "lon": [
            9.7472924,
            16.3725042,
            2.320041021720076,
            -0.1276474,
            14.446459273258009,
            11.2555757,
            12.5700724,
            6.083862,
            13.3888599,
            7.10066,
            13.7381437,
            8.6820917,
            7.8494005,
            10.135555,
            6.959974,
            12.3747329,
            10.684738,
            8.4673098,
            11.5753822,
            7.6251879,
            9.612468,
            12.1286127,
            9.1800132
           ],
           "marker": {
            "color": [
             16.31,
             19.12,
             21.12,
             15.46,
             15.02,
             23.07,
             15.12,
             13.42,
             15.28,
             15.25,
             15.04,
             17.15,
             17.46,
             13.75,
             16.37,
             14.56,
             13.15,
             19.72,
             15.69,
             12.81,
             15.06,
             15.67,
             18.14
            ],
            "coloraxis": "coloraxis"
           },
           "mode": "markers+text",
           "name": "",
           "showlegend": false,
           "subplot": "mapbox",
           "text": [
            "Bregenz",
            "Wien",
            "Paris",
            "London",
            "Prag",
            "Florenz",
            "Kopenhagen",
            "Aachen",
            "Berlin",
            "Bonn",
            "Dresden",
            "Frankfurt am Main",
            "Freiburg",
            "Kiel",
            "Köln",
            "Leipzig",
            "Lübeck",
            "Mannheim",
            "München",
            "Münster",
            "Ravensburg",
            "Rostock",
            "Stuttgart"
           ],
           "type": "scattermapbox"
          }
         ],
         "name": "2022-08-30 00:00:00"
        },
        {
         "data": [
          {
           "customdata": [
            [
             15.59,
             "😕   INFO: <br>bring a jacket!"
            ],
            [
             17.99,
             "😕   INFO: <br>bring a jacket!"
            ],
            [
             19.35,
             "😕   INFO: <br>bring a jacket!"
            ],
            [
             15.05,
             "😕   INFO: <br>bring a jacket!"
            ],
            [
             13.86,
             "😕   INFO: <br>bring a jacket!"
            ],
            [
             22.38,
             "😊   INFO: <br>enjoy your day!"
            ],
            [
             15.05,
             "😕   INFO: <br>bring a jacket!"
            ],
            [
             12.21,
             "😕   INFO: <br>bring a jacket!"
            ],
            [
             14.43,
             "😕   INFO: <br>bring a jacket!"
            ],
            [
             13.87,
             "😕   INFO: <br>bring a jacket!"
            ],
            [
             14.35,
             "😕   INFO: <br>bring a jacket!"
            ],
            [
             15.53,
             "😕   INFO: <br>bring a jacket!"
            ],
            [
             16.73,
             "😕   INFO: <br>bring a jacket!"
            ],
            [
             13.71,
             "😕   INFO: <br>bring a jacket!"
            ],
            [
             15.05,
             "😕   INFO: <br>bring a jacket!"
            ],
            [
             13.26,
             "😕   INFO: <br>bring a jacket!"
            ],
            [
             12.89,
             "😕   INFO: <br>bring a jacket!"
            ],
            [
             18.24,
             "😕   INFO: <br>bring a jacket!"
            ],
            [
             14.56,
             "😕   INFO: <br>bring a jacket!"
            ],
            [
             11.81,
             "😕   INFO: <br>bring a jacket!"
            ],
            [
             14.39,
             "😕   INFO: <br>bring a jacket!"
            ],
            [
             15.81,
             "😕   INFO: <br>bring a jacket!"
            ],
            [
             16.95,
             "😕   INFO: <br>bring a jacket!"
            ]
           ],
           "hovertemplate": "<b>%{text} </b><br>Temperature: %{customdata[0]} °C<br><extra><i>%{customdata[1]}</i></extra>",
           "ids": [
            "Bregenz",
            "Wien",
            "Paris",
            "London",
            "Prag",
            "Florenz",
            "Kopenhagen",
            "Aachen",
            "Berlin",
            "Bonn",
            "Dresden",
            "Frankfurt am Main",
            "Freiburg",
            "Kiel",
            "Köln",
            "Leipzig",
            "Lübeck",
            "Mannheim",
            "München",
            "Münster",
            "Ravensburg",
            "Rostock",
            "Stuttgart"
           ],
           "lat": [
            47.5025779,
            48.2083537,
            48.8588897,
            51.5073219,
            50.0596288,
            43.7698712,
            55.6867243,
            50.776351,
            52.5170365,
            50.735851,
            51.0493286,
            50.1106444,
            47.9960901,
            54.3227085,
            50.938361,
            51.3406321,
            53.866444,
            49.4892913,
            48.1371079,
            51.9625101,
            47.7811014,
            54.0924445,
            48.7784485
           ],
           "legendgroup": "",
           "lon": [
            9.7472924,
            16.3725042,
            2.320041021720076,
            -0.1276474,
            14.446459273258009,
            11.2555757,
            12.5700724,
            6.083862,
            13.3888599,
            7.10066,
            13.7381437,
            8.6820917,
            7.8494005,
            10.135555,
            6.959974,
            12.3747329,
            10.684738,
            8.4673098,
            11.5753822,
            7.6251879,
            9.612468,
            12.1286127,
            9.1800132
           ],
           "marker": {
            "color": [
             15.59,
             17.99,
             19.35,
             15.05,
             13.86,
             22.38,
             15.05,
             12.21,
             14.43,
             13.87,
             14.35,
             15.53,
             16.73,
             13.71,
             15.05,
             13.26,
             12.89,
             18.24,
             14.56,
             11.81,
             14.39,
             15.81,
             16.95
            ],
            "coloraxis": "coloraxis"
           },
           "mode": "markers+text",
           "name": "",
           "showlegend": false,
           "subplot": "mapbox",
           "text": [
            "Bregenz",
            "Wien",
            "Paris",
            "London",
            "Prag",
            "Florenz",
            "Kopenhagen",
            "Aachen",
            "Berlin",
            "Bonn",
            "Dresden",
            "Frankfurt am Main",
            "Freiburg",
            "Kiel",
            "Köln",
            "Leipzig",
            "Lübeck",
            "Mannheim",
            "München",
            "Münster",
            "Ravensburg",
            "Rostock",
            "Stuttgart"
           ],
           "type": "scattermapbox"
          }
         ],
         "name": "2022-08-30 03:00:00"
        },
        {
         "data": [
          {
           "customdata": [
            [
             17.4,
             "😕   INFO: <br>bring a jacket!"
            ],
            [
             19.07,
             "😕   INFO: <br>bring a jacket!"
            ],
            [
             18.85,
             "😕   INFO: <br>bring a jacket!"
            ],
            [
             14.93,
             "😕   INFO: <br>bring a jacket!"
            ],
            [
             15.76,
             "😕   INFO: <br>bring a jacket!"
            ],
            [
             22.96,
             "😊   INFO: <br>enjoy your day!"
            ],
            [
             15.28,
             "😕   INFO: <br>bring a jacket!"
            ],
            [
             14.79,
             "😕   INFO: <br>bring a jacket!"
            ],
            [
             15.82,
             "😕   INFO: <br>bring a jacket!"
            ],
            [
             15.3,
             "😕   INFO: <br>bring a jacket!"
            ],
            [
             16.37,
             "😕   INFO: <br>bring a jacket!"
            ],
            [
             16.21,
             "😕   INFO: <br>bring a jacket!"
            ],
            [
             18.43,
             "😕   INFO: <br>bring a jacket!"
            ],
            [
             15.65,
             "😕   INFO: <br>bring a jacket!"
            ],
            [
             16.1,
             "😕   INFO: <br>bring a jacket!"
            ],
            [
             15.19,
             "😕   INFO: <br>bring a jacket!"
            ],
            [
             14.96,
             "😕   INFO: <br>bring a jacket!"
            ],
            [
             18.56,
             "😕   INFO: <br>bring a jacket!"
            ],
            [
             16.37,
             "😕   INFO: <br>bring a jacket!"
            ],
            [
             14.12,
             "😕   INFO: <br>bring a jacket!"
            ],
            [
             16.12,
             "😕   INFO: <br>bring a jacket!"
            ],
            [
             16.17,
             "😕   INFO: <br>bring a jacket!"
            ],
            [
             18.3,
             "😕   INFO: <br>bring a jacket!"
            ]
           ],
           "hovertemplate": "<b>%{text} </b><br>Temperature: %{customdata[0]} °C<br><extra><i>%{customdata[1]}</i></extra>",
           "ids": [
            "Bregenz",
            "Wien",
            "Paris",
            "London",
            "Prag",
            "Florenz",
            "Kopenhagen",
            "Aachen",
            "Berlin",
            "Bonn",
            "Dresden",
            "Frankfurt am Main",
            "Freiburg",
            "Kiel",
            "Köln",
            "Leipzig",
            "Lübeck",
            "Mannheim",
            "München",
            "Münster",
            "Ravensburg",
            "Rostock",
            "Stuttgart"
           ],
           "lat": [
            47.5025779,
            48.2083537,
            48.8588897,
            51.5073219,
            50.0596288,
            43.7698712,
            55.6867243,
            50.776351,
            52.5170365,
            50.735851,
            51.0493286,
            50.1106444,
            47.9960901,
            54.3227085,
            50.938361,
            51.3406321,
            53.866444,
            49.4892913,
            48.1371079,
            51.9625101,
            47.7811014,
            54.0924445,
            48.7784485
           ],
           "legendgroup": "",
           "lon": [
            9.7472924,
            16.3725042,
            2.320041021720076,
            -0.1276474,
            14.446459273258009,
            11.2555757,
            12.5700724,
            6.083862,
            13.3888599,
            7.10066,
            13.7381437,
            8.6820917,
            7.8494005,
            10.135555,
            6.959974,
            12.3747329,
            10.684738,
            8.4673098,
            11.5753822,
            7.6251879,
            9.612468,
            12.1286127,
            9.1800132
           ],
           "marker": {
            "color": [
             17.4,
             19.07,
             18.85,
             14.93,
             15.76,
             22.96,
             15.28,
             14.79,
             15.82,
             15.3,
             16.37,
             16.21,
             18.43,
             15.65,
             16.1,
             15.19,
             14.96,
             18.56,
             16.37,
             14.12,
             16.12,
             16.17,
             18.3
            ],
            "coloraxis": "coloraxis"
           },
           "mode": "markers+text",
           "name": "",
           "showlegend": false,
           "subplot": "mapbox",
           "text": [
            "Bregenz",
            "Wien",
            "Paris",
            "London",
            "Prag",
            "Florenz",
            "Kopenhagen",
            "Aachen",
            "Berlin",
            "Bonn",
            "Dresden",
            "Frankfurt am Main",
            "Freiburg",
            "Kiel",
            "Köln",
            "Leipzig",
            "Lübeck",
            "Mannheim",
            "München",
            "Münster",
            "Ravensburg",
            "Rostock",
            "Stuttgart"
           ],
           "type": "scattermapbox"
          }
         ],
         "name": "2022-08-30 06:00:00"
        },
        {
         "data": [
          {
           "customdata": [
            [
             23.54,
             "😊   INFO: <br>enjoy your day!"
            ],
            [
             24.07,
             "😊   INFO: <br>enjoy your day!"
            ],
            [
             18.09,
             "😕   INFO: <br>bring a jacket!"
            ],
            [
             18.32,
             "😕   INFO: <br>bring a jacket!"
            ],
            [
             20.86,
             "😊   INFO: <br>enjoy your day!"
            ],
            [
             28.01,
             "😰   CAUTION: <br>warm temperatures!"
            ],
            [
             16.76,
             "😕   INFO: <br>bring a jacket!"
            ],
            [
             23.37,
             "😊   INFO: <br>enjoy your day!"
            ],
            [
             21.05,
             "😊   INFO: <br>enjoy your day!"
            ],
            [
             22.94,
             "😊   INFO: <br>enjoy your day!"
            ],
            [
             21.38,
             "😊   INFO: <br>enjoy your day!"
            ],
            [
             22.44,
             "😊   INFO: <br>enjoy your day!"
            ],
            [
             22.99,
             "😊   INFO: <br>enjoy your day!"
            ],
            [
             17.26,
             "😕   INFO: <br>bring a jacket!"
            ],
            [
             23.26,
             "😊   INFO: <br>enjoy your day!"
            ],
            [
             20.09,
             "😊   INFO: <br>enjoy your day!"
            ],
            [
             17.59,
             "😕   INFO: <br>bring a jacket!"
            ],
            [
             23.81,
             "😊   INFO: <br>enjoy your day!"
            ],
            [
             22.75,
             "😊   INFO: <br>enjoy your day!"
            ],
            [
             22.51,
             "😊   INFO: <br>enjoy your day!"
            ],
            [
             22.98,
             "😊   INFO: <br>enjoy your day!"
            ],
            [
             18.04,
             "😕   INFO: <br>bring a jacket!"
            ],
            [
             24.35,
             "😊   INFO: <br>enjoy your day!"
            ]
           ],
           "hovertemplate": "<b>%{text} </b><br>Temperature: %{customdata[0]} °C<br><extra><i>%{customdata[1]}</i></extra>",
           "ids": [
            "Bregenz",
            "Wien",
            "Paris",
            "London",
            "Prag",
            "Florenz",
            "Kopenhagen",
            "Aachen",
            "Berlin",
            "Bonn",
            "Dresden",
            "Frankfurt am Main",
            "Freiburg",
            "Kiel",
            "Köln",
            "Leipzig",
            "Lübeck",
            "Mannheim",
            "München",
            "Münster",
            "Ravensburg",
            "Rostock",
            "Stuttgart"
           ],
           "lat": [
            47.5025779,
            48.2083537,
            48.8588897,
            51.5073219,
            50.0596288,
            43.7698712,
            55.6867243,
            50.776351,
            52.5170365,
            50.735851,
            51.0493286,
            50.1106444,
            47.9960901,
            54.3227085,
            50.938361,
            51.3406321,
            53.866444,
            49.4892913,
            48.1371079,
            51.9625101,
            47.7811014,
            54.0924445,
            48.7784485
           ],
           "legendgroup": "",
           "lon": [
            9.7472924,
            16.3725042,
            2.320041021720076,
            -0.1276474,
            14.446459273258009,
            11.2555757,
            12.5700724,
            6.083862,
            13.3888599,
            7.10066,
            13.7381437,
            8.6820917,
            7.8494005,
            10.135555,
            6.959974,
            12.3747329,
            10.684738,
            8.4673098,
            11.5753822,
            7.6251879,
            9.612468,
            12.1286127,
            9.1800132
           ],
           "marker": {
            "color": [
             23.54,
             24.07,
             18.09,
             18.32,
             20.86,
             28.01,
             16.76,
             23.37,
             21.05,
             22.94,
             21.38,
             22.44,
             22.99,
             17.26,
             23.26,
             20.09,
             17.59,
             23.81,
             22.75,
             22.51,
             22.98,
             18.04,
             24.35
            ],
            "coloraxis": "coloraxis"
           },
           "mode": "markers+text",
           "name": "",
           "showlegend": false,
           "subplot": "mapbox",
           "text": [
            "Bregenz",
            "Wien",
            "Paris",
            "London",
            "Prag",
            "Florenz",
            "Kopenhagen",
            "Aachen",
            "Berlin",
            "Bonn",
            "Dresden",
            "Frankfurt am Main",
            "Freiburg",
            "Kiel",
            "Köln",
            "Leipzig",
            "Lübeck",
            "Mannheim",
            "München",
            "Münster",
            "Ravensburg",
            "Rostock",
            "Stuttgart"
           ],
           "type": "scattermapbox"
          }
         ],
         "name": "2022-08-30 09:00:00"
        },
        {
         "data": [
          {
           "customdata": [
            [
             24.52,
             "😊   INFO: <br>enjoy your day!"
            ],
            [
             27.28,
             "😰   CAUTION: <br>warm temperatures!"
            ],
            [
             20.35,
             "😊   INFO: <br>enjoy your day!"
            ],
            [
             21.25,
             "😊   INFO: <br>enjoy your day!"
            ],
            [
             24.11,
             "😊   INFO: <br>enjoy your day!"
            ],
            [
             31.86,
             "🥵   DANGER: <br>it's hot!"
            ],
            [
             18.9,
             "😕   INFO: <br>bring a jacket!"
            ],
            [
             27.23,
             "😰   CAUTION: <br>warm temperatures!"
            ],
            [
             23.62,
             "😊   INFO: <br>enjoy your day!"
            ],
            [
             28.04,
             "😰   CAUTION: <br>warm temperatures!"
            ],
            [
             24.29,
             "😊   INFO: <br>enjoy your day!"
            ],
            [
             27.51,
             "😰   CAUTION: <br>warm temperatures!"
            ],
            [
             26.85,
             "😰   CAUTION: <br>warm temperatures!"
            ],
            [
             19.19,
             "😕   INFO: <br>bring a jacket!"
            ],
            [
             28.38,
             "😰   CAUTION: <br>warm temperatures!"
            ],
            [
             23.23,
             "😊   INFO: <br>enjoy your day!"
            ],
            [
             19.96,
             "😕   INFO: <br>bring a jacket!"
            ],
            [
             28.89,
             "😰   CAUTION: <br>warm temperatures!"
            ],
            [
             25.98,
             "😰   CAUTION: <br>warm temperatures!"
            ],
            [
             25.94,
             "😰   CAUTION: <br>warm temperatures!"
            ],
            [
             25.27,
             "😰   CAUTION: <br>warm temperatures!"
            ],
            [
             19.17,
             "😕   INFO: <br>bring a jacket!"
            ],
            [
             28.55,
             "😰   CAUTION: <br>warm temperatures!"
            ]
           ],
           "hovertemplate": "<b>%{text} </b><br>Temperature: %{customdata[0]} °C<br><extra><i>%{customdata[1]}</i></extra>",
           "ids": [
            "Bregenz",
            "Wien",
            "Paris",
            "London",
            "Prag",
            "Florenz",
            "Kopenhagen",
            "Aachen",
            "Berlin",
            "Bonn",
            "Dresden",
            "Frankfurt am Main",
            "Freiburg",
            "Kiel",
            "Köln",
            "Leipzig",
            "Lübeck",
            "Mannheim",
            "München",
            "Münster",
            "Ravensburg",
            "Rostock",
            "Stuttgart"
           ],
           "lat": [
            47.5025779,
            48.2083537,
            48.8588897,
            51.5073219,
            50.0596288,
            43.7698712,
            55.6867243,
            50.776351,
            52.5170365,
            50.735851,
            51.0493286,
            50.1106444,
            47.9960901,
            54.3227085,
            50.938361,
            51.3406321,
            53.866444,
            49.4892913,
            48.1371079,
            51.9625101,
            47.7811014,
            54.0924445,
            48.7784485
           ],
           "legendgroup": "",
           "lon": [
            9.7472924,
            16.3725042,
            2.320041021720076,
            -0.1276474,
            14.446459273258009,
            11.2555757,
            12.5700724,
            6.083862,
            13.3888599,
            7.10066,
            13.7381437,
            8.6820917,
            7.8494005,
            10.135555,
            6.959974,
            12.3747329,
            10.684738,
            8.4673098,
            11.5753822,
            7.6251879,
            9.612468,
            12.1286127,
            9.1800132
           ],
           "marker": {
            "color": [
             24.52,
             27.28,
             20.35,
             21.25,
             24.11,
             31.86,
             18.9,
             27.23,
             23.62,
             28.04,
             24.29,
             27.51,
             26.85,
             19.19,
             28.38,
             23.23,
             19.96,
             28.89,
             25.98,
             25.94,
             25.27,
             19.17,
             28.55
            ],
            "coloraxis": "coloraxis"
           },
           "mode": "markers+text",
           "name": "",
           "showlegend": false,
           "subplot": "mapbox",
           "text": [
            "Bregenz",
            "Wien",
            "Paris",
            "London",
            "Prag",
            "Florenz",
            "Kopenhagen",
            "Aachen",
            "Berlin",
            "Bonn",
            "Dresden",
            "Frankfurt am Main",
            "Freiburg",
            "Kiel",
            "Köln",
            "Leipzig",
            "Lübeck",
            "Mannheim",
            "München",
            "Münster",
            "Ravensburg",
            "Rostock",
            "Stuttgart"
           ],
           "type": "scattermapbox"
          }
         ],
         "name": "2022-08-30 12:00:00"
        },
        {
         "data": [
          {
           "customdata": [
            [
             23.5,
             "😊   INFO: <br>enjoy your day!"
            ],
            [
             27.55,
             "😰   CAUTION: <br>warm temperatures!"
            ],
            [
             25.83,
             "😰   CAUTION: <br>warm temperatures!"
            ],
            [
             18.67,
             "😕   INFO: <br>bring a jacket!"
            ],
            [
             24.72,
             "😊   INFO: <br>enjoy your day!"
            ],
            [
             31.33,
             "🥵   DANGER: <br>it's hot!"
            ],
            [
             20.1,
             "😊   INFO: <br>enjoy your day!"
            ],
            [
             27.64,
             "😰   CAUTION: <br>warm temperatures!"
            ],
            [
             23.79,
             "😊   INFO: <br>enjoy your day!"
            ],
            [
             28.3,
             "😰   CAUTION: <br>warm temperatures!"
            ],
            [
             24.52,
             "😊   INFO: <br>enjoy your day!"
            ],
            [
             28.29,
             "😰   CAUTION: <br>warm temperatures!"
            ],
            [
             27.61,
             "😰   CAUTION: <br>warm temperatures!"
            ],
            [
             18.89,
             "😕   INFO: <br>bring a jacket!"
            ],
            [
             28.64,
             "😰   CAUTION: <br>warm temperatures!"
            ],
            [
             23.78,
             "😊   INFO: <br>enjoy your day!"
            ],
            [
             19.98,
             "😕   INFO: <br>bring a jacket!"
            ],
            [
             29.66,
             "😰   CAUTION: <br>warm temperatures!"
            ],
            [
             25.82,
             "😰   CAUTION: <br>warm temperatures!"
            ],
            [
             26.21,
             "😰   CAUTION: <br>warm temperatures!"
            ],
            [
             23.73,
             "😊   INFO: <br>enjoy your day!"
            ],
            [
             19.38,
             "😕   INFO: <br>bring a jacket!"
            ],
            [
             28.4,
             "😰   CAUTION: <br>warm temperatures!"
            ]
           ],
           "hovertemplate": "<b>%{text} </b><br>Temperature: %{customdata[0]} °C<br><extra><i>%{customdata[1]}</i></extra>",
           "ids": [
            "Bregenz",
            "Wien",
            "Paris",
            "London",
            "Prag",
            "Florenz",
            "Kopenhagen",
            "Aachen",
            "Berlin",
            "Bonn",
            "Dresden",
            "Frankfurt am Main",
            "Freiburg",
            "Kiel",
            "Köln",
            "Leipzig",
            "Lübeck",
            "Mannheim",
            "München",
            "Münster",
            "Ravensburg",
            "Rostock",
            "Stuttgart"
           ],
           "lat": [
            47.5025779,
            48.2083537,
            48.8588897,
            51.5073219,
            50.0596288,
            43.7698712,
            55.6867243,
            50.776351,
            52.5170365,
            50.735851,
            51.0493286,
            50.1106444,
            47.9960901,
            54.3227085,
            50.938361,
            51.3406321,
            53.866444,
            49.4892913,
            48.1371079,
            51.9625101,
            47.7811014,
            54.0924445,
            48.7784485
           ],
           "legendgroup": "",
           "lon": [
            9.7472924,
            16.3725042,
            2.320041021720076,
            -0.1276474,
            14.446459273258009,
            11.2555757,
            12.5700724,
            6.083862,
            13.3888599,
            7.10066,
            13.7381437,
            8.6820917,
            7.8494005,
            10.135555,
            6.959974,
            12.3747329,
            10.684738,
            8.4673098,
            11.5753822,
            7.6251879,
            9.612468,
            12.1286127,
            9.1800132
           ],
           "marker": {
            "color": [
             23.5,
             27.55,
             25.83,
             18.67,
             24.72,
             31.33,
             20.1,
             27.64,
             23.79,
             28.3,
             24.52,
             28.29,
             27.61,
             18.89,
             28.64,
             23.78,
             19.98,
             29.66,
             25.82,
             26.21,
             23.73,
             19.38,
             28.4
            ],
            "coloraxis": "coloraxis"
           },
           "mode": "markers+text",
           "name": "",
           "showlegend": false,
           "subplot": "mapbox",
           "text": [
            "Bregenz",
            "Wien",
            "Paris",
            "London",
            "Prag",
            "Florenz",
            "Kopenhagen",
            "Aachen",
            "Berlin",
            "Bonn",
            "Dresden",
            "Frankfurt am Main",
            "Freiburg",
            "Kiel",
            "Köln",
            "Leipzig",
            "Lübeck",
            "Mannheim",
            "München",
            "Münster",
            "Ravensburg",
            "Rostock",
            "Stuttgart"
           ],
           "type": "scattermapbox"
          }
         ],
         "name": "2022-08-30 15:00:00"
        }
       ],
       "layout": {
        "coloraxis": {
         "cmax": 40,
         "cmin": -10,
         "colorbar": {
          "tickformat": ".1f",
          "ticksuffix": " °C",
          "title": {
           "side": "top",
           "text": "Temperature"
          },
          "ypad": 20
         },
         "colorscale": [
          [
           0,
           "#000000"
          ],
          [
           0.0625,
           "#001f4d"
          ],
          [
           0.125,
           "#003786"
          ],
          [
           0.1875,
           "#0e58a8"
          ],
          [
           0.25,
           "#217eb8"
          ],
          [
           0.3125,
           "#30a4ca"
          ],
          [
           0.375,
           "#54c8df"
          ],
          [
           0.4375,
           "#9be4ef"
          ],
          [
           0.5,
           "#e1e9d1"
          ],
          [
           0.5625,
           "#f3d573"
          ],
          [
           0.625,
           "#e7b000"
          ],
          [
           0.6875,
           "#da8200"
          ],
          [
           0.75,
           "#c65400"
          ],
          [
           0.8125,
           "#ac2301"
          ],
          [
           0.875,
           "#820000"
          ],
          [
           0.9375,
           "#4c0000"
          ],
          [
           1,
           "#000000"
          ]
         ]
        },
        "height": 720,
        "legend": {
         "tracegroupgap": 0
        },
        "mapbox": {
         "accesstoken": "pk.eyJ1Ijoib2hpdHNsZW5hIiwiYSI6ImNqdDNicjNheDB0OGUzenBxNWFueXVweHAifQ.SlggtzzOlVJJNK_y6tpKRQ",
         "center": {
          "lat": 50.41250949565235,
          "lon": 9.659621264999137
         },
         "domain": {
          "x": [
           0,
           1
          ],
          "y": [
           0,
           1
          ]
         },
         "zoom": 5
        },
        "margin": {
         "b": 0,
         "l": 20,
         "r": 0,
         "t": 50
        },
        "sliders": [
         {
          "active": 0,
          "currentvalue": {
           "prefix": "Date and time: "
          },
          "len": 0.9,
          "pad": {
           "b": 20,
           "l": 0,
           "r": 0,
           "t": 10
          },
          "steps": [
           {
            "args": [
             [
              "2022-08-25 18:00:00"
             ],
             {
              "frame": {
               "duration": 0,
               "redraw": true
              },
              "fromcurrent": true,
              "mode": "immediate",
              "transition": {
               "duration": 0,
               "easing": "linear"
              }
             }
            ],
            "label": "2022-08-25 18:00:00",
            "method": "animate"
           },
           {
            "args": [
             [
              "2022-08-25 21:00:00"
             ],
             {
              "frame": {
               "duration": 0,
               "redraw": true
              },
              "fromcurrent": true,
              "mode": "immediate",
              "transition": {
               "duration": 0,
               "easing": "linear"
              }
             }
            ],
            "label": "2022-08-25 21:00:00",
            "method": "animate"
           },
           {
            "args": [
             [
              "2022-08-26 00:00:00"
             ],
             {
              "frame": {
               "duration": 0,
               "redraw": true
              },
              "fromcurrent": true,
              "mode": "immediate",
              "transition": {
               "duration": 0,
               "easing": "linear"
              }
             }
            ],
            "label": "2022-08-26 00:00:00",
            "method": "animate"
           },
           {
            "args": [
             [
              "2022-08-26 03:00:00"
             ],
             {
              "frame": {
               "duration": 0,
               "redraw": true
              },
              "fromcurrent": true,
              "mode": "immediate",
              "transition": {
               "duration": 0,
               "easing": "linear"
              }
             }
            ],
            "label": "2022-08-26 03:00:00",
            "method": "animate"
           },
           {
            "args": [
             [
              "2022-08-26 06:00:00"
             ],
             {
              "frame": {
               "duration": 0,
               "redraw": true
              },
              "fromcurrent": true,
              "mode": "immediate",
              "transition": {
               "duration": 0,
               "easing": "linear"
              }
             }
            ],
            "label": "2022-08-26 06:00:00",
            "method": "animate"
           },
           {
            "args": [
             [
              "2022-08-26 09:00:00"
             ],
             {
              "frame": {
               "duration": 0,
               "redraw": true
              },
              "fromcurrent": true,
              "mode": "immediate",
              "transition": {
               "duration": 0,
               "easing": "linear"
              }
             }
            ],
            "label": "2022-08-26 09:00:00",
            "method": "animate"
           },
           {
            "args": [
             [
              "2022-08-26 12:00:00"
             ],
             {
              "frame": {
               "duration": 0,
               "redraw": true
              },
              "fromcurrent": true,
              "mode": "immediate",
              "transition": {
               "duration": 0,
               "easing": "linear"
              }
             }
            ],
            "label": "2022-08-26 12:00:00",
            "method": "animate"
           },
           {
            "args": [
             [
              "2022-08-26 15:00:00"
             ],
             {
              "frame": {
               "duration": 0,
               "redraw": true
              },
              "fromcurrent": true,
              "mode": "immediate",
              "transition": {
               "duration": 0,
               "easing": "linear"
              }
             }
            ],
            "label": "2022-08-26 15:00:00",
            "method": "animate"
           },
           {
            "args": [
             [
              "2022-08-26 18:00:00"
             ],
             {
              "frame": {
               "duration": 0,
               "redraw": true
              },
              "fromcurrent": true,
              "mode": "immediate",
              "transition": {
               "duration": 0,
               "easing": "linear"
              }
             }
            ],
            "label": "2022-08-26 18:00:00",
            "method": "animate"
           },
           {
            "args": [
             [
              "2022-08-26 21:00:00"
             ],
             {
              "frame": {
               "duration": 0,
               "redraw": true
              },
              "fromcurrent": true,
              "mode": "immediate",
              "transition": {
               "duration": 0,
               "easing": "linear"
              }
             }
            ],
            "label": "2022-08-26 21:00:00",
            "method": "animate"
           },
           {
            "args": [
             [
              "2022-08-27 00:00:00"
             ],
             {
              "frame": {
               "duration": 0,
               "redraw": true
              },
              "fromcurrent": true,
              "mode": "immediate",
              "transition": {
               "duration": 0,
               "easing": "linear"
              }
             }
            ],
            "label": "2022-08-27 00:00:00",
            "method": "animate"
           },
           {
            "args": [
             [
              "2022-08-27 03:00:00"
             ],
             {
              "frame": {
               "duration": 0,
               "redraw": true
              },
              "fromcurrent": true,
              "mode": "immediate",
              "transition": {
               "duration": 0,
               "easing": "linear"
              }
             }
            ],
            "label": "2022-08-27 03:00:00",
            "method": "animate"
           },
           {
            "args": [
             [
              "2022-08-27 06:00:00"
             ],
             {
              "frame": {
               "duration": 0,
               "redraw": true
              },
              "fromcurrent": true,
              "mode": "immediate",
              "transition": {
               "duration": 0,
               "easing": "linear"
              }
             }
            ],
            "label": "2022-08-27 06:00:00",
            "method": "animate"
           },
           {
            "args": [
             [
              "2022-08-27 09:00:00"
             ],
             {
              "frame": {
               "duration": 0,
               "redraw": true
              },
              "fromcurrent": true,
              "mode": "immediate",
              "transition": {
               "duration": 0,
               "easing": "linear"
              }
             }
            ],
            "label": "2022-08-27 09:00:00",
            "method": "animate"
           },
           {
            "args": [
             [
              "2022-08-27 12:00:00"
             ],
             {
              "frame": {
               "duration": 0,
               "redraw": true
              },
              "fromcurrent": true,
              "mode": "immediate",
              "transition": {
               "duration": 0,
               "easing": "linear"
              }
             }
            ],
            "label": "2022-08-27 12:00:00",
            "method": "animate"
           },
           {
            "args": [
             [
              "2022-08-27 15:00:00"
             ],
             {
              "frame": {
               "duration": 0,
               "redraw": true
              },
              "fromcurrent": true,
              "mode": "immediate",
              "transition": {
               "duration": 0,
               "easing": "linear"
              }
             }
            ],
            "label": "2022-08-27 15:00:00",
            "method": "animate"
           },
           {
            "args": [
             [
              "2022-08-27 18:00:00"
             ],
             {
              "frame": {
               "duration": 0,
               "redraw": true
              },
              "fromcurrent": true,
              "mode": "immediate",
              "transition": {
               "duration": 0,
               "easing": "linear"
              }
             }
            ],
            "label": "2022-08-27 18:00:00",
            "method": "animate"
           },
           {
            "args": [
             [
              "2022-08-27 21:00:00"
             ],
             {
              "frame": {
               "duration": 0,
               "redraw": true
              },
              "fromcurrent": true,
              "mode": "immediate",
              "transition": {
               "duration": 0,
               "easing": "linear"
              }
             }
            ],
            "label": "2022-08-27 21:00:00",
            "method": "animate"
           },
           {
            "args": [
             [
              "2022-08-28 00:00:00"
             ],
             {
              "frame": {
               "duration": 0,
               "redraw": true
              },
              "fromcurrent": true,
              "mode": "immediate",
              "transition": {
               "duration": 0,
               "easing": "linear"
              }
             }
            ],
            "label": "2022-08-28 00:00:00",
            "method": "animate"
           },
           {
            "args": [
             [
              "2022-08-28 03:00:00"
             ],
             {
              "frame": {
               "duration": 0,
               "redraw": true
              },
              "fromcurrent": true,
              "mode": "immediate",
              "transition": {
               "duration": 0,
               "easing": "linear"
              }
             }
            ],
            "label": "2022-08-28 03:00:00",
            "method": "animate"
           },
           {
            "args": [
             [
              "2022-08-28 06:00:00"
             ],
             {
              "frame": {
               "duration": 0,
               "redraw": true
              },
              "fromcurrent": true,
              "mode": "immediate",
              "transition": {
               "duration": 0,
               "easing": "linear"
              }
             }
            ],
            "label": "2022-08-28 06:00:00",
            "method": "animate"
           },
           {
            "args": [
             [
              "2022-08-28 09:00:00"
             ],
             {
              "frame": {
               "duration": 0,
               "redraw": true
              },
              "fromcurrent": true,
              "mode": "immediate",
              "transition": {
               "duration": 0,
               "easing": "linear"
              }
             }
            ],
            "label": "2022-08-28 09:00:00",
            "method": "animate"
           },
           {
            "args": [
             [
              "2022-08-28 12:00:00"
             ],
             {
              "frame": {
               "duration": 0,
               "redraw": true
              },
              "fromcurrent": true,
              "mode": "immediate",
              "transition": {
               "duration": 0,
               "easing": "linear"
              }
             }
            ],
            "label": "2022-08-28 12:00:00",
            "method": "animate"
           },
           {
            "args": [
             [
              "2022-08-28 15:00:00"
             ],
             {
              "frame": {
               "duration": 0,
               "redraw": true
              },
              "fromcurrent": true,
              "mode": "immediate",
              "transition": {
               "duration": 0,
               "easing": "linear"
              }
             }
            ],
            "label": "2022-08-28 15:00:00",
            "method": "animate"
           },
           {
            "args": [
             [
              "2022-08-28 18:00:00"
             ],
             {
              "frame": {
               "duration": 0,
               "redraw": true
              },
              "fromcurrent": true,
              "mode": "immediate",
              "transition": {
               "duration": 0,
               "easing": "linear"
              }
             }
            ],
            "label": "2022-08-28 18:00:00",
            "method": "animate"
           },
           {
            "args": [
             [
              "2022-08-28 21:00:00"
             ],
             {
              "frame": {
               "duration": 0,
               "redraw": true
              },
              "fromcurrent": true,
              "mode": "immediate",
              "transition": {
               "duration": 0,
               "easing": "linear"
              }
             }
            ],
            "label": "2022-08-28 21:00:00",
            "method": "animate"
           },
           {
            "args": [
             [
              "2022-08-29 00:00:00"
             ],
             {
              "frame": {
               "duration": 0,
               "redraw": true
              },
              "fromcurrent": true,
              "mode": "immediate",
              "transition": {
               "duration": 0,
               "easing": "linear"
              }
             }
            ],
            "label": "2022-08-29 00:00:00",
            "method": "animate"
           },
           {
            "args": [
             [
              "2022-08-29 03:00:00"
             ],
             {
              "frame": {
               "duration": 0,
               "redraw": true
              },
              "fromcurrent": true,
              "mode": "immediate",
              "transition": {
               "duration": 0,
               "easing": "linear"
              }
             }
            ],
            "label": "2022-08-29 03:00:00",
            "method": "animate"
           },
           {
            "args": [
             [
              "2022-08-29 06:00:00"
             ],
             {
              "frame": {
               "duration": 0,
               "redraw": true
              },
              "fromcurrent": true,
              "mode": "immediate",
              "transition": {
               "duration": 0,
               "easing": "linear"
              }
             }
            ],
            "label": "2022-08-29 06:00:00",
            "method": "animate"
           },
           {
            "args": [
             [
              "2022-08-29 09:00:00"
             ],
             {
              "frame": {
               "duration": 0,
               "redraw": true
              },
              "fromcurrent": true,
              "mode": "immediate",
              "transition": {
               "duration": 0,
               "easing": "linear"
              }
             }
            ],
            "label": "2022-08-29 09:00:00",
            "method": "animate"
           },
           {
            "args": [
             [
              "2022-08-29 12:00:00"
             ],
             {
              "frame": {
               "duration": 0,
               "redraw": true
              },
              "fromcurrent": true,
              "mode": "immediate",
              "transition": {
               "duration": 0,
               "easing": "linear"
              }
             }
            ],
            "label": "2022-08-29 12:00:00",
            "method": "animate"
           },
           {
            "args": [
             [
              "2022-08-29 15:00:00"
             ],
             {
              "frame": {
               "duration": 0,
               "redraw": true
              },
              "fromcurrent": true,
              "mode": "immediate",
              "transition": {
               "duration": 0,
               "easing": "linear"
              }
             }
            ],
            "label": "2022-08-29 15:00:00",
            "method": "animate"
           },
           {
            "args": [
             [
              "2022-08-29 18:00:00"
             ],
             {
              "frame": {
               "duration": 0,
               "redraw": true
              },
              "fromcurrent": true,
              "mode": "immediate",
              "transition": {
               "duration": 0,
               "easing": "linear"
              }
             }
            ],
            "label": "2022-08-29 18:00:00",
            "method": "animate"
           },
           {
            "args": [
             [
              "2022-08-29 21:00:00"
             ],
             {
              "frame": {
               "duration": 0,
               "redraw": true
              },
              "fromcurrent": true,
              "mode": "immediate",
              "transition": {
               "duration": 0,
               "easing": "linear"
              }
             }
            ],
            "label": "2022-08-29 21:00:00",
            "method": "animate"
           },
           {
            "args": [
             [
              "2022-08-30 00:00:00"
             ],
             {
              "frame": {
               "duration": 0,
               "redraw": true
              },
              "fromcurrent": true,
              "mode": "immediate",
              "transition": {
               "duration": 0,
               "easing": "linear"
              }
             }
            ],
            "label": "2022-08-30 00:00:00",
            "method": "animate"
           },
           {
            "args": [
             [
              "2022-08-30 03:00:00"
             ],
             {
              "frame": {
               "duration": 0,
               "redraw": true
              },
              "fromcurrent": true,
              "mode": "immediate",
              "transition": {
               "duration": 0,
               "easing": "linear"
              }
             }
            ],
            "label": "2022-08-30 03:00:00",
            "method": "animate"
           },
           {
            "args": [
             [
              "2022-08-30 06:00:00"
             ],
             {
              "frame": {
               "duration": 0,
               "redraw": true
              },
              "fromcurrent": true,
              "mode": "immediate",
              "transition": {
               "duration": 0,
               "easing": "linear"
              }
             }
            ],
            "label": "2022-08-30 06:00:00",
            "method": "animate"
           },
           {
            "args": [
             [
              "2022-08-30 09:00:00"
             ],
             {
              "frame": {
               "duration": 0,
               "redraw": true
              },
              "fromcurrent": true,
              "mode": "immediate",
              "transition": {
               "duration": 0,
               "easing": "linear"
              }
             }
            ],
            "label": "2022-08-30 09:00:00",
            "method": "animate"
           },
           {
            "args": [
             [
              "2022-08-30 12:00:00"
             ],
             {
              "frame": {
               "duration": 0,
               "redraw": true
              },
              "fromcurrent": true,
              "mode": "immediate",
              "transition": {
               "duration": 0,
               "easing": "linear"
              }
             }
            ],
            "label": "2022-08-30 12:00:00",
            "method": "animate"
           },
           {
            "args": [
             [
              "2022-08-30 15:00:00"
             ],
             {
              "frame": {
               "duration": 0,
               "redraw": true
              },
              "fromcurrent": true,
              "mode": "immediate",
              "transition": {
               "duration": 0,
               "easing": "linear"
              }
             }
            ],
            "label": "2022-08-30 15:00:00",
            "method": "animate"
           }
          ],
          "x": 0.1,
          "xanchor": "left",
          "y": 0,
          "yanchor": "top"
         }
        ],
        "template": {
         "data": {
          "bar": [
           {
            "error_x": {
             "color": "#2a3f5f"
            },
            "error_y": {
             "color": "#2a3f5f"
            },
            "marker": {
             "line": {
              "color": "#E5ECF6",
              "width": 0.5
             },
             "pattern": {
              "fillmode": "overlay",
              "size": 10,
              "solidity": 0.2
             }
            },
            "type": "bar"
           }
          ],
          "barpolar": [
           {
            "marker": {
             "line": {
              "color": "#E5ECF6",
              "width": 0.5
             },
             "pattern": {
              "fillmode": "overlay",
              "size": 10,
              "solidity": 0.2
             }
            },
            "type": "barpolar"
           }
          ],
          "carpet": [
           {
            "aaxis": {
             "endlinecolor": "#2a3f5f",
             "gridcolor": "white",
             "linecolor": "white",
             "minorgridcolor": "white",
             "startlinecolor": "#2a3f5f"
            },
            "baxis": {
             "endlinecolor": "#2a3f5f",
             "gridcolor": "white",
             "linecolor": "white",
             "minorgridcolor": "white",
             "startlinecolor": "#2a3f5f"
            },
            "type": "carpet"
           }
          ],
          "choropleth": [
           {
            "colorbar": {
             "outlinewidth": 0,
             "ticks": ""
            },
            "type": "choropleth"
           }
          ],
          "contour": [
           {
            "colorbar": {
             "outlinewidth": 0,
             "ticks": ""
            },
            "colorscale": [
             [
              0,
              "#0d0887"
             ],
             [
              0.1111111111111111,
              "#46039f"
             ],
             [
              0.2222222222222222,
              "#7201a8"
             ],
             [
              0.3333333333333333,
              "#9c179e"
             ],
             [
              0.4444444444444444,
              "#bd3786"
             ],
             [
              0.5555555555555556,
              "#d8576b"
             ],
             [
              0.6666666666666666,
              "#ed7953"
             ],
             [
              0.7777777777777778,
              "#fb9f3a"
             ],
             [
              0.8888888888888888,
              "#fdca26"
             ],
             [
              1,
              "#f0f921"
             ]
            ],
            "type": "contour"
           }
          ],
          "contourcarpet": [
           {
            "colorbar": {
             "outlinewidth": 0,
             "ticks": ""
            },
            "type": "contourcarpet"
           }
          ],
          "heatmap": [
           {
            "colorbar": {
             "outlinewidth": 0,
             "ticks": ""
            },
            "colorscale": [
             [
              0,
              "#0d0887"
             ],
             [
              0.1111111111111111,
              "#46039f"
             ],
             [
              0.2222222222222222,
              "#7201a8"
             ],
             [
              0.3333333333333333,
              "#9c179e"
             ],
             [
              0.4444444444444444,
              "#bd3786"
             ],
             [
              0.5555555555555556,
              "#d8576b"
             ],
             [
              0.6666666666666666,
              "#ed7953"
             ],
             [
              0.7777777777777778,
              "#fb9f3a"
             ],
             [
              0.8888888888888888,
              "#fdca26"
             ],
             [
              1,
              "#f0f921"
             ]
            ],
            "type": "heatmap"
           }
          ],
          "heatmapgl": [
           {
            "colorbar": {
             "outlinewidth": 0,
             "ticks": ""
            },
            "colorscale": [
             [
              0,
              "#0d0887"
             ],
             [
              0.1111111111111111,
              "#46039f"
             ],
             [
              0.2222222222222222,
              "#7201a8"
             ],
             [
              0.3333333333333333,
              "#9c179e"
             ],
             [
              0.4444444444444444,
              "#bd3786"
             ],
             [
              0.5555555555555556,
              "#d8576b"
             ],
             [
              0.6666666666666666,
              "#ed7953"
             ],
             [
              0.7777777777777778,
              "#fb9f3a"
             ],
             [
              0.8888888888888888,
              "#fdca26"
             ],
             [
              1,
              "#f0f921"
             ]
            ],
            "type": "heatmapgl"
           }
          ],
          "histogram": [
           {
            "marker": {
             "pattern": {
              "fillmode": "overlay",
              "size": 10,
              "solidity": 0.2
             }
            },
            "type": "histogram"
           }
          ],
          "histogram2d": [
           {
            "colorbar": {
             "outlinewidth": 0,
             "ticks": ""
            },
            "colorscale": [
             [
              0,
              "#0d0887"
             ],
             [
              0.1111111111111111,
              "#46039f"
             ],
             [
              0.2222222222222222,
              "#7201a8"
             ],
             [
              0.3333333333333333,
              "#9c179e"
             ],
             [
              0.4444444444444444,
              "#bd3786"
             ],
             [
              0.5555555555555556,
              "#d8576b"
             ],
             [
              0.6666666666666666,
              "#ed7953"
             ],
             [
              0.7777777777777778,
              "#fb9f3a"
             ],
             [
              0.8888888888888888,
              "#fdca26"
             ],
             [
              1,
              "#f0f921"
             ]
            ],
            "type": "histogram2d"
           }
          ],
          "histogram2dcontour": [
           {
            "colorbar": {
             "outlinewidth": 0,
             "ticks": ""
            },
            "colorscale": [
             [
              0,
              "#0d0887"
             ],
             [
              0.1111111111111111,
              "#46039f"
             ],
             [
              0.2222222222222222,
              "#7201a8"
             ],
             [
              0.3333333333333333,
              "#9c179e"
             ],
             [
              0.4444444444444444,
              "#bd3786"
             ],
             [
              0.5555555555555556,
              "#d8576b"
             ],
             [
              0.6666666666666666,
              "#ed7953"
             ],
             [
              0.7777777777777778,
              "#fb9f3a"
             ],
             [
              0.8888888888888888,
              "#fdca26"
             ],
             [
              1,
              "#f0f921"
             ]
            ],
            "type": "histogram2dcontour"
           }
          ],
          "mesh3d": [
           {
            "colorbar": {
             "outlinewidth": 0,
             "ticks": ""
            },
            "type": "mesh3d"
           }
          ],
          "parcoords": [
           {
            "line": {
             "colorbar": {
              "outlinewidth": 0,
              "ticks": ""
             }
            },
            "type": "parcoords"
           }
          ],
          "pie": [
           {
            "automargin": true,
            "type": "pie"
           }
          ],
          "scatter": [
           {
            "marker": {
             "colorbar": {
              "outlinewidth": 0,
              "ticks": ""
             }
            },
            "type": "scatter"
           }
          ],
          "scatter3d": [
           {
            "line": {
             "colorbar": {
              "outlinewidth": 0,
              "ticks": ""
             }
            },
            "marker": {
             "colorbar": {
              "outlinewidth": 0,
              "ticks": ""
             }
            },
            "type": "scatter3d"
           }
          ],
          "scattercarpet": [
           {
            "marker": {
             "colorbar": {
              "outlinewidth": 0,
              "ticks": ""
             }
            },
            "type": "scattercarpet"
           }
          ],
          "scattergeo": [
           {
            "marker": {
             "colorbar": {
              "outlinewidth": 0,
              "ticks": ""
             }
            },
            "type": "scattergeo"
           }
          ],
          "scattergl": [
           {
            "marker": {
             "colorbar": {
              "outlinewidth": 0,
              "ticks": ""
             }
            },
            "type": "scattergl"
           }
          ],
          "scattermapbox": [
           {
            "marker": {
             "colorbar": {
              "outlinewidth": 0,
              "ticks": ""
             }
            },
            "type": "scattermapbox"
           }
          ],
          "scatterpolar": [
           {
            "marker": {
             "colorbar": {
              "outlinewidth": 0,
              "ticks": ""
             }
            },
            "type": "scatterpolar"
           }
          ],
          "scatterpolargl": [
           {
            "marker": {
             "colorbar": {
              "outlinewidth": 0,
              "ticks": ""
             }
            },
            "type": "scatterpolargl"
           }
          ],
          "scatterternary": [
           {
            "marker": {
             "colorbar": {
              "outlinewidth": 0,
              "ticks": ""
             }
            },
            "type": "scatterternary"
           }
          ],
          "surface": [
           {
            "colorbar": {
             "outlinewidth": 0,
             "ticks": ""
            },
            "colorscale": [
             [
              0,
              "#0d0887"
             ],
             [
              0.1111111111111111,
              "#46039f"
             ],
             [
              0.2222222222222222,
              "#7201a8"
             ],
             [
              0.3333333333333333,
              "#9c179e"
             ],
             [
              0.4444444444444444,
              "#bd3786"
             ],
             [
              0.5555555555555556,
              "#d8576b"
             ],
             [
              0.6666666666666666,
              "#ed7953"
             ],
             [
              0.7777777777777778,
              "#fb9f3a"
             ],
             [
              0.8888888888888888,
              "#fdca26"
             ],
             [
              1,
              "#f0f921"
             ]
            ],
            "type": "surface"
           }
          ],
          "table": [
           {
            "cells": {
             "fill": {
              "color": "#EBF0F8"
             },
             "line": {
              "color": "white"
             }
            },
            "header": {
             "fill": {
              "color": "#C8D4E3"
             },
             "line": {
              "color": "white"
             }
            },
            "type": "table"
           }
          ]
         },
         "layout": {
          "annotationdefaults": {
           "arrowcolor": "#2a3f5f",
           "arrowhead": 0,
           "arrowwidth": 1
          },
          "autotypenumbers": "strict",
          "coloraxis": {
           "colorbar": {
            "outlinewidth": 0,
            "ticks": ""
           }
          },
          "colorscale": {
           "diverging": [
            [
             0,
             "#8e0152"
            ],
            [
             0.1,
             "#c51b7d"
            ],
            [
             0.2,
             "#de77ae"
            ],
            [
             0.3,
             "#f1b6da"
            ],
            [
             0.4,
             "#fde0ef"
            ],
            [
             0.5,
             "#f7f7f7"
            ],
            [
             0.6,
             "#e6f5d0"
            ],
            [
             0.7,
             "#b8e186"
            ],
            [
             0.8,
             "#7fbc41"
            ],
            [
             0.9,
             "#4d9221"
            ],
            [
             1,
             "#276419"
            ]
           ],
           "sequential": [
            [
             0,
             "#0d0887"
            ],
            [
             0.1111111111111111,
             "#46039f"
            ],
            [
             0.2222222222222222,
             "#7201a8"
            ],
            [
             0.3333333333333333,
             "#9c179e"
            ],
            [
             0.4444444444444444,
             "#bd3786"
            ],
            [
             0.5555555555555556,
             "#d8576b"
            ],
            [
             0.6666666666666666,
             "#ed7953"
            ],
            [
             0.7777777777777778,
             "#fb9f3a"
            ],
            [
             0.8888888888888888,
             "#fdca26"
            ],
            [
             1,
             "#f0f921"
            ]
           ],
           "sequentialminus": [
            [
             0,
             "#0d0887"
            ],
            [
             0.1111111111111111,
             "#46039f"
            ],
            [
             0.2222222222222222,
             "#7201a8"
            ],
            [
             0.3333333333333333,
             "#9c179e"
            ],
            [
             0.4444444444444444,
             "#bd3786"
            ],
            [
             0.5555555555555556,
             "#d8576b"
            ],
            [
             0.6666666666666666,
             "#ed7953"
            ],
            [
             0.7777777777777778,
             "#fb9f3a"
            ],
            [
             0.8888888888888888,
             "#fdca26"
            ],
            [
             1,
             "#f0f921"
            ]
           ]
          },
          "colorway": [
           "#636efa",
           "#EF553B",
           "#00cc96",
           "#ab63fa",
           "#FFA15A",
           "#19d3f3",
           "#FF6692",
           "#B6E880",
           "#FF97FF",
           "#FECB52"
          ],
          "font": {
           "color": "#2a3f5f"
          },
          "geo": {
           "bgcolor": "white",
           "lakecolor": "white",
           "landcolor": "#E5ECF6",
           "showlakes": true,
           "showland": true,
           "subunitcolor": "white"
          },
          "hoverlabel": {
           "align": "left"
          },
          "hovermode": "closest",
          "mapbox": {
           "style": "light"
          },
          "paper_bgcolor": "white",
          "plot_bgcolor": "#E5ECF6",
          "polar": {
           "angularaxis": {
            "gridcolor": "white",
            "linecolor": "white",
            "ticks": ""
           },
           "bgcolor": "#E5ECF6",
           "radialaxis": {
            "gridcolor": "white",
            "linecolor": "white",
            "ticks": ""
           }
          },
          "scene": {
           "xaxis": {
            "backgroundcolor": "#E5ECF6",
            "gridcolor": "white",
            "gridwidth": 2,
            "linecolor": "white",
            "showbackground": true,
            "ticks": "",
            "zerolinecolor": "white"
           },
           "yaxis": {
            "backgroundcolor": "#E5ECF6",
            "gridcolor": "white",
            "gridwidth": 2,
            "linecolor": "white",
            "showbackground": true,
            "ticks": "",
            "zerolinecolor": "white"
           },
           "zaxis": {
            "backgroundcolor": "#E5ECF6",
            "gridcolor": "white",
            "gridwidth": 2,
            "linecolor": "white",
            "showbackground": true,
            "ticks": "",
            "zerolinecolor": "white"
           }
          },
          "shapedefaults": {
           "line": {
            "color": "#2a3f5f"
           }
          },
          "ternary": {
           "aaxis": {
            "gridcolor": "white",
            "linecolor": "white",
            "ticks": ""
           },
           "baxis": {
            "gridcolor": "white",
            "linecolor": "white",
            "ticks": ""
           },
           "bgcolor": "#E5ECF6",
           "caxis": {
            "gridcolor": "white",
            "linecolor": "white",
            "ticks": ""
           }
          },
          "title": {
           "x": 0.05
          },
          "xaxis": {
           "automargin": true,
           "gridcolor": "white",
           "linecolor": "white",
           "ticks": "",
           "title": {
            "standoff": 15
           },
           "zerolinecolor": "white",
           "zerolinewidth": 2
          },
          "yaxis": {
           "automargin": true,
           "gridcolor": "white",
           "linecolor": "white",
           "ticks": "",
           "title": {
            "standoff": 15
           },
           "zerolinecolor": "white",
           "zerolinewidth": 2
          }
         }
        },
        "title": {
         "text": "🌡️  Temperature Info Map"
        },
        "width": 1280
       }
      }
     },
     "metadata": {},
     "output_type": "display_data"
    }
   ],
   "source": [
    "# TASK 5: Infograph\n",
    "infoMap.update_map()\n",
    "# --> Run this cell again to refresh map"
   ]
  },
  {
   "cell_type": "markdown",
   "id": "df2e640f",
   "metadata": {},
   "source": [
    "## Automatic sync Map\n",
    "This map should display the most recent forecast data available. It **automatically syncs** with Kafka to always display the latest forecasts.\n",
    "\n",
    "- Color corresponds to temperature\n",
    "- Hover over cities provides more information\n",
    "- Adjust date and time with the slider at the bottom"
   ]
  },
  {
   "cell_type": "code",
   "execution_count": 30,
   "id": "0e0e68db",
   "metadata": {},
   "outputs": [
    {
     "name": "stdout",
     "output_type": "stream",
     "text": [
      "... Map Synchronisation stopped!\n"
     ]
    }
   ],
   "source": [
    "# TASK 6: Infograph automated\n",
    "infoMap.synced_map()\n",
    "# --> KeyboardInterrupt to stop sync with Kafka"
   ]
  }
 ],
 "metadata": {
  "kernelspec": {
   "display_name": "Python 3.9.12 ('base')",
   "language": "python",
   "name": "python3"
  },
  "language_info": {
   "codemirror_mode": {
    "name": "ipython",
    "version": 3
   },
   "file_extension": ".py",
   "mimetype": "text/x-python",
   "name": "python",
   "nbconvert_exporter": "python",
   "pygments_lexer": "ipython3",
   "version": "3.9.12"
  },
  "vscode": {
   "interpreter": {
    "hash": "af6a7de25dd7bd9a9e288da6c3d15d5d500c51449326063643a18fc796b35585"
   }
  }
 },
 "nbformat": 4,
 "nbformat_minor": 5
}
