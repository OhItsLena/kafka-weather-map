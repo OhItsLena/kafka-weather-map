{
 "cells": [
  {
   "cell_type": "code",
   "execution_count": 6,
   "metadata": {},
   "outputs": [
    {
     "name": "stdout",
     "output_type": "stream",
     "text": [
      "The autoreload extension is already loaded. To reload it, use:\n",
      "  %reload_ext autoreload\n"
     ]
    }
   ],
   "source": [
    "#https://ipython.readthedocs.io/en/stable/config/extensions/autoreload.html?highlight=autoreload\n",
    "%load_ext autoreload\n",
    "%autoreload 2\n",
    "\n",
    "from InfoMap import InfoMap"
   ]
  },
  {
   "cell_type": "code",
   "execution_count": 7,
   "metadata": {
    "tags": []
   },
   "outputs": [],
   "source": [
    "infoMap = InfoMap()"
   ]
  },
  {
   "cell_type": "code",
   "execution_count": 10,
   "id": "1a3478bd",
   "metadata": {},
   "outputs": [
    {
     "data": {
      "application/vnd.plotly.v1+json": {
       "config": {
        "plotlyServerURL": "https://plot.ly"
       },
       "data": [
        {
         "customdata": [
          [
           20.74,
           "😊   INFO: <br>enjoy your day!"
          ],
          [
           21.73,
           "😊   INFO: <br>enjoy your day!"
          ]
         ],
         "hovertemplate": "<b>%{text} </b><br>Temperature: %{customdata[0]} °C<br><extra><i>%{customdata[1]}</i></extra>",
         "ids": [
          "Bregenz",
          "Ravensburg"
         ],
         "lat": [
          47.5025779,
          47.7811014
         ],
         "legendgroup": "",
         "lon": [
          9.7472924,
          9.612468
         ],
         "marker": {
          "color": [
           20.74,
           21.73
          ],
          "coloraxis": "coloraxis",
          "opacity": 0.75,
          "size": 20
         },
         "mode": "markers+text",
         "name": "",
         "showlegend": false,
         "subplot": "mapbox",
         "text": [
          "Bregenz",
          "Ravensburg"
         ],
         "type": "scattermapbox"
        }
       ],
       "frames": [
        {
         "data": [
          {
           "customdata": [
            [
             20.74,
             "😊   INFO: <br>enjoy your day!"
            ],
            [
             21.73,
             "😊   INFO: <br>enjoy your day!"
            ]
           ],
           "hovertemplate": "<b>%{text} </b><br>Temperature: %{customdata[0]} °C<br><extra><i>%{customdata[1]}</i></extra>",
           "ids": [
            "Bregenz",
            "Ravensburg"
           ],
           "lat": [
            47.5025779,
            47.7811014
           ],
           "legendgroup": "",
           "lon": [
            9.7472924,
            9.612468
           ],
           "marker": {
            "color": [
             20.74,
             21.73
            ],
            "coloraxis": "coloraxis"
           },
           "mode": "markers+text",
           "name": "",
           "showlegend": false,
           "subplot": "mapbox",
           "text": [
            "Bregenz",
            "Ravensburg"
           ],
           "type": "scattermapbox"
          }
         ],
         "name": "2022-08-24 21:00:00"
        },
        {
         "data": [
          {
           "customdata": [
            [
             18.94,
             "😕   INFO: <br>bring a jacket!"
            ],
            [
             19.36,
             "😕   INFO: <br>bring a jacket!"
            ]
           ],
           "hovertemplate": "<b>%{text} </b><br>Temperature: %{customdata[0]} °C<br><extra><i>%{customdata[1]}</i></extra>",
           "ids": [
            "Bregenz",
            "Ravensburg"
           ],
           "lat": [
            47.5025779,
            47.7811014
           ],
           "legendgroup": "",
           "lon": [
            9.7472924,
            9.612468
           ],
           "marker": {
            "color": [
             18.94,
             19.36
            ],
            "coloraxis": "coloraxis"
           },
           "mode": "markers+text",
           "name": "",
           "showlegend": false,
           "subplot": "mapbox",
           "text": [
            "Bregenz",
            "Ravensburg"
           ],
           "type": "scattermapbox"
          }
         ],
         "name": "2022-08-25 00:00:00"
        },
        {
         "data": [
          {
           "customdata": [
            [
             16.38,
             "😕   INFO: <br>bring a jacket!"
            ],
            [
             16.13,
             "😕   INFO: <br>bring a jacket!"
            ]
           ],
           "hovertemplate": "<b>%{text} </b><br>Temperature: %{customdata[0]} °C<br><extra><i>%{customdata[1]}</i></extra>",
           "ids": [
            "Bregenz",
            "Ravensburg"
           ],
           "lat": [
            47.5025779,
            47.7811014
           ],
           "legendgroup": "",
           "lon": [
            9.7472924,
            9.612468
           ],
           "marker": {
            "color": [
             16.38,
             16.13
            ],
            "coloraxis": "coloraxis"
           },
           "mode": "markers+text",
           "name": "",
           "showlegend": false,
           "subplot": "mapbox",
           "text": [
            "Bregenz",
            "Ravensburg"
           ],
           "type": "scattermapbox"
          }
         ],
         "name": "2022-08-25 03:00:00"
        },
        {
         "data": [
          {
           "customdata": [
            [
             16.26,
             "😕   INFO: <br>bring a jacket!"
            ],
            [
             15.05,
             "😕   INFO: <br>bring a jacket!"
            ]
           ],
           "hovertemplate": "<b>%{text} </b><br>Temperature: %{customdata[0]} °C<br><extra><i>%{customdata[1]}</i></extra>",
           "ids": [
            "Bregenz",
            "Ravensburg"
           ],
           "lat": [
            47.5025779,
            47.7811014
           ],
           "legendgroup": "",
           "lon": [
            9.7472924,
            9.612468
           ],
           "marker": {
            "color": [
             16.26,
             15.05
            ],
            "coloraxis": "coloraxis"
           },
           "mode": "markers+text",
           "name": "",
           "showlegend": false,
           "subplot": "mapbox",
           "text": [
            "Bregenz",
            "Ravensburg"
           ],
           "type": "scattermapbox"
          }
         ],
         "name": "2022-08-25 06:00:00"
        },
        {
         "data": [
          {
           "customdata": [
            [
             21.94,
             "😊   INFO: <br>enjoy your day!"
            ],
            [
             22.05,
             "😊   INFO: <br>enjoy your day!"
            ]
           ],
           "hovertemplate": "<b>%{text} </b><br>Temperature: %{customdata[0]} °C<br><extra><i>%{customdata[1]}</i></extra>",
           "ids": [
            "Bregenz",
            "Ravensburg"
           ],
           "lat": [
            47.5025779,
            47.7811014
           ],
           "legendgroup": "",
           "lon": [
            9.7472924,
            9.612468
           ],
           "marker": {
            "color": [
             21.94,
             22.05
            ],
            "coloraxis": "coloraxis"
           },
           "mode": "markers+text",
           "name": "",
           "showlegend": false,
           "subplot": "mapbox",
           "text": [
            "Bregenz",
            "Ravensburg"
           ],
           "type": "scattermapbox"
          }
         ],
         "name": "2022-08-25 09:00:00"
        },
        {
         "data": [
          {
           "customdata": [
            [
             24.86,
             "😊   INFO: <br>enjoy your day!"
            ],
            [
             25.86,
             "😰   CAUTION: <br>warm temperatures!"
            ]
           ],
           "hovertemplate": "<b>%{text} </b><br>Temperature: %{customdata[0]} °C<br><extra><i>%{customdata[1]}</i></extra>",
           "ids": [
            "Bregenz",
            "Ravensburg"
           ],
           "lat": [
            47.5025779,
            47.7811014
           ],
           "legendgroup": "",
           "lon": [
            9.7472924,
            9.612468
           ],
           "marker": {
            "color": [
             24.86,
             25.86
            ],
            "coloraxis": "coloraxis"
           },
           "mode": "markers+text",
           "name": "",
           "showlegend": false,
           "subplot": "mapbox",
           "text": [
            "Bregenz",
            "Ravensburg"
           ],
           "type": "scattermapbox"
          }
         ],
         "name": "2022-08-25 12:00:00"
        },
        {
         "data": [
          {
           "customdata": [
            [
             25.09,
             "😰   CAUTION: <br>warm temperatures!"
            ],
            [
             25.65,
             "😰   CAUTION: <br>warm temperatures!"
            ]
           ],
           "hovertemplate": "<b>%{text} </b><br>Temperature: %{customdata[0]} °C<br><extra><i>%{customdata[1]}</i></extra>",
           "ids": [
            "Bregenz",
            "Ravensburg"
           ],
           "lat": [
            47.5025779,
            47.7811014
           ],
           "legendgroup": "",
           "lon": [
            9.7472924,
            9.612468
           ],
           "marker": {
            "color": [
             25.09,
             25.65
            ],
            "coloraxis": "coloraxis"
           },
           "mode": "markers+text",
           "name": "",
           "showlegend": false,
           "subplot": "mapbox",
           "text": [
            "Bregenz",
            "Ravensburg"
           ],
           "type": "scattermapbox"
          }
         ],
         "name": "2022-08-25 15:00:00"
        },
        {
         "data": [
          {
           "customdata": [
            [
             20.42,
             "😊   INFO: <br>enjoy your day!"
            ],
            [
             19.97,
             "😕   INFO: <br>bring a jacket!"
            ]
           ],
           "hovertemplate": "<b>%{text} </b><br>Temperature: %{customdata[0]} °C<br><extra><i>%{customdata[1]}</i></extra>",
           "ids": [
            "Bregenz",
            "Ravensburg"
           ],
           "lat": [
            47.5025779,
            47.7811014
           ],
           "legendgroup": "",
           "lon": [
            9.7472924,
            9.612468
           ],
           "marker": {
            "color": [
             20.42,
             19.97
            ],
            "coloraxis": "coloraxis"
           },
           "mode": "markers+text",
           "name": "",
           "showlegend": false,
           "subplot": "mapbox",
           "text": [
            "Bregenz",
            "Ravensburg"
           ],
           "type": "scattermapbox"
          }
         ],
         "name": "2022-08-25 18:00:00"
        },
        {
         "data": [
          {
           "customdata": [
            [
             17.96,
             "😕   INFO: <br>bring a jacket!"
            ],
            [
             17.27,
             "😕   INFO: <br>bring a jacket!"
            ]
           ],
           "hovertemplate": "<b>%{text} </b><br>Temperature: %{customdata[0]} °C<br><extra><i>%{customdata[1]}</i></extra>",
           "ids": [
            "Bregenz",
            "Ravensburg"
           ],
           "lat": [
            47.5025779,
            47.7811014
           ],
           "legendgroup": "",
           "lon": [
            9.7472924,
            9.612468
           ],
           "marker": {
            "color": [
             17.96,
             17.27
            ],
            "coloraxis": "coloraxis"
           },
           "mode": "markers+text",
           "name": "",
           "showlegend": false,
           "subplot": "mapbox",
           "text": [
            "Bregenz",
            "Ravensburg"
           ],
           "type": "scattermapbox"
          }
         ],
         "name": "2022-08-25 21:00:00"
        },
        {
         "data": [
          {
           "customdata": [
            [
             17.21,
             "😕   INFO: <br>bring a jacket!"
            ],
            [
             16.06,
             "😕   INFO: <br>bring a jacket!"
            ]
           ],
           "hovertemplate": "<b>%{text} </b><br>Temperature: %{customdata[0]} °C<br><extra><i>%{customdata[1]}</i></extra>",
           "ids": [
            "Bregenz",
            "Ravensburg"
           ],
           "lat": [
            47.5025779,
            47.7811014
           ],
           "legendgroup": "",
           "lon": [
            9.7472924,
            9.612468
           ],
           "marker": {
            "color": [
             17.21,
             16.06
            ],
            "coloraxis": "coloraxis"
           },
           "mode": "markers+text",
           "name": "",
           "showlegend": false,
           "subplot": "mapbox",
           "text": [
            "Bregenz",
            "Ravensburg"
           ],
           "type": "scattermapbox"
          }
         ],
         "name": "2022-08-26 00:00:00"
        },
        {
         "data": [
          {
           "customdata": [
            [
             16.24,
             "😕   INFO: <br>bring a jacket!"
            ],
            [
             15.06,
             "😕   INFO: <br>bring a jacket!"
            ]
           ],
           "hovertemplate": "<b>%{text} </b><br>Temperature: %{customdata[0]} °C<br><extra><i>%{customdata[1]}</i></extra>",
           "ids": [
            "Bregenz",
            "Ravensburg"
           ],
           "lat": [
            47.5025779,
            47.7811014
           ],
           "legendgroup": "",
           "lon": [
            9.7472924,
            9.612468
           ],
           "marker": {
            "color": [
             16.24,
             15.06
            ],
            "coloraxis": "coloraxis"
           },
           "mode": "markers+text",
           "name": "",
           "showlegend": false,
           "subplot": "mapbox",
           "text": [
            "Bregenz",
            "Ravensburg"
           ],
           "type": "scattermapbox"
          }
         ],
         "name": "2022-08-26 03:00:00"
        },
        {
         "data": [
          {
           "customdata": [
            [
             18.17,
             "😕   INFO: <br>bring a jacket!"
            ],
            [
             16.93,
             "😕   INFO: <br>bring a jacket!"
            ]
           ],
           "hovertemplate": "<b>%{text} </b><br>Temperature: %{customdata[0]} °C<br><extra><i>%{customdata[1]}</i></extra>",
           "ids": [
            "Bregenz",
            "Ravensburg"
           ],
           "lat": [
            47.5025779,
            47.7811014
           ],
           "legendgroup": "",
           "lon": [
            9.7472924,
            9.612468
           ],
           "marker": {
            "color": [
             18.17,
             16.93
            ],
            "coloraxis": "coloraxis"
           },
           "mode": "markers+text",
           "name": "",
           "showlegend": false,
           "subplot": "mapbox",
           "text": [
            "Bregenz",
            "Ravensburg"
           ],
           "type": "scattermapbox"
          }
         ],
         "name": "2022-08-26 06:00:00"
        },
        {
         "data": [
          {
           "customdata": [
            [
             23.9,
             "😊   INFO: <br>enjoy your day!"
            ],
            [
             23.51,
             "😊   INFO: <br>enjoy your day!"
            ]
           ],
           "hovertemplate": "<b>%{text} </b><br>Temperature: %{customdata[0]} °C<br><extra><i>%{customdata[1]}</i></extra>",
           "ids": [
            "Bregenz",
            "Ravensburg"
           ],
           "lat": [
            47.5025779,
            47.7811014
           ],
           "legendgroup": "",
           "lon": [
            9.7472924,
            9.612468
           ],
           "marker": {
            "color": [
             23.9,
             23.51
            ],
            "coloraxis": "coloraxis"
           },
           "mode": "markers+text",
           "name": "",
           "showlegend": false,
           "subplot": "mapbox",
           "text": [
            "Bregenz",
            "Ravensburg"
           ],
           "type": "scattermapbox"
          }
         ],
         "name": "2022-08-26 09:00:00"
        },
        {
         "data": [
          {
           "customdata": [
            [
             25.76,
             "😰   CAUTION: <br>warm temperatures!"
            ],
            [
             26.61,
             "😰   CAUTION: <br>warm temperatures!"
            ]
           ],
           "hovertemplate": "<b>%{text} </b><br>Temperature: %{customdata[0]} °C<br><extra><i>%{customdata[1]}</i></extra>",
           "ids": [
            "Bregenz",
            "Ravensburg"
           ],
           "lat": [
            47.5025779,
            47.7811014
           ],
           "legendgroup": "",
           "lon": [
            9.7472924,
            9.612468
           ],
           "marker": {
            "color": [
             25.76,
             26.61
            ],
            "coloraxis": "coloraxis"
           },
           "mode": "markers+text",
           "name": "",
           "showlegend": false,
           "subplot": "mapbox",
           "text": [
            "Bregenz",
            "Ravensburg"
           ],
           "type": "scattermapbox"
          }
         ],
         "name": "2022-08-26 12:00:00"
        },
        {
         "data": [
          {
           "customdata": [
            [
             26.59,
             "😰   CAUTION: <br>warm temperatures!"
            ],
            [
             23.76,
             "😊   INFO: <br>enjoy your day!"
            ]
           ],
           "hovertemplate": "<b>%{text} </b><br>Temperature: %{customdata[0]} °C<br><extra><i>%{customdata[1]}</i></extra>",
           "ids": [
            "Bregenz",
            "Ravensburg"
           ],
           "lat": [
            47.5025779,
            47.7811014
           ],
           "legendgroup": "",
           "lon": [
            9.7472924,
            9.612468
           ],
           "marker": {
            "color": [
             26.59,
             23.76
            ],
            "coloraxis": "coloraxis"
           },
           "mode": "markers+text",
           "name": "",
           "showlegend": false,
           "subplot": "mapbox",
           "text": [
            "Bregenz",
            "Ravensburg"
           ],
           "type": "scattermapbox"
          }
         ],
         "name": "2022-08-26 15:00:00"
        },
        {
         "data": [
          {
           "customdata": [
            [
             17.8,
             "😕   INFO: <br>bring a jacket!"
            ],
            [
             16.9,
             "😕   INFO: <br>bring a jacket!"
            ]
           ],
           "hovertemplate": "<b>%{text} </b><br>Temperature: %{customdata[0]} °C<br><extra><i>%{customdata[1]}</i></extra>",
           "ids": [
            "Bregenz",
            "Ravensburg"
           ],
           "lat": [
            47.5025779,
            47.7811014
           ],
           "legendgroup": "",
           "lon": [
            9.7472924,
            9.612468
           ],
           "marker": {
            "color": [
             17.8,
             16.9
            ],
            "coloraxis": "coloraxis"
           },
           "mode": "markers+text",
           "name": "",
           "showlegend": false,
           "subplot": "mapbox",
           "text": [
            "Bregenz",
            "Ravensburg"
           ],
           "type": "scattermapbox"
          }
         ],
         "name": "2022-08-26 18:00:00"
        },
        {
         "data": [
          {
           "customdata": [
            [
             17.11,
             "😕   INFO: <br>bring a jacket!"
            ],
            [
             15.14,
             "😕   INFO: <br>bring a jacket!"
            ]
           ],
           "hovertemplate": "<b>%{text} </b><br>Temperature: %{customdata[0]} °C<br><extra><i>%{customdata[1]}</i></extra>",
           "ids": [
            "Bregenz",
            "Ravensburg"
           ],
           "lat": [
            47.5025779,
            47.7811014
           ],
           "legendgroup": "",
           "lon": [
            9.7472924,
            9.612468
           ],
           "marker": {
            "color": [
             17.11,
             15.14
            ],
            "coloraxis": "coloraxis"
           },
           "mode": "markers+text",
           "name": "",
           "showlegend": false,
           "subplot": "mapbox",
           "text": [
            "Bregenz",
            "Ravensburg"
           ],
           "type": "scattermapbox"
          }
         ],
         "name": "2022-08-26 21:00:00"
        },
        {
         "data": [
          {
           "customdata": [
            [
             16.27,
             "😕   INFO: <br>bring a jacket!"
            ],
            [
             14.96,
             "😕   INFO: <br>bring a jacket!"
            ]
           ],
           "hovertemplate": "<b>%{text} </b><br>Temperature: %{customdata[0]} °C<br><extra><i>%{customdata[1]}</i></extra>",
           "ids": [
            "Bregenz",
            "Ravensburg"
           ],
           "lat": [
            47.5025779,
            47.7811014
           ],
           "legendgroup": "",
           "lon": [
            9.7472924,
            9.612468
           ],
           "marker": {
            "color": [
             16.27,
             14.96
            ],
            "coloraxis": "coloraxis"
           },
           "mode": "markers+text",
           "name": "",
           "showlegend": false,
           "subplot": "mapbox",
           "text": [
            "Bregenz",
            "Ravensburg"
           ],
           "type": "scattermapbox"
          }
         ],
         "name": "2022-08-27 00:00:00"
        },
        {
         "data": [
          {
           "customdata": [
            [
             16.59,
             "😕   INFO: <br>bring a jacket!"
            ],
            [
             15.21,
             "😕   INFO: <br>bring a jacket!"
            ]
           ],
           "hovertemplate": "<b>%{text} </b><br>Temperature: %{customdata[0]} °C<br><extra><i>%{customdata[1]}</i></extra>",
           "ids": [
            "Bregenz",
            "Ravensburg"
           ],
           "lat": [
            47.5025779,
            47.7811014
           ],
           "legendgroup": "",
           "lon": [
            9.7472924,
            9.612468
           ],
           "marker": {
            "color": [
             16.59,
             15.21
            ],
            "coloraxis": "coloraxis"
           },
           "mode": "markers+text",
           "name": "",
           "showlegend": false,
           "subplot": "mapbox",
           "text": [
            "Bregenz",
            "Ravensburg"
           ],
           "type": "scattermapbox"
          }
         ],
         "name": "2022-08-27 03:00:00"
        },
        {
         "data": [
          {
           "customdata": [
            [
             17.73,
             "😕   INFO: <br>bring a jacket!"
            ],
            [
             16.31,
             "😕   INFO: <br>bring a jacket!"
            ]
           ],
           "hovertemplate": "<b>%{text} </b><br>Temperature: %{customdata[0]} °C<br><extra><i>%{customdata[1]}</i></extra>",
           "ids": [
            "Bregenz",
            "Ravensburg"
           ],
           "lat": [
            47.5025779,
            47.7811014
           ],
           "legendgroup": "",
           "lon": [
            9.7472924,
            9.612468
           ],
           "marker": {
            "color": [
             17.73,
             16.31
            ],
            "coloraxis": "coloraxis"
           },
           "mode": "markers+text",
           "name": "",
           "showlegend": false,
           "subplot": "mapbox",
           "text": [
            "Bregenz",
            "Ravensburg"
           ],
           "type": "scattermapbox"
          }
         ],
         "name": "2022-08-27 06:00:00"
        },
        {
         "data": [
          {
           "customdata": [
            [
             22.52,
             "😊   INFO: <br>enjoy your day!"
            ],
            [
             21.86,
             "😊   INFO: <br>enjoy your day!"
            ]
           ],
           "hovertemplate": "<b>%{text} </b><br>Temperature: %{customdata[0]} °C<br><extra><i>%{customdata[1]}</i></extra>",
           "ids": [
            "Bregenz",
            "Ravensburg"
           ],
           "lat": [
            47.5025779,
            47.7811014
           ],
           "legendgroup": "",
           "lon": [
            9.7472924,
            9.612468
           ],
           "marker": {
            "color": [
             22.52,
             21.86
            ],
            "coloraxis": "coloraxis"
           },
           "mode": "markers+text",
           "name": "",
           "showlegend": false,
           "subplot": "mapbox",
           "text": [
            "Bregenz",
            "Ravensburg"
           ],
           "type": "scattermapbox"
          }
         ],
         "name": "2022-08-27 09:00:00"
        },
        {
         "data": [
          {
           "customdata": [
            [
             24.72,
             "😊   INFO: <br>enjoy your day!"
            ],
            [
             24.61,
             "😊   INFO: <br>enjoy your day!"
            ]
           ],
           "hovertemplate": "<b>%{text} </b><br>Temperature: %{customdata[0]} °C<br><extra><i>%{customdata[1]}</i></extra>",
           "ids": [
            "Bregenz",
            "Ravensburg"
           ],
           "lat": [
            47.5025779,
            47.7811014
           ],
           "legendgroup": "",
           "lon": [
            9.7472924,
            9.612468
           ],
           "marker": {
            "color": [
             24.72,
             24.61
            ],
            "coloraxis": "coloraxis"
           },
           "mode": "markers+text",
           "name": "",
           "showlegend": false,
           "subplot": "mapbox",
           "text": [
            "Bregenz",
            "Ravensburg"
           ],
           "type": "scattermapbox"
          }
         ],
         "name": "2022-08-27 12:00:00"
        },
        {
         "data": [
          {
           "customdata": [
            [
             22.84,
             "😊   INFO: <br>enjoy your day!"
            ],
            [
             22.1,
             "😊   INFO: <br>enjoy your day!"
            ]
           ],
           "hovertemplate": "<b>%{text} </b><br>Temperature: %{customdata[0]} °C<br><extra><i>%{customdata[1]}</i></extra>",
           "ids": [
            "Bregenz",
            "Ravensburg"
           ],
           "lat": [
            47.5025779,
            47.7811014
           ],
           "legendgroup": "",
           "lon": [
            9.7472924,
            9.612468
           ],
           "marker": {
            "color": [
             22.84,
             22.1
            ],
            "coloraxis": "coloraxis"
           },
           "mode": "markers+text",
           "name": "",
           "showlegend": false,
           "subplot": "mapbox",
           "text": [
            "Bregenz",
            "Ravensburg"
           ],
           "type": "scattermapbox"
          }
         ],
         "name": "2022-08-27 15:00:00"
        },
        {
         "data": [
          {
           "customdata": [
            [
             19.28,
             "😕   INFO: <br>bring a jacket!"
            ],
            [
             17.93,
             "😕   INFO: <br>bring a jacket!"
            ]
           ],
           "hovertemplate": "<b>%{text} </b><br>Temperature: %{customdata[0]} °C<br><extra><i>%{customdata[1]}</i></extra>",
           "ids": [
            "Bregenz",
            "Ravensburg"
           ],
           "lat": [
            47.5025779,
            47.7811014
           ],
           "legendgroup": "",
           "lon": [
            9.7472924,
            9.612468
           ],
           "marker": {
            "color": [
             19.28,
             17.93
            ],
            "coloraxis": "coloraxis"
           },
           "mode": "markers+text",
           "name": "",
           "showlegend": false,
           "subplot": "mapbox",
           "text": [
            "Bregenz",
            "Ravensburg"
           ],
           "type": "scattermapbox"
          }
         ],
         "name": "2022-08-27 18:00:00"
        },
        {
         "data": [
          {
           "customdata": [
            [
             16.86,
             "😕   INFO: <br>bring a jacket!"
            ],
            [
             16.19,
             "😕   INFO: <br>bring a jacket!"
            ]
           ],
           "hovertemplate": "<b>%{text} </b><br>Temperature: %{customdata[0]} °C<br><extra><i>%{customdata[1]}</i></extra>",
           "ids": [
            "Bregenz",
            "Ravensburg"
           ],
           "lat": [
            47.5025779,
            47.7811014
           ],
           "legendgroup": "",
           "lon": [
            9.7472924,
            9.612468
           ],
           "marker": {
            "color": [
             16.86,
             16.19
            ],
            "coloraxis": "coloraxis"
           },
           "mode": "markers+text",
           "name": "",
           "showlegend": false,
           "subplot": "mapbox",
           "text": [
            "Bregenz",
            "Ravensburg"
           ],
           "type": "scattermapbox"
          }
         ],
         "name": "2022-08-27 21:00:00"
        },
        {
         "data": [
          {
           "customdata": [
            [
             16.04,
             "😕   INFO: <br>bring a jacket!"
            ],
            [
             15.1,
             "😕   INFO: <br>bring a jacket!"
            ]
           ],
           "hovertemplate": "<b>%{text} </b><br>Temperature: %{customdata[0]} °C<br><extra><i>%{customdata[1]}</i></extra>",
           "ids": [
            "Bregenz",
            "Ravensburg"
           ],
           "lat": [
            47.5025779,
            47.7811014
           ],
           "legendgroup": "",
           "lon": [
            9.7472924,
            9.612468
           ],
           "marker": {
            "color": [
             16.04,
             15.1
            ],
            "coloraxis": "coloraxis"
           },
           "mode": "markers+text",
           "name": "",
           "showlegend": false,
           "subplot": "mapbox",
           "text": [
            "Bregenz",
            "Ravensburg"
           ],
           "type": "scattermapbox"
          }
         ],
         "name": "2022-08-28 00:00:00"
        },
        {
         "data": [
          {
           "customdata": [
            [
             15.26,
             "😕   INFO: <br>bring a jacket!"
            ],
            [
             14.29,
             "😕   INFO: <br>bring a jacket!"
            ]
           ],
           "hovertemplate": "<b>%{text} </b><br>Temperature: %{customdata[0]} °C<br><extra><i>%{customdata[1]}</i></extra>",
           "ids": [
            "Bregenz",
            "Ravensburg"
           ],
           "lat": [
            47.5025779,
            47.7811014
           ],
           "legendgroup": "",
           "lon": [
            9.7472924,
            9.612468
           ],
           "marker": {
            "color": [
             15.26,
             14.29
            ],
            "coloraxis": "coloraxis"
           },
           "mode": "markers+text",
           "name": "",
           "showlegend": false,
           "subplot": "mapbox",
           "text": [
            "Bregenz",
            "Ravensburg"
           ],
           "type": "scattermapbox"
          }
         ],
         "name": "2022-08-28 03:00:00"
        },
        {
         "data": [
          {
           "customdata": [
            [
             16.36,
             "😕   INFO: <br>bring a jacket!"
            ],
            [
             15.63,
             "😕   INFO: <br>bring a jacket!"
            ]
           ],
           "hovertemplate": "<b>%{text} </b><br>Temperature: %{customdata[0]} °C<br><extra><i>%{customdata[1]}</i></extra>",
           "ids": [
            "Bregenz",
            "Ravensburg"
           ],
           "lat": [
            47.5025779,
            47.7811014
           ],
           "legendgroup": "",
           "lon": [
            9.7472924,
            9.612468
           ],
           "marker": {
            "color": [
             16.36,
             15.63
            ],
            "coloraxis": "coloraxis"
           },
           "mode": "markers+text",
           "name": "",
           "showlegend": false,
           "subplot": "mapbox",
           "text": [
            "Bregenz",
            "Ravensburg"
           ],
           "type": "scattermapbox"
          }
         ],
         "name": "2022-08-28 06:00:00"
        },
        {
         "data": [
          {
           "customdata": [
            [
             21.26,
             "😊   INFO: <br>enjoy your day!"
            ],
            [
             21.39,
             "😊   INFO: <br>enjoy your day!"
            ]
           ],
           "hovertemplate": "<b>%{text} </b><br>Temperature: %{customdata[0]} °C<br><extra><i>%{customdata[1]}</i></extra>",
           "ids": [
            "Bregenz",
            "Ravensburg"
           ],
           "lat": [
            47.5025779,
            47.7811014
           ],
           "legendgroup": "",
           "lon": [
            9.7472924,
            9.612468
           ],
           "marker": {
            "color": [
             21.26,
             21.39
            ],
            "coloraxis": "coloraxis"
           },
           "mode": "markers+text",
           "name": "",
           "showlegend": false,
           "subplot": "mapbox",
           "text": [
            "Bregenz",
            "Ravensburg"
           ],
           "type": "scattermapbox"
          }
         ],
         "name": "2022-08-28 09:00:00"
        },
        {
         "data": [
          {
           "customdata": [
            [
             24.33,
             "😊   INFO: <br>enjoy your day!"
            ],
            [
             24.16,
             "😊   INFO: <br>enjoy your day!"
            ]
           ],
           "hovertemplate": "<b>%{text} </b><br>Temperature: %{customdata[0]} °C<br><extra><i>%{customdata[1]}</i></extra>",
           "ids": [
            "Bregenz",
            "Ravensburg"
           ],
           "lat": [
            47.5025779,
            47.7811014
           ],
           "legendgroup": "",
           "lon": [
            9.7472924,
            9.612468
           ],
           "marker": {
            "color": [
             24.33,
             24.16
            ],
            "coloraxis": "coloraxis"
           },
           "mode": "markers+text",
           "name": "",
           "showlegend": false,
           "subplot": "mapbox",
           "text": [
            "Bregenz",
            "Ravensburg"
           ],
           "type": "scattermapbox"
          }
         ],
         "name": "2022-08-28 12:00:00"
        },
        {
         "data": [
          {
           "customdata": [
            [
             24.35,
             "😊   INFO: <br>enjoy your day!"
            ],
            [
             23.51,
             "😊   INFO: <br>enjoy your day!"
            ]
           ],
           "hovertemplate": "<b>%{text} </b><br>Temperature: %{customdata[0]} °C<br><extra><i>%{customdata[1]}</i></extra>",
           "ids": [
            "Bregenz",
            "Ravensburg"
           ],
           "lat": [
            47.5025779,
            47.7811014
           ],
           "legendgroup": "",
           "lon": [
            9.7472924,
            9.612468
           ],
           "marker": {
            "color": [
             24.35,
             23.51
            ],
            "coloraxis": "coloraxis"
           },
           "mode": "markers+text",
           "name": "",
           "showlegend": false,
           "subplot": "mapbox",
           "text": [
            "Bregenz",
            "Ravensburg"
           ],
           "type": "scattermapbox"
          }
         ],
         "name": "2022-08-28 15:00:00"
        },
        {
         "data": [
          {
           "customdata": [
            [
             19.36,
             "😕   INFO: <br>bring a jacket!"
            ],
            [
             18.31,
             "😕   INFO: <br>bring a jacket!"
            ]
           ],
           "hovertemplate": "<b>%{text} </b><br>Temperature: %{customdata[0]} °C<br><extra><i>%{customdata[1]}</i></extra>",
           "ids": [
            "Bregenz",
            "Ravensburg"
           ],
           "lat": [
            47.5025779,
            47.7811014
           ],
           "legendgroup": "",
           "lon": [
            9.7472924,
            9.612468
           ],
           "marker": {
            "color": [
             19.36,
             18.31
            ],
            "coloraxis": "coloraxis"
           },
           "mode": "markers+text",
           "name": "",
           "showlegend": false,
           "subplot": "mapbox",
           "text": [
            "Bregenz",
            "Ravensburg"
           ],
           "type": "scattermapbox"
          }
         ],
         "name": "2022-08-28 18:00:00"
        },
        {
         "data": [
          {
           "customdata": [
            [
             17.24,
             "😕   INFO: <br>bring a jacket!"
            ],
            [
             16.14,
             "😕   INFO: <br>bring a jacket!"
            ]
           ],
           "hovertemplate": "<b>%{text} </b><br>Temperature: %{customdata[0]} °C<br><extra><i>%{customdata[1]}</i></extra>",
           "ids": [
            "Bregenz",
            "Ravensburg"
           ],
           "lat": [
            47.5025779,
            47.7811014
           ],
           "legendgroup": "",
           "lon": [
            9.7472924,
            9.612468
           ],
           "marker": {
            "color": [
             17.24,
             16.14
            ],
            "coloraxis": "coloraxis"
           },
           "mode": "markers+text",
           "name": "",
           "showlegend": false,
           "subplot": "mapbox",
           "text": [
            "Bregenz",
            "Ravensburg"
           ],
           "type": "scattermapbox"
          }
         ],
         "name": "2022-08-28 21:00:00"
        },
        {
         "data": [
          {
           "customdata": [
            [
             16.06,
             "😕   INFO: <br>bring a jacket!"
            ],
            [
             15.09,
             "😕   INFO: <br>bring a jacket!"
            ]
           ],
           "hovertemplate": "<b>%{text} </b><br>Temperature: %{customdata[0]} °C<br><extra><i>%{customdata[1]}</i></extra>",
           "ids": [
            "Bregenz",
            "Ravensburg"
           ],
           "lat": [
            47.5025779,
            47.7811014
           ],
           "legendgroup": "",
           "lon": [
            9.7472924,
            9.612468
           ],
           "marker": {
            "color": [
             16.06,
             15.09
            ],
            "coloraxis": "coloraxis"
           },
           "mode": "markers+text",
           "name": "",
           "showlegend": false,
           "subplot": "mapbox",
           "text": [
            "Bregenz",
            "Ravensburg"
           ],
           "type": "scattermapbox"
          }
         ],
         "name": "2022-08-29 00:00:00"
        },
        {
         "data": [
          {
           "customdata": [
            [
             14.97,
             "😕   INFO: <br>bring a jacket!"
            ],
            [
             14.38,
             "😕   INFO: <br>bring a jacket!"
            ]
           ],
           "hovertemplate": "<b>%{text} </b><br>Temperature: %{customdata[0]} °C<br><extra><i>%{customdata[1]}</i></extra>",
           "ids": [
            "Bregenz",
            "Ravensburg"
           ],
           "lat": [
            47.5025779,
            47.7811014
           ],
           "legendgroup": "",
           "lon": [
            9.7472924,
            9.612468
           ],
           "marker": {
            "color": [
             14.97,
             14.38
            ],
            "coloraxis": "coloraxis"
           },
           "mode": "markers+text",
           "name": "",
           "showlegend": false,
           "subplot": "mapbox",
           "text": [
            "Bregenz",
            "Ravensburg"
           ],
           "type": "scattermapbox"
          }
         ],
         "name": "2022-08-29 03:00:00"
        },
        {
         "data": [
          {
           "customdata": [
            [
             16.21,
             "😕   INFO: <br>bring a jacket!"
            ],
            [
             15.93,
             "😕   INFO: <br>bring a jacket!"
            ]
           ],
           "hovertemplate": "<b>%{text} </b><br>Temperature: %{customdata[0]} °C<br><extra><i>%{customdata[1]}</i></extra>",
           "ids": [
            "Bregenz",
            "Ravensburg"
           ],
           "lat": [
            47.5025779,
            47.7811014
           ],
           "legendgroup": "",
           "lon": [
            9.7472924,
            9.612468
           ],
           "marker": {
            "color": [
             16.21,
             15.93
            ],
            "coloraxis": "coloraxis"
           },
           "mode": "markers+text",
           "name": "",
           "showlegend": false,
           "subplot": "mapbox",
           "text": [
            "Bregenz",
            "Ravensburg"
           ],
           "type": "scattermapbox"
          }
         ],
         "name": "2022-08-29 06:00:00"
        },
        {
         "data": [
          {
           "customdata": [
            [
             23.33,
             "😊   INFO: <br>enjoy your day!"
            ],
            [
             22.83,
             "😊   INFO: <br>enjoy your day!"
            ]
           ],
           "hovertemplate": "<b>%{text} </b><br>Temperature: %{customdata[0]} °C<br><extra><i>%{customdata[1]}</i></extra>",
           "ids": [
            "Bregenz",
            "Ravensburg"
           ],
           "lat": [
            47.5025779,
            47.7811014
           ],
           "legendgroup": "",
           "lon": [
            9.7472924,
            9.612468
           ],
           "marker": {
            "color": [
             23.33,
             22.83
            ],
            "coloraxis": "coloraxis"
           },
           "mode": "markers+text",
           "name": "",
           "showlegend": false,
           "subplot": "mapbox",
           "text": [
            "Bregenz",
            "Ravensburg"
           ],
           "type": "scattermapbox"
          }
         ],
         "name": "2022-08-29 09:00:00"
        },
        {
         "data": [
          {
           "customdata": [
            [
             26.02,
             "😰   CAUTION: <br>warm temperatures!"
            ],
            [
             26.72,
             "😰   CAUTION: <br>warm temperatures!"
            ]
           ],
           "hovertemplate": "<b>%{text} </b><br>Temperature: %{customdata[0]} °C<br><extra><i>%{customdata[1]}</i></extra>",
           "ids": [
            "Bregenz",
            "Ravensburg"
           ],
           "lat": [
            47.5025779,
            47.7811014
           ],
           "legendgroup": "",
           "lon": [
            9.7472924,
            9.612468
           ],
           "marker": {
            "color": [
             26.02,
             26.72
            ],
            "coloraxis": "coloraxis"
           },
           "mode": "markers+text",
           "name": "",
           "showlegend": false,
           "subplot": "mapbox",
           "text": [
            "Bregenz",
            "Ravensburg"
           ],
           "type": "scattermapbox"
          }
         ],
         "name": "2022-08-29 12:00:00"
        },
        {
         "data": [
          {
           "customdata": [
            [
             26.18,
             "😰   CAUTION: <br>warm temperatures!"
            ],
            [
             25.87,
             "😰   CAUTION: <br>warm temperatures!"
            ]
           ],
           "hovertemplate": "<b>%{text} </b><br>Temperature: %{customdata[0]} °C<br><extra><i>%{customdata[1]}</i></extra>",
           "ids": [
            "Bregenz",
            "Ravensburg"
           ],
           "lat": [
            47.5025779,
            47.7811014
           ],
           "legendgroup": "",
           "lon": [
            9.7472924,
            9.612468
           ],
           "marker": {
            "color": [
             26.18,
             25.87
            ],
            "coloraxis": "coloraxis"
           },
           "mode": "markers+text",
           "name": "",
           "showlegend": false,
           "subplot": "mapbox",
           "text": [
            "Bregenz",
            "Ravensburg"
           ],
           "type": "scattermapbox"
          }
         ],
         "name": "2022-08-29 15:00:00"
        },
        {
         "data": [
          {
           "customdata": [
            [
             20.36,
             "😊   INFO: <br>enjoy your day!"
            ],
            [
             19.95,
             "😕   INFO: <br>bring a jacket!"
            ]
           ],
           "hovertemplate": "<b>%{text} </b><br>Temperature: %{customdata[0]} °C<br><extra><i>%{customdata[1]}</i></extra>",
           "ids": [
            "Bregenz",
            "Ravensburg"
           ],
           "lat": [
            47.5025779,
            47.7811014
           ],
           "legendgroup": "",
           "lon": [
            9.7472924,
            9.612468
           ],
           "marker": {
            "color": [
             20.36,
             19.95
            ],
            "coloraxis": "coloraxis"
           },
           "mode": "markers+text",
           "name": "",
           "showlegend": false,
           "subplot": "mapbox",
           "text": [
            "Bregenz",
            "Ravensburg"
           ],
           "type": "scattermapbox"
          }
         ],
         "name": "2022-08-29 18:00:00"
        }
       ],
       "layout": {
        "coloraxis": {
         "cmax": 40,
         "cmin": -10,
         "colorbar": {
          "tickformat": ".1f",
          "ticksuffix": " °C",
          "title": {
           "side": "top",
           "text": "Temperature"
          },
          "ypad": 20
         },
         "colorscale": [
          [
           0,
           "#000000"
          ],
          [
           0.0625,
           "#001f4d"
          ],
          [
           0.125,
           "#003786"
          ],
          [
           0.1875,
           "#0e58a8"
          ],
          [
           0.25,
           "#217eb8"
          ],
          [
           0.3125,
           "#30a4ca"
          ],
          [
           0.375,
           "#54c8df"
          ],
          [
           0.4375,
           "#9be4ef"
          ],
          [
           0.5,
           "#e1e9d1"
          ],
          [
           0.5625,
           "#f3d573"
          ],
          [
           0.625,
           "#e7b000"
          ],
          [
           0.6875,
           "#da8200"
          ],
          [
           0.75,
           "#c65400"
          ],
          [
           0.8125,
           "#ac2301"
          ],
          [
           0.875,
           "#820000"
          ],
          [
           0.9375,
           "#4c0000"
          ],
          [
           1,
           "#000000"
          ]
         ]
        },
        "height": 720,
        "legend": {
         "tracegroupgap": 0
        },
        "mapbox": {
         "accesstoken": "pk.eyJ1Ijoib2hpdHNsZW5hIiwiYSI6ImNqdDNicjNheDB0OGUzenBxNWFueXVweHAifQ.SlggtzzOlVJJNK_y6tpKRQ",
         "center": {
          "lat": 47.64183964999995,
          "lon": 9.679880200000005
         },
         "domain": {
          "x": [
           0,
           1
          ],
          "y": [
           0,
           1
          ]
         },
         "zoom": 8
        },
        "margin": {
         "b": 0,
         "l": 20,
         "r": 0,
         "t": 50
        },
        "sliders": [
         {
          "active": 0,
          "currentvalue": {
           "prefix": "Date and time: "
          },
          "len": 0.9,
          "pad": {
           "b": 20,
           "l": 0,
           "r": 0,
           "t": 10
          },
          "steps": [
           {
            "args": [
             [
              "2022-08-24 21:00:00"
             ],
             {
              "frame": {
               "duration": 0,
               "redraw": true
              },
              "fromcurrent": true,
              "mode": "immediate",
              "transition": {
               "duration": 0,
               "easing": "linear"
              }
             }
            ],
            "label": "2022-08-24 21:00:00",
            "method": "animate"
           },
           {
            "args": [
             [
              "2022-08-25 00:00:00"
             ],
             {
              "frame": {
               "duration": 0,
               "redraw": true
              },
              "fromcurrent": true,
              "mode": "immediate",
              "transition": {
               "duration": 0,
               "easing": "linear"
              }
             }
            ],
            "label": "2022-08-25 00:00:00",
            "method": "animate"
           },
           {
            "args": [
             [
              "2022-08-25 03:00:00"
             ],
             {
              "frame": {
               "duration": 0,
               "redraw": true
              },
              "fromcurrent": true,
              "mode": "immediate",
              "transition": {
               "duration": 0,
               "easing": "linear"
              }
             }
            ],
            "label": "2022-08-25 03:00:00",
            "method": "animate"
           },
           {
            "args": [
             [
              "2022-08-25 06:00:00"
             ],
             {
              "frame": {
               "duration": 0,
               "redraw": true
              },
              "fromcurrent": true,
              "mode": "immediate",
              "transition": {
               "duration": 0,
               "easing": "linear"
              }
             }
            ],
            "label": "2022-08-25 06:00:00",
            "method": "animate"
           },
           {
            "args": [
             [
              "2022-08-25 09:00:00"
             ],
             {
              "frame": {
               "duration": 0,
               "redraw": true
              },
              "fromcurrent": true,
              "mode": "immediate",
              "transition": {
               "duration": 0,
               "easing": "linear"
              }
             }
            ],
            "label": "2022-08-25 09:00:00",
            "method": "animate"
           },
           {
            "args": [
             [
              "2022-08-25 12:00:00"
             ],
             {
              "frame": {
               "duration": 0,
               "redraw": true
              },
              "fromcurrent": true,
              "mode": "immediate",
              "transition": {
               "duration": 0,
               "easing": "linear"
              }
             }
            ],
            "label": "2022-08-25 12:00:00",
            "method": "animate"
           },
           {
            "args": [
             [
              "2022-08-25 15:00:00"
             ],
             {
              "frame": {
               "duration": 0,
               "redraw": true
              },
              "fromcurrent": true,
              "mode": "immediate",
              "transition": {
               "duration": 0,
               "easing": "linear"
              }
             }
            ],
            "label": "2022-08-25 15:00:00",
            "method": "animate"
           },
           {
            "args": [
             [
              "2022-08-25 18:00:00"
             ],
             {
              "frame": {
               "duration": 0,
               "redraw": true
              },
              "fromcurrent": true,
              "mode": "immediate",
              "transition": {
               "duration": 0,
               "easing": "linear"
              }
             }
            ],
            "label": "2022-08-25 18:00:00",
            "method": "animate"
           },
           {
            "args": [
             [
              "2022-08-25 21:00:00"
             ],
             {
              "frame": {
               "duration": 0,
               "redraw": true
              },
              "fromcurrent": true,
              "mode": "immediate",
              "transition": {
               "duration": 0,
               "easing": "linear"
              }
             }
            ],
            "label": "2022-08-25 21:00:00",
            "method": "animate"
           },
           {
            "args": [
             [
              "2022-08-26 00:00:00"
             ],
             {
              "frame": {
               "duration": 0,
               "redraw": true
              },
              "fromcurrent": true,
              "mode": "immediate",
              "transition": {
               "duration": 0,
               "easing": "linear"
              }
             }
            ],
            "label": "2022-08-26 00:00:00",
            "method": "animate"
           },
           {
            "args": [
             [
              "2022-08-26 03:00:00"
             ],
             {
              "frame": {
               "duration": 0,
               "redraw": true
              },
              "fromcurrent": true,
              "mode": "immediate",
              "transition": {
               "duration": 0,
               "easing": "linear"
              }
             }
            ],
            "label": "2022-08-26 03:00:00",
            "method": "animate"
           },
           {
            "args": [
             [
              "2022-08-26 06:00:00"
             ],
             {
              "frame": {
               "duration": 0,
               "redraw": true
              },
              "fromcurrent": true,
              "mode": "immediate",
              "transition": {
               "duration": 0,
               "easing": "linear"
              }
             }
            ],
            "label": "2022-08-26 06:00:00",
            "method": "animate"
           },
           {
            "args": [
             [
              "2022-08-26 09:00:00"
             ],
             {
              "frame": {
               "duration": 0,
               "redraw": true
              },
              "fromcurrent": true,
              "mode": "immediate",
              "transition": {
               "duration": 0,
               "easing": "linear"
              }
             }
            ],
            "label": "2022-08-26 09:00:00",
            "method": "animate"
           },
           {
            "args": [
             [
              "2022-08-26 12:00:00"
             ],
             {
              "frame": {
               "duration": 0,
               "redraw": true
              },
              "fromcurrent": true,
              "mode": "immediate",
              "transition": {
               "duration": 0,
               "easing": "linear"
              }
             }
            ],
            "label": "2022-08-26 12:00:00",
            "method": "animate"
           },
           {
            "args": [
             [
              "2022-08-26 15:00:00"
             ],
             {
              "frame": {
               "duration": 0,
               "redraw": true
              },
              "fromcurrent": true,
              "mode": "immediate",
              "transition": {
               "duration": 0,
               "easing": "linear"
              }
             }
            ],
            "label": "2022-08-26 15:00:00",
            "method": "animate"
           },
           {
            "args": [
             [
              "2022-08-26 18:00:00"
             ],
             {
              "frame": {
               "duration": 0,
               "redraw": true
              },
              "fromcurrent": true,
              "mode": "immediate",
              "transition": {
               "duration": 0,
               "easing": "linear"
              }
             }
            ],
            "label": "2022-08-26 18:00:00",
            "method": "animate"
           },
           {
            "args": [
             [
              "2022-08-26 21:00:00"
             ],
             {
              "frame": {
               "duration": 0,
               "redraw": true
              },
              "fromcurrent": true,
              "mode": "immediate",
              "transition": {
               "duration": 0,
               "easing": "linear"
              }
             }
            ],
            "label": "2022-08-26 21:00:00",
            "method": "animate"
           },
           {
            "args": [
             [
              "2022-08-27 00:00:00"
             ],
             {
              "frame": {
               "duration": 0,
               "redraw": true
              },
              "fromcurrent": true,
              "mode": "immediate",
              "transition": {
               "duration": 0,
               "easing": "linear"
              }
             }
            ],
            "label": "2022-08-27 00:00:00",
            "method": "animate"
           },
           {
            "args": [
             [
              "2022-08-27 03:00:00"
             ],
             {
              "frame": {
               "duration": 0,
               "redraw": true
              },
              "fromcurrent": true,
              "mode": "immediate",
              "transition": {
               "duration": 0,
               "easing": "linear"
              }
             }
            ],
            "label": "2022-08-27 03:00:00",
            "method": "animate"
           },
           {
            "args": [
             [
              "2022-08-27 06:00:00"
             ],
             {
              "frame": {
               "duration": 0,
               "redraw": true
              },
              "fromcurrent": true,
              "mode": "immediate",
              "transition": {
               "duration": 0,
               "easing": "linear"
              }
             }
            ],
            "label": "2022-08-27 06:00:00",
            "method": "animate"
           },
           {
            "args": [
             [
              "2022-08-27 09:00:00"
             ],
             {
              "frame": {
               "duration": 0,
               "redraw": true
              },
              "fromcurrent": true,
              "mode": "immediate",
              "transition": {
               "duration": 0,
               "easing": "linear"
              }
             }
            ],
            "label": "2022-08-27 09:00:00",
            "method": "animate"
           },
           {
            "args": [
             [
              "2022-08-27 12:00:00"
             ],
             {
              "frame": {
               "duration": 0,
               "redraw": true
              },
              "fromcurrent": true,
              "mode": "immediate",
              "transition": {
               "duration": 0,
               "easing": "linear"
              }
             }
            ],
            "label": "2022-08-27 12:00:00",
            "method": "animate"
           },
           {
            "args": [
             [
              "2022-08-27 15:00:00"
             ],
             {
              "frame": {
               "duration": 0,
               "redraw": true
              },
              "fromcurrent": true,
              "mode": "immediate",
              "transition": {
               "duration": 0,
               "easing": "linear"
              }
             }
            ],
            "label": "2022-08-27 15:00:00",
            "method": "animate"
           },
           {
            "args": [
             [
              "2022-08-27 18:00:00"
             ],
             {
              "frame": {
               "duration": 0,
               "redraw": true
              },
              "fromcurrent": true,
              "mode": "immediate",
              "transition": {
               "duration": 0,
               "easing": "linear"
              }
             }
            ],
            "label": "2022-08-27 18:00:00",
            "method": "animate"
           },
           {
            "args": [
             [
              "2022-08-27 21:00:00"
             ],
             {
              "frame": {
               "duration": 0,
               "redraw": true
              },
              "fromcurrent": true,
              "mode": "immediate",
              "transition": {
               "duration": 0,
               "easing": "linear"
              }
             }
            ],
            "label": "2022-08-27 21:00:00",
            "method": "animate"
           },
           {
            "args": [
             [
              "2022-08-28 00:00:00"
             ],
             {
              "frame": {
               "duration": 0,
               "redraw": true
              },
              "fromcurrent": true,
              "mode": "immediate",
              "transition": {
               "duration": 0,
               "easing": "linear"
              }
             }
            ],
            "label": "2022-08-28 00:00:00",
            "method": "animate"
           },
           {
            "args": [
             [
              "2022-08-28 03:00:00"
             ],
             {
              "frame": {
               "duration": 0,
               "redraw": true
              },
              "fromcurrent": true,
              "mode": "immediate",
              "transition": {
               "duration": 0,
               "easing": "linear"
              }
             }
            ],
            "label": "2022-08-28 03:00:00",
            "method": "animate"
           },
           {
            "args": [
             [
              "2022-08-28 06:00:00"
             ],
             {
              "frame": {
               "duration": 0,
               "redraw": true
              },
              "fromcurrent": true,
              "mode": "immediate",
              "transition": {
               "duration": 0,
               "easing": "linear"
              }
             }
            ],
            "label": "2022-08-28 06:00:00",
            "method": "animate"
           },
           {
            "args": [
             [
              "2022-08-28 09:00:00"
             ],
             {
              "frame": {
               "duration": 0,
               "redraw": true
              },
              "fromcurrent": true,
              "mode": "immediate",
              "transition": {
               "duration": 0,
               "easing": "linear"
              }
             }
            ],
            "label": "2022-08-28 09:00:00",
            "method": "animate"
           },
           {
            "args": [
             [
              "2022-08-28 12:00:00"
             ],
             {
              "frame": {
               "duration": 0,
               "redraw": true
              },
              "fromcurrent": true,
              "mode": "immediate",
              "transition": {
               "duration": 0,
               "easing": "linear"
              }
             }
            ],
            "label": "2022-08-28 12:00:00",
            "method": "animate"
           },
           {
            "args": [
             [
              "2022-08-28 15:00:00"
             ],
             {
              "frame": {
               "duration": 0,
               "redraw": true
              },
              "fromcurrent": true,
              "mode": "immediate",
              "transition": {
               "duration": 0,
               "easing": "linear"
              }
             }
            ],
            "label": "2022-08-28 15:00:00",
            "method": "animate"
           },
           {
            "args": [
             [
              "2022-08-28 18:00:00"
             ],
             {
              "frame": {
               "duration": 0,
               "redraw": true
              },
              "fromcurrent": true,
              "mode": "immediate",
              "transition": {
               "duration": 0,
               "easing": "linear"
              }
             }
            ],
            "label": "2022-08-28 18:00:00",
            "method": "animate"
           },
           {
            "args": [
             [
              "2022-08-28 21:00:00"
             ],
             {
              "frame": {
               "duration": 0,
               "redraw": true
              },
              "fromcurrent": true,
              "mode": "immediate",
              "transition": {
               "duration": 0,
               "easing": "linear"
              }
             }
            ],
            "label": "2022-08-28 21:00:00",
            "method": "animate"
           },
           {
            "args": [
             [
              "2022-08-29 00:00:00"
             ],
             {
              "frame": {
               "duration": 0,
               "redraw": true
              },
              "fromcurrent": true,
              "mode": "immediate",
              "transition": {
               "duration": 0,
               "easing": "linear"
              }
             }
            ],
            "label": "2022-08-29 00:00:00",
            "method": "animate"
           },
           {
            "args": [
             [
              "2022-08-29 03:00:00"
             ],
             {
              "frame": {
               "duration": 0,
               "redraw": true
              },
              "fromcurrent": true,
              "mode": "immediate",
              "transition": {
               "duration": 0,
               "easing": "linear"
              }
             }
            ],
            "label": "2022-08-29 03:00:00",
            "method": "animate"
           },
           {
            "args": [
             [
              "2022-08-29 06:00:00"
             ],
             {
              "frame": {
               "duration": 0,
               "redraw": true
              },
              "fromcurrent": true,
              "mode": "immediate",
              "transition": {
               "duration": 0,
               "easing": "linear"
              }
             }
            ],
            "label": "2022-08-29 06:00:00",
            "method": "animate"
           },
           {
            "args": [
             [
              "2022-08-29 09:00:00"
             ],
             {
              "frame": {
               "duration": 0,
               "redraw": true
              },
              "fromcurrent": true,
              "mode": "immediate",
              "transition": {
               "duration": 0,
               "easing": "linear"
              }
             }
            ],
            "label": "2022-08-29 09:00:00",
            "method": "animate"
           },
           {
            "args": [
             [
              "2022-08-29 12:00:00"
             ],
             {
              "frame": {
               "duration": 0,
               "redraw": true
              },
              "fromcurrent": true,
              "mode": "immediate",
              "transition": {
               "duration": 0,
               "easing": "linear"
              }
             }
            ],
            "label": "2022-08-29 12:00:00",
            "method": "animate"
           },
           {
            "args": [
             [
              "2022-08-29 15:00:00"
             ],
             {
              "frame": {
               "duration": 0,
               "redraw": true
              },
              "fromcurrent": true,
              "mode": "immediate",
              "transition": {
               "duration": 0,
               "easing": "linear"
              }
             }
            ],
            "label": "2022-08-29 15:00:00",
            "method": "animate"
           },
           {
            "args": [
             [
              "2022-08-29 18:00:00"
             ],
             {
              "frame": {
               "duration": 0,
               "redraw": true
              },
              "fromcurrent": true,
              "mode": "immediate",
              "transition": {
               "duration": 0,
               "easing": "linear"
              }
             }
            ],
            "label": "2022-08-29 18:00:00",
            "method": "animate"
           }
          ],
          "x": 0.1,
          "xanchor": "left",
          "y": 0,
          "yanchor": "top"
         }
        ],
        "template": {
         "data": {
          "bar": [
           {
            "error_x": {
             "color": "#2a3f5f"
            },
            "error_y": {
             "color": "#2a3f5f"
            },
            "marker": {
             "line": {
              "color": "#E5ECF6",
              "width": 0.5
             },
             "pattern": {
              "fillmode": "overlay",
              "size": 10,
              "solidity": 0.2
             }
            },
            "type": "bar"
           }
          ],
          "barpolar": [
           {
            "marker": {
             "line": {
              "color": "#E5ECF6",
              "width": 0.5
             },
             "pattern": {
              "fillmode": "overlay",
              "size": 10,
              "solidity": 0.2
             }
            },
            "type": "barpolar"
           }
          ],
          "carpet": [
           {
            "aaxis": {
             "endlinecolor": "#2a3f5f",
             "gridcolor": "white",
             "linecolor": "white",
             "minorgridcolor": "white",
             "startlinecolor": "#2a3f5f"
            },
            "baxis": {
             "endlinecolor": "#2a3f5f",
             "gridcolor": "white",
             "linecolor": "white",
             "minorgridcolor": "white",
             "startlinecolor": "#2a3f5f"
            },
            "type": "carpet"
           }
          ],
          "choropleth": [
           {
            "colorbar": {
             "outlinewidth": 0,
             "ticks": ""
            },
            "type": "choropleth"
           }
          ],
          "contour": [
           {
            "colorbar": {
             "outlinewidth": 0,
             "ticks": ""
            },
            "colorscale": [
             [
              0,
              "#0d0887"
             ],
             [
              0.1111111111111111,
              "#46039f"
             ],
             [
              0.2222222222222222,
              "#7201a8"
             ],
             [
              0.3333333333333333,
              "#9c179e"
             ],
             [
              0.4444444444444444,
              "#bd3786"
             ],
             [
              0.5555555555555556,
              "#d8576b"
             ],
             [
              0.6666666666666666,
              "#ed7953"
             ],
             [
              0.7777777777777778,
              "#fb9f3a"
             ],
             [
              0.8888888888888888,
              "#fdca26"
             ],
             [
              1,
              "#f0f921"
             ]
            ],
            "type": "contour"
           }
          ],
          "contourcarpet": [
           {
            "colorbar": {
             "outlinewidth": 0,
             "ticks": ""
            },
            "type": "contourcarpet"
           }
          ],
          "heatmap": [
           {
            "colorbar": {
             "outlinewidth": 0,
             "ticks": ""
            },
            "colorscale": [
             [
              0,
              "#0d0887"
             ],
             [
              0.1111111111111111,
              "#46039f"
             ],
             [
              0.2222222222222222,
              "#7201a8"
             ],
             [
              0.3333333333333333,
              "#9c179e"
             ],
             [
              0.4444444444444444,
              "#bd3786"
             ],
             [
              0.5555555555555556,
              "#d8576b"
             ],
             [
              0.6666666666666666,
              "#ed7953"
             ],
             [
              0.7777777777777778,
              "#fb9f3a"
             ],
             [
              0.8888888888888888,
              "#fdca26"
             ],
             [
              1,
              "#f0f921"
             ]
            ],
            "type": "heatmap"
           }
          ],
          "heatmapgl": [
           {
            "colorbar": {
             "outlinewidth": 0,
             "ticks": ""
            },
            "colorscale": [
             [
              0,
              "#0d0887"
             ],
             [
              0.1111111111111111,
              "#46039f"
             ],
             [
              0.2222222222222222,
              "#7201a8"
             ],
             [
              0.3333333333333333,
              "#9c179e"
             ],
             [
              0.4444444444444444,
              "#bd3786"
             ],
             [
              0.5555555555555556,
              "#d8576b"
             ],
             [
              0.6666666666666666,
              "#ed7953"
             ],
             [
              0.7777777777777778,
              "#fb9f3a"
             ],
             [
              0.8888888888888888,
              "#fdca26"
             ],
             [
              1,
              "#f0f921"
             ]
            ],
            "type": "heatmapgl"
           }
          ],
          "histogram": [
           {
            "marker": {
             "pattern": {
              "fillmode": "overlay",
              "size": 10,
              "solidity": 0.2
             }
            },
            "type": "histogram"
           }
          ],
          "histogram2d": [
           {
            "colorbar": {
             "outlinewidth": 0,
             "ticks": ""
            },
            "colorscale": [
             [
              0,
              "#0d0887"
             ],
             [
              0.1111111111111111,
              "#46039f"
             ],
             [
              0.2222222222222222,
              "#7201a8"
             ],
             [
              0.3333333333333333,
              "#9c179e"
             ],
             [
              0.4444444444444444,
              "#bd3786"
             ],
             [
              0.5555555555555556,
              "#d8576b"
             ],
             [
              0.6666666666666666,
              "#ed7953"
             ],
             [
              0.7777777777777778,
              "#fb9f3a"
             ],
             [
              0.8888888888888888,
              "#fdca26"
             ],
             [
              1,
              "#f0f921"
             ]
            ],
            "type": "histogram2d"
           }
          ],
          "histogram2dcontour": [
           {
            "colorbar": {
             "outlinewidth": 0,
             "ticks": ""
            },
            "colorscale": [
             [
              0,
              "#0d0887"
             ],
             [
              0.1111111111111111,
              "#46039f"
             ],
             [
              0.2222222222222222,
              "#7201a8"
             ],
             [
              0.3333333333333333,
              "#9c179e"
             ],
             [
              0.4444444444444444,
              "#bd3786"
             ],
             [
              0.5555555555555556,
              "#d8576b"
             ],
             [
              0.6666666666666666,
              "#ed7953"
             ],
             [
              0.7777777777777778,
              "#fb9f3a"
             ],
             [
              0.8888888888888888,
              "#fdca26"
             ],
             [
              1,
              "#f0f921"
             ]
            ],
            "type": "histogram2dcontour"
           }
          ],
          "mesh3d": [
           {
            "colorbar": {
             "outlinewidth": 0,
             "ticks": ""
            },
            "type": "mesh3d"
           }
          ],
          "parcoords": [
           {
            "line": {
             "colorbar": {
              "outlinewidth": 0,
              "ticks": ""
             }
            },
            "type": "parcoords"
           }
          ],
          "pie": [
           {
            "automargin": true,
            "type": "pie"
           }
          ],
          "scatter": [
           {
            "marker": {
             "colorbar": {
              "outlinewidth": 0,
              "ticks": ""
             }
            },
            "type": "scatter"
           }
          ],
          "scatter3d": [
           {
            "line": {
             "colorbar": {
              "outlinewidth": 0,
              "ticks": ""
             }
            },
            "marker": {
             "colorbar": {
              "outlinewidth": 0,
              "ticks": ""
             }
            },
            "type": "scatter3d"
           }
          ],
          "scattercarpet": [
           {
            "marker": {
             "colorbar": {
              "outlinewidth": 0,
              "ticks": ""
             }
            },
            "type": "scattercarpet"
           }
          ],
          "scattergeo": [
           {
            "marker": {
             "colorbar": {
              "outlinewidth": 0,
              "ticks": ""
             }
            },
            "type": "scattergeo"
           }
          ],
          "scattergl": [
           {
            "marker": {
             "colorbar": {
              "outlinewidth": 0,
              "ticks": ""
             }
            },
            "type": "scattergl"
           }
          ],
          "scattermapbox": [
           {
            "marker": {
             "colorbar": {
              "outlinewidth": 0,
              "ticks": ""
             }
            },
            "type": "scattermapbox"
           }
          ],
          "scatterpolar": [
           {
            "marker": {
             "colorbar": {
              "outlinewidth": 0,
              "ticks": ""
             }
            },
            "type": "scatterpolar"
           }
          ],
          "scatterpolargl": [
           {
            "marker": {
             "colorbar": {
              "outlinewidth": 0,
              "ticks": ""
             }
            },
            "type": "scatterpolargl"
           }
          ],
          "scatterternary": [
           {
            "marker": {
             "colorbar": {
              "outlinewidth": 0,
              "ticks": ""
             }
            },
            "type": "scatterternary"
           }
          ],
          "surface": [
           {
            "colorbar": {
             "outlinewidth": 0,
             "ticks": ""
            },
            "colorscale": [
             [
              0,
              "#0d0887"
             ],
             [
              0.1111111111111111,
              "#46039f"
             ],
             [
              0.2222222222222222,
              "#7201a8"
             ],
             [
              0.3333333333333333,
              "#9c179e"
             ],
             [
              0.4444444444444444,
              "#bd3786"
             ],
             [
              0.5555555555555556,
              "#d8576b"
             ],
             [
              0.6666666666666666,
              "#ed7953"
             ],
             [
              0.7777777777777778,
              "#fb9f3a"
             ],
             [
              0.8888888888888888,
              "#fdca26"
             ],
             [
              1,
              "#f0f921"
             ]
            ],
            "type": "surface"
           }
          ],
          "table": [
           {
            "cells": {
             "fill": {
              "color": "#EBF0F8"
             },
             "line": {
              "color": "white"
             }
            },
            "header": {
             "fill": {
              "color": "#C8D4E3"
             },
             "line": {
              "color": "white"
             }
            },
            "type": "table"
           }
          ]
         },
         "layout": {
          "annotationdefaults": {
           "arrowcolor": "#2a3f5f",
           "arrowhead": 0,
           "arrowwidth": 1
          },
          "autotypenumbers": "strict",
          "coloraxis": {
           "colorbar": {
            "outlinewidth": 0,
            "ticks": ""
           }
          },
          "colorscale": {
           "diverging": [
            [
             0,
             "#8e0152"
            ],
            [
             0.1,
             "#c51b7d"
            ],
            [
             0.2,
             "#de77ae"
            ],
            [
             0.3,
             "#f1b6da"
            ],
            [
             0.4,
             "#fde0ef"
            ],
            [
             0.5,
             "#f7f7f7"
            ],
            [
             0.6,
             "#e6f5d0"
            ],
            [
             0.7,
             "#b8e186"
            ],
            [
             0.8,
             "#7fbc41"
            ],
            [
             0.9,
             "#4d9221"
            ],
            [
             1,
             "#276419"
            ]
           ],
           "sequential": [
            [
             0,
             "#0d0887"
            ],
            [
             0.1111111111111111,
             "#46039f"
            ],
            [
             0.2222222222222222,
             "#7201a8"
            ],
            [
             0.3333333333333333,
             "#9c179e"
            ],
            [
             0.4444444444444444,
             "#bd3786"
            ],
            [
             0.5555555555555556,
             "#d8576b"
            ],
            [
             0.6666666666666666,
             "#ed7953"
            ],
            [
             0.7777777777777778,
             "#fb9f3a"
            ],
            [
             0.8888888888888888,
             "#fdca26"
            ],
            [
             1,
             "#f0f921"
            ]
           ],
           "sequentialminus": [
            [
             0,
             "#0d0887"
            ],
            [
             0.1111111111111111,
             "#46039f"
            ],
            [
             0.2222222222222222,
             "#7201a8"
            ],
            [
             0.3333333333333333,
             "#9c179e"
            ],
            [
             0.4444444444444444,
             "#bd3786"
            ],
            [
             0.5555555555555556,
             "#d8576b"
            ],
            [
             0.6666666666666666,
             "#ed7953"
            ],
            [
             0.7777777777777778,
             "#fb9f3a"
            ],
            [
             0.8888888888888888,
             "#fdca26"
            ],
            [
             1,
             "#f0f921"
            ]
           ]
          },
          "colorway": [
           "#636efa",
           "#EF553B",
           "#00cc96",
           "#ab63fa",
           "#FFA15A",
           "#19d3f3",
           "#FF6692",
           "#B6E880",
           "#FF97FF",
           "#FECB52"
          ],
          "font": {
           "color": "#2a3f5f"
          },
          "geo": {
           "bgcolor": "white",
           "lakecolor": "white",
           "landcolor": "#E5ECF6",
           "showlakes": true,
           "showland": true,
           "subunitcolor": "white"
          },
          "hoverlabel": {
           "align": "left"
          },
          "hovermode": "closest",
          "mapbox": {
           "style": "light"
          },
          "paper_bgcolor": "white",
          "plot_bgcolor": "#E5ECF6",
          "polar": {
           "angularaxis": {
            "gridcolor": "white",
            "linecolor": "white",
            "ticks": ""
           },
           "bgcolor": "#E5ECF6",
           "radialaxis": {
            "gridcolor": "white",
            "linecolor": "white",
            "ticks": ""
           }
          },
          "scene": {
           "xaxis": {
            "backgroundcolor": "#E5ECF6",
            "gridcolor": "white",
            "gridwidth": 2,
            "linecolor": "white",
            "showbackground": true,
            "ticks": "",
            "zerolinecolor": "white"
           },
           "yaxis": {
            "backgroundcolor": "#E5ECF6",
            "gridcolor": "white",
            "gridwidth": 2,
            "linecolor": "white",
            "showbackground": true,
            "ticks": "",
            "zerolinecolor": "white"
           },
           "zaxis": {
            "backgroundcolor": "#E5ECF6",
            "gridcolor": "white",
            "gridwidth": 2,
            "linecolor": "white",
            "showbackground": true,
            "ticks": "",
            "zerolinecolor": "white"
           }
          },
          "shapedefaults": {
           "line": {
            "color": "#2a3f5f"
           }
          },
          "ternary": {
           "aaxis": {
            "gridcolor": "white",
            "linecolor": "white",
            "ticks": ""
           },
           "baxis": {
            "gridcolor": "white",
            "linecolor": "white",
            "ticks": ""
           },
           "bgcolor": "#E5ECF6",
           "caxis": {
            "gridcolor": "white",
            "linecolor": "white",
            "ticks": ""
           }
          },
          "title": {
           "x": 0.05
          },
          "xaxis": {
           "automargin": true,
           "gridcolor": "white",
           "linecolor": "white",
           "ticks": "",
           "title": {
            "standoff": 15
           },
           "zerolinecolor": "white",
           "zerolinewidth": 2
          },
          "yaxis": {
           "automargin": true,
           "gridcolor": "white",
           "linecolor": "white",
           "ticks": "",
           "title": {
            "standoff": 15
           },
           "zerolinecolor": "white",
           "zerolinewidth": 2
          }
         }
        },
        "title": {
         "text": "🌡️  Temperature Info Map"
        },
        "width": 1280
       }
      }
     },
     "metadata": {},
     "output_type": "display_data"
    }
   ],
   "source": [
    "infoMap.update_map()"
   ]
  },
  {
   "cell_type": "code",
   "execution_count": 9,
   "id": "0e0e68db",
   "metadata": {},
   "outputs": [
    {
     "name": "stdout",
     "output_type": "stream",
     "text": [
      "... Map Synchronisation stopped!\n"
     ]
    }
   ],
   "source": [
    "infoMap.synced_map()"
   ]
  }
 ],
 "metadata": {
  "kernelspec": {
   "display_name": "Python 3.9.12 ('base')",
   "language": "python",
   "name": "python3"
  },
  "language_info": {
   "codemirror_mode": {
    "name": "ipython",
    "version": 3
   },
   "file_extension": ".py",
   "mimetype": "text/x-python",
   "name": "python",
   "nbconvert_exporter": "python",
   "pygments_lexer": "ipython3",
   "version": "3.9.12"
  },
  "vscode": {
   "interpreter": {
    "hash": "af6a7de25dd7bd9a9e288da6c3d15d5d500c51449326063643a18fc796b35585"
   }
  }
 },
 "nbformat": 4,
 "nbformat_minor": 5
}
