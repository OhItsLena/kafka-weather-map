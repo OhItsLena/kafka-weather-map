{
 "cells": [
  {
   "cell_type": "code",
   "execution_count": 69,
   "id": "b52af4a2",
   "metadata": {},
   "outputs": [],
   "source": [
    "#https://ipython.readthedocs.io/en/stable/config/extensions/autoreload.html?highlight=autoreload\n",
    "#%load_ext autoreload\n",
    "%autoreload 2\n",
    "\n",
    "import json\n",
    "import time\n",
    "from datetime import datetime\n",
    "from Kafka import KafkaWriter, KafkaReader\n",
    "from OpenWeatherMap import OpenWeatherMap"
   ]
  },
  {
   "cell_type": "code",
   "execution_count": 71,
   "metadata": {},
   "outputs": [
    {
     "name": "stdout",
     "output_type": "stream",
     "text": [
      "collected at  2022-08-21 23:34:44.038150\n",
      "collected at  2022-08-21 23:35:46.581131\n"
     ]
    },
    {
     "ename": "KeyboardInterrupt",
     "evalue": "",
     "output_type": "error",
     "traceback": [
      "\u001b[0;31m---------------------------------------------------------------------------\u001b[0m",
      "\u001b[0;31mKeyboardInterrupt\u001b[0m                         Traceback (most recent call last)",
      "\u001b[1;32m/Users/hammerer/Documents/DHBW4/Big Data Programming/kafka-weather-map/CollectData.ipynb Zelle 2\u001b[0m in \u001b[0;36m<cell line: 31>\u001b[0;34m()\u001b[0m\n\u001b[1;32m     <a href='vscode-notebook-cell:/Users/hammerer/Documents/DHBW4/Big%20Data%20Programming/kafka-weather-map/CollectData.ipynb#W1sZmlsZQ%3D%3D?line=26'>27</a>\u001b[0m         \u001b[39mprint\u001b[39m(\u001b[39m\"\u001b[39m\u001b[39mcollected at \u001b[39m\u001b[39m\"\u001b[39m, datetime\u001b[39m.\u001b[39mnow())\n\u001b[1;32m     <a href='vscode-notebook-cell:/Users/hammerer/Documents/DHBW4/Big%20Data%20Programming/kafka-weather-map/CollectData.ipynb#W1sZmlsZQ%3D%3D?line=27'>28</a>\u001b[0m         time\u001b[39m.\u001b[39msleep(\u001b[39m60\u001b[39m)\n\u001b[0;32m---> <a href='vscode-notebook-cell:/Users/hammerer/Documents/DHBW4/Big%20Data%20Programming/kafka-weather-map/CollectData.ipynb#W1sZmlsZQ%3D%3D?line=30'>31</a>\u001b[0m collect_forecast_data()\n",
      "\u001b[1;32m/Users/hammerer/Documents/DHBW4/Big Data Programming/kafka-weather-map/CollectData.ipynb Zelle 2\u001b[0m in \u001b[0;36mcollect_forecast_data\u001b[0;34m()\u001b[0m\n\u001b[1;32m     <a href='vscode-notebook-cell:/Users/hammerer/Documents/DHBW4/Big%20Data%20Programming/kafka-weather-map/CollectData.ipynb#W1sZmlsZQ%3D%3D?line=25'>26</a>\u001b[0m     kafka\u001b[39m.\u001b[39mstore(key, forecast)\n\u001b[1;32m     <a href='vscode-notebook-cell:/Users/hammerer/Documents/DHBW4/Big%20Data%20Programming/kafka-weather-map/CollectData.ipynb#W1sZmlsZQ%3D%3D?line=26'>27</a>\u001b[0m \u001b[39mprint\u001b[39m(\u001b[39m\"\u001b[39m\u001b[39mcollected at \u001b[39m\u001b[39m\"\u001b[39m, datetime\u001b[39m.\u001b[39mnow())\n\u001b[0;32m---> <a href='vscode-notebook-cell:/Users/hammerer/Documents/DHBW4/Big%20Data%20Programming/kafka-weather-map/CollectData.ipynb#W1sZmlsZQ%3D%3D?line=27'>28</a>\u001b[0m time\u001b[39m.\u001b[39;49msleep(\u001b[39m60\u001b[39;49m)\n",
      "\u001b[0;31mKeyboardInterrupt\u001b[0m: "
     ]
    }
   ],
   "source": [
    "from gc import collect\n",
    "\n",
    "\n",
    "openWeatherMap = OpenWeatherMap()\n",
    "kafka = KafkaWriter()\n",
    "\n",
    "\n",
    "def format_date(dt: str) -> str:\n",
    "    return datetime.fromtimestamp(float(dt)).strftime('%d.%m.%Y %H:%M')\n",
    "\n",
    "\n",
    "# load 'locations.json' into a json-object and return it\n",
    "def load_locations() -> json:\n",
    "    with open('locations.json', mode='r') as file:\n",
    "        return json.load(file)\n",
    "\n",
    "\n",
    "# for each location, query openWeatherMap for the 5-day forecast and \n",
    "# store the the returned values in Kafka\n",
    "def collect_forecast_data() -> None:\n",
    "    cities = load_locations()\n",
    "    while True:\n",
    "        for key in cities:\n",
    "            city = cities[key]\n",
    "            forecast = openWeatherMap.get_forecast(city)\n",
    "            kafka.store(key, forecast)\n",
    "        print(\"collected at \", datetime.now())\n",
    "        time.sleep(60)\n",
    "    \n",
    "\n",
    "collect_forecast_data()"
   ]
  }
 ],
 "metadata": {
  "kernelspec": {
   "display_name": "Python 3.9.12 ('base')",
   "language": "python",
   "name": "python3"
  },
  "language_info": {
   "codemirror_mode": {
    "name": "ipython",
    "version": 3
   },
   "file_extension": ".py",
   "mimetype": "text/x-python",
   "name": "python",
   "nbconvert_exporter": "python",
   "pygments_lexer": "ipython3",
   "version": "3.9.12"
  },
  "vscode": {
   "interpreter": {
    "hash": "af6a7de25dd7bd9a9e288da6c3d15d5d500c51449326063643a18fc796b35585"
   }
  }
 },
 "nbformat": 4,
 "nbformat_minor": 5
}
